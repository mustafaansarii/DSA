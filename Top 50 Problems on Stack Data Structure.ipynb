{
 "cells": [
  {
   "cell_type": "markdown",
   "id": "f645aa6f-b2fa-4ec3-b2e5-4ac82bfb6452",
   "metadata": {},
   "source": [
    "# 1. Reverse a String using Stack"
   ]
  },
  {
   "cell_type": "code",
   "execution_count": 588,
   "id": "1c7e8b71-175d-4633-9b0b-7b38ac951976",
   "metadata": {},
   "outputs": [],
   "source": [
    "from collections import deque "
   ]
  },
  {
   "cell_type": "code",
   "execution_count": 589,
   "id": "93ec9dab-cde8-4444-a4a4-f12df5a09a32",
   "metadata": {},
   "outputs": [],
   "source": [
    "class Stack:\n",
    "    def __init__(self,size):\n",
    "        self.stack=deque()\n",
    "        self.size=size\n",
    "        \n",
    "    def insert(self,data):\n",
    "        if self.size==len(self.stack):\n",
    "            return \"Stack is full\"\n",
    "        print(f\"element inserted in stack: {data}\")\n",
    "        return self.stack.append(data)\n",
    "\n",
    "    def _print(self):\n",
    "        for i in range(len(self.stack)):\n",
    "            print(self.stack[i], end= ' ')\n",
    "        \n",
    "    def Reverse(self):\n",
    "        reversed_string = ''\n",
    "        while self.stack:\n",
    "            word = self.stack.pop()\n",
    "            reversed_string += word[::-1] \n",
    "            if self.stack:  \n",
    "                reversed_string += ' '\n",
    "        print(reversed_string)"
   ]
  },
  {
   "cell_type": "code",
   "execution_count": 590,
   "id": "552b0c3b-d933-4681-a034-31c9f6e4ce1e",
   "metadata": {},
   "outputs": [],
   "source": [
    "St=Stack(10)"
   ]
  },
  {
   "cell_type": "code",
   "execution_count": 591,
   "id": "5830f4de-3dfd-47ec-846f-a9344ed5db9c",
   "metadata": {},
   "outputs": [
    {
     "name": "stdout",
     "output_type": "stream",
     "text": [
      "element inserted in stack: This is Ram\n"
     ]
    }
   ],
   "source": [
    "St.insert(\"This is Ram\")"
   ]
  },
  {
   "cell_type": "code",
   "execution_count": 592,
   "id": "35ea643c-f87d-4de2-bc33-f77a2596dea2",
   "metadata": {},
   "outputs": [
    {
     "name": "stdout",
     "output_type": "stream",
     "text": [
      "This is Ram "
     ]
    }
   ],
   "source": [
    "St._print()"
   ]
  },
  {
   "cell_type": "code",
   "execution_count": 593,
   "id": "4b7f5e2a-10e9-4100-8588-1e534d5f9eb8",
   "metadata": {},
   "outputs": [
    {
     "name": "stdout",
     "output_type": "stream",
     "text": [
      "maR si sihT\n"
     ]
    }
   ],
   "source": [
    "St.Reverse()"
   ]
  },
  {
   "cell_type": "markdown",
   "id": "e8a3628d-630f-4e43-9e7b-1d63f3dcd925",
   "metadata": {},
   "source": [
    "# 2. Parenthesis Checker"
   ]
  },
  {
   "cell_type": "code",
   "execution_count": 594,
   "id": "01ff92c0-113e-46ed-afdd-69c1daec1734",
   "metadata": {},
   "outputs": [],
   "source": [
    "class Stack:\n",
    "    def __init__(self):\n",
    "        self.stack = deque()\n",
    "\n",
    "    def Parenthesis_check(self, chars):\n",
    "        for char in chars:\n",
    "            if char in [\"[\", \"{\", \"(\"]:\n",
    "                self.stack.append(char)\n",
    "            else:\n",
    "                if not self.stack:\n",
    "                    return False\n",
    "                current_char = self.stack.pop()\n",
    "                if current_char == '(':\n",
    "                    if char != \")\":\n",
    "                        return False\n",
    "                elif current_char == '{':\n",
    "                    if char != \"}\":\n",
    "                        return False\n",
    "                elif current_char == '[':\n",
    "                    if char != \"]\":\n",
    "                        return False\n",
    "        return not self.stack\n",
    "\n",
    "PC = Stack()"
   ]
  },
  {
   "cell_type": "code",
   "execution_count": 595,
   "id": "fae0cfec-1bba-407a-8601-ada72cc88a31",
   "metadata": {},
   "outputs": [
    {
     "data": {
      "text/plain": [
       "True"
      ]
     },
     "execution_count": 595,
     "metadata": {},
     "output_type": "execute_result"
    }
   ],
   "source": [
    "PC.Parenthesis_check(\"{()}[]\")"
   ]
  },
  {
   "cell_type": "markdown",
   "id": "d5bdf6a4-53e8-4cb6-8af5-a74c962d535e",
   "metadata": {},
   "source": [
    "# 3. Reverse a Stack using queue"
   ]
  },
  {
   "cell_type": "markdown",
   "id": "d417ee66-ff99-4673-b252-20a4e4baa9ba",
   "metadata": {},
   "source": [
    "To reverse a stack using a queue, you can follow these steps:\n",
    "\n",
    "1. **Pop all elements from the stack and enqueue them into the queue.**\n",
    "2. **Dequeue all elements from the queue and enqueue them back into the queue.**\n",
    "3. **Repeat step 2 while the size of the queue becomes 1.**\n",
    "4. **Dequeue the last element from the queue and enqueue it back into the stack.**"
   ]
  },
  {
   "cell_type": "code",
   "execution_count": 596,
   "id": "a9ded0a1-c8b3-4898-b66f-3d511f74be51",
   "metadata": {},
   "outputs": [
    {
     "name": "stdout",
     "output_type": "stream",
     "text": [
      "element inserted in stack: 1\n",
      "element inserted in stack: 2\n",
      "element inserted in stack: 3\n",
      "element inserted in stack: 4\n",
      "element inserted in stack: 5\n",
      "---------------------\n",
      "1\n",
      "2\n",
      "3\n",
      "4\n",
      "5\n"
     ]
    }
   ],
   "source": [
    "class Stack:\n",
    "    def __init__(self,size):\n",
    "        self.size=size\n",
    "        self.stack=deque()\n",
    "        \n",
    "    def insert(self,data):\n",
    "        print(f\"element inserted in stack: {data}\")\n",
    "        return self.stack.append(data)\n",
    "\n",
    "    def _print(self):\n",
    "        if len(self.stack)==0:\n",
    "            return \"stack is Empty!\"\n",
    "        for i in range(len(self.stack)):\n",
    "            print(self.stack[i])\n",
    "            \n",
    "    def Remove(self):\n",
    "        if len(self.stack)==0:\n",
    "            return \"stack is Empty!\"\n",
    "        return self.stack.pop()\n",
    "R=Stack(5)\n",
    "R.insert(1)\n",
    "R.insert(2)\n",
    "R.insert(3)\n",
    "R.insert(4)\n",
    "R.insert(5)\n",
    "print(\"---------------------\")\n",
    "R._print()"
   ]
  },
  {
   "cell_type": "code",
   "execution_count": 597,
   "id": "f61cf347-58eb-4c30-8c7a-c9ea3a74ec93",
   "metadata": {},
   "outputs": [],
   "source": [
    "class Queue:\n",
    "        def __init__(self):\n",
    "            self.Queue=deque()\n",
    "    \n",
    "        def Enqueue(self,data):\n",
    "            print(f\"element inserted in Queue: {data}\")\n",
    "            return self.Queue.append(data)\n",
    "    \n",
    "        def _print(self):\n",
    "            if len(self.Queue)==0:\n",
    "                return \"Queue is Empty!\"\n",
    "            for i in range(len(self.Queue)):\n",
    "                print(self.Queue[i], end= ' ')\n",
    "                \n",
    "        def Dequeue(self):\n",
    "            if len(self.Queue)==0:\n",
    "                return \"Queue is Empty!\"\n",
    "            return self.Queue.popleft()\n",
    "Qu=Queue()"
   ]
  },
  {
   "cell_type": "code",
   "execution_count": 598,
   "id": "5bd1f8c2-4e57-4acf-bc09-bc6ddba483f2",
   "metadata": {},
   "outputs": [],
   "source": [
    "class Reverse_Stack:\n",
    "    def Remove_from_stack_insert_into_queue(self):\n",
    "        while len(R.stack) != 0:\n",
    "            Qu.Enqueue(R.Remove())\n",
    "        return Qu._print()\n",
    "    def Remove_from_queue_insert_into_stack(self):\n",
    "        while len(Qu.Queue) != 0:\n",
    "            R.insert(Qu.Dequeue())\n",
    "        return R._print()\n",
    "        \n"
   ]
  },
  {
   "cell_type": "code",
   "execution_count": 599,
   "id": "272820be-e5cb-4c30-be83-4e11a547a166",
   "metadata": {},
   "outputs": [],
   "source": [
    "rv=Reverse_Stack()"
   ]
  },
  {
   "cell_type": "code",
   "execution_count": 600,
   "id": "509d7893-3627-4132-9a83-f41f75dd59db",
   "metadata": {},
   "outputs": [
    {
     "name": "stdout",
     "output_type": "stream",
     "text": [
      "element inserted in Queue: 5\n",
      "element inserted in Queue: 4\n",
      "element inserted in Queue: 3\n",
      "element inserted in Queue: 2\n",
      "element inserted in Queue: 1\n",
      "5 4 3 2 1 "
     ]
    }
   ],
   "source": [
    "rv.Remove_from_stack_insert_into_queue()"
   ]
  },
  {
   "cell_type": "code",
   "execution_count": 601,
   "id": "fa9cf1f4-8014-46a5-9aa7-d69c5714c791",
   "metadata": {},
   "outputs": [
    {
     "data": {
      "text/plain": [
       "'stack is Empty!'"
      ]
     },
     "execution_count": 601,
     "metadata": {},
     "output_type": "execute_result"
    }
   ],
   "source": [
    "R._print()"
   ]
  },
  {
   "cell_type": "code",
   "execution_count": 602,
   "id": "c52b8bd5-66bd-47cd-bb5e-5669871b5944",
   "metadata": {},
   "outputs": [
    {
     "name": "stdout",
     "output_type": "stream",
     "text": [
      "element inserted in stack: 5\n",
      "element inserted in stack: 4\n",
      "element inserted in stack: 3\n",
      "element inserted in stack: 2\n",
      "element inserted in stack: 1\n",
      "5\n",
      "4\n",
      "3\n",
      "2\n",
      "1\n"
     ]
    }
   ],
   "source": [
    "rv.Remove_from_queue_insert_into_stack()"
   ]
  },
  {
   "cell_type": "code",
   "execution_count": 603,
   "id": "23266343-9286-482b-bd72-9dc722c0560f",
   "metadata": {},
   "outputs": [
    {
     "data": {
      "text/plain": [
       "'Queue is Empty!'"
      ]
     },
     "execution_count": 603,
     "metadata": {},
     "output_type": "execute_result"
    }
   ],
   "source": [
    "Qu._print()"
   ]
  },
  {
   "cell_type": "code",
   "execution_count": 604,
   "id": "916c5a2e-9cd1-43f6-bb53-20a7d8ed61b0",
   "metadata": {},
   "outputs": [
    {
     "name": "stdout",
     "output_type": "stream",
     "text": [
      "5\n",
      "4\n",
      "3\n",
      "2\n",
      "1\n"
     ]
    }
   ],
   "source": [
    "R._print()"
   ]
  }
 ],
 "metadata": {
  "kernelspec": {
   "display_name": "Python 3 (ipykernel)",
   "language": "python",
   "name": "python3"
  },
  "language_info": {
   "codemirror_mode": {
    "name": "ipython",
    "version": 3
   },
   "file_extension": ".py",
   "mimetype": "text/x-python",
   "name": "python",
   "nbconvert_exporter": "python",
   "pygments_lexer": "ipython3",
   "version": "3.11.7"
  }
 },
 "nbformat": 4,
 "nbformat_minor": 5
}
