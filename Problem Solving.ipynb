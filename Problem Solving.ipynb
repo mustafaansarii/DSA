{
 "cells": [
  {
   "cell_type": "markdown",
   "id": "83fffb7f-245d-468b-ad14-1f24c7aac2cb",
   "metadata": {},
   "source": [
    "### 1. Program to find the minimum (or maximum) element of an array"
   ]
  },
  {
   "cell_type": "code",
   "execution_count": 1,
   "id": "88744cc5-ace2-4dbd-8838-cad67e934e32",
   "metadata": {},
   "outputs": [],
   "source": [
    "from numpy import array"
   ]
  },
  {
   "cell_type": "code",
   "execution_count": 39,
   "id": "23c9ea14-1685-484d-a71b-bc46b6c159ef",
   "metadata": {},
   "outputs": [
    {
     "name": "stdout",
     "output_type": "stream",
     "text": [
      "The maximum value: 432\n",
      "The minimum value: 2\n",
      "Sorted Array: [  2  12  23  43  54 432]\n"
     ]
    }
   ],
   "source": [
    "def max_min(arr):\n",
    "    for i in range(1,len(arr)):\n",
    "        for j in range(len(arr)-i):\n",
    "            if arr[j] > arr[j+1]:\n",
    "                arr[j],arr[j+1]=arr[j+1],arr[j]\n",
    "                \n",
    "    print(f\"The maximum value: {arr[i]}\")\n",
    "    print(f\"The minimum value: {arr[j]}\")\n",
    "    \n",
    "A=array([12,23,43,54,432,2])\n",
    "max_min(A)\n",
    "print(f\"Sorted Array: {A}\")"
   ]
  },
  {
   "cell_type": "markdown",
   "id": "814ee387-4557-4d08-a992-9dfa7c6fe97d",
   "metadata": {},
   "source": [
    "### 2. Find minimum and maximum element in an array"
   ]
  },
  {
   "cell_type": "code",
   "execution_count": 43,
   "id": "844c8c30-408c-498a-95a1-ad0c8cc622e1",
   "metadata": {},
   "outputs": [
    {
     "data": {
      "text/plain": [
       "43"
      ]
     },
     "execution_count": 43,
     "metadata": {},
     "output_type": "execute_result"
    }
   ],
   "source": [
    "class Solution:\n",
    "    def thirdLargest(self,a, n):\n",
    "        for i in range(1,len(a)):\n",
    "            for j in range(len(a)-i):\n",
    "                if a[j] > a[j+1]:\n",
    "                    a[j],a[j+1]=a[j+1],a[j]\n",
    "        return a[-3]\n",
    "a=Solution()\n",
    "A=array([12,23,43,54,432,2])\n",
    "a.thirdLargest(A,6)"
   ]
  },
  {
   "cell_type": "code",
   "execution_count": null,
   "id": "f4494963-59be-4a1b-9deb-4c12ef5dbc3b",
   "metadata": {},
   "outputs": [],
   "source": []
  }
 ],
 "metadata": {
  "kernelspec": {
   "display_name": "Python 3 (ipykernel)",
   "language": "python",
   "name": "python3"
  },
  "language_info": {
   "codemirror_mode": {
    "name": "ipython",
    "version": 3
   },
   "file_extension": ".py",
   "mimetype": "text/x-python",
   "name": "python",
   "nbconvert_exporter": "python",
   "pygments_lexer": "ipython3",
   "version": "3.11.7"
  }
 },
 "nbformat": 4,
 "nbformat_minor": 5
}
