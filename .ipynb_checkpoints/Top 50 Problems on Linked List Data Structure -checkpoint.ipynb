{
 "cells": [
  {
   "cell_type": "markdown",
   "id": "db004f4f-7bb9-4123-a9e5-c2c6b15661c0",
   "metadata": {},
   "source": [
    "# Create linked-list Data Structure"
   ]
  },
  {
   "cell_type": "markdown",
   "id": "56bd4c12-0755-4e82-81b6-d956030582f5",
   "metadata": {},
   "source": [
    "1. **Create a singly linked list:** Implement a class or structure for a singly linked list, including methods to add nodes, remove nodes, and print the list.\n",
    "\n",
    "2. **Insertion at the beginning:** Write a function to insert a node at the beginning of a singly linked list.\n",
    "\n",
    "3. **Insertion at the end:** Implement a function to insert a node at the end of a singly linked list.\n",
    "\n",
    "4. **Insertion at a given position:** Write a function to insert a node at a specified position in a singly linked list.\n",
    "\n",
    "5. **Deletion at the beginning:** Implement a function to delete a node from the beginning of a singly linked list.\n",
    "\n",
    "6. **Deletion at the end:** Write a function to delete a node from the end of a singly linked list.\n"
   ]
  },
  {
   "cell_type": "code",
   "execution_count": 507,
   "id": "3867c096-c8c4-4e53-8273-838d9efc262b",
   "metadata": {},
   "outputs": [],
   "source": [
    "class Node:\n",
    "    def __init__(self,data):\n",
    "        self.data=data\n",
    "        self.next=None\n",
    "        \n",
    "class SinglyLL:\n",
    "    def __init__(self):\n",
    "        self.head=None\n",
    "\n",
    "    def insert_begin(self,data):\n",
    "        new_node=Node(data)\n",
    "        if self.head is None:\n",
    "            self.head=new_node\n",
    "            return\n",
    "        new_node.next=self.head\n",
    "        self.head=new_node\n",
    "\n",
    "    def insert_end(self,data):\n",
    "        new_node=Node(data)\n",
    "        if self.head is None:\n",
    "            self.head=new_node\n",
    "            return\n",
    "        n=self.head\n",
    "        while n.next is not None:\n",
    "            n=n.next\n",
    "        n.next=new_node\n",
    "        \n",
    "    def _print(self):\n",
    "        if self.head is None:\n",
    "            return \"linked list is Empty!\"\n",
    "        else:\n",
    "            n=self.head\n",
    "            while n is not None:\n",
    "                print(n.data, end=' ')\n",
    "                n=n.next\n",
    "            print()\n",
    "                \n",
    "    def Remove_begin(self):\n",
    "        if self.head is None:\n",
    "            return \"linked list is Empty!\"\n",
    "        elif self.head.next is None:\n",
    "            self.head=None\n",
    "        else:\n",
    "            self.head=self.head.next\n",
    "            \n",
    "    def Remove_end(self):\n",
    "        if self.head is None:\n",
    "            return \"SLL is Empty!\"\n",
    "        elif self.head.next is None:\n",
    "            self.head=None\n",
    "        else:\n",
    "            n=self.head\n",
    "            while n.next.next is not None:\n",
    "                n=n.next\n",
    "            n.next=None\n",
    "            \n",
    "    def insert_after_node(self,x,data):\n",
    "        new_node=Node(data)\n",
    "        if self.head is None:\n",
    "            return \"SLL is Empty!\"\n",
    "        if self.head.data==x:\n",
    "            new_node.next=self.head.next\n",
    "            self.head.next=new_node\n",
    "            return\n",
    "        n=self.head\n",
    "        while n is not None:\n",
    "            if n.data==x:\n",
    "                new_node.next=n.next\n",
    "                n.next=new_node\n",
    "                return\n",
    "            n=n.next\n",
    "        return f\"Node with value {x} not found in the list.\"\n",
    "\n",
    "    def insert_before_node(self,x,data):\n",
    "        new_node=Node(data)\n",
    "        if self.head is None:\n",
    "            return \"SLL is Empty!\"\n",
    "        if self.head.data==x:\n",
    "            new_node.next=self.head\n",
    "            self.head=new_node\n",
    "            return\n",
    "        n=self.head\n",
    "        while n.next is not None:\n",
    "            if n.next.data==x:\n",
    "                new_node.next=n.next\n",
    "                n.next=new_node\n",
    "                return\n",
    "            n=n.next\n",
    "        return f\"Node with value {x} not found in the list.\"\n",
    "        \n",
    "SLL=SinglyLL()"
   ]
  },
  {
   "cell_type": "code",
   "execution_count": 517,
   "id": "6e249fc5-17bd-4e03-9693-0691ad0a813d",
   "metadata": {},
   "outputs": [
    {
     "name": "stdout",
     "output_type": "stream",
     "text": [
      "12 12 128 15 \n"
     ]
    }
   ],
   "source": [
    "SLL._print()"
   ]
  },
  {
   "cell_type": "code",
   "execution_count": 509,
   "id": "09587c81-80b0-4224-9357-e053e8e8d488",
   "metadata": {},
   "outputs": [
    {
     "data": {
      "text/plain": [
       "'SLL is Empty!'"
      ]
     },
     "execution_count": 509,
     "metadata": {},
     "output_type": "execute_result"
    }
   ],
   "source": [
    "SLL.insert_after_node(10,13)"
   ]
  },
  {
   "cell_type": "code",
   "execution_count": 510,
   "id": "37b110d0-8607-41f6-895f-6c0636a8731a",
   "metadata": {},
   "outputs": [
    {
     "data": {
      "text/plain": [
       "'SLL is Empty!'"
      ]
     },
     "execution_count": 510,
     "metadata": {},
     "output_type": "execute_result"
    }
   ],
   "source": [
    "SLL.Remove_end()"
   ]
  },
  {
   "cell_type": "code",
   "execution_count": 511,
   "id": "0670e0c5-45ca-404f-9aae-e7e4affe26da",
   "metadata": {},
   "outputs": [],
   "source": [
    "SLL.insert_begin(15)"
   ]
  },
  {
   "cell_type": "code",
   "execution_count": 516,
   "id": "3f2e28f0-edbd-480b-b891-a0a02b5247dd",
   "metadata": {},
   "outputs": [],
   "source": [
    "SLL.insert_before_node(15,128)"
   ]
  },
  {
   "cell_type": "code",
   "execution_count": 77,
   "id": "fe1df777-6b75-4810-9732-c954bfea83f4",
   "metadata": {},
   "outputs": [
    {
     "data": {
      "text/plain": [
       "'linked list is Empty!'"
      ]
     },
     "execution_count": 77,
     "metadata": {},
     "output_type": "execute_result"
    }
   ],
   "source": [
    "SLL.Remove_begin()"
   ]
  },
  {
   "cell_type": "code",
   "execution_count": 602,
   "id": "af0dc5d9-5fad-4058-9a6b-7d08c0f9371c",
   "metadata": {},
   "outputs": [],
   "source": [
    "from collections import deque"
   ]
  },
  {
   "cell_type": "markdown",
   "id": "d53003ea-140d-47e6-b1ac-b3aa098daa47",
   "metadata": {},
   "source": [
    "7. **Deletion at a given position:** Implement a function to delete a node from a specified position in a singly linked list.\n",
    "\n",
    "8. **Search operation:** Write a function to search for a given value in a singly linked list.\n",
    "\n",
    "9. **Reverse a singly linked list:** Implement a function to reverse a singly linked list.\n",
    "\n",
    "10. **Detect loop in a linked list:** Write a function to detect if a loop exists in a singly linked list.\n",
    "\n",
    "11. **Find the middle of a linked list:** Implement a function to find the middle node of a singly linked list.\n",
    "\n",
    "12. **Merge two sorted linked lists:** Write a function to merge two sorted singly linked lists into a single sorted linked list.\n",
    "\n",
    "13. **Remove duplicates from a linked list:** Implement a function to remove duplicates from an unsorted singly linked list.\n",
    "\n",
    "14. **Check if a linked list is palindrome:** Write a function to check if a singly linked list is a palindrome.\n",
    "\n",
    "15. **Intersection point of two linked lists:** Implement a function to find the intersection point of two singly linked lists.\n"
   ]
  },
  {
   "cell_type": "code",
   "execution_count": 1092,
   "id": "5d8f32c4-d4b7-43f2-b758-e8000391660e",
   "metadata": {},
   "outputs": [],
   "source": [
    "class Node:\n",
    "    def __init__(self,data):\n",
    "        self.data=data\n",
    "        self.next=None\n",
    "        \n",
    "class SinglyLL:\n",
    "    def __init__(self):\n",
    "        self.head=None\n",
    "\n",
    "    def insert_begin(self,data):\n",
    "        new_node=Node(data)\n",
    "        if self.head is None:\n",
    "            self.head=new_node\n",
    "            return\n",
    "        new_node.next=self.head\n",
    "        self.head=new_node\n",
    "        \n",
    "    def insert_end(self,data):\n",
    "        new_node=Node(data)\n",
    "        if self.head is None:\n",
    "            self.head=new_node\n",
    "            return\n",
    "        n=self.head\n",
    "        while n.next is not None:\n",
    "            n=n.next\n",
    "        n.next=new_node\n",
    "        \n",
    "    def _print(self):\n",
    "        if self.head is None:\n",
    "            return \"linked list is Empty!\"\n",
    "        else:\n",
    "            n=self.head\n",
    "            while n is not None:\n",
    "                print(n.data, end=' ')\n",
    "                n=n.next\n",
    "            print()\n",
    "            \n",
    "    def Delete_by_value(self,x):\n",
    "        if self.head is None:\n",
    "            return \"SLL is Empty!\"\n",
    "        if self.head.data==x:\n",
    "            self.head=self.head.next\n",
    "            return\n",
    "        n=self.head\n",
    "        while n.next is not None:\n",
    "            if n.next.data==x:\n",
    "                n.next=n.next.next\n",
    "                return\n",
    "        return \"Given Node is not present in SLL\"\n",
    "        \n",
    "    def Search_node(self,x):\n",
    "        if self.head is None:\n",
    "            return \"SLL is Empty!\"\n",
    "        if self.head.data==x:\n",
    "            return f\"Given node: {x} is present in SLL!\"\n",
    "        n=self.head\n",
    "        while n.next is not None:\n",
    "            if n.next.data==x:\n",
    "                return f\"Given node: {x} is present in SLL!\"\n",
    "            n=n.next\n",
    "        return f\"Given node: {x} is not present in SLL!\"\n",
    "        \n",
    "    def Remove_end(self):\n",
    "        if self.head is None:\n",
    "            return \"SLL is Empty!\"\n",
    "        elif self.head.next is None:\n",
    "            self.head=None\n",
    "        else:\n",
    "            n=self.head\n",
    "            while n.next.next is not None:\n",
    "                n=n.next\n",
    "            n.next=None\n",
    "            \n",
    "    def length(self):\n",
    "        if self.head is None:\n",
    "            return \"SLL is Empty!\"\n",
    "        n=self.head\n",
    "        l=0\n",
    "        while n.next is not None:\n",
    "            l +=1\n",
    "            n=n.next\n",
    "        return l+1\n",
    "        \n",
    "    def middle_of_SLL(self):\n",
    "        if self.head is None:\n",
    "            return \"SLL is Empty!\"\n",
    "        k=self.length()\n",
    "        m=k//2\n",
    "        n=self.head\n",
    "        for _ in range(m):\n",
    "            n=n.next\n",
    "        print(n.data, end=' ')\n",
    "        \n",
    "    def Bubble_sort_SLL(self):\n",
    "        if self.head is None or self.head.next is None:\n",
    "            return \"SLL has no Node or only one Node!\"\n",
    "        length = self.length()\n",
    "        for i in range(length - 1):\n",
    "            n = self.head\n",
    "            for j in range(length - i - 1):\n",
    "                if n.data > n.next.data:\n",
    "                    n.data, n.next.data = n.next.data, n.data\n",
    "                n = n.next\n",
    "        return self._print()\n",
    "        \n",
    "            \n",
    "    def Removeduplicates_SLL(self):\n",
    "        if self.head is None or self.head.next is None:\n",
    "            return \"SLL is Empty or Only One Node!\"\n",
    "        n=self.head\n",
    "        unique=set()\n",
    "        while n is not None:\n",
    "            unique.add(n.data)\n",
    "            n=n.next\n",
    "        s=list(unique)\n",
    "        for i in range(len(s)):\n",
    "            print(s[i],end=' ')\n",
    "            \n",
    "    def palindrome_SLL(self):\n",
    "        if self.head is None:\n",
    "            return \"SLL is Empty!\"\n",
    "        n=self.head\n",
    "        unique=list()\n",
    "        while n is not None:\n",
    "            unique.append(n.data)\n",
    "            n=n.next\n",
    "        s=unique\n",
    "        if s==s[::-1]:\n",
    "            return \"This is palindrome SLL!\"\n",
    "        return \"This is Note A palindrome SLL!\"\n",
    "        \n",
    "\n",
    "sll=SinglyLL()"
   ]
  },
  {
   "cell_type": "code",
   "execution_count": 1101,
   "id": "d6b2d059-21a4-4834-94b0-60115e48124d",
   "metadata": {},
   "outputs": [],
   "source": [
    "sll.insert_begin(7)"
   ]
  },
  {
   "cell_type": "code",
   "execution_count": 1102,
   "id": "dd6be5ce-88b8-4caf-b8af-04ffca9cbf9c",
   "metadata": {},
   "outputs": [
    {
     "data": {
      "text/plain": [
       "'This is Note A palindrome SLL!'"
      ]
     },
     "execution_count": 1102,
     "metadata": {},
     "output_type": "execute_result"
    }
   ],
   "source": [
    "sll.palindrome_SLL()"
   ]
  },
  {
   "cell_type": "code",
   "execution_count": 1103,
   "id": "f26d790b-e027-46c5-aed7-55383f0f05a2",
   "metadata": {},
   "outputs": [
    {
     "name": "stdout",
     "output_type": "stream",
     "text": [
      "7 9 9 9 \n"
     ]
    }
   ],
   "source": [
    "sll._print()"
   ]
  },
  {
   "cell_type": "code",
   "execution_count": 1063,
   "id": "6d78e8c4-eb46-44a4-b249-5f71c2c822e9",
   "metadata": {},
   "outputs": [
    {
     "data": {
      "text/plain": [
       "'SLL has no Node or only one Node!'"
      ]
     },
     "execution_count": 1063,
     "metadata": {},
     "output_type": "execute_result"
    }
   ],
   "source": [
    "sll.Bubble_sort_SLL()"
   ]
  },
  {
   "cell_type": "code",
   "execution_count": 1064,
   "id": "53ea7884-ca28-40bc-8c39-a1d0e6431284",
   "metadata": {},
   "outputs": [
    {
     "data": {
      "text/plain": [
       "1"
      ]
     },
     "execution_count": 1064,
     "metadata": {},
     "output_type": "execute_result"
    }
   ],
   "source": [
    "sll.length()"
   ]
  },
  {
   "cell_type": "code",
   "execution_count": 1072,
   "id": "07700dc7-9b80-4e0a-96ff-83e57bb9ab9f",
   "metadata": {},
   "outputs": [
    {
     "name": "stdout",
     "output_type": "stream",
     "text": [
      "8 5 7 "
     ]
    }
   ],
   "source": [
    "sll.Removeduplicates_SLL()"
   ]
  },
  {
   "cell_type": "code",
   "execution_count": 1033,
   "id": "c9d706bf-c108-457a-b412-7472836120f5",
   "metadata": {},
   "outputs": [
    {
     "name": "stdout",
     "output_type": "stream",
     "text": [
      "9 "
     ]
    }
   ],
   "source": [
    "sll.middle_of_SLL()"
   ]
  },
  {
   "cell_type": "code",
   "execution_count": 859,
   "id": "2e345fe5-642c-417d-a4ff-057e1cfacb49",
   "metadata": {},
   "outputs": [
    {
     "data": {
      "text/plain": [
       "'Given Node is not present in SLL'"
      ]
     },
     "execution_count": 859,
     "metadata": {},
     "output_type": "execute_result"
    }
   ],
   "source": [
    "sll.Delete_by_value(1)"
   ]
  },
  {
   "cell_type": "code",
   "execution_count": 655,
   "id": "3fd0ef59-0d9f-4c13-83a4-5adedabf4d54",
   "metadata": {},
   "outputs": [
    {
     "data": {
      "text/plain": [
       "'Given node: 7 is not present in SLL!'"
      ]
     },
     "execution_count": 655,
     "metadata": {},
     "output_type": "execute_result"
    }
   ],
   "source": [
    "sll.Search_node(7)"
   ]
  },
  {
   "cell_type": "code",
   "execution_count": 656,
   "id": "890e344f-0ec2-41fa-b9bf-b7cb08fe4a5c",
   "metadata": {},
   "outputs": [
    {
     "name": "stdout",
     "output_type": "stream",
     "text": [
      "1 \n"
     ]
    }
   ],
   "source": [
    "sll._print()"
   ]
  },
  {
   "cell_type": "code",
   "execution_count": 783,
   "id": "320abd28-1db3-481d-8241-6a8174438ddb",
   "metadata": {},
   "outputs": [
    {
     "data": {
      "text/plain": [
       "[23, 23, 23, 24, 433]"
      ]
     },
     "execution_count": 783,
     "metadata": {},
     "output_type": "execute_result"
    }
   ],
   "source": [
    "def bubble(arr):\n",
    "    for i in range(len(arr)-1):\n",
    "        for j in range(len(arr)):\n",
    "            if arr[i]>arr[i+1]:\n",
    "                arr[i],arr[i+1]=arr[i+1],arr[i]\n",
    "A=[23,433,23,23,24]\n",
    "bubble(A)\n",
    "A"
   ]
  },
  {
   "cell_type": "markdown",
   "id": "139e94cf-5fe3-478d-8d10-98d4e196c92b",
   "metadata": {},
   "source": [
    "# 1. 🔄 Reverse a Linked List"
   ]
  },
  {
   "cell_type": "code",
   "execution_count": 160,
   "id": "cbf0862b-cb14-4e6b-b7b8-8e7dcf761972",
   "metadata": {},
   "outputs": [],
   "source": [
    "class Node:\n",
    "    def __init__(self,data):\n",
    "        self.data=data\n",
    "        self.next=None\n",
    "        \n",
    "class SinglyLL:\n",
    "    def __init__(self):\n",
    "        self.head=None\n",
    "\n",
    "    def insert_begin(self,data):\n",
    "        new_node=Node(data)\n",
    "        new_node.next=self.head\n",
    "        self.head=new_node\n",
    "        \n",
    "    def _print(self):\n",
    "        if self.head is None:\n",
    "            return \"linked list is Empty!\"\n",
    "        else:\n",
    "            n=self.head\n",
    "            while n is not None:\n",
    "                print(n.data, end=' ')\n",
    "                n=n.next\n",
    "                \n",
    "    def Remove_begin(self):\n",
    "        if self.head is None:\n",
    "            return \"linked list is Empty!\"\n",
    "        elif self.head.next is None:\n",
    "            self.head=None\n",
    "        else:\n",
    "            self.head=self.head.next\n",
    "            \n",
    "    def Reverse_SLL(self):\n",
    "        if self.head is None:\n",
    "            return \"Linked list is Empty!\"\n",
    "        \n",
    "        current = self.head\n",
    "        previous = None\n",
    "        while current is not None:\n",
    "            next_node = current.next\n",
    "            current.next = previous\n",
    "            previous = current\n",
    "            current = next_node\n",
    "        self.head = previous\n",
    "        current = self.head\n",
    "        while current is not None:\n",
    "            print(current.data, end=\" \")\n",
    "            current = current.next\n",
    "RSLL=SinglyLL()"
   ]
  },
  {
   "cell_type": "code",
   "execution_count": 161,
   "id": "9268ef31-9ae1-4462-a342-9beab892b091",
   "metadata": {},
   "outputs": [],
   "source": [
    "RSLL.insert_begin(1)\n",
    "RSLL.insert_begin(2)\n",
    "RSLL.insert_begin(3)\n",
    "RSLL.insert_begin(4)\n",
    "RSLL.insert_begin(5)\n",
    "RSLL.insert_begin(6)"
   ]
  },
  {
   "cell_type": "code",
   "execution_count": 162,
   "id": "3a7a4c96-edab-4c9a-865d-05b946b384f1",
   "metadata": {},
   "outputs": [
    {
     "name": "stdout",
     "output_type": "stream",
     "text": [
      "6 5 4 3 2 1 "
     ]
    }
   ],
   "source": [
    "RSLL._print()"
   ]
  },
  {
   "cell_type": "code",
   "execution_count": 163,
   "id": "c00666ee-a325-42f7-9daf-ab1b8a57922c",
   "metadata": {},
   "outputs": [
    {
     "name": "stdout",
     "output_type": "stream",
     "text": [
      "1 2 3 4 5 6 "
     ]
    }
   ],
   "source": [
    "RSLL.Reverse_SLL()"
   ]
  },
  {
   "cell_type": "markdown",
   "id": "98c18bda-c37c-469e-b1dc-e53d975b2fd6",
   "metadata": {},
   "source": [
    "# 2. 🔁 Detect a Cycle in a Linked List\n"
   ]
  },
  {
   "cell_type": "code",
   "execution_count": 381,
   "id": "d566949a-f98e-49ad-a4a2-2f9075d87bc5",
   "metadata": {},
   "outputs": [],
   "source": [
    "class Node:\n",
    "    def __init__(self, data):\n",
    "        self.prev = None\n",
    "        self.data = data\n",
    "        self.next = None\n",
    "\n",
    "class CDLL:\n",
    "    def __init__(self):\n",
    "        self.head = None\n",
    "        \n",
    "    def _print(self):\n",
    "        if self.head is None:\n",
    "            return \"CDLL is Empty!\"\n",
    "        if self.head is not None:\n",
    "            n=self.head\n",
    "            while n!=self.head.prev:\n",
    "                print(n.data, end=' ')\n",
    "                n=n.next\n",
    "            print(n.data, end=' ')\n",
    "    \n",
    "    def insert_begin(self, data):\n",
    "        new_node=Node(data)\n",
    "        if self.head is None:\n",
    "            self.head=new_node\n",
    "            new_node.next=new_node\n",
    "            new_node.prev=new_node\n",
    "        else:\n",
    "            last_node=self.head.prev\n",
    "            new_node.prev=self.head.prev\n",
    "            new_node.next=self.head\n",
    "            self.head.prev=new_node\n",
    "            last_node.next=new_node\n",
    "            \n",
    "    def detect_cycle(self):\n",
    "        if self.head is None:\n",
    "            return \"CDLL is Empty!\"\n",
    "            \n",
    "        while self.head.next is not None and self.head.next.next is not None:\n",
    "            if self.head == self.head.next:\n",
    "                return \"Cycle detected!\"\n",
    "            self.head = self.head.next\n",
    "            self.head.next = self.head.next.next.next\n",
    "\n",
    "        else:\n",
    "            return \"Cycle not detected!\"\n",
    "        \n",
    "\n",
    "CDll=CDLL()"
   ]
  },
  {
   "cell_type": "code",
   "execution_count": 379,
   "id": "418e3908-bde8-478a-8042-0f2fb2d32999",
   "metadata": {},
   "outputs": [
    {
     "name": "stdout",
     "output_type": "stream",
     "text": [
      "1 1 1 "
     ]
    }
   ],
   "source": [
    "CDll._print()"
   ]
  },
  {
   "cell_type": "code",
   "execution_count": 378,
   "id": "d19b6a67-fc86-4c79-bdba-4a0ce8923f65",
   "metadata": {},
   "outputs": [],
   "source": [
    "CDll.insert_begin(1)"
   ]
  },
  {
   "cell_type": "code",
   "execution_count": 380,
   "id": "7267894f-8a10-4f16-a671-a725dd01599e",
   "metadata": {},
   "outputs": [
    {
     "data": {
      "text/plain": [
       "'Cycle detected!'"
      ]
     },
     "execution_count": 380,
     "metadata": {},
     "output_type": "execute_result"
    }
   ],
   "source": [
    "CDll.detect_cycle()"
   ]
  },
  {
   "cell_type": "markdown",
   "id": "7dae4818-def0-4e6f-9197-08cfcecdba6e",
   "metadata": {},
   "source": [
    "\n",
    "# 3. 🤝 Find the Merge Point of Two Linked Lists\n"
   ]
  },
  {
   "cell_type": "code",
   "execution_count": null,
   "id": "47e15829-fbd2-44d7-8f3c-576382b76e8d",
   "metadata": {},
   "outputs": [],
   "source": []
  },
  {
   "cell_type": "markdown",
   "id": "8450f872-977e-4484-99bd-7e4d9a93af66",
   "metadata": {},
   "source": [
    "\n",
    "# 4. 🚫 Remove N-th Node From End of List\n"
   ]
  },
  {
   "cell_type": "code",
   "execution_count": null,
   "id": "9e1ad243-1aac-4184-83c2-74d383fbd6b6",
   "metadata": {},
   "outputs": [],
   "source": []
  },
  {
   "cell_type": "markdown",
   "id": "845ea2ad-0810-48ad-b1d4-740fddb77674",
   "metadata": {},
   "source": [
    "\n",
    "# 5. 🔗 Merge Two Sorted Linked Lists\n"
   ]
  },
  {
   "cell_type": "code",
   "execution_count": null,
   "id": "bcb40684-4c82-47bd-aba4-e0e00d8cfd79",
   "metadata": {},
   "outputs": [],
   "source": []
  },
  {
   "cell_type": "markdown",
   "id": "36abf3d4-7063-4d75-ac31-1e59c1e474a4",
   "metadata": {},
   "source": [
    "\n",
    "# 6. 🖼️ Check if a Linked List is a Palindrome\n"
   ]
  },
  {
   "cell_type": "code",
   "execution_count": null,
   "id": "5a56d1ae-e814-4387-871e-182a62595959",
   "metadata": {},
   "outputs": [],
   "source": []
  },
  {
   "cell_type": "markdown",
   "id": "24b06d25-8872-4b70-b101-8250330a039e",
   "metadata": {},
   "source": [
    "\n",
    "# 7. 🚨 Remove Duplicates from a Sorted List\n"
   ]
  },
  {
   "cell_type": "code",
   "execution_count": null,
   "id": "3758f388-6237-49e9-91c8-8d7726fb65a4",
   "metadata": {},
   "outputs": [],
   "source": []
  },
  {
   "cell_type": "markdown",
   "id": "13aaf7dd-3b30-490f-af06-193356d38784",
   "metadata": {},
   "source": [
    "\n",
    "# 8. 🎯 Find the Middle of a Linked List\n"
   ]
  },
  {
   "cell_type": "code",
   "execution_count": null,
   "id": "ee0e005b-0906-4276-a48d-710d513b0c9a",
   "metadata": {},
   "outputs": [],
   "source": []
  },
  {
   "cell_type": "markdown",
   "id": "18e53811-0fd4-40da-9cc2-e41c4df98a8b",
   "metadata": {},
   "source": [
    "\n",
    "# 9. 🔄 Rotate a Linked List\n"
   ]
  },
  {
   "cell_type": "code",
   "execution_count": null,
   "id": "9c5142d9-cf81-4207-8a3d-7df5427e9cdd",
   "metadata": {},
   "outputs": [],
   "source": []
  },
  {
   "cell_type": "markdown",
   "id": "9121b674-5fa5-459d-81f1-770c45bdf816",
   "metadata": {},
   "source": [
    "\n",
    "# 10. 📑 Implement a Doubly Linked List\n"
   ]
  },
  {
   "cell_type": "code",
   "execution_count": null,
   "id": "4ee2a457-a57e-4270-9069-c75c47086672",
   "metadata": {},
   "outputs": [],
   "source": []
  },
  {
   "cell_type": "markdown",
   "id": "364f2c2a-86af-4b19-9821-400a64d85893",
   "metadata": {},
   "source": [
    "\n",
    "# 11. 📊 Implement a Circular Linked List\n"
   ]
  },
  {
   "cell_type": "code",
   "execution_count": null,
   "id": "fb778604-b4e2-4b56-bad2-6a6f5d01415d",
   "metadata": {},
   "outputs": [],
   "source": []
  },
  {
   "cell_type": "markdown",
   "id": "67e03aa6-b593-4e64-b112-84340a85c639",
   "metadata": {},
   "source": [
    "\n",
    "# 12. 🛠️ Add Two Numbers Represented by Linked Lists\n"
   ]
  },
  {
   "cell_type": "code",
   "execution_count": null,
   "id": "66392f56-a2c2-47f0-8b4e-eaebf6c0b5eb",
   "metadata": {},
   "outputs": [],
   "source": []
  },
  {
   "cell_type": "markdown",
   "id": "6094fcf9-feaa-4dde-9b16-e364daa711fe",
   "metadata": {},
   "source": [
    "\n",
    "# 13. 🧹 Remove Linked List Elements\n"
   ]
  },
  {
   "cell_type": "code",
   "execution_count": null,
   "id": "854d93b7-361c-4ede-9447-2ae4a04b923a",
   "metadata": {},
   "outputs": [],
   "source": []
  },
  {
   "cell_type": "markdown",
   "id": "0c0a1ae1-49fd-4171-98c7-edf2da446f85",
   "metadata": {},
   "source": [
    "\n",
    "# 14. 🧩 Partition List around a value"
   ]
  },
  {
   "cell_type": "code",
   "execution_count": null,
   "id": "794c5a6b-0fc1-47ca-93da-42772b64eef9",
   "metadata": {},
   "outputs": [],
   "source": []
  },
  {
   "cell_type": "markdown",
   "id": "224b2b38-80ab-4b90-8686-63a53c2c641d",
   "metadata": {},
   "source": [
    "\n",
    "\n",
    "# 15. 🔄 Reverse Nodes in k-Group"
   ]
  },
  {
   "cell_type": "code",
   "execution_count": null,
   "id": "0fcbb10a-5cc1-4e7a-b523-27e0917962a8",
   "metadata": {},
   "outputs": [],
   "source": []
  }
 ],
 "metadata": {
  "kernelspec": {
   "display_name": "Python 3 (ipykernel)",
   "language": "python",
   "name": "python3"
  },
  "language_info": {
   "codemirror_mode": {
    "name": "ipython",
    "version": 3
   },
   "file_extension": ".py",
   "mimetype": "text/x-python",
   "name": "python",
   "nbconvert_exporter": "python",
   "pygments_lexer": "ipython3",
   "version": "3.11.7"
  }
 },
 "nbformat": 4,
 "nbformat_minor": 5
}
