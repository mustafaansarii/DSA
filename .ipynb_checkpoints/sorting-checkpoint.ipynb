{
 "cells": [
  {
   "cell_type": "markdown",
   "metadata": {},
   "source": [
    "### sorting Algorithm\n",
    " "
   ]
  },
  {
   "cell_type": "markdown",
   "metadata": {},
   "source": [
    "#### 1. comparision \n",
    "#### 2. non-comparision algorithm"
   ]
  },
  {
   "cell_type": "markdown",
   "metadata": {},
   "source": [
    "# Sorting Algorithms\n",
    "\n",
    "## Comparison-Based Sorting Algorithms\n",
    "\n",
    "| Algorithm                | Time Complexity    | Space Complexity | Description                                                                 |\n",
    "|--------------------------|--------------------|------------------|-----------------------------------------------------------------------------|\n",
    "| **Bubble Sort**          | O(n^2)             | O(1)             | Repeatedly swaps adjacent elements that are out of order.                   |\n",
    "| **Selection Sort**       | O(n^2)             | O(1)             | Selects the smallest element from the unsorted part and swaps it with the first unsorted element. |\n",
    "| **Insertion Sort**       | O(n^2)             | O(1)             | Builds the final sorted array one item at a time by inserting elements into their correct position. |\n",
    "| **Merge Sort**           | O(n log n)         | O(n)             | Divides the array into halves, recursively sorts them, and then merges the sorted halves. |\n",
    "| **Quick Sort**           | O(n log n) (avg), O(n^2) (worst) | O(log n) (avg) | Picks a pivot element, partitions the array around the pivot, and recursively sorts the partitions. |\n",
    "| **Heap Sort**            | O(n log n)         | O(1)             | Converts the array into a heap, then repeatedly extracts the maximum element from the heap and rebuilds the heap. |\n",
    "| **Shell Sort**           | O(n^(3/2)) (avg)   | O(1)             | Generalizes insertion sort by comparing elements at a gap of several positions. |\n",
    "| **Tim Sort**             | O(n log n)         | O(n)             | Hybrid stable sorting algorithm derived from merge sort and insertion sort, used in Python's built-in sort and Java's Arrays.sort(). |\n",
    "| **Cocktail Shaker Sort** | O(n^2)             | O(1)             | Variation of bubble sort that sorts in both directions on each pass through the list. |\n",
    "| **Comb Sort**            | O(n^2) (worst), O(n log n) (avg) | O(1) | Improves on bubble sort by comparing elements a certain gap apart, reducing the gap over time. |\n",
    "| **Gnome Sort**           | O(n^2)             | O(1)             | Similar to insertion sort but moving elements to their correct position in a series of swaps. |\n",
    "| **Cycle Sort**           | O(n^2)             | O(1)             | Minimizes the number of writes to the array, useful for cases where writing to memory is costly. |\n",
    "| **Bitonic Sort**         | O(log^2 n)         | O(n log n)       | Comparison-based sorting algorithm suitable for parallel implementation.    |\n",
    "| **Odd-Even Transposition Sort** | O(n^2)     | O(1)             | Parallel version of bubble sort.                                            |\n",
    "| **Sample Sort**          | O(n log n)         | O(n)             | Generalization of quicksort for parallel machines.                          |\n",
    "\n",
    "## Non-Comparison-Based Sorting Algorithms\n",
    "\n",
    "| Algorithm                | Time Complexity    | Space Complexity | Description                                                                 |\n",
    "|--------------------------|--------------------|------------------|-----------------------------------------------------------------------------|\n",
    "| **Counting Sort**        | O(n + k)           | O(n + k)         | Counts the number of occurrences of each distinct element and calculates the positions of elements in the sorted array. |\n",
    "| **Radix Sort**           | O(d(n + k))        | O(n + k)         | Sorts the elements digit by digit, starting from the least significant digit to the most significant digit, using a stable sort like counting sort as a subroutine. |\n",
    "| **Bucket Sort**          | O(n + k)           | O(n + k)         | Divides the array into a number of buckets, each bucket is sorted individually, either using another sorting algorithm or recursively applying bucket sort. |\n",
    "| **Pigeonhole Sort**      | O(n + k)           | O(n + k)         | Similar to counting sort, but used when the range of key values is approximately the same as the number of items. |\n",
    "| **Bucket Sort (Parallel)** | O(n/p + log p)   | O(n + p)         | Parallel version of bucket sort for distributed systems.                    |\n"
   ]
  },
  {
   "cell_type": "markdown",
   "metadata": {},
   "source": [
    "#### 1. Bubble sort"
   ]
  },
  {
   "cell_type": "code",
   "execution_count": 47,
   "metadata": {},
   "outputs": [],
   "source": [
    "def bubble_sort(arr):\n",
    "    flag=True\n",
    "    for i in range(len(arr)-1):\n",
    "        for j in range(len(arr)-i-1):\n",
    "            if arr[j]>arr[j+1]:\n",
    "                arr[j],arr[j+1]=arr[j+1],arr[j]\n",
    "            \n",
    "    return arr\n"
   ]
  },
  {
   "cell_type": "code",
   "execution_count": 48,
   "metadata": {},
   "outputs": [
    {
     "data": {
      "text/plain": [
       "[1, 2, 3, 4, 5, 6, 7, 8, 9]"
      ]
     },
     "execution_count": 48,
     "metadata": {},
     "output_type": "execute_result"
    }
   ],
   "source": [
    "arr=[1,2,3,4,5,6,7,8,9]\n",
    "bubble_sort(arr)"
   ]
  },
  {
   "cell_type": "markdown",
   "metadata": {},
   "source": []
  },
  {
   "cell_type": "code",
   "execution_count": null,
   "metadata": {},
   "outputs": [],
   "source": []
  }
 ],
 "metadata": {
  "kernelspec": {
   "display_name": "Python 3 (ipykernel)",
   "language": "python",
   "name": "python3"
  },
  "language_info": {
   "codemirror_mode": {
    "name": "ipython",
    "version": 3
   },
   "file_extension": ".py",
   "mimetype": "text/x-python",
   "name": "python",
   "nbconvert_exporter": "python",
   "pygments_lexer": "ipython3",
   "version": "3.11.7"
  }
 },
 "nbformat": 4,
 "nbformat_minor": 4
}
