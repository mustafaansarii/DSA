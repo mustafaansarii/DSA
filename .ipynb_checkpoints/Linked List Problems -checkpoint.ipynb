{
 "cells": [
  {
   "cell_type": "markdown",
   "id": "db004f4f-7bb9-4123-a9e5-c2c6b15661c0",
   "metadata": {},
   "source": [
    "# Create linked-list Data Structure"
   ]
  },
  {
   "cell_type": "markdown",
   "id": "56bd4c12-0755-4e82-81b6-d956030582f5",
   "metadata": {},
   "source": [
    "1. **Create a singly linked list:** Implement a class or structure for a singly linked list, including methods to add nodes, remove nodes, and print the list.\n",
    "\n",
    "2. **Insertion at the beginning:** Write a function to insert a node at the beginning of a singly linked list.\n",
    "\n",
    "3. **Insertion at the end:** Implement a function to insert a node at the end of a singly linked list.\n",
    "\n",
    "4. **Insertion at a given position:** Write a function to insert a node at a specified position in a singly linked list.\n",
    "\n",
    "5. **Deletion at the beginning:** Implement a function to delete a node from the beginning of a singly linked list.\n",
    "\n",
    "6. **Deletion at the end:** Write a function to delete a node from the end of a singly linked list.\n"
   ]
  },
  {
   "cell_type": "code",
   "execution_count": 507,
   "id": "3867c096-c8c4-4e53-8273-838d9efc262b",
   "metadata": {},
   "outputs": [],
   "source": [
    "class Node:\n",
    "    def __init__(self,data):\n",
    "        self.data=data\n",
    "        self.next=None\n",
    "        \n",
    "class SinglyLL:\n",
    "    def __init__(self):\n",
    "        self.head=None\n",
    "\n",
    "    def insert_begin(self,data):\n",
    "        new_node=Node(data)\n",
    "        if self.head is None:\n",
    "            self.head=new_node\n",
    "            return\n",
    "        new_node.next=self.head\n",
    "        self.head=new_node\n",
    "\n",
    "    def insert_end(self,data):\n",
    "        new_node=Node(data)\n",
    "        if self.head is None:\n",
    "            self.head=new_node\n",
    "            return\n",
    "        n=self.head\n",
    "        while n.next is not None:\n",
    "            n=n.next\n",
    "        n.next=new_node\n",
    "        \n",
    "    def _print(self):\n",
    "        if self.head is None:\n",
    "            return \"linked list is Empty!\"\n",
    "        else:\n",
    "            n=self.head\n",
    "            while n is not None:\n",
    "                print(n.data, end=' ')\n",
    "                n=n.next\n",
    "            print()\n",
    "                \n",
    "    def Remove_begin(self):\n",
    "        if self.head is None:\n",
    "            return \"linked list is Empty!\"\n",
    "        elif self.head.next is None:\n",
    "            self.head=None\n",
    "        else:\n",
    "            self.head=self.head.next\n",
    "            \n",
    "    def Remove_end(self):\n",
    "        if self.head is None:\n",
    "            return \"SLL is Empty!\"\n",
    "        elif self.head.next is None:\n",
    "            self.head=None\n",
    "        else:\n",
    "            n=self.head\n",
    "            while n.next.next is not None:\n",
    "                n=n.next\n",
    "            n.next=None\n",
    "            \n",
    "    def insert_after_node(self,x,data):\n",
    "        new_node=Node(data)\n",
    "        if self.head is None:\n",
    "            return \"SLL is Empty!\"\n",
    "        if self.head.data==x:\n",
    "            new_node.next=self.head.next\n",
    "            self.head.next=new_node\n",
    "            return\n",
    "        n=self.head\n",
    "        while n is not None:\n",
    "            if n.data==x:\n",
    "                new_node.next=n.next\n",
    "                n.next=new_node\n",
    "                return\n",
    "            n=n.next\n",
    "        return f\"Node with value {x} not found in the list.\"\n",
    "\n",
    "    def insert_before_node(self,x,data):\n",
    "        new_node=Node(data)\n",
    "        if self.head is None:\n",
    "            return \"SLL is Empty!\"\n",
    "        if self.head.data==x:\n",
    "            new_node.next=self.head\n",
    "            self.head=new_node\n",
    "            return\n",
    "        n=self.head\n",
    "        while n.next is not None:\n",
    "            if n.next.data==x:\n",
    "                new_node.next=n.next\n",
    "                n.next=new_node\n",
    "                return\n",
    "            n=n.next\n",
    "        return f\"Node with value {x} not found in the list.\"\n",
    "        \n",
    "SLL=SinglyLL()"
   ]
  },
  {
   "cell_type": "code",
   "execution_count": 517,
   "id": "6e249fc5-17bd-4e03-9693-0691ad0a813d",
   "metadata": {},
   "outputs": [
    {
     "name": "stdout",
     "output_type": "stream",
     "text": [
      "12 12 128 15 \n"
     ]
    }
   ],
   "source": [
    "SLL._print()"
   ]
  },
  {
   "cell_type": "code",
   "execution_count": 509,
   "id": "09587c81-80b0-4224-9357-e053e8e8d488",
   "metadata": {},
   "outputs": [
    {
     "data": {
      "text/plain": [
       "'SLL is Empty!'"
      ]
     },
     "execution_count": 509,
     "metadata": {},
     "output_type": "execute_result"
    }
   ],
   "source": [
    "SLL.insert_after_node(10,13)"
   ]
  },
  {
   "cell_type": "code",
   "execution_count": 510,
   "id": "37b110d0-8607-41f6-895f-6c0636a8731a",
   "metadata": {},
   "outputs": [
    {
     "data": {
      "text/plain": [
       "'SLL is Empty!'"
      ]
     },
     "execution_count": 510,
     "metadata": {},
     "output_type": "execute_result"
    }
   ],
   "source": [
    "SLL.Remove_end()"
   ]
  },
  {
   "cell_type": "code",
   "execution_count": 511,
   "id": "0670e0c5-45ca-404f-9aae-e7e4affe26da",
   "metadata": {},
   "outputs": [],
   "source": [
    "SLL.insert_begin(15)"
   ]
  },
  {
   "cell_type": "code",
   "execution_count": 516,
   "id": "3f2e28f0-edbd-480b-b891-a0a02b5247dd",
   "metadata": {},
   "outputs": [],
   "source": [
    "SLL.insert_before_node(15,128)"
   ]
  },
  {
   "cell_type": "code",
   "execution_count": 77,
   "id": "fe1df777-6b75-4810-9732-c954bfea83f4",
   "metadata": {},
   "outputs": [
    {
     "data": {
      "text/plain": [
       "'linked list is Empty!'"
      ]
     },
     "execution_count": 77,
     "metadata": {},
     "output_type": "execute_result"
    }
   ],
   "source": [
    "SLL.Remove_begin()"
   ]
  },
  {
   "cell_type": "code",
   "execution_count": 602,
   "id": "af0dc5d9-5fad-4058-9a6b-7d08c0f9371c",
   "metadata": {},
   "outputs": [],
   "source": [
    "from collections import deque"
   ]
  },
  {
   "cell_type": "markdown",
   "id": "d53003ea-140d-47e6-b1ac-b3aa098daa47",
   "metadata": {},
   "source": [
    "7. **Deletion at a given position:** Implement a function to delete a node from a specified position in a singly linked list.\n",
    "\n",
    "8. **Search operation:** Write a function to search for a given value in a singly linked list.\n",
    "\n",
    "9. **Reverse a singly linked list:** Implement a function to reverse a singly linked list.\n",
    "\n",
    "10. **Detect loop in a linked list:** Write a function to detect if a loop exists in a singly linked list.\n",
    "\n",
    "11. **Find the middle of a linked list:** Implement a function to find the middle node of a singly linked list.\n",
    "\n",
    "12. **Merge two sorted linked lists:** Write a function to merge two sorted singly linked lists into a single sorted linked list.\n",
    "\n",
    "13. **Remove duplicates from a linked list:** Implement a function to remove duplicates from an unsorted singly linked list.\n",
    "\n",
    "14. **Check if a linked list is palindrome:** Write a function to check if a singly linked list is a palindrome.\n",
    "\n",
    "15. **Intersection point of two linked lists:** Implement a function to find the intersection point of two singly linked lists.\n"
   ]
  },
  {
   "cell_type": "code",
   "execution_count": 1092,
   "id": "5d8f32c4-d4b7-43f2-b758-e8000391660e",
   "metadata": {},
   "outputs": [],
   "source": [
    "class Node:\n",
    "    def __init__(self,data):\n",
    "        self.data=data\n",
    "        self.next=None\n",
    "        \n",
    "class SinglyLL:\n",
    "    def __init__(self):\n",
    "        self.head=None\n",
    "\n",
    "    def insert_begin(self,data):\n",
    "        new_node=Node(data)\n",
    "        if self.head is None:\n",
    "            self.head=new_node\n",
    "            return\n",
    "        new_node.next=self.head\n",
    "        self.head=new_node\n",
    "        \n",
    "    def insert_end(self,data):\n",
    "        new_node=Node(data)\n",
    "        if self.head is None:\n",
    "            self.head=new_node\n",
    "            return\n",
    "        n=self.head\n",
    "        while n.next is not None:\n",
    "            n=n.next\n",
    "        n.next=new_node\n",
    "        \n",
    "    def _print(self):\n",
    "        if self.head is None:\n",
    "            return \"linked list is Empty!\"\n",
    "        else:\n",
    "            n=self.head\n",
    "            while n is not None:\n",
    "                print(n.data, end=' ')\n",
    "                n=n.next\n",
    "            print()\n",
    "            \n",
    "    def Delete_by_value(self,x):\n",
    "        if self.head is None:\n",
    "            return \"SLL is Empty!\"\n",
    "        if self.head.data==x:\n",
    "            self.head=self.head.next\n",
    "            return\n",
    "        n=self.head\n",
    "        while n.next is not None:\n",
    "            if n.next.data==x:\n",
    "                n.next=n.next.next\n",
    "                return\n",
    "        return \"Given Node is not present in SLL\"\n",
    "        \n",
    "    def Search_node(self,x):\n",
    "        if self.head is None:\n",
    "            return \"SLL is Empty!\"\n",
    "        if self.head.data==x:\n",
    "            return f\"Given node: {x} is present in SLL!\"\n",
    "        n=self.head\n",
    "        while n.next is not None:\n",
    "            if n.next.data==x:\n",
    "                return f\"Given node: {x} is present in SLL!\"\n",
    "            n=n.next\n",
    "        return f\"Given node: {x} is not present in SLL!\"\n",
    "        \n",
    "    def Remove_end(self):\n",
    "        if self.head is None:\n",
    "            return \"SLL is Empty!\"\n",
    "        elif self.head.next is None:\n",
    "            self.head=None\n",
    "        else:\n",
    "            n=self.head\n",
    "            while n.next.next is not None:\n",
    "                n=n.next\n",
    "            n.next=None\n",
    "            \n",
    "    def length(self):\n",
    "        if self.head is None:\n",
    "            return \"SLL is Empty!\"\n",
    "        n=self.head\n",
    "        l=0\n",
    "        while n.next is not None:\n",
    "            l +=1\n",
    "            n=n.next\n",
    "        return l+1\n",
    "        \n",
    "    def middle_of_SLL(self):\n",
    "        if self.head is None:\n",
    "            return \"SLL is Empty!\"\n",
    "        k=self.length()\n",
    "        m=k//2\n",
    "        n=self.head\n",
    "        for _ in range(m):\n",
    "            n=n.next\n",
    "        print(n.data, end=' ')\n",
    "        \n",
    "    def Bubble_sort_SLL(self):\n",
    "        if self.head is None or self.head.next is None:\n",
    "            return \"SLL has no Node or only one Node!\"\n",
    "        length = self.length()\n",
    "        for i in range(length - 1):\n",
    "            n = self.head# https://leetcode.com/problems/double-a-number-represented-as-a-linked-list/description/\n",
    "\n",
    "# Definition for singly-linked list.\n",
    "class ListNode:\n",
    "    def __init__(self, val=0, next=None):\n",
    "        self.val = val\n",
    "        self.next = next\n",
    "class Solution:\n",
    "    def __init__(self) -> None:\n",
    "        self.head=None\n",
    "\n",
    "    def insert(self,x):\n",
    "        new_node=ListNode(x)\n",
    "        new_node.next=self.head\n",
    "        self.head=new_node\n",
    "\n",
    "    def print(self):\n",
    "        if self.head is not None:\n",
    "            n=self.head\n",
    "            while n:\n",
    "                print(n.val,end=' ')\n",
    "                n=n.next\n",
    "\n",
    "    def clear(self):\n",
    "        self.head=None\n",
    "\n",
    "    def doubleIt(self):\n",
    "        list=[]\n",
    "        n=self.head\n",
    "        while n:\n",
    "            a.append(n.val)\n",
    "            n=n.next\n",
    "        self.clear()\n",
    "        result = [int(''.join(map(str, list)))]\n",
    "        for i in result:\n",
    "            a = i * 2\n",
    "        result1 = [int(digit) for digit in str(a)]\n",
    "        for i in result1:\n",
    "            self.insert(i)\n",
    "      \n",
    "\n",
    "        \n",
    "if __name__ == '__main__':\n",
    "    s=Solution()\n",
    "    s.insert(3)\n",
    "    s.insert(2)\n",
    "    s.insert(1)\n",
    "    print()\n",
    "    s.print()\n",
    "    s.doubleIt()\n",
    "    s.print\n",
    "\n",
    "\n",
    "\n",
    " \n",
    "            for j in range(length - i - 1):\n",
    "                if n.data > n.next.data:\n",
    "                    n.data, n.next.data = n.next.data, n.data\n",
    "                n = n.next\n",
    "        return self._print()\n",
    "        \n",
    "            \n",
    "    def Removeduplicates_SLL(self):\n",
    "        if self.head is None or self.head.next is None:\n",
    "            return \"SLL is Empty or Only One Node!\"\n",
    "        n=self.head\n",
    "        unique=set()\n",
    "        while n is not None:\n",
    "            unique.add(n.data)\n",
    "            n=n.next\n",
    "        s=list(unique)\n",
    "        for i in range(len(s)):\n",
    "            print(s[i],end=' ')\n",
    "            \n",
    "    def palindrome_SLL(self):\n",
    "        if self.head is None:\n",
    "            return \"SLL is Empty!\"\n",
    "        n=self.head\n",
    "        unique=list()\n",
    "        while n is not None:\n",
    "            unique.append(n.data)\n",
    "            n=n.next\n",
    "        s=unique\n",
    "        if s==s[::-1]:\n",
    "            return \"This is palindrome SLL!\"\n",
    "        return \"This is Note A palindrome SLL!\"\n",
    "        \n",
    "\n",
    "sll=SinglyLL()"
   ]
  },
  {
   "cell_type": "code",
   "execution_count": 1101,
   "id": "d6b2d059-21a4-4834-94b0-60115e48124d",
   "metadata": {},
   "outputs": [],
   "source": [
    "sll.insert_begin(7)"
   ]
  },
  {
   "cell_type": "code",
   "execution_count": 1102,
   "id": "dd6be5ce-88b8-4caf-b8af-04ffca9cbf9c",
   "metadata": {},
   "outputs": [
    {
     "data": {
      "text/plain": [
       "'This is Note A palindrome SLL!'"
      ]
     },
     "execution_count": 1102,
     "metadata": {},
     "output_type": "execute_result"
    }
   ],
   "source": [
    "sll.palindrome_SLL()"
   ]
  },
  {
   "cell_type": "code",
   "execution_count": 1103,
   "id": "f26d790b-e027-46c5-aed7-55383f0f05a2",
   "metadata": {},
   "outputs": [
    {
     "name": "stdout",
     "output_type": "stream",
     "text": [
      "7 9 9 9 \n"
     ]
    }
   ],
   "source": [
    "sll._print()"
   ]
  },
  {
   "cell_type": "code",
   "execution_count": 1063,
   "id": "6d78e8c4-eb46-44a4-b249-5f71c2c822e9",
   "metadata": {},
   "outputs": [
    {
     "data": {
      "text/plain": [
       "'SLL has no Node or only one Node!'"
      ]
     },
     "execution_count": 1063,
     "metadata": {},
     "output_type": "execute_result"
    }
   ],
   "source": [
    "sll.Bubble_sort_SLL()"
   ]
  },
  {
   "cell_type": "code",
   "execution_count": 1064,
   "id": "53ea7884-ca28-40bc-8c39-a1d0e6431284",
   "metadata": {},
   "outputs": [
    {
     "data": {
      "text/plain": [
       "1"
      ]
     },
     "execution_count": 1064,
     "metadata": {},
     "output_type": "execute_result"
    }
   ],
   "source": [
    "sll.length()"
   ]
  },
  {
   "cell_type": "code",
   "execution_count": 1072,
   "id": "07700dc7-9b80-4e0a-96ff-83e57bb9ab9f",
   "metadata": {},
   "outputs": [
    {
     "name": "stdout",
     "output_type": "stream",
     "text": [
      "8 5 7 "
     ]
    }
   ],
   "source": [
    "sll.Removeduplicates_SLL()"
   ]
  },
  {
   "cell_type": "code",
   "execution_count": 1033,
   "id": "c9d706bf-c108-457a-b412-7472836120f5",
   "metadata": {},
   "outputs": [
    {
     "name": "stdout",
     "output_type": "stream",
     "text": [
      "9 "
     ]
    }
   ],
   "source": [
    "sll.middle_of_SLL()"
   ]
  },
  {
   "cell_type": "code",
   "execution_count": 859,
   "id": "2e345fe5-642c-417d-a4ff-057e1cfacb49",
   "metadata": {},
   "outputs": [
    {
     "data": {
      "text/plain": [
       "'Given Node is not present in SLL'"
      ]
     },
     "execution_count": 859,
     "metadata": {},
     "output_type": "execute_result"
    }
   ],
   "source": [
    "sll.Delete_by_value(1)"
   ]
  },
  {
   "cell_type": "code",
   "execution_count": 655,
   "id": "3fd0ef59-0d9f-4c13-83a4-5adedabf4d54",
   "metadata": {},
   "outputs": [
    {
     "data": {
      "text/plain": [
       "'Given node: 7 is not present in SLL!'"
      ]
     },
     "execution_count": 655,
     "metadata": {},
     "output_type": "execute_result"
    }
   ],
   "source": [
    "sll.Search_node(7)"
   ]
  },
  {
   "cell_type": "code",
   "execution_count": 656,
   "id": "890e344f-0ec2-41fa-b9bf-b7cb08fe4a5c",
   "metadata": {},
   "outputs": [
    {
     "name": "stdout",
     "output_type": "stream",
     "text": [
      "1 \n"
     ]
    }
   ],
   "source": [
    "sll._print()"
   ]
  },
  {
   "cell_type": "code",
   "execution_count": 783,
   "id": "320abd28-1db3-481d-8241-6a8174438ddb",
   "metadata": {},
   "outputs": [
    {
     "data": {
      "text/plain": [
       "[23, 23, 23, 24, 433]"
      ]
     },
     "execution_count": 783,
     "metadata": {},
     "output_type": "execute_result"
    }
   ],
   "source": [
    "def bubble(arr):\n",
    "    for i in range(len(arr)-1):\n",
    "        for j in range(len(arr)):\n",
    "            if arr[i]>arr[i+1]:\n",
    "                arr[i],arr[i+1]=arr[i+1],arr[i]\n",
    "A=[23,433,23,23,24]\n",
    "bubble(A)\n",
    "A"
   ]
  },
  {
   "cell_type": "markdown",
   "id": "139e94cf-5fe3-478d-8d10-98d4e196c92b",
   "metadata": {},
   "source": [
    "# 1. 🔄 Reverse a Linked List"
   ]
  },
  {
   "cell_type": "code",
   "execution_count": 160,
   "id": "cbf0862b-cb14-4e6b-b7b8-8e7dcf761972",
   "metadata": {},
   "outputs": [],
   "source": [
    "class Node:\n",
    "    def __init__(self,data):\n",
    "        self.data=data\n",
    "        self.next=None\n",
    "        \n",
    "class SinglyLL:\n",
    "    def __init__(self):\n",
    "        self.head=None\n",
    "\n",
    "    def insert_begin(self,data):\n",
    "        new_node=Node(data)\n",
    "        new_node.next=self.head\n",
    "        self.head=new_node\n",
    "        \n",
    "    def _print(self):\n",
    "        if self.head is None:\n",
    "            return \"linked list is Empty!\"\n",
    "        else:\n",
    "            n=self.head\n",
    "            while n is not None:\n",
    "                print(n.data, end=' ')\n",
    "                n=n.next\n",
    "                \n",
    "    def Remove_begin(self):\n",
    "        if self.head is None:\n",
    "            return \"linked list is Empty!\"\n",
    "        elif self.head.next is None:\n",
    "            self.head=None\n",
    "        else:\n",
    "            self.head=self.head.next\n",
    "            \n",
    "    def Reverse_SLL(self):\n",
    "        if self.head is None:\n",
    "            return \"Linked list is Empty!\"\n",
    "        \n",
    "        current = self.head\n",
    "        previous = None\n",
    "        while current is not None:\n",
    "            next_node = current.next\n",
    "            current.next = previous\n",
    "            previous = current\n",
    "            current = next_node\n",
    "        self.head = previous\n",
    "        current = self.head\n",
    "        while current is not None:\n",
    "            print(current.data, end=\" \")\n",
    "            current = current.next\n",
    "RSLL=SinglyLL()"
   ]
  },
  {
   "cell_type": "code",
   "execution_count": 161,
   "id": "9268ef31-9ae1-4462-a342-9beab892b091",
   "metadata": {},
   "outputs": [],
   "source": [
    "RSLL.insert_begin(1)\n",
    "RSLL.insert_begin(2)\n",
    "RSLL.insert_begin(3)\n",
    "RSLL.insert_begin(4)\n",
    "RSLL.insert_begin(5)\n",
    "RSLL.insert_begin(6)"
   ]
  },
  {
   "cell_type": "code",
   "execution_count": 162,
   "id": "3a7a4c96-edab-4c9a-865d-05b946b384f1",
   "metadata": {},
   "outputs": [
    {
     "name": "stdout",
     "output_type": "stream",
     "text": [
      "6 5 4 3 2 1 "
     ]
    }
   ],
   "source": [
    "RSLL._print()"
   ]
  },
  {
   "cell_type": "code",
   "execution_count": 163,
   "id": "c00666ee-a325-42f7-9daf-ab1b8a57922c",
   "metadata": {},
   "outputs": [
    {
     "name": "stdout",
     "output_type": "stream",
     "text": [
      "1 2 3 4 5 6 "
     ]
    }
   ],
   "source": [
    "RSLL.Reverse_SLL()"
   ]
  },
  {
   "cell_type": "markdown",
   "id": "98c18bda-c37c-469e-b1dc-e53d975b2fd6",
   "metadata": {},
   "source": [
    "# 2. 🔁 Detect a Cycle in a Linked List\n"
   ]
  },
  {
   "cell_type": "code",
   "execution_count": 381,
   "id": "d566949a-f98e-49ad-a4a2-2f9075d87bc5",
   "metadata": {},
   "outputs": [],
   "source": [
    "class Node:\n",
    "    def __init__(self, data):\n",
    "        self.prev = None\n",
    "        self.data = data\n",
    "        self.next = None\n",
    "\n",
    "class CDLL:\n",
    "    def __init__(self):\n",
    "        self.head = None\n",
    "        \n",
    "    def _print(self):\n",
    "        if self.head is None:\n",
    "            return \"CDLL is Empty!\"\n",
    "        if self.head is not None:\n",
    "            n=self.head\n",
    "            while n!=self.head.prev:\n",
    "                print(n.data, end=' ')\n",
    "                n=n.next\n",
    "            print(n.data, end=' ')\n",
    "    \n",
    "    def insert_begin(self, data):\n",
    "        new_node=Node(data)\n",
    "        if self.head is None:\n",
    "            self.head=new_node\n",
    "            new_node.next=new_node\n",
    "            new_node.prev=new_node\n",
    "        else:\n",
    "            last_node=self.head.prev\n",
    "            new_node.prev=self.head.prev\n",
    "            new_node.next=self.head\n",
    "            self.head.prev=new_node\n",
    "            last_node.next=new_node\n",
    "            \n",
    "    def detect_cycle(self):\n",
    "        if self.head is None:\n",
    "            return \"CDLL is Empty!\"\n",
    "            \n",
    "        while self.head.next is not None and self.head.next.next is not None:\n",
    "            if self.head == self.head.next:\n",
    "                return \"Cycle detected!\"\n",
    "            self.head = self.head.next\n",
    "            self.head.next = self.head.next.next.next\n",
    "\n",
    "        else:\n",
    "            return \"Cycle not detected!\"\n",
    "        \n",
    "\n",
    "CDll=CDLL()"
   ]
  },
  {
   "cell_type": "code",
   "execution_count": 379,
   "id": "418e3908-bde8-478a-8042-0f2fb2d32999",
   "metadata": {},
   "outputs": [
    {
     "name": "stdout",
     "output_type": "stream",
     "text": [
      "1 1 1 "
     ]
    }
   ],
   "source": [
    "CDll._print()"
   ]
  },
  {
   "cell_type": "code",
   "execution_count": 378,
   "id": "d19b6a67-fc86-4c79-bdba-4a0ce8923f65",
   "metadata": {},
   "outputs": [],
   "source": [
    "CDll.insert_begin(1)"
   ]
  },
  {
   "cell_type": "code",
   "execution_count": 380,
   "id": "7267894f-8a10-4f16-a671-a725dd01599e",
   "metadata": {},
   "outputs": [
    {
     "data": {
      "text/plain": [
       "'Cycle detected!'"
      ]
     },
     "execution_count": 380,
     "metadata": {},
     "output_type": "execute_result"
    }
   ],
   "source": [
    "CDll.detect_cycle()"
   ]
  },
  {
   "cell_type": "markdown",
   "id": "7dae4818-def0-4e6f-9197-08cfcecdba6e",
   "metadata": {},
   "source": [
    "\n",
    "# 3. 🤝 Find the Merge Point of Two Linked Lists\n"
   ]
  },
  {
   "cell_type": "code",
   "execution_count": null,
   "id": "47e15829-fbd2-44d7-8f3c-576382b76e8d",
   "metadata": {},
   "outputs": [],
   "source": []
  },
  {
   "cell_type": "markdown",
   "id": "8450f872-977e-4484-99bd-7e4d9a93af66",
   "metadata": {},
   "source": [
    "\n",
    "# 4. 🚫 Remove N-th Node From End of List\n"
   ]
  },
  {
   "cell_type": "code",
   "execution_count": null,
   "id": "9e1ad243-1aac-4184-83c2-74d383fbd6b6",
   "metadata": {},
   "outputs": [],
   "source": []
  },
  {
   "cell_type": "markdown",
   "id": "845ea2ad-0810-48ad-b1d4-740fddb77674",
   "metadata": {},
   "source": [
    "\n",
    "# 5. 🔗 Merge Two Sorted Linked Lists\n"
   ]
  },
  {
   "cell_type": "code",
   "execution_count": null,
   "id": "bcb40684-4c82-47bd-aba4-e0e00d8cfd79",
   "metadata": {},
   "outputs": [],
   "source": []
  },
  {
   "cell_type": "markdown",
   "id": "36abf3d4-7063-4d75-ac31-1e59c1e474a4",
   "metadata": {},
   "source": [
    "\n",
    "# 6. 🖼️ Check if a Linked List is a Palindrome\n"
   ]
  },
  {
   "cell_type": "code",
   "execution_count": null,
   "id": "5a56d1ae-e814-4387-871e-182a62595959",
   "metadata": {},
   "outputs": [],
   "source": []
  },
  {
   "cell_type": "markdown",
   "id": "24b06d25-8872-4b70-b101-8250330a039e",
   "metadata": {},
   "source": [
    "\n",
    "# 7. 🚨 Remove Duplicates from a Sorted List\n"
   ]
  },
  {
   "cell_type": "code",
   "execution_count": null,
   "id": "3758f388-6237-49e9-91c8-8d7726fb65a4",
   "metadata": {},
   "outputs": [],
   "source": []
  },
  {
   "cell_type": "markdown",
   "id": "13aaf7dd-3b30-490f-af06-193356d38784",
   "metadata": {},
   "source": [
    "\n",
    "# 8. 🎯 Find the Middle of a Linked List\n"
   ]
  },
  {
   "cell_type": "code",
   "execution_count": null,
   "id": "ee0e005b-0906-4276-a48d-710d513b0c9a",
   "metadata": {},
   "outputs": [],
   "source": []
  },
  {
   "cell_type": "markdown",
   "id": "18e53811-0fd4-40da-9cc2-e41c4df98a8b",
   "metadata": {},
   "source": [
    "\n",
    "# 9. 🔄 Rotate a Linked List\n"
   ]
  },
  {
   "cell_type": "code",
   "execution_count": null,
   "id": "9c5142d9-cf81-4207-8a3d-7df5427e9cdd",
   "metadata": {},
   "outputs": [],
   "source": []
  },
  {
   "cell_type": "markdown",
   "id": "9121b674-5fa5-459d-81f1-770c45bdf816",
   "metadata": {},
   "source": [
    "\n",
    "# 10. 📑 Implement a Doubly Linked List\n"
   ]
  },
  {
   "cell_type": "code",
   "execution_count": null,
   "id": "4ee2a457-a57e-4270-9069-c75c47086672",
   "metadata": {},
   "outputs": [],
   "source": []
  },
  {
   "cell_type": "markdown",
   "id": "364f2c2a-86af-4b19-9821-400a64d85893",
   "metadata": {},
   "source": [
    "\n",
    "# 11. 📊 Implement a Circular Linked List\n"
   ]
  },
  {
   "cell_type": "code",
   "execution_count": null,
   "id": "fb778604-b4e2-4b56-bad2-6a6f5d01415d",
   "metadata": {},
   "outputs": [],
   "source": []
  },
  {
   "cell_type": "markdown",
   "id": "67e03aa6-b593-4e64-b112-84340a85c639",
   "metadata": {},
   "source": [
    "\n",
    "# 12. 🛠️ Add Two Numbers Represented by Linked Lists\n"
   ]
  },
  {
   "cell_type": "code",
   "execution_count": null,
   "id": "66392f56-a2c2-47f0-8b4e-eaebf6c0b5eb",
   "metadata": {},
   "outputs": [],
   "source": []
  },
  {
   "cell_type": "markdown",
   "id": "6094fcf9-feaa-4dde-9b16-e364daa711fe",
   "metadata": {},
   "source": [
    "\n",
    "# 13. 🧹 Remove Linked List Elements\n"
   ]
  },
  {
   "cell_type": "code",
   "execution_count": null,
   "id": "854d93b7-361c-4ede-9447-2ae4a04b923a",
   "metadata": {},
   "outputs": [],
   "source": []
  },
  {
   "cell_type": "markdown",
   "id": "0c0a1ae1-49fd-4171-98c7-edf2da446f85",
   "metadata": {},
   "source": [
    "\n",
    "# 14. 🧩 Partition List around a value"
   ]
  },
  {
   "cell_type": "code",
   "execution_count": null,
   "id": "794c5a6b-0fc1-47ca-93da-42772b64eef9",
   "metadata": {},
   "outputs": [],
   "source": []
  },
  {
   "cell_type": "markdown",
   "id": "224b2b38-80ab-4b90-8686-63a53c2c641d",
   "metadata": {},
   "source": [
    "\n",
    "\n",
    "# 15. 🔄 Reverse Nodes in k-Group"
   ]
  },
  {
   "cell_type": "code",
   "execution_count": null,
   "id": "0fcbb10a-5cc1-4e7a-b523-27e0917962a8",
   "metadata": {},
   "outputs": [],
   "source": []
  },
  {
   "cell_type": "markdown",
   "id": "fcc07c89-ecf8-44e0-8796-dcf719e587ad",
   "metadata": {},
   "source": [
    "**complexities of various operations on a linked list:**\n",
    "| Operation                     | Time Complexity |\n",
    "|-------------------------------|-----------------|\n",
    "| Insertion at Beginning        | \\(O(1)\\)        |\n",
    "| Insertion at End              | \\(O(n)\\)        |\n",
    "| Insertion at Specific Position| \\(O(n)\\)        |\n",
    "| Deletion at Beginning         | \\(O(1)\\)        |\n",
    "| Deletion at End               | \\(O(n)\\)        |\n",
    "| Deletion at Specific Position | \\(O(n)\\)        |\n",
    "| Search                        | \\(O(n)\\)        |\n",
    "| Access/Traversal              | \\(O(n)\\)        |\n"
   ]
  },
  {
   "cell_type": "code",
   "execution_count": 77,
   "id": "42556b24-ce59-4ac5-8b73-816426442f98",
   "metadata": {},
   "outputs": [],
   "source": [
    "class Node:\n",
    "    def __init__(self,data):\n",
    "        self.data=data\n",
    "        self.next=None\n",
    "        \n",
    "class SynglyLL:\n",
    "    def __init__(self):\n",
    "        self.head=None\n",
    "\n",
    "    def len(self):\n",
    "        if self.head is None: return 0\n",
    "        count=0\n",
    "        n=self.head\n",
    "        while n:\n",
    "            n=n.next\n",
    "            count+=1\n",
    "        return count\n",
    "            \n",
    "    def insert_begin(self,data):\n",
    "        new_node=Node(data)\n",
    "        new_node.next=self.head\n",
    "        self.head=new_node\n",
    "        return\n",
    "        \n",
    "    def print(self):\n",
    "        if self.head is None: return \"SLL is Empty!\"\n",
    "        n=self.head\n",
    "        while n:\n",
    "            print(n.data, end= ' ')\n",
    "            n=n.next\n",
    "            \n",
    "    def insert_end(self,data):\n",
    "        new_node=Node(data)\n",
    "        if self.head is None:\n",
    "            self.insert_begin(data)\n",
    "            return\n",
    "        n=self.head\n",
    "        while n.next:\n",
    "            n=n.next\n",
    "        n.next=new_node\n",
    "        \n",
    "    def insert_by_value(self,data,x):\n",
    "        new_node=Node(data)\n",
    "        if self.head is None: return \"Empty! LL!\"\n",
    "        n=self.head\n",
    "        while n:\n",
    "            if n.data==x:\n",
    "                new_node.next=n.next\n",
    "                n.next=new_node\n",
    "                return\n",
    "            n=n.next\n",
    "        print(f\"{x} Node is not present in LL!\")\n",
    "            \n",
    "    def insert_mid(self,data):\n",
    "        new_node=Node(data)\n",
    "        if self.head is None:\n",
    "            self.insert_begin(data)\n",
    "            return\n",
    "        mid=self.len()//2\n",
    "        n=self.len()\n",
    "        if n%2==1:\n",
    "            mid +=1\n",
    "        n=self.head\n",
    "        while mid>1:\n",
    "            n=n.next\n",
    "            mid -=1\n",
    "        new_node.next=n.next\n",
    "        n.next=new_node\n",
    "        \n",
    "    def insert_after(self,data,x):\n",
    "        new_node=Node(data)\n",
    "        n=self.head\n",
    "        while n:\n",
    "            if n.data==x:\n",
    "                new_node.next=n.next\n",
    "                n.next=new_node\n",
    "                return\n",
    "            n=n.next\n",
    "        print(f\"{x} node is not present in SLL or SLL is Empty!\")  \n",
    "\n",
    "    def clear(self):\n",
    "        self.head=None\n",
    "        \n",
    "    def remove_begin(self):\n",
    "        if self.head is None:\n",
    "            raise IndexError (\"Empty! LL\")\n",
    "            return\n",
    "        self.head=self.head.next\n",
    "        \n",
    "    def remove_end(self):\n",
    "        if self.head is None:\n",
    "            raise IndexError (\"Empty! LL\")\n",
    "            return\n",
    "        if self.head.next is None:\n",
    "            self.head=None\n",
    "            return\n",
    "        n=self.head\n",
    "        while n.next.next:\n",
    "            n=n.next\n",
    "        n.next=None\n",
    "        \n",
    "    def delete_Node(self,x):\n",
    "        if self.head is None:\n",
    "            raise IndexError (\"Empty! LL\")\n",
    "            return\n",
    "        if self.head.data==x:\n",
    "            self.head=self.head.next\n",
    "            return\n",
    "        n=self.head\n",
    "        while n:\n",
    "            if n.data==x:\n",
    "                n.next=n.next.next\n",
    "            n=n.next\n",
    "        print(f\"{x} node is not present in SLL!\")\n",
    "\n",
    "    def search(self,x):\n",
    "        if self.head is None:\n",
    "            raise IndexError (\"Empty! LL\")\n",
    "            return\n",
    "        n=self.head\n",
    "        count=0\n",
    "        while n:\n",
    "            if n.data==x:\n",
    "                print(f\"{x} is present at index {count}\")\n",
    "                return\n",
    "            count+=1\n",
    "            n=n.next\n",
    "        print(f\"{x} node is not present in SLL!\")\n",
    "\n",
    "    def search_by_index(self,x):\n",
    "        if self.head is None:\n",
    "            raise IndexError (\"Empty! LL\")\n",
    "            return\n",
    "        if x>self.len():\n",
    "            raise IndexError (\"Given Index is out Of range!\")\n",
    "            return\n",
    "        if x==0:\n",
    "            return self.head.data\n",
    "        n=self.head\n",
    "        while x!=0:\n",
    "            x -=1\n",
    "            n=n.next  \n",
    "        print(n.data) \n",
    "        \n",
    "    def delete_by_index(self,x):\n",
    "        if self.head is None:\n",
    "            raise IndexError (\"Empty! LL\")\n",
    "            return\n",
    "        if x>=self.len():\n",
    "            raise IndexError (\"Given Index is out Of range!\")\n",
    "            return\n",
    "        if x==0:\n",
    "            self.head=self.head.next\n",
    "            return\n",
    "        if x==self.len()-1:\n",
    "            self.remove_end()\n",
    "            return  \n",
    "        n = self.head\n",
    "        while x != 1:\n",
    "            n = n.next\n",
    "            x -= 1\n",
    "        n.next = n.next.next\n",
    "        \n",
    "    def Reverse(self):\n",
    "        if self.head is None:\n",
    "            raise IndexError (\"Empty! LL\")\n",
    "            return\n",
    "        if self.head.next is None:\n",
    "            self.head.data\n",
    "            return \n",
    "        cur=self.head\n",
    "        prev=None\n",
    "        while cur:\n",
    "            temp=cur.next\n",
    "            cur.next=prev\n",
    "            prev=cur\n",
    "            cur=temp\n",
    "        self.head=prev\n",
    "\n",
    "    def mid_of_sll(self):\n",
    "        if self.head is None:\n",
    "            raise IndexError(\"Empty! LL\")\n",
    "    \n",
    "        mid = self.len() // 2\n",
    "        if self.len() % 2 == 1:\n",
    "            mid += 1\n",
    "    \n",
    "        n = self.head\n",
    "        while mid != 0:\n",
    "            n = n.next\n",
    "            mid -= 1\n",
    "    \n",
    "        return n.data\n",
    "\n",
    "    \n",
    "    def Reverse_k_element(self, k):\n",
    "        if self.head is None:\n",
    "            raise IndexError(\"Empty! LL\")\n",
    "            return\n",
    "        if k>self.len() or k<=0:\n",
    "            raise IndexError (\"Given Index is out Of range!\")\n",
    "            return\n",
    "        n=self.head\n",
    "        prev=None\n",
    "        \n",
    "    def replace_max(self,data):\n",
    "        if self.head is None:\n",
    "            raise IndexError(\"Empty! LL\")\n",
    "            return\n",
    "        n=self.head\n",
    "        max=n\n",
    "        while n:\n",
    "            if n.data>max.data:\n",
    "                max= n\n",
    "            n=n.next\n",
    "        max.data=data\n",
    "        \n",
    "    def get_odd_index_value(self):\n",
    "        if self.head is None:\n",
    "            return 0\n",
    "    \n",
    "        n = self.head\n",
    "        cur = 0\n",
    "        result = 0\n",
    "    \n",
    "        while n:\n",
    "            if cur % 2 != 0:\n",
    "                result += n.data\n",
    "            cur += 1\n",
    "            n = n.next\n",
    "    \n",
    "        return result\n",
    "            \n",
    "        \n",
    "        \n",
    "Sll=SynglyLL()   "
   ]
  },
  {
   "cell_type": "code",
   "execution_count": 80,
   "id": "7a643579-fe84-42c5-a189-8cd36ecaae8c",
   "metadata": {},
   "outputs": [
    {
     "data": {
      "text/plain": [
       "22"
      ]
     },
     "execution_count": 80,
     "metadata": {},
     "output_type": "execute_result"
    }
   ],
   "source": [
    "Sll.get_odd_index_value()"
   ]
  },
  {
   "cell_type": "code",
   "execution_count": 79,
   "id": "1ac15268-d411-4fae-a6fc-3888a6a673aa",
   "metadata": {},
   "outputs": [
    {
     "name": "stdout",
     "output_type": "stream",
     "text": [
      "20 1 3 20 1 1 "
     ]
    }
   ],
   "source": [
    "Sll.print()"
   ]
  },
  {
   "cell_type": "code",
   "execution_count": 66,
   "id": "6096ff7d-48a1-4d09-85e9-cf657136a693",
   "metadata": {},
   "outputs": [],
   "source": [
    "Sll.replace_max(3)"
   ]
  },
  {
   "cell_type": "code",
   "execution_count": 648,
   "id": "5c6317f1-a3c5-4565-9146-2221186e5954",
   "metadata": {},
   "outputs": [],
   "source": [
    "# Sll.Reverse_k_element(0)"
   ]
  },
  {
   "cell_type": "code",
   "execution_count": 706,
   "id": "32ebe16b-8b4d-4f59-b696-64be4a3d3414",
   "metadata": {},
   "outputs": [
    {
     "data": {
      "text/plain": [
       "30"
      ]
     },
     "execution_count": 706,
     "metadata": {},
     "output_type": "execute_result"
    }
   ],
   "source": [
    "Sll.mid_of_sll()"
   ]
  },
  {
   "cell_type": "code",
   "execution_count": 78,
   "id": "7b784e82-3ad2-43dd-9340-3b3d4a354715",
   "metadata": {},
   "outputs": [],
   "source": [
    "Sll.insert_begin(1)\n",
    "Sll.insert_begin(1)\n",
    "Sll.insert_begin(20)\n",
    "Sll.insert_begin(3)\n",
    "Sll.insert_begin(1)\n",
    "Sll.insert_begin(20)\n"
   ]
  },
  {
   "cell_type": "code",
   "execution_count": 608,
   "id": "cc1b7d23-bddb-4af8-8b8f-41f370a0a19d",
   "metadata": {},
   "outputs": [],
   "source": [
    "Sll.Reverse()"
   ]
  },
  {
   "cell_type": "code",
   "execution_count": 36,
   "id": "94aea40c-decd-4ac6-97d9-8d0e784b8d5f",
   "metadata": {},
   "outputs": [
    {
     "name": "stdout",
     "output_type": "stream",
     "text": [
      "3 1 1 "
     ]
    }
   ],
   "source": [
    "Sll.print()"
   ]
  },
  {
   "cell_type": "code",
   "execution_count": 56,
   "id": "edc0e050-3159-4625-b444-60d19fa69913",
   "metadata": {},
   "outputs": [
    {
     "name": "stdout",
     "output_type": "stream",
     "text": [
      "20 10 30 "
     ]
    }
   ],
   "source": [
    "Sll.print()"
   ]
  },
  {
   "cell_type": "code",
   "execution_count": 572,
   "id": "af374a0c-384f-4635-8192-43ecf44b0adc",
   "metadata": {},
   "outputs": [],
   "source": [
    "Sll.delete_by_index(1)"
   ]
  },
  {
   "cell_type": "code",
   "execution_count": 594,
   "id": "a1a4bb68-8ab5-4d57-8121-74883ad05df4",
   "metadata": {},
   "outputs": [
    {
     "name": "stdout",
     "output_type": "stream",
     "text": [
      "23 2 4 3 "
     ]
    }
   ],
   "source": [
    "Sll.print()"
   ]
  },
  {
   "cell_type": "code",
   "execution_count": 8,
   "id": "77c91097-7a5f-4d6b-bc4d-0e3eae828ab7",
   "metadata": {},
   "outputs": [
    {
     "name": "stdout",
     "output_type": "stream",
     "text": [
      "20 10 30 "
     ]
    }
   ],
   "source": [
    "Sll.print()"
   ]
  },
  {
   "cell_type": "code",
   "execution_count": 700,
   "id": "93f906b8-a1cc-4cf8-b5ba-0f882cb689ee",
   "metadata": {},
   "outputs": [],
   "source": [
    "Sll.insert_mid(23)\n",
    "Sll.insert_mid(3)\n"
   ]
  },
  {
   "cell_type": "code",
   "execution_count": null,
   "id": "6ea3d0c4-f377-4b09-b57b-2ed56954197d",
   "metadata": {},
   "outputs": [],
   "source": []
  },
  {
   "cell_type": "code",
   "execution_count": null,
   "id": "5ea956cb-e2fb-434c-a4ce-14b1b9e865b4",
   "metadata": {},
   "outputs": [],
   "source": []
  },
  {
   "cell_type": "code",
   "execution_count": 375,
   "id": "d686fed1-4912-4a9a-a305-9a0ebab476d2",
   "metadata": {},
   "outputs": [
    {
     "name": "stdout",
     "output_type": "stream",
     "text": [
      "3\n"
     ]
    }
   ],
   "source": [
    "Sll.search_by_index(3)"
   ]
  },
  {
   "cell_type": "code",
   "execution_count": 576,
   "id": "77682589-fbe9-46ad-b1d2-2cb0d3ad0bdf",
   "metadata": {},
   "outputs": [
    {
     "name": "stdout",
     "output_type": "stream",
     "text": [
      "23 "
     ]
    }
   ],
   "source": [
    "Sll.print()"
   ]
  },
  {
   "cell_type": "code",
   "execution_count": 469,
   "id": "46e082db-99dc-43bb-9a32-7878bcf4bb67",
   "metadata": {},
   "outputs": [
    {
     "data": {
      "text/plain": [
       "1"
      ]
     },
     "execution_count": 469,
     "metadata": {},
     "output_type": "execute_result"
    }
   ],
   "source": [
    "Sll.len()"
   ]
  },
  {
   "cell_type": "code",
   "execution_count": 368,
   "id": "1d02d05e-0ba4-4b4c-8f2d-82358710d62f",
   "metadata": {},
   "outputs": [],
   "source": [
    "Sll.insert_mid(23)\n",
    "Sll.insert_mid(3)\n",
    "Sll.insert_mid(2)\n",
    "Sll.insert_mid(4)"
   ]
  },
  {
   "cell_type": "code",
   "execution_count": 225,
   "id": "04ab3ea3-614a-4a80-bec9-0980f49631ae",
   "metadata": {},
   "outputs": [
    {
     "name": "stdout",
     "output_type": "stream",
     "text": [
      "2 is present at index 1\n"
     ]
    }
   ],
   "source": [
    "Sll.search(2)"
   ]
  },
  {
   "cell_type": "code",
   "execution_count": null,
   "id": "3ba7e7a2-0523-4b6b-a368-3b72556e3521",
   "metadata": {},
   "outputs": [],
   "source": []
  },
  {
   "cell_type": "code",
   "execution_count": 168,
   "id": "59f22499-e967-44c9-aabb-acb2bc0b49f4",
   "metadata": {},
   "outputs": [],
   "source": [
    "Sll.delete_Node(23)"
   ]
  },
  {
   "cell_type": "code",
   "execution_count": 268,
   "id": "8bf98093-7348-48c3-ae22-2f26418461de",
   "metadata": {},
   "outputs": [
    {
     "name": "stdout",
     "output_type": "stream",
     "text": [
      "23 3 23 2 "
     ]
    }
   ],
   "source": [
    "Sll.print()"
   ]
  },
  {
   "cell_type": "code",
   "execution_count": 163,
   "id": "752d1e91-fd3e-49a1-a05b-10fc0aa05f0c",
   "metadata": {},
   "outputs": [],
   "source": [
    "Sll.remove_end()"
   ]
  },
  {
   "cell_type": "code",
   "execution_count": 223,
   "id": "60a05ba7-b240-4b6b-8482-985c00d99db1",
   "metadata": {},
   "outputs": [],
   "source": []
  },
  {
   "cell_type": "code",
   "execution_count": 194,
   "id": "d135b2b2-3432-4c50-a0f1-af380aaf5372",
   "metadata": {},
   "outputs": [
    {
     "name": "stdout",
     "output_type": "stream",
     "text": [
      "23 node is not present in SLL or SLL is Empty!\n"
     ]
    }
   ],
   "source": [
    "Sll.insert_after(0,23)"
   ]
  },
  {
   "cell_type": "code",
   "execution_count": 110,
   "id": "cc603b46-4f8e-47aa-ae49-17e779bd9cdb",
   "metadata": {},
   "outputs": [
    {
     "data": {
      "text/plain": [
       "0"
      ]
     },
     "execution_count": 110,
     "metadata": {},
     "output_type": "execute_result"
    }
   ],
   "source": [
    "Sll.len()"
   ]
  },
  {
   "cell_type": "code",
   "execution_count": 129,
   "id": "3ab47c1b-3535-4800-91c9-c17a7acd02b7",
   "metadata": {},
   "outputs": [
    {
     "data": {
      "text/plain": [
       "'SLL is Empty!'"
      ]
     },
     "execution_count": 129,
     "metadata": {},
     "output_type": "execute_result"
    }
   ],
   "source": [
    "Sll.print()"
   ]
  },
  {
   "cell_type": "code",
   "execution_count": 663,
   "id": "248f88f4-c111-472d-a582-52a6018ed4ec",
   "metadata": {},
   "outputs": [],
   "source": [
    "Sll.clear()"
   ]
  },
  {
   "cell_type": "code",
   "execution_count": 551,
   "id": "3b9a59ca-b19d-4feb-acd0-812c423b8580",
   "metadata": {},
   "outputs": [],
   "source": [
    "Sll.insert_begin(30)"
   ]
  },
  {
   "cell_type": "code",
   "execution_count": 184,
   "id": "1afa28d4-46bd-46ff-b493-12f7552bc94e",
   "metadata": {},
   "outputs": [
    {
     "name": "stdout",
     "output_type": "stream",
     "text": [
      "14 14 "
     ]
    },
    {
     "data": {
      "text/plain": [
       "2"
      ]
     },
     "execution_count": 184,
     "metadata": {},
     "output_type": "execute_result"
    }
   ],
   "source": [
    "Sll.print()\n",
    "Sll.len()"
   ]
  },
  {
   "cell_type": "code",
   "execution_count": 556,
   "id": "b1c580f6-4d86-49fb-b30b-f5d4a89b6abc",
   "metadata": {},
   "outputs": [],
   "source": [
    "Sll.insert_end(11)"
   ]
  },
  {
   "cell_type": "code",
   "execution_count": 170,
   "id": "0e2aa244-7b46-4300-9b5e-abe2d6f94a60",
   "metadata": {},
   "outputs": [
    {
     "name": "stdout",
     "output_type": "stream",
     "text": [
      "21 Node is not present in LL!\n"
     ]
    }
   ],
   "source": [
    "Sll.insert_by_value(25,21)\n"
   ]
  },
  {
   "cell_type": "code",
   "execution_count": null,
   "id": "7f673360-4dd5-4184-a62a-18eba6a4d8ad",
   "metadata": {},
   "outputs": [],
   "source": []
  },
  {
   "cell_type": "code",
   "execution_count": null,
   "id": "3eb3fd97-5ceb-48bb-a12c-263e4d16735c",
   "metadata": {},
   "outputs": [],
   "source": []
  },
  {
   "cell_type": "code",
   "execution_count": 405,
   "id": "724d0353-a06f-41ec-ac65-0a8c48e4ae67",
   "metadata": {},
   "outputs": [
    {
     "data": {
      "text/plain": [
       "27"
      ]
     },
     "execution_count": 405,
     "metadata": {},
     "output_type": "execute_result"
    }
   ],
   "source": [
    "b=53\n",
    "result = b // 2  # This will result in 1\n",
    "if b % 2 == 1:   # Check if there's a remainder\n",
    "    result += 1  # Add 1 to the result\n",
    "result"
   ]
  },
  {
   "cell_type": "code",
   "execution_count": null,
   "id": "f1f940d7-f7ad-495d-9ab8-4d7ab2d5ac81",
   "metadata": {},
   "outputs": [],
   "source": []
  },
  {
   "cell_type": "code",
   "execution_count": 426,
   "id": "9440974a-c712-41d9-bf62-f37c169dce9e",
   "metadata": {},
   "outputs": [
    {
     "data": {
      "text/plain": [
       "26"
      ]
     },
     "execution_count": 426,
     "metadata": {},
     "output_type": "execute_result"
    }
   ],
   "source": [
    "mid=53//2\n",
    "if mid % 2 == 1:   # Check if there's a remainder\n",
    "    mid += 1  # Add 1 to the result\n",
    "mid"
   ]
  },
  {
   "cell_type": "code",
   "execution_count": 421,
   "id": "ca2f4d66-7820-49da-b926-ad5367290144",
   "metadata": {},
   "outputs": [
    {
     "data": {
      "text/plain": [
       "1"
      ]
     },
     "execution_count": 421,
     "metadata": {},
     "output_type": "execute_result"
    }
   ],
   "source": [
    "3//2"
   ]
  },
  {
   "cell_type": "code",
   "execution_count": 451,
   "id": "5ece34a5-449f-4df6-8a0f-72f2cb3f1448",
   "metadata": {},
   "outputs": [],
   "source": [
    "n=53//2\n",
    "m = 53 # This results in m = 26\n",
    "if m % 2 == 1:  # Checks if m is odd\n",
    "    n += 1  # Increments m by 1 if it's odd"
   ]
  },
  {
   "cell_type": "code",
   "execution_count": 452,
   "id": "ba114919-8760-48d7-9f4f-98a4b1d71238",
   "metadata": {},
   "outputs": [
    {
     "data": {
      "text/plain": [
       "27"
      ]
     },
     "execution_count": 452,
     "metadata": {},
     "output_type": "execute_result"
    }
   ],
   "source": [
    "n"
   ]
  },
  {
   "cell_type": "code",
   "execution_count": 448,
   "id": "c0190adf-4a01-4d79-a9f6-81cfc3db8a9e",
   "metadata": {},
   "outputs": [
    {
     "data": {
      "text/plain": [
       "26"
      ]
     },
     "execution_count": 448,
     "metadata": {},
     "output_type": "execute_result"
    }
   ],
   "source": [
    "m"
   ]
  },
  {
   "cell_type": "code",
   "execution_count": 40,
   "id": "5120a887-08f7-4606-90f0-a5ae487a6552",
   "metadata": {},
   "outputs": [],
   "source": [
    "class Node:\n",
    "    def __init__(self,data):\n",
    "        self.data=data\n",
    "        self.next=None\n",
    "        \n",
    "class SinglyLL:\n",
    "    def __init__(self):\n",
    "        self.head=None\n",
    "\n",
    "    def insert_begin(self,data):\n",
    "        new_node=Node(data)\n",
    "        if self.head is None:\n",
    "            self.head=new_node\n",
    "            return\n",
    "        new_node.next=self.head\n",
    "        self.head=new_node\n",
    "\n",
    "    def insert_end(self,data):\n",
    "        new_node=Node(data)\n",
    "        if self.head is None:\n",
    "            self.head=new_node\n",
    "            return\n",
    "        n=self.head\n",
    "        while n.next is not None:\n",
    "            n=n.next\n",
    "        n.next=new_node\n",
    "        \n",
    "    def _print(self):\n",
    "        if self.head is None:\n",
    "            return \"linked list is Empty!\"\n",
    "        else:\n",
    "            n=self.head\n",
    "            while n is not None:\n",
    "                print(n.data, end=' ')\n",
    "                n=n.next\n",
    "            print()\n",
    "            \n",
    "    def len(self):\n",
    "        if self.head is None: return 0\n",
    "        n=self.head\n",
    "        count=0\n",
    "        while n:\n",
    "            count+=1\n",
    "            n=n.next\n",
    "        return count\n",
    "        \n",
    "            \n",
    "    def Reverse(self):\n",
    "        prev=None\n",
    "        curr=self.head\n",
    "        for i in range(self.len()):\n",
    "            temp=curr.next\n",
    "            curr.next=prev\n",
    "            prev=curr\n",
    "            curr=temp\n",
    "        self.head=prev\n",
    "    \n",
    "        \n",
    "sll=SinglyLL()"
   ]
  },
  {
   "cell_type": "code",
   "execution_count": null,
   "id": "0c846d35-fdd3-4b8e-9944-268adfeca393",
   "metadata": {},
   "outputs": [],
   "source": []
  },
  {
   "cell_type": "code",
   "execution_count": null,
   "id": "73555790-8d4c-4099-a2b6-b7b09d1f9da5",
   "metadata": {},
   "outputs": [],
   "source": []
  },
  {
   "cell_type": "code",
   "execution_count": null,
   "id": "2f9886f8-6213-4967-9284-dd17c2e1f77c",
   "metadata": {},
   "outputs": [],
   "source": []
  },
  {
   "cell_type": "code",
   "execution_count": null,
   "id": "d3b0111f-7911-4d12-8820-fdc684ddc0ec",
   "metadata": {},
   "outputs": [],
   "source": []
  },
  {
   "cell_type": "code",
   "execution_count": 46,
   "id": "8fbb9b97-777d-4d4f-b9e1-78268d058e31",
   "metadata": {},
   "outputs": [],
   "source": [
    "sll.insert_begin(1)\n",
    "sll.insert_begin(2)\n",
    "sll.insert_begin(3)\n",
    "sll.insert_begin(4)\n",
    "sll.insert_begin(5)"
   ]
  },
  {
   "cell_type": "code",
   "execution_count": 47,
   "id": "c5f1e179-53fb-419c-abb2-ecfcb4137942",
   "metadata": {},
   "outputs": [
    {
     "name": "stdout",
     "output_type": "stream",
     "text": [
      "5 4 3 2 1 1 2 3 4 5 \n"
     ]
    }
   ],
   "source": [
    "sll._print()"
   ]
  },
  {
   "cell_type": "code",
   "execution_count": 48,
   "id": "2a8c3f9a-6159-42a2-8b64-94e71a1d0a8f",
   "metadata": {},
   "outputs": [
    {
     "data": {
      "text/plain": [
       "10"
      ]
     },
     "execution_count": 48,
     "metadata": {},
     "output_type": "execute_result"
    }
   ],
   "source": [
    "sll.len()"
   ]
  },
  {
   "cell_type": "code",
   "execution_count": 49,
   "id": "869761fd-7980-4852-9bff-12d0fe5d7bf7",
   "metadata": {},
   "outputs": [],
   "source": [
    "sll.Reverse()"
   ]
  },
  {
   "cell_type": "code",
   "execution_count": 50,
   "id": "585d75ee-2fb6-4368-8d7e-152e615faeca",
   "metadata": {},
   "outputs": [
    {
     "name": "stdout",
     "output_type": "stream",
     "text": [
      "5 4 3 2 1 1 2 3 4 5 \n"
     ]
    }
   ],
   "source": [
    "sll._print()"
   ]
  },
  {
   "cell_type": "markdown",
   "id": "e6356f84-7b6e-400d-bca0-7ee0726ddb50",
   "metadata": {},
   "source": [
    "## **Problem Statement:**\n",
    "\n",
    "Given a singly linked list containing characters, write a Python function to return a new string created by appending all the characters from the linked list following these rules:\n",
    "\n",
    "1. Replace '*' or '/' with a single space.\n",
    "2. If there are two consecutive occurrences of '*' or '/', replace those occurrences with a single space and convert the next character to uppercase.\n",
    "   \n",
    "Assumptions:\n",
    "\n",
    "- There will not be more than two consecutive occurrences of '*' or '/'.\n",
    "- The linked list will always end with an alphabet.\n",
    "\n",
    "**Example:**\n",
    "\n",
    "Input Linked List: A, n, *, /, a, p, ., p, l, e, *, a, /, d, a, y, *, *, k, e, e, p, s, ., /, ., *, a, /, /, d, o, c, t, o, r, *, A, w, a, y\n",
    "\n",
    "Output: \"AN APPLE A DAY KEEPS AWAY\""
   ]
  },
  {
   "cell_type": "code",
   "execution_count": 100,
   "id": "5e2c752f-dc87-44af-a408-71ba4eea7fae",
   "metadata": {},
   "outputs": [],
   "source": [
    "class Node:\n",
    "    def __init__(self,data):\n",
    "        self.data=data\n",
    "        self.next=None\n",
    "        \n",
    "class SinglyLL:\n",
    "    def __init__(self):\n",
    "        self.head=None\n",
    "\n",
    "    def insert_begin(self,data):\n",
    "        new_node=Node(data)\n",
    "        if self.head is None:\n",
    "            self.head=new_node\n",
    "            return\n",
    "        new_node.next=self.head\n",
    "        self.head=new_node\n",
    "\n",
    "    def insert_end(self,data):\n",
    "        new_node=Node(data)\n",
    "        if self.head is None:\n",
    "            self.head=new_node\n",
    "            return\n",
    "        n=self.head\n",
    "        while n.next is not None:\n",
    "            n=n.next\n",
    "        n.next=new_node\n",
    "        \n",
    "    def _print(self):\n",
    "        if self.head is None:\n",
    "            return \"linked list is Empty!\"\n",
    "        else:\n",
    "            n=self.head\n",
    "            while n is not None:\n",
    "                print(n.data, end='')\n",
    "                n=n.next\n",
    "            print()\n",
    "            \n",
    "    def len(self):\n",
    "        if self.head is None: return 0\n",
    "        n=self.head\n",
    "        count=0\n",
    "        while n:\n",
    "            count+=1\n",
    "            n=n.next\n",
    "        return count\n",
    "        \n",
    "            \n",
    "    def Reverse(self):\n",
    "        prev=None\n",
    "        curr=self.head\n",
    "        for i in range(self.len()):\n",
    "            temp=curr.next\n",
    "            curr.next=prev\n",
    "            prev=curr\n",
    "            curr=temp\n",
    "        self.head=prev\n",
    "    \n",
    "    def change_sentence(self):\n",
    "        if self.head is None: return \"Empty LL!\"\n",
    "        n= self.head\n",
    "        while n:\n",
    "            if n.data== \"*\" or n.data==\"/\":\n",
    "                n.data=\" \"\n",
    "                if n.next.data== \"*\" or n.next.data== \"/\":\n",
    "                    n.next.next.data=n.next.next.data.upper()\n",
    "                    n.next=n.next.next\n",
    "            n=n.next\n",
    "        \n",
    "Sl=SinglyLL()"
   ]
  },
  {
   "cell_type": "code",
   "execution_count": 101,
   "id": "ad5f6f83-4460-4630-a68f-18bc2e910cef",
   "metadata": {},
   "outputs": [
    {
     "data": {
      "text/plain": [
       "'linked list is Empty!'"
      ]
     },
     "execution_count": 101,
     "metadata": {},
     "output_type": "execute_result"
    }
   ],
   "source": [
    "Sl._print()"
   ]
  },
  {
   "cell_type": "code",
   "execution_count": 102,
   "id": "3b08210c-d854-4551-879a-4dd6180d14fa",
   "metadata": {},
   "outputs": [],
   "source": [
    "Sl.insert_end('A')\n",
    "Sl.insert_end('n')\n",
    "Sl.insert_end('*')\n",
    "Sl.insert_end('/')\n",
    "Sl.insert_end('a')\n",
    "Sl.insert_end('p')\n",
    "Sl.insert_end('p')\n",
    "Sl.insert_end('l')\n",
    "Sl.insert_end('e')\n",
    "Sl.insert_end('*')\n",
    "Sl.insert_end('a')\n",
    "Sl.insert_end('/')\n",
    "Sl.insert_end('d')\n",
    "Sl.insert_end('a')\n",
    "Sl.insert_end('y')\n",
    "Sl.insert_end('*')\n",
    "Sl.insert_end('*')\n",
    "Sl.insert_end('k')\n",
    "Sl.insert_end('e')\n",
    "Sl.insert_end('e')\n",
    "Sl.insert_end('p')\n",
    "Sl.insert_end('s')\n",
    "Sl.insert_end('/')\n",
    "Sl.insert_end('*')\n",
    "Sl.insert_end('a')\n",
    "Sl.insert_end('/')\n",
    "Sl.insert_end('/')\n",
    "Sl.insert_end('d')\n",
    "Sl.insert_end('o')\n",
    "Sl.insert_end('c')\n",
    "Sl.insert_end('t')\n",
    "Sl.insert_end('o')\n",
    "Sl.insert_end('r')\n",
    "Sl.insert_end('*')\n",
    "Sl.insert_end('A')\n",
    "Sl.insert_end('w')\n",
    "Sl.insert_end('a')\n",
    "Sl.insert_end('y')"
   ]
  },
  {
   "cell_type": "code",
   "execution_count": 103,
   "id": "1f4e88a0-bd2c-41b0-947f-fc46158021f6",
   "metadata": {},
   "outputs": [
    {
     "name": "stdout",
     "output_type": "stream",
     "text": [
      "An*/apple*a/day**keeps/*a//doctor*Away\n"
     ]
    }
   ],
   "source": [
    "Sl._print()"
   ]
  },
  {
   "cell_type": "code",
   "execution_count": 104,
   "id": "f1271771-181d-49da-959b-2855a43674be",
   "metadata": {},
   "outputs": [],
   "source": [
    "Sl.change_sentence()"
   ]
  },
  {
   "cell_type": "code",
   "execution_count": 105,
   "id": "d3d804f6-7c27-4740-b8a6-922009ac7c32",
   "metadata": {},
   "outputs": [
    {
     "name": "stdout",
     "output_type": "stream",
     "text": [
      "An Apple a day Keeps A Doctor Away\n"
     ]
    }
   ],
   "source": [
    "Sl._print()"
   ]
  },
  {
   "cell_type": "code",
   "execution_count": 100,
   "id": "6101b892-75d0-491c-a1fa-6d72f2ec3a0d",
   "metadata": {},
   "outputs": [],
   "source": [
    "# https://leetcode.com/problems/double-a-number-represented-as-a-linked-list/description/\n",
    "\n",
    "# Definition for singly-linked list.\n",
    "class ListNode:\n",
    "    def __init__(self, val=0, next=None):\n",
    "        self.val = val\n",
    "        self.next = next\n",
    "class Solution:\n",
    "    def __init__(self) -> None:\n",
    "        self.head=None\n",
    "\n",
    "    def insert(self,x):\n",
    "        new_node=ListNode(x)\n",
    "        new_node.next=self.head\n",
    "        self.head=new_node\n",
    "\n",
    "    def print(self):\n",
    "        if self.head is not None:\n",
    "            n=self.head\n",
    "            while n:\n",
    "                print(n.val,end=' ')\n",
    "                n=n.next\n",
    "\n",
    "    def clear(self):\n",
    "        self.head=None\n",
    "\n",
    "    def doubleIt(self):\n",
    "        list=[]\n",
    "        n=self.head\n",
    "        while n:\n",
    "            list.append(n.val)\n",
    "            n=n.next\n",
    "        self.clear()\n",
    "        result = [int(''.join(map(str, list)))]\n",
    "        for i in result:\n",
    "            a = i * 2\n",
    "        result1 = [int(digit) for digit in str(a)]\n",
    "        reult1=result1[::-1]\n",
    "        for i in result1:\n",
    "            self.insert(i)\n",
    "        return self.print()\n",
    "      \n",
    "\n",
    "\n",
    "\n",
    "s=Solution()"
   ]
  },
  {
   "cell_type": "code",
   "execution_count": 104,
   "id": "43e17bc9-099f-4f5a-bcfc-3b1f63428564",
   "metadata": {},
   "outputs": [],
   "source": [
    "s.insert(13)"
   ]
  },
  {
   "cell_type": "code",
   "execution_count": 105,
   "id": "0aeca022-0635-4d07-9bc6-deccbdacf325",
   "metadata": {},
   "outputs": [
    {
     "name": "stdout",
     "output_type": "stream",
     "text": [
      "13 6 "
     ]
    }
   ],
   "source": [
    "s.print()"
   ]
  },
  {
   "cell_type": "code",
   "execution_count": 106,
   "id": "984dd3a0-46f9-409a-bb8b-fca6fca304b6",
   "metadata": {},
   "outputs": [
    {
     "name": "stdout",
     "output_type": "stream",
     "text": [
      "2 7 2 "
     ]
    }
   ],
   "source": [
    "s.doubleIt()"
   ]
  },
  {
   "cell_type": "code",
   "execution_count": 183,
   "id": "90965987-2e8a-4085-a63e-a6c4f766d3ae",
   "metadata": {},
   "outputs": [],
   "source": [
    "# https://www.geeksforgeeks.org/reverse-a-linked-list/\n",
    "\n",
    "class Node:\n",
    "    def __init__(self, data):\n",
    "        self.data = data\n",
    "        self.next = None\n",
    "\n",
    "class LinkedList:\n",
    "    def __init__(self):\n",
    "        self.head = None\n",
    "        self.tail = None\n",
    "\n",
    "    def insert_begin(self, data):\n",
    "        new_node = Node(data)\n",
    "        if self.head is None:\n",
    "            self.head = new_node\n",
    "            self.tail = new_node\n",
    "        else:\n",
    "            new_node.next = self.head\n",
    "            self.head = new_node\n",
    "\n",
    "    def insert_end(self, data):\n",
    "        new_node = Node(data)\n",
    "        if self.head is None:\n",
    "            self.head = new_node\n",
    "            self.tail = new_node\n",
    "        else:\n",
    "            self.tail.next = new_node\n",
    "            self.tail = new_node\n",
    "\n",
    "    def print(self):\n",
    "        current = self.head\n",
    "        while current:\n",
    "            print(current.data, end=' ')\n",
    "            current = current.next\n",
    "        print()\n",
    "        \n",
    "    def Reverse(self):\n",
    "        if self.head is None:\n",
    "            return \"LL Empty!\"\n",
    "        current = self.head\n",
    "        prev = None\n",
    "        while current is not None:\n",
    "            next_node = current.next\n",
    "            current.next = prev\n",
    "            prev = current\n",
    "            current = next_node\n",
    "\n",
    "        self.head = prev\n",
    "        return prev\n",
    "\n",
    "    def rotate(self, k):\n",
    "        pass\n",
    "        \n",
    "    def clear(self):\n",
    "        self.head=None\n",
    "\n",
    "S=LinkedList()"
   ]
  },
  {
   "cell_type": "code",
   "execution_count": 171,
   "id": "2197c32d-c770-48b8-829b-b7fa7f688d3d",
   "metadata": {},
   "outputs": [
    {
     "name": "stdout",
     "output_type": "stream",
     "text": [
      "\n"
     ]
    }
   ],
   "source": [
    "S.print()"
   ]
  },
  {
   "cell_type": "code",
   "execution_count": 186,
   "id": "21542d1a-b4aa-4a8c-ad4b-3e401c3c235d",
   "metadata": {},
   "outputs": [],
   "source": [
    "S.insert_begin(14)"
   ]
  },
  {
   "cell_type": "code",
   "execution_count": 187,
   "id": "73f997d4-c344-4b6e-8747-5c4c6669a2e8",
   "metadata": {},
   "outputs": [
    {
     "name": "stdout",
     "output_type": "stream",
     "text": [
      "14 4 \n"
     ]
    }
   ],
   "source": [
    "S.print()"
   ]
  },
  {
   "cell_type": "code",
   "execution_count": 188,
   "id": "fb3a9753-4a13-414f-bf4e-bcbd4a32e911",
   "metadata": {},
   "outputs": [],
   "source": [
    "S.insert_end(17)"
   ]
  },
  {
   "cell_type": "code",
   "execution_count": 189,
   "id": "1eb243ae-78c2-412c-81f8-324817a70e53",
   "metadata": {},
   "outputs": [
    {
     "name": "stdout",
     "output_type": "stream",
     "text": [
      "14 4 17 \n"
     ]
    }
   ],
   "source": [
    "S.print()"
   ]
  },
  {
   "cell_type": "code",
   "execution_count": null,
   "id": "0f575684-2ef2-4b18-ae78-57dd64a3e290",
   "metadata": {},
   "outputs": [],
   "source": []
  }
 ],
 "metadata": {
  "kernelspec": {
   "display_name": "Python 3 (ipykernel)",
   "language": "python",
   "name": "python3"
  },
  "language_info": {
   "codemirror_mode": {
    "name": "ipython",
    "version": 3
   },
   "file_extension": ".py",
   "mimetype": "text/x-python",
   "name": "python",
   "nbconvert_exporter": "python",
   "pygments_lexer": "ipython3",
   "version": "3.11.7"
  }
 },
 "nbformat": 4,
 "nbformat_minor": 5
}
