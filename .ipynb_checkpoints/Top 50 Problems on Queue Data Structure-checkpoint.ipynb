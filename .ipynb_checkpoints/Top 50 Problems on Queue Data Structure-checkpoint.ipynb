{
 "cells": [
  {
   "cell_type": "markdown",
   "id": "8b59ad82-9b19-4c34-8fee-c345bffd1986",
   "metadata": {},
   "source": [
    "# 1. Array implementation of queue (Simple)"
   ]
  },
  {
   "cell_type": "code",
   "execution_count": 1,
   "id": "6e0d3385-5de8-4c33-80f8-bbccb118c7f7",
   "metadata": {},
   "outputs": [],
   "source": [
    "from collections import deque"
   ]
  },
  {
   "cell_type": "code",
   "execution_count": 96,
   "id": "9484ad99-eac5-48e7-a633-3c9cf1c84652",
   "metadata": {},
   "outputs": [],
   "source": [
    "class Queue:\n",
    "    def __init__(self,size):\n",
    "        self.size=size\n",
    "        self.queue=deque()\n",
    "        \n",
    "    def _print(self):\n",
    "        return self.queue\n",
    "\n",
    "    def Enqueue(self,data):\n",
    "        if self.size==len(self.queue):\n",
    "            return \"Queue is size Full can't insert!\"\n",
    "        print(f\"Element added: {data}\")\n",
    "        self.queue.append(data)\n",
    "\n",
    "    def dequeue(self):\n",
    "        if len(self.queue)== 0:\n",
    "            return \"Queue is Empty!\"\n",
    "        else:\n",
    "            print(f\"Element deleted from Queue is {self.queue[0]}\")\n",
    "            self.queue.popleft()\n",
    "        \n",
    "Q=Queue(5)"
   ]
  },
  {
   "cell_type": "code",
   "execution_count": 112,
   "id": "3c2b164c-c7e0-42e8-aa2d-0fcc8b9a9de8",
   "metadata": {},
   "outputs": [
    {
     "data": {
      "text/plain": [
       "deque([])"
      ]
     },
     "execution_count": 112,
     "metadata": {},
     "output_type": "execute_result"
    }
   ],
   "source": [
    "Q._print()"
   ]
  },
  {
   "cell_type": "code",
   "execution_count": 105,
   "id": "d5a29f9f-7b66-4fa3-b6e0-167d7ff440b2",
   "metadata": {},
   "outputs": [
    {
     "name": "stdout",
     "output_type": "stream",
     "text": [
      "Element added: 5\n"
     ]
    }
   ],
   "source": [
    "Q.Enqueue(5)"
   ]
  },
  {
   "cell_type": "code",
   "execution_count": 111,
   "id": "65f5222f-d434-4714-b78f-38bd00cef97c",
   "metadata": {},
   "outputs": [
    {
     "data": {
      "text/plain": [
       "'Queue is Empty!'"
      ]
     },
     "execution_count": 111,
     "metadata": {},
     "output_type": "execute_result"
    }
   ],
   "source": [
    "Q.dequeue()"
   ]
  },
  {
   "cell_type": "markdown",
   "id": "c8538fd8-8fab-4dca-8b86-f587f5e8da8d",
   "metadata": {},
   "source": [
    "## 2. Removing the first K elements of a Queue"
   ]
  },
  {
   "cell_type": "code",
   "execution_count": 113,
   "id": "37d7ff6f-651f-4f73-b124-f4cf226bac6b",
   "metadata": {},
   "outputs": [],
   "source": [
    "class Queue:\n",
    "    def __init__(self,size):\n",
    "        self.size=size\n",
    "        self.queue=deque()\n",
    "        \n",
    "    def _print(self):\n",
    "        return self.queue\n",
    "\n",
    "    def Enqueue(self,data):\n",
    "        if self.size==len(self.queue):\n",
    "            return \"Queue is size Full can't insert!\"\n",
    "        print(f\"Element added: {data}\")\n",
    "        self.queue.append(data)\n",
    "\n",
    "    def dequeue(self,k):\n",
    "        if len(self.queue)== 0:\n",
    "            return \"Queue is Empty!\"\n",
    "        else:\n",
    "            for i in range(k):\n",
    "                print(f\"Element deleted from Queue is {self.queue[0]}\")\n",
    "                self.queue.popleft()\n",
    "        \n",
    "Q=Queue(5)"
   ]
  },
  {
   "cell_type": "code",
   "execution_count": 122,
   "id": "ba8a941b-a049-4098-b911-0d98acda7c75",
   "metadata": {},
   "outputs": [
    {
     "name": "stdout",
     "output_type": "stream",
     "text": [
      "Element deleted from Queue is 1\n",
      "Element deleted from Queue is 2\n",
      "Element deleted from Queue is 3\n"
     ]
    }
   ],
   "source": [
    "Q.dequeue(3)"
   ]
  },
  {
   "cell_type": "code",
   "execution_count": 116,
   "id": "b4b1b3a8-cc15-46ac-b5f6-134631e06ff9",
   "metadata": {},
   "outputs": [
    {
     "name": "stdout",
     "output_type": "stream",
     "text": [
      "Element added: 1\n"
     ]
    }
   ],
   "source": [
    "Q.Enqueue(1)"
   ]
  },
  {
   "cell_type": "code",
   "execution_count": 121,
   "id": "d28ad93b-f8cd-43a6-a120-2e47948cfacd",
   "metadata": {},
   "outputs": [
    {
     "data": {
      "text/plain": [
       "\"Queue is size Full can't insert!\""
      ]
     },
     "execution_count": 121,
     "metadata": {},
     "output_type": "execute_result"
    }
   ],
   "source": [
    "Q.Enqueue(6)"
   ]
  },
  {
   "cell_type": "code",
   "execution_count": 123,
   "id": "7aa77ea7-60fc-4716-b3fb-093d11d925cd",
   "metadata": {},
   "outputs": [
    {
     "data": {
      "text/plain": [
       "deque([4, 5])"
      ]
     },
     "execution_count": 123,
     "metadata": {},
     "output_type": "execute_result"
    }
   ],
   "source": [
    "Q._print()"
   ]
  },
  {
   "cell_type": "markdown",
   "id": "e24c532d-c5c2-4f6e-9133-cd5786fc5b8e",
   "metadata": {},
   "source": [
    "## 3. Reversing the first K elements of a Queue"
   ]
  },
  {
   "cell_type": "code",
   "execution_count": 305,
   "id": "4c85d6bb-5539-40ef-924d-2659e25c231a",
   "metadata": {},
   "outputs": [],
   "source": [
    "class Queue:\n",
    "    def __init__(self):\n",
    "        self.queue=deque([10, 20, 30, 40, 50, 60, 70, 80, 90, 100])\n",
    "        \n",
    "    def _print(self):\n",
    "        return self.queue\n",
    "\n",
    "    def Enqueue(data):\n",
    "        print(f\"Element added: {data}\")\n",
    "        self.queue.append(data)\n",
    "\n",
    "    def dequeue(self):\n",
    "        if len(self.queue)== 0:\n",
    "            return \"Queue is Empty!\"\n",
    "        else:\n",
    "            print(f\"Element deleted from Queue is {self.queue[0]}\")\n",
    "            self.queue.popleft()\n",
    "            \n",
    "    def ReverseK(self, K):\n",
    "        if K <= 0:\n",
    "            return \"Invalid value of K\"\n",
    "        for i in range(K // 2):  \n",
    "            self.queue[i], self.queue[K - i - 1] = self.queue[K - i - 1], self.queue[i]\n",
    "        return self.queue\n",
    "\n",
    "Q=Queue()"
   ]
  },
  {
   "cell_type": "code",
   "execution_count": 306,
   "id": "6e9f9ba7-0177-4afb-a0af-9e6b56411f3e",
   "metadata": {},
   "outputs": [
    {
     "data": {
      "text/plain": [
       "deque([10, 20, 30, 40, 50, 60, 70, 80, 90, 100])"
      ]
     },
     "execution_count": 306,
     "metadata": {},
     "output_type": "execute_result"
    }
   ],
   "source": [
    "Q._print()"
   ]
  },
  {
   "cell_type": "code",
   "execution_count": 307,
   "id": "6e96adb1-d36f-4a98-bc88-6e4767529f47",
   "metadata": {},
   "outputs": [
    {
     "data": {
      "text/plain": [
       "deque([40, 30, 20, 10, 50, 60, 70, 80, 90, 100])"
      ]
     },
     "execution_count": 307,
     "metadata": {},
     "output_type": "execute_result"
    }
   ],
   "source": [
    "Q.ReverseK(4)"
   ]
  },
  {
   "cell_type": "code",
   "execution_count": null,
   "id": "ea8320f2-2224-485a-a98f-ad5b346a66a9",
   "metadata": {},
   "outputs": [],
   "source": []
  },
  {
   "cell_type": "code",
   "execution_count": 309,
   "id": "97f000e8-12fc-4b1f-ad62-a1789ef28221",
   "metadata": {},
   "outputs": [
    {
     "name": "stdout",
     "output_type": "stream",
     "text": [
      "50 40 30 20 10 60 70 80 90 100 "
     ]
    }
   ],
   "source": [
    "def reverse_first_k(q, k):\n",
    "\tsolve(q, k)\n",
    "\ts = len(q) - k\n",
    "\tfor _ in range(s):\n",
    "\t\tx = q.popleft()\n",
    "\t\tq.append(x)\n",
    "\treturn q\n",
    "\n",
    "# Driver code\n",
    "queue = deque([10, 20, 30, 40, 50, 60, 70, 80, 90, 100])\n",
    "k = 5\n",
    "queue = reverse_first_k(queue, k)\n",
    "\n",
    "# Printing queue\n",
    "while queue:\n",
    "\tprint(queue.popleft(), end=' ')\n"
   ]
  },
  {
   "cell_type": "markdown",
   "id": "1595eca9-0670-4b41-ab4b-926974bc3da0",
   "metadata": {},
   "source": [
    "## 4. Print all elements of a queue in a new line"
   ]
  },
  {
   "cell_type": "code",
   "execution_count": 320,
   "id": "e952ef07-dd8e-4f86-8379-0f1b708bf18b",
   "metadata": {},
   "outputs": [],
   "source": [
    "class Queue:\n",
    "    def __init__(self,size):\n",
    "        self.size=size\n",
    "        self.queue=deque([10, 20, 30, 40, 50, 60, 70, 80, 90, 100])\n",
    "        \n",
    "    def _print(self):\n",
    "        if len(self.queue) ==0:\n",
    "            return self.queue\n",
    "        for i in range(len(self.queue)):\n",
    "            print(self.queue[i], end= ' ')\n",
    "\n",
    "    def Enqueue(self,data):\n",
    "        if self.size==len(self.queue):\n",
    "            return \"Queue is size Full can't insert!\"\n",
    "        print(f\"Element added: {data}\")\n",
    "        self.queue.append(data)\n",
    "\n",
    "    def dequeue(self):\n",
    "        if len(self.queue)== 0:\n",
    "            return \"Queue is Empty!\"\n",
    "        else:\n",
    "            print(f\"Element deleted from Queue is {self.queue[0]}\")\n",
    "            self.queue.popleft()\n",
    "        \n",
    "Q=Queue(5)"
   ]
  },
  {
   "cell_type": "code",
   "execution_count": 321,
   "id": "850c47ce-b9f2-46be-949a-34e92a4bd8f8",
   "metadata": {},
   "outputs": [
    {
     "name": "stdout",
     "output_type": "stream",
     "text": [
      "10 20 30 40 50 60 70 80 90 100 "
     ]
    }
   ],
   "source": [
    "Q._print()"
   ]
  },
  {
   "cell_type": "code",
   "execution_count": null,
   "id": "3a328f7e-2cc5-4324-949f-7cab27fc959d",
   "metadata": {},
   "outputs": [],
   "source": []
  }
 ],
 "metadata": {
  "kernelspec": {
   "display_name": "Python 3 (ipykernel)",
   "language": "python",
   "name": "python3"
  },
  "language_info": {
   "codemirror_mode": {
    "name": "ipython",
    "version": 3
   },
   "file_extension": ".py",
   "mimetype": "text/x-python",
   "name": "python",
   "nbconvert_exporter": "python",
   "pygments_lexer": "ipython3",
   "version": "3.11.7"
  }
 },
 "nbformat": 4,
 "nbformat_minor": 5
}
