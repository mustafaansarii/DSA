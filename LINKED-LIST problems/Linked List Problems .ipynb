{
 "cells": [
  {
   "cell_type": "markdown",
   "id": "db004f4f-7bb9-4123-a9e5-c2c6b15661c0",
   "metadata": {},
   "source": [
    "# Create linked-list Data Structure"
   ]
  },
  {
   "cell_type": "markdown",
   "id": "56bd4c12-0755-4e82-81b6-d956030582f5",
   "metadata": {},
   "source": [
    "1. **Create a singly linked list:** Implement a class or structure for a singly linked list, including methods to add nodes, remove nodes, and print the list.\n",
    "\n",
    "2. **Insertion at the beginning:** Write a function to insert a node at the beginning of a singly linked list.\n",
    "\n",
    "3. **Insertion at the end:** Implement a function to insert a node at the end of a singly linked list.\n",
    "\n",
    "4. **Insertion at a given position:** Write a function to insert a node at a specified position in a singly linked list.\n",
    "\n",
    "5. **Deletion at the beginning:** Implement a function to delete a node from the beginning of a singly linked list.\n",
    "\n",
    "6. **Deletion at the end:** Write a function to delete a node from the end of a singly linked list.\n"
   ]
  },
  {
   "cell_type": "code",
   "execution_count": 507,
   "id": "3867c096-c8c4-4e53-8273-838d9efc262b",
   "metadata": {},
   "outputs": [],
   "source": [
    "class Node:\n",
    "    def __init__(self,data):\n",
    "        self.data=data\n",
    "        self.next=None\n",
    "        \n",
    "class SinglyLL:\n",
    "    def __init__(self):\n",
    "        self.head=None\n",
    "\n",
    "    def insert_begin(self,data):\n",
    "        new_node=Node(data)\n",
    "        if self.head is None:\n",
    "            self.head=new_node\n",
    "            return\n",
    "        new_node.next=self.head\n",
    "        self.head=new_node\n",
    "\n",
    "    def insert_end(self,data):\n",
    "        new_node=Node(data)\n",
    "        if self.head is None:\n",
    "            self.head=new_node\n",
    "            return\n",
    "        n=self.head\n",
    "        while n.next is not None:\n",
    "            n=n.next\n",
    "        n.next=new_node\n",
    "        \n",
    "    def _print(self):\n",
    "        if self.head is None:\n",
    "            return \"linked list is Empty!\"\n",
    "        else:\n",
    "            n=self.head\n",
    "            while n is not None:\n",
    "                print(n.data, end=' ')\n",
    "                n=n.next\n",
    "            print()\n",
    "                \n",
    "    def Remove_begin(self):\n",
    "        if self.head is None:\n",
    "            return \"linked list is Empty!\"\n",
    "        elif self.head.next is None:\n",
    "            self.head=None\n",
    "        else:\n",
    "            self.head=self.head.next\n",
    "            \n",
    "    def Remove_end(self):\n",
    "        if self.head is None:\n",
    "            return \"SLL is Empty!\"\n",
    "        elif self.head.next is None:\n",
    "            self.head=None\n",
    "        else:\n",
    "            n=self.head\n",
    "            while n.next.next is not None:\n",
    "                n=n.next\n",
    "            n.next=None\n",
    "            \n",
    "    def insert_after_node(self,x,data):\n",
    "        new_node=Node(data)\n",
    "        if self.head is None:\n",
    "            return \"SLL is Empty!\"\n",
    "        if self.head.data==x:\n",
    "            new_node.next=self.head.next\n",
    "            self.head.next=new_node\n",
    "            return\n",
    "        n=self.head\n",
    "        while n is not None:\n",
    "            if n.data==x:\n",
    "                new_node.next=n.next\n",
    "                n.next=new_node\n",
    "                return\n",
    "            n=n.next\n",
    "        return f\"Node with value {x} not found in the list.\"\n",
    "\n",
    "    def insert_before_node(self,x,data):\n",
    "        new_node=Node(data)\n",
    "        if self.head is None:\n",
    "            return \"SLL is Empty!\"\n",
    "        if self.head.data==x:\n",
    "            new_node.next=self.head\n",
    "            self.head=new_node\n",
    "            return\n",
    "        n=self.head\n",
    "        while n.next is not None:\n",
    "            if n.next.data==x:\n",
    "                new_node.next=n.next\n",
    "                n.next=new_node\n",
    "                return\n",
    "            n=n.next\n",
    "        return f\"Node with value {x} not found in the list.\"\n",
    "        \n",
    "SLL=SinglyLL()"
   ]
  },
  {
   "cell_type": "code",
   "execution_count": 517,
   "id": "6e249fc5-17bd-4e03-9693-0691ad0a813d",
   "metadata": {},
   "outputs": [
    {
     "name": "stdout",
     "output_type": "stream",
     "text": [
      "12 12 128 15 \n"
     ]
    }
   ],
   "source": [
    "SLL._print()"
   ]
  },
  {
   "cell_type": "code",
   "execution_count": 509,
   "id": "09587c81-80b0-4224-9357-e053e8e8d488",
   "metadata": {},
   "outputs": [
    {
     "data": {
      "text/plain": [
       "'SLL is Empty!'"
      ]
     },
     "execution_count": 509,
     "metadata": {},
     "output_type": "execute_result"
    }
   ],
   "source": [
    "SLL.insert_after_node(10,13)"
   ]
  },
  {
   "cell_type": "code",
   "execution_count": 510,
   "id": "37b110d0-8607-41f6-895f-6c0636a8731a",
   "metadata": {},
   "outputs": [
    {
     "data": {
      "text/plain": [
       "'SLL is Empty!'"
      ]
     },
     "execution_count": 510,
     "metadata": {},
     "output_type": "execute_result"
    }
   ],
   "source": [
    "SLL.Remove_end()"
   ]
  },
  {
   "cell_type": "code",
   "execution_count": 511,
   "id": "0670e0c5-45ca-404f-9aae-e7e4affe26da",
   "metadata": {},
   "outputs": [],
   "source": [
    "SLL.insert_begin(15)"
   ]
  },
  {
   "cell_type": "code",
   "execution_count": 516,
   "id": "3f2e28f0-edbd-480b-b891-a0a02b5247dd",
   "metadata": {},
   "outputs": [],
   "source": [
    "SLL.insert_before_node(15,128)"
   ]
  },
  {
   "cell_type": "code",
   "execution_count": 77,
   "id": "fe1df777-6b75-4810-9732-c954bfea83f4",
   "metadata": {},
   "outputs": [
    {
     "data": {
      "text/plain": [
       "'linked list is Empty!'"
      ]
     },
     "execution_count": 77,
     "metadata": {},
     "output_type": "execute_result"
    }
   ],
   "source": [
    "SLL.Remove_begin()"
   ]
  },
  {
   "cell_type": "code",
   "execution_count": 602,
   "id": "af0dc5d9-5fad-4058-9a6b-7d08c0f9371c",
   "metadata": {},
   "outputs": [],
   "source": [
    "from collections import deque"
   ]
  },
  {
   "cell_type": "markdown",
   "id": "d53003ea-140d-47e6-b1ac-b3aa098daa47",
   "metadata": {},
   "source": [
    "7. **Deletion at a given position:** Implement a function to delete a node from a specified position in a singly linked list.\n",
    "\n",
    "8. **Search operation:** Write a function to search for a given value in a singly linked list.\n",
    "\n",
    "9. **Reverse a singly linked list:** Implement a function to reverse a singly linked list.\n",
    "\n",
    "10. **Detect loop in a linked list:** Write a function to detect if a loop exists in a singly linked list.\n",
    "\n",
    "11. **Find the middle of a linked list:** Implement a function to find the middle node of a singly linked list.\n",
    "\n",
    "12. **Merge two sorted linked lists:** Write a function to merge two sorted singly linked lists into a single sorted linked list.\n",
    "\n",
    "13. **Remove duplicates from a linked list:** Implement a function to remove duplicates from an unsorted singly linked list.\n",
    "\n",
    "14. **Check if a linked list is palindrome:** Write a function to check if a singly linked list is a palindrome.\n",
    "\n",
    "15. **Intersection point of two linked lists:** Implement a function to find the intersection point of two singly linked lists.\n"
   ]
  },
  {
   "cell_type": "code",
   "execution_count": 1092,
   "id": "5d8f32c4-d4b7-43f2-b758-e8000391660e",
   "metadata": {},
   "outputs": [],
   "source": [
    "class Node:\n",
    "    def __init__(self,data):\n",
    "        self.data=data\n",
    "        self.next=None\n",
    "        \n",
    "class SinglyLL:\n",
    "    def __init__(self):\n",
    "        self.head=None\n",
    "\n",
    "    def insert_begin(self,data):\n",
    "        new_node=Node(data)\n",
    "        if self.head is None:\n",
    "            self.head=new_node\n",
    "            return\n",
    "        new_node.next=self.head\n",
    "        self.head=new_node\n",
    "        \n",
    "    def insert_end(self,data):\n",
    "        new_node=Node(data)\n",
    "        if self.head is None:\n",
    "            self.head=new_node\n",
    "            return\n",
    "        n=self.head\n",
    "        while n.next is not None:\n",
    "            n=n.next\n",
    "        n.next=new_node\n",
    "        \n",
    "    def _print(self):\n",
    "        if self.head is None:\n",
    "            return \"linked list is Empty!\"\n",
    "        else:\n",
    "            n=self.head\n",
    "            while n is not None:\n",
    "                print(n.data, end=' ')\n",
    "                n=n.next\n",
    "            print()\n",
    "            \n",
    "    def Delete_by_value(self,x):\n",
    "        if self.head is None:\n",
    "            return \"SLL is Empty!\"\n",
    "        if self.head.data==x:\n",
    "            self.head=self.head.next\n",
    "            return\n",
    "        n=self.head\n",
    "        while n.next is not None:\n",
    "            if n.next.data==x:\n",
    "                n.next=n.next.next\n",
    "                return\n",
    "        return \"Given Node is not present in SLL\"\n",
    "        \n",
    "    def Search_node(self,x):\n",
    "        if self.head is None:\n",
    "            return \"SLL is Empty!\"\n",
    "        if self.head.data==x:\n",
    "            return f\"Given node: {x} is present in SLL!\"\n",
    "        n=self.head\n",
    "        while n.next is not None:\n",
    "            if n.next.data==x:\n",
    "                return f\"Given node: {x} is present in SLL!\"\n",
    "            n=n.next\n",
    "        return f\"Given node: {x} is not present in SLL!\"\n",
    "        \n",
    "    def Remove_end(self):\n",
    "        if self.head is None:\n",
    "            return \"SLL is Empty!\"\n",
    "        elif self.head.next is None:\n",
    "            self.head=None\n",
    "        else:\n",
    "            n=self.head\n",
    "            while n.next.next is not None:\n",
    "                n=n.next\n",
    "            n.next=None\n",
    "            \n",
    "    def length(self):\n",
    "        if self.head is None:\n",
    "            return \"SLL is Empty!\"\n",
    "        n=self.head\n",
    "        l=0\n",
    "        while n.next is not None:\n",
    "            l +=1\n",
    "            n=n.next\n",
    "        return l+1\n",
    "        \n",
    "    def middle_of_SLL(self):\n",
    "        if self.head is None:\n",
    "            return \"SLL is Empty!\"\n",
    "        k=self.length()\n",
    "        m=k//2\n",
    "        n=self.head\n",
    "        for _ in range(m):\n",
    "            n=n.next\n",
    "        print(n.data, end=' ')\n",
    "        \n",
    "    def Bubble_sort_SLL(self):\n",
    "        if self.head is None or self.head.next is None:\n",
    "            return \"SLL has no Node or only one Node!\"\n",
    "        length = self.length()\n",
    "        for i in range(length - 1):\n",
    "            n = self.head\n",
    "            for j in range(length - i - 1):\n",
    "                if n.data > n.next.data:\n",
    "                    n.data, n.next.data = n.next.data, n.data\n",
    "                n = n.next\n",
    "        return self._print()\n",
    "        \n",
    "            \n",
    "    def Removeduplicates_SLL(self):\n",
    "        if self.head is None or self.head.next is None:\n",
    "            return \"SLL is Empty or Only One Node!\"\n",
    "        n=self.head\n",
    "        unique=set()\n",
    "        while n is not None:\n",
    "            unique.add(n.data)\n",
    "            n=n.next\n",
    "        s=list(unique)\n",
    "        for i in range(len(s)):\n",
    "            print(s[i],end=' ')\n",
    "            \n",
    "    def palindrome_SLL(self):\n",
    "        if self.head is None:\n",
    "            return \"SLL is Empty!\"\n",
    "        n=self.head\n",
    "        unique=list()\n",
    "        while n is not None:\n",
    "            unique.append(n.data)\n",
    "            n=n.next\n",
    "        s=unique\n",
    "        if s==s[::-1]:\n",
    "            return \"This is palindrome SLL!\"\n",
    "        return \"This is Note A palindrome SLL!\"\n",
    "        \n",
    "\n",
    "sll=SinglyLL()"
   ]
  },
  {
   "cell_type": "code",
   "execution_count": 1101,
   "id": "d6b2d059-21a4-4834-94b0-60115e48124d",
   "metadata": {},
   "outputs": [],
   "source": [
    "sll.insert_begin(7)"
   ]
  },
  {
   "cell_type": "code",
   "execution_count": 1102,
   "id": "dd6be5ce-88b8-4caf-b8af-04ffca9cbf9c",
   "metadata": {},
   "outputs": [
    {
     "data": {
      "text/plain": [
       "'This is Note A palindrome SLL!'"
      ]
     },
     "execution_count": 1102,
     "metadata": {},
     "output_type": "execute_result"
    }
   ],
   "source": [
    "sll.palindrome_SLL()"
   ]
  },
  {
   "cell_type": "code",
   "execution_count": 1103,
   "id": "f26d790b-e027-46c5-aed7-55383f0f05a2",
   "metadata": {},
   "outputs": [
    {
     "name": "stdout",
     "output_type": "stream",
     "text": [
      "7 9 9 9 \n"
     ]
    }
   ],
   "source": [
    "sll._print()"
   ]
  },
  {
   "cell_type": "code",
   "execution_count": 1063,
   "id": "6d78e8c4-eb46-44a4-b249-5f71c2c822e9",
   "metadata": {},
   "outputs": [
    {
     "data": {
      "text/plain": [
       "'SLL has no Node or only one Node!'"
      ]
     },
     "execution_count": 1063,
     "metadata": {},
     "output_type": "execute_result"
    }
   ],
   "source": [
    "sll.Bubble_sort_SLL()"
   ]
  },
  {
   "cell_type": "code",
   "execution_count": 1064,
   "id": "53ea7884-ca28-40bc-8c39-a1d0e6431284",
   "metadata": {},
   "outputs": [
    {
     "data": {
      "text/plain": [
       "1"
      ]
     },
     "execution_count": 1064,
     "metadata": {},
     "output_type": "execute_result"
    }
   ],
   "source": [
    "sll.length()"
   ]
  },
  {
   "cell_type": "code",
   "execution_count": 1072,
   "id": "07700dc7-9b80-4e0a-96ff-83e57bb9ab9f",
   "metadata": {},
   "outputs": [
    {
     "name": "stdout",
     "output_type": "stream",
     "text": [
      "8 5 7 "
     ]
    }
   ],
   "source": [
    "sll.Removeduplicates_SLL()"
   ]
  },
  {
   "cell_type": "code",
   "execution_count": 1033,
   "id": "c9d706bf-c108-457a-b412-7472836120f5",
   "metadata": {},
   "outputs": [
    {
     "name": "stdout",
     "output_type": "stream",
     "text": [
      "9 "
     ]
    }
   ],
   "source": [
    "sll.middle_of_SLL()"
   ]
  },
  {
   "cell_type": "code",
   "execution_count": 859,
   "id": "2e345fe5-642c-417d-a4ff-057e1cfacb49",
   "metadata": {},
   "outputs": [
    {
     "data": {
      "text/plain": [
       "'Given Node is not present in SLL'"
      ]
     },
     "execution_count": 859,
     "metadata": {},
     "output_type": "execute_result"
    }
   ],
   "source": [
    "sll.Delete_by_value(1)"
   ]
  },
  {
   "cell_type": "code",
   "execution_count": 655,
   "id": "3fd0ef59-0d9f-4c13-83a4-5adedabf4d54",
   "metadata": {},
   "outputs": [
    {
     "data": {
      "text/plain": [
       "'Given node: 7 is not present in SLL!'"
      ]
     },
     "execution_count": 655,
     "metadata": {},
     "output_type": "execute_result"
    }
   ],
   "source": [
    "sll.Search_node(7)"
   ]
  },
  {
   "cell_type": "code",
   "execution_count": 656,
   "id": "890e344f-0ec2-41fa-b9bf-b7cb08fe4a5c",
   "metadata": {},
   "outputs": [
    {
     "name": "stdout",
     "output_type": "stream",
     "text": [
      "1 \n"
     ]
    }
   ],
   "source": [
    "sll._print()"
   ]
  },
  {
   "cell_type": "code",
   "execution_count": 783,
   "id": "320abd28-1db3-481d-8241-6a8174438ddb",
   "metadata": {},
   "outputs": [
    {
     "data": {
      "text/plain": [
       "[23, 23, 23, 24, 433]"
      ]
     },
     "execution_count": 783,
     "metadata": {},
     "output_type": "execute_result"
    }
   ],
   "source": [
    "def bubble(arr):\n",
    "    for i in range(len(arr)-1):\n",
    "        for j in range(len(arr)):\n",
    "            if arr[i]>arr[i+1]:\n",
    "                arr[i],arr[i+1]=arr[i+1],arr[i]\n",
    "A=[23,433,23,23,24]\n",
    "bubble(A)\n",
    "A"
   ]
  },
  {
   "cell_type": "markdown",
   "id": "139e94cf-5fe3-478d-8d10-98d4e196c92b",
   "metadata": {},
   "source": [
    "# 1. 🔄 Reverse a Linked List"
   ]
  },
  {
   "cell_type": "code",
   "execution_count": 160,
   "id": "cbf0862b-cb14-4e6b-b7b8-8e7dcf761972",
   "metadata": {},
   "outputs": [],
   "source": [
    "class Node:\n",
    "    def __init__(self,data):\n",
    "        self.data=data\n",
    "        self.next=None\n",
    "        \n",
    "class SinglyLL:\n",
    "    def __init__(self):\n",
    "        self.head=None\n",
    "\n",
    "    def insert_begin(self,data):\n",
    "        new_node=Node(data)\n",
    "        new_node.next=self.head\n",
    "        self.head=new_node\n",
    "        \n",
    "    def _print(self):\n",
    "        if self.head is None:\n",
    "            return \"linked list is Empty!\"\n",
    "        else:\n",
    "            n=self.head\n",
    "            while n is not None:\n",
    "                print(n.data, end=' ')\n",
    "                n=n.next\n",
    "                \n",
    "    def Remove_begin(self):\n",
    "        if self.head is None:\n",
    "            return \"linked list is Empty!\"\n",
    "        elif self.head.next is None:\n",
    "            self.head=None\n",
    "        else:\n",
    "            self.head=self.head.next\n",
    "            \n",
    "    def Reverse_SLL(self):\n",
    "        if self.head is None:\n",
    "            return \"Linked list is Empty!\"\n",
    "        \n",
    "        current = self.head\n",
    "        previous = None\n",
    "        while current is not None:\n",
    "            next_node = current.next\n",
    "            current.next = previous\n",
    "            previous = current\n",
    "            current = next_node\n",
    "        self.head = previous\n",
    "        current = self.head\n",
    "        while current is not None:\n",
    "            print(current.data, end=\" \")\n",
    "            current = current.next\n",
    "RSLL=SinglyLL()"
   ]
  },
  {
   "cell_type": "code",
   "execution_count": 161,
   "id": "9268ef31-9ae1-4462-a342-9beab892b091",
   "metadata": {},
   "outputs": [],
   "source": [
    "RSLL.insert_begin(1)\n",
    "RSLL.insert_begin(2)\n",
    "RSLL.insert_begin(3)\n",
    "RSLL.insert_begin(4)\n",
    "RSLL.insert_begin(5)\n",
    "RSLL.insert_begin(6)"
   ]
  },
  {
   "cell_type": "code",
   "execution_count": 162,
   "id": "3a7a4c96-edab-4c9a-865d-05b946b384f1",
   "metadata": {},
   "outputs": [
    {
     "name": "stdout",
     "output_type": "stream",
     "text": [
      "6 5 4 3 2 1 "
     ]
    }
   ],
   "source": [
    "RSLL._print()"
   ]
  },
  {
   "cell_type": "code",
   "execution_count": 163,
   "id": "c00666ee-a325-42f7-9daf-ab1b8a57922c",
   "metadata": {},
   "outputs": [
    {
     "name": "stdout",
     "output_type": "stream",
     "text": [
      "1 2 3 4 5 6 "
     ]
    }
   ],
   "source": [
    "RSLL.Reverse_SLL()"
   ]
  },
  {
   "cell_type": "markdown",
   "id": "98c18bda-c37c-469e-b1dc-e53d975b2fd6",
   "metadata": {},
   "source": [
    "# 2. 🔁 Detect a Cycle in a Linked List\n"
   ]
  },
  {
   "cell_type": "code",
   "execution_count": 381,
   "id": "d566949a-f98e-49ad-a4a2-2f9075d87bc5",
   "metadata": {},
   "outputs": [],
   "source": [
    "class Node:\n",
    "    def __init__(self, data):\n",
    "        self.prev = None\n",
    "        self.data = data\n",
    "        self.next = None\n",
    "\n",
    "class CDLL:\n",
    "    def __init__(self):\n",
    "        self.head = None\n",
    "        \n",
    "    def _print(self):\n",
    "        if self.head is None:\n",
    "            return \"CDLL is Empty!\"\n",
    "        if self.head is not None:\n",
    "            n=self.head\n",
    "            while n!=self.head.prev:\n",
    "                print(n.data, end=' ')\n",
    "                n=n.next\n",
    "            print(n.data, end=' ')\n",
    "    \n",
    "    def insert_begin(self, data):\n",
    "        new_node=Node(data)\n",
    "        if self.head is None:\n",
    "            self.head=new_node\n",
    "            new_node.next=new_node\n",
    "            new_node.prev=new_node\n",
    "        else:\n",
    "            last_node=self.head.prev\n",
    "            new_node.prev=self.head.prev\n",
    "            new_node.next=self.head\n",
    "            self.head.prev=new_node\n",
    "            last_node.next=new_node\n",
    "            \n",
    "    def detect_cycle(self):\n",
    "        if self.head is None:\n",
    "            return \"CDLL is Empty!\"\n",
    "            \n",
    "        while self.head.next is not None and self.head.next.next is not None:\n",
    "            if self.head == self.head.next:\n",
    "                return \"Cycle detected!\"\n",
    "            self.head = self.head.next\n",
    "            self.head.next = self.head.next.next.next\n",
    "\n",
    "        else:\n",
    "            return \"Cycle not detected!\"\n",
    "        \n",
    "\n",
    "CDll=CDLL()"
   ]
  },
  {
   "cell_type": "code",
   "execution_count": 379,
   "id": "418e3908-bde8-478a-8042-0f2fb2d32999",
   "metadata": {},
   "outputs": [
    {
     "name": "stdout",
     "output_type": "stream",
     "text": [
      "1 1 1 "
     ]
    }
   ],
   "source": [
    "CDll._print()"
   ]
  },
  {
   "cell_type": "code",
   "execution_count": 378,
   "id": "d19b6a67-fc86-4c79-bdba-4a0ce8923f65",
   "metadata": {},
   "outputs": [],
   "source": [
    "CDll.insert_begin(1)"
   ]
  },
  {
   "cell_type": "code",
   "execution_count": 380,
   "id": "7267894f-8a10-4f16-a671-a725dd01599e",
   "metadata": {},
   "outputs": [
    {
     "data": {
      "text/plain": [
       "'Cycle detected!'"
      ]
     },
     "execution_count": 380,
     "metadata": {},
     "output_type": "execute_result"
    }
   ],
   "source": [
    "CDll.detect_cycle()"
   ]
  },
  {
   "cell_type": "markdown",
   "id": "2f7f7b4e-fc67-425d-af01-b6ccfbc0183c",
   "metadata": {},
   "source": [
    "-  Print the Middle of a given linked list\n",
    "-  Reverse a Linked List\n",
    "-  Reverse a Doubly Linked List\n",
    "-  Rotate a linked list.\n",
    "-  Nth node from end of linked list &#10004; \n",
    "-  Delete last occurrence of an item from linked list\n",
    "-  Delete middle of linked list\n",
    "-  Remove duplicate elements from sorted linked list\n",
    "-  Detect Loop in linked list\n",
    "-  Delete N nodes after M nodes of a linked list\n",
    "-  Merge a linked list into another linked list at alternate positions\n",
    "-  Circular Linked List Traversal\n",
    "-  Deletion from a Circular Linked List\n",
    "-  Delete without head pointer\n",
    "-  Implement Queue using Linked List\n",
    "-  Implement a stack using singly linked list\n",
    "-  Remove every k-th node of the linked list\n",
    "-  Pairwise swap of a Linked list\n",
    "-  Occurrence of an integer in a Linked List\n",
    "-  Given a Linked list of 0s, 1s and 2s, sort it\n",
    "-  Deletion in Linked List\n"
   ]
  },
  {
   "cell_type": "code",
   "execution_count": 81,
   "id": "590cf9d2-60bc-436a-8017-dd8c8f7d0928",
   "metadata": {},
   "outputs": [],
   "source": [
    "class Node:\n",
    "    def __init__(self,data):\n",
    "        self.data=data\n",
    "        self.next=None\n",
    "\n",
    "class SynglyLL:\n",
    "    def __init__(self):\n",
    "        self.head=None\n",
    "        \n",
    "    def print(self):\n",
    "        if self.head is None: return \"SLL Empty!\"\n",
    "        n=self.head\n",
    "        while n:\n",
    "            print(n.data, end=' ')\n",
    "            n=n.next\n",
    "            \n",
    "    def Reverse(self):\n",
    "        if self.head is None:\n",
    "            return \"LL Empty!\"\n",
    "        current = self.head\n",
    "        prev = None\n",
    "        while currentxd is not None:\n",
    "            next_node = current.next\n",
    "            current.next = prev\n",
    "            prev = current\n",
    "            current = next_node\n",
    "        self.head = prev\n",
    "        return prev\n",
    "        \n",
    "\n",
    "    def add_begin(self,x):\n",
    "        new_node=Node(x)\n",
    "        new_node.next=self.head\n",
    "        self.head=new_node\n",
    "        \n",
    "    def insert_end(self,x):\n",
    "        new_node=Node(x)\n",
    "        if self.head is None:\n",
    "            self.add_begin(x)\n",
    "            return\n",
    "        n=self.head\n",
    "        while n.next:\n",
    "            n=n.next\n",
    "        n.next=new_node\n",
    "        \n",
    "    def length(self):\n",
    "        count=0\n",
    "        n=self.head\n",
    "        while n:\n",
    "            count+=1\n",
    "            n=n.next\n",
    "        return count\n",
    "    \n",
    "        \n",
    "    def Middle__LL(self):\n",
    "        if self.length()==0: return \"Singly LL is Empty!\"\n",
    "        mid=self.length()//2\n",
    "        n=self.head\n",
    "        index = 0\n",
    "        while index < mid:\n",
    "            n = n.next\n",
    "            index += 1\n",
    "        return n.data\n",
    "            \n",
    "             \n",
    "SLL=SynglyLL()        "
   ]
  },
  {
   "cell_type": "code",
   "execution_count": 82,
   "id": "fcbddc90-6da3-447b-bade-db242d558ccc",
   "metadata": {},
   "outputs": [
    {
     "data": {
      "text/plain": [
       "'SLL Empty!'"
      ]
     },
     "execution_count": 82,
     "metadata": {},
     "output_type": "execute_result"
    }
   ],
   "source": [
    "SLL.print()"
   ]
  },
  {
   "cell_type": "code",
   "execution_count": 89,
   "id": "bf137b02-4211-4f10-98e9-4fcf560a0d3a",
   "metadata": {},
   "outputs": [],
   "source": [
    "SLL.add_begin(56)"
   ]
  },
  {
   "cell_type": "code",
   "execution_count": 84,
   "id": "d3aa0174-cf02-4546-9c8b-b3196980aeae",
   "metadata": {},
   "outputs": [],
   "source": [
    "SLL.insert_end(3)"
   ]
  },
  {
   "cell_type": "code",
   "execution_count": 91,
   "id": "db7d377f-8d65-4116-adb2-3c62d52d7cc1",
   "metadata": {},
   "outputs": [
    {
     "data": {
      "text/plain": [
       "3"
      ]
     },
     "execution_count": 91,
     "metadata": {},
     "output_type": "execute_result"
    }
   ],
   "source": [
    "SLL.length()"
   ]
  },
  {
   "cell_type": "code",
   "execution_count": 92,
   "id": "c662979e-47e2-4406-bfa9-1c0cce03daf9",
   "metadata": {},
   "outputs": [
    {
     "data": {
      "text/plain": [
       "56"
      ]
     },
     "execution_count": 92,
     "metadata": {},
     "output_type": "execute_result"
    }
   ],
   "source": [
    "SLL.Middle__LL()"
   ]
  },
  {
   "cell_type": "code",
   "execution_count": null,
   "id": "954f93ff-c699-4a19-a987-daa9cc288107",
   "metadata": {},
   "outputs": [],
   "source": []
  },
  {
   "cell_type": "markdown",
   "id": "2e5fedee-bfa9-4f1a-afba-28e4fbd75f2f",
   "metadata": {},
   "source": [
    "**Medium Level Problems:**\n",
    "1. Convert singly linked list into circular linked list\n",
    "2. Reverse a linked list in groups of given size\n",
    "3. Merge two sorted linked lists\n",
    "4. Remove loop in Linked List\n",
    "5. Function to check if a singly linked list is palindrome\n",
    "6. Remove all occurrences of one Linked list in another Linked list\n",
    "7. Intersection point in Y shaped Linked lists\n",
    "8. Intersection of two Sorted Linked Lists\n",
    "9. Split a Circular Linked List into two halves\n",
    "10. Find pairs with given sum in doubly linked list\n",
    "11. Remove duplicates from an unsorted doubly linked list\n",
    "12. Intersection point of two Linked Lists.\n",
    "13. Add two numbers represented by Linked lists\n",
    "14. Multiply two numbers represented by Linked Lists\n",
    "15. Swap Kth node from beginning with Kth node from end in a Linked List\n",
    "16. Sort a k sorted doubly linked list\n",
    "17. Rotate Doubly linked list by N nodes\n",
    "18. Convert a Binary Tree into Doubly Linked List in spiral fashion\n",
    "19. Convert a given Binary Tree to Doubly Linked List\n",
    "20. Construct a linked list from 2D matrix\n",
    "21. Reverse a doubly linked list in groups of given size\n"
   ]
  },
  {
   "cell_type": "code",
   "execution_count": null,
   "id": "50ce07dd-c3fc-4f92-8edd-995ea4b1fd5f",
   "metadata": {},
   "outputs": [],
   "source": []
  },
  {
   "cell_type": "code",
   "execution_count": 92,
   "id": "24364723-c0a0-4c5a-8e03-9c66ac2b809c",
   "metadata": {},
   "outputs": [],
   "source": [
    "from typing import List"
   ]
  },
  {
   "cell_type": "code",
   "execution_count": null,
   "id": "be4ddea7-4dd8-4fcc-835c-649aa136faf4",
   "metadata": {},
   "outputs": [],
   "source": []
  },
  {
   "cell_type": "code",
   "execution_count": null,
   "id": "8d7ccd68-7d50-4ae4-b5e8-002d414cefa8",
   "metadata": {},
   "outputs": [],
   "source": []
  },
  {
   "cell_type": "code",
   "execution_count": null,
   "id": "d1fab8ba-df48-401b-ac31-5b183d2f7990",
   "metadata": {},
   "outputs": [],
   "source": []
  },
  {
   "cell_type": "markdown",
   "id": "c7911678-ca0f-4ca9-988e-0af9053a4e89",
   "metadata": {},
   "source": [
    "\n",
    "**Hard Level Problems:**\n",
    "1. Reverse a sublist of linked list\n",
    "2. Rearrange a given linked list in-place.\n",
    "3. Reverse Alternate K Nodes in a Singly Linked List:\n",
    "4. Reverse a Linked List in groups of given size\n",
    "5. Merge k Sorted Linked Lists\n",
    "6. Flattening a Linked List\n",
    "7. Partition a linked list around a given value\n",
    "8. Clone a linked list with random pointers\n",
    "\n",
    "These problems range from easy to hard, covering various operations and manipulations on linked lists."
   ]
  },
  {
   "cell_type": "markdown",
   "id": "7b695e24",
   "metadata": {},
   "source": [
    "### Reverse a Doubly Linked List\n"
   ]
  },
  {
   "cell_type": "code",
   "execution_count": 93,
   "id": "ddb5c371",
   "metadata": {},
   "outputs": [],
   "source": [
    "class Node:\n",
    "    def __init__(self,data):\n",
    "        self.data=data\n",
    "        self.prev=None\n",
    "        self.next=None\n",
    "class DLL:\n",
    "    def __init__(self):\n",
    "        self.head=None\n",
    "        \n",
    "    def display(self):\n",
    "        if self.head is not None:\n",
    "            if self.head.next is None:\n",
    "                return self.head.data\n",
    "            n=self.head\n",
    "            while n:\n",
    "                print(n.data,end=' ')\n",
    "                n=n.next\n",
    "    \n",
    "    def push_end(self,data):\n",
    "        new_node=Node(data)\n",
    "        if self.head is None:\n",
    "            self.head=new_node\n",
    "            return\n",
    "        n=self.head\n",
    "        while n.next:\n",
    "            n=n.next\n",
    "        n.next=new_node\n",
    "        new_node.prev=n\n",
    "        \n",
    "    def Reverse(self):\n",
    "        if self.head is not None:\n",
    "            n=self.head\n",
    "            temp=None\n",
    "            while n:\n",
    "                temp=n.prev\n",
    "                n.prev=n.next\n",
    "                n.next=temp\n",
    "                n=n.prev\n",
    "            if temp:\n",
    "                self.head=temp.prev\n",
    "                \n",
    "            "
   ]
  },
  {
   "cell_type": "code",
   "execution_count": 58,
   "id": "459984ac",
   "metadata": {},
   "outputs": [],
   "source": [
    "Dll=DLL()"
   ]
  },
  {
   "cell_type": "code",
   "execution_count": 61,
   "id": "4f756367",
   "metadata": {},
   "outputs": [
    {
     "data": {
      "text/plain": [
       "1"
      ]
     },
     "execution_count": 61,
     "metadata": {},
     "output_type": "execute_result"
    }
   ],
   "source": [
    "Dll.display()"
   ]
  },
  {
   "cell_type": "code",
   "execution_count": 60,
   "id": "0d4929f8",
   "metadata": {},
   "outputs": [],
   "source": [
    "Dll.push_end(1)"
   ]
  },
  {
   "cell_type": "code",
   "execution_count": 62,
   "id": "98a0c74a",
   "metadata": {},
   "outputs": [],
   "source": [
    "Dll.Reverse()"
   ]
  },
  {
   "cell_type": "code",
   "execution_count": 63,
   "id": "01761b72",
   "metadata": {},
   "outputs": [
    {
     "data": {
      "text/plain": [
       "1"
      ]
     },
     "execution_count": 63,
     "metadata": {},
     "output_type": "execute_result"
    }
   ],
   "source": [
    "Dll.display()"
   ]
  },
  {
   "cell_type": "code",
   "execution_count": 420,
   "id": "fda5093f",
   "metadata": {},
   "outputs": [],
   "source": [
    "class Node:\n",
    "    def __init__(self,data):\n",
    "        self.data=data\n",
    "        self.next=None\n",
    "class Sll:\n",
    "    def __init__(self):\n",
    "        self.head=None\n",
    "        self.tail=None\n",
    "        \n",
    "    def append(self,data):\n",
    "        new_node=Node(data)\n",
    "        if self.head==None:\n",
    "            self.head=new_node\n",
    "            self.tail=new_node\n",
    "            return data\n",
    "        self.tail.next=new_node\n",
    "        self.tail=new_node\n",
    "        return new_node.data\n",
    "    \n",
    "    def display(self):\n",
    "        if self.head!=None:\n",
    "            n=self.head\n",
    "            while n:\n",
    "                print(n.data,end=' ')\n",
    "                n=n.next\n",
    "                \n",
    "    def middleNode(self):\n",
    "        length=0\n",
    "        n=self.head\n",
    "        if n is not None:\n",
    "            while n:\n",
    "                length+=1\n",
    "                n=n.next\n",
    "        mid=length//2\n",
    "        n=self.head\n",
    "        for i in range(mid):\n",
    "            n=n.next\n",
    "        return n.data\n",
    "    \n",
    "    #Nth node from end of linked list\n",
    "    def Nth_node(self,n):\n",
    "        length=0\n",
    "        x=self.head\n",
    "        if x is not None:\n",
    "            while x:\n",
    "                length+=1\n",
    "                x=x.next  \n",
    "        if n <= 0 or n > length:\n",
    "            return None\n",
    "        x=self.head\n",
    "        for i in range(n-1):\n",
    "            x=x.next\n",
    "        return x.data\n",
    "    \n",
    "    def getNthFromLast(self,n):\n",
    "        first = self.head\n",
    "        second = self.head\n",
    "\n",
    "        for _ in range(n):\n",
    "            if not first:\n",
    "                return None\n",
    "            first = first.next\n",
    "\n",
    "        while first:\n",
    "            first = first.next\n",
    "            second=second.next\n",
    "        return second.data\n",
    "        \n",
    "    def skipMdeleteN(self,M):\n",
    "        n=self.head\n",
    "        if self.head.next is not None:\n",
    "            if self.head.data==M:\n",
    "                self.head.next=self.head.next.next\n",
    "                return\n",
    "        n=self.head\n",
    "        while n.next:\n",
    "            if M==n.data:\n",
    "                n.next=n.next.next\n",
    "            n=n.next\n",
    "        return -1\n",
    "        \n",
    "    def deleteNode(self, key):\n",
    "        n=self.head\n",
    "        if self.head==None:\n",
    "            return \"not found!\"\n",
    "        if self.head.data==key:\n",
    "            self.head=self.head.next\n",
    "            return\n",
    "        if self.head.next is not None:\n",
    "            while n:\n",
    "                if n.data==key:\n",
    "                    n.next=n.next.next\n",
    "                n=n.next\n",
    "        return \"not found!\"\n",
    "        \n",
    "    def deleteK(self,k):\n",
    "        pass\n",
    "        \n",
    "    def reverse(self):\n",
    "        if self.head is None:\n",
    "            return \"LL Empty!\"\n",
    "        current = self.head\n",
    "        prev = None\n",
    "        while current is not None:\n",
    "            next_node = current.next\n",
    "            current.next = prev\n",
    "            prev = current\n",
    "            current = next_node\n",
    "        self.head = prev\n",
    "        \n",
    "SLL=Sll()"
   ]
  },
  {
   "cell_type": "code",
   "execution_count": 424,
   "id": "f0a5cce4-2ed3-41e8-922b-e3a1f052cb21",
   "metadata": {},
   "outputs": [
    {
     "data": {
      "text/plain": [
       "7"
      ]
     },
     "execution_count": 424,
     "metadata": {},
     "output_type": "execute_result"
    }
   ],
   "source": [
    "SLL.append(7)"
   ]
  },
  {
   "cell_type": "code",
   "execution_count": 426,
   "id": "c44b4de4-4133-41e6-a668-09fdf152c049",
   "metadata": {},
   "outputs": [],
   "source": [
    "SLL.reverse()"
   ]
  },
  {
   "cell_type": "code",
   "execution_count": 427,
   "id": "412c8e9d-ebf9-4035-a9e9-20591ef26c04",
   "metadata": {},
   "outputs": [
    {
     "name": "stdout",
     "output_type": "stream",
     "text": [
      "7 6 "
     ]
    }
   ],
   "source": [
    "SLL.display()"
   ]
  },
  {
   "cell_type": "code",
   "execution_count": 405,
   "id": "f5c0a12f-98ab-4b83-99fc-866a107e3098",
   "metadata": {},
   "outputs": [
    {
     "data": {
      "text/plain": [
       "'not found!'"
      ]
     },
     "execution_count": 405,
     "metadata": {},
     "output_type": "execute_result"
    }
   ],
   "source": [
    "SLL.deleteNode(14)"
   ]
  },
  {
   "cell_type": "markdown",
   "id": "8fb2fa75-a010-4f57-afe0-24e3bd89e5b5",
   "metadata": {},
   "source": [
    "### circuler singly linked-list"
   ]
  },
  {
   "cell_type": "code",
   "execution_count": 368,
   "id": "72a0ee56-ea12-43b2-ab42-bed27ae496fa",
   "metadata": {},
   "outputs": [],
   "source": [
    "class node:\n",
    "    def __init__(self,data):\n",
    "        self.data=data\n",
    "        self.next=None\n",
    "class Csl:\n",
    "    def __init__(self):\n",
    "        self.head=None\n",
    "        self.tail=None\n",
    "\n",
    "    def append(self,data):\n",
    "        new_node=Node(data)\n",
    "        if self.head == None:\n",
    "            self.head=new_node\n",
    "            self.tail=new_node\n",
    "            new_node.next=new_node\n",
    "            return data\n",
    "        self.tail.next=new_node\n",
    "        self.tail=new_node\n",
    "        new_node.next=self.head\n",
    "        return data\n",
    "        \n",
    "    def display(self):\n",
    "        if self.head != None:\n",
    "            n=self.head\n",
    "            while True:\n",
    "                print(n.data, end=' ')\n",
    "                n=n.next\n",
    "                if n==self.head:\n",
    "                    break\n",
    "                    \n",
    "    def detectLoop(self):\n",
    "        n=self.head\n",
    "        if n != None:\n",
    "            while True:\n",
    "                n=n.next\n",
    "                if n==self.head:\n",
    "                    return True\n",
    "        return False\n",
    "        \n",
    "    def detectLoop2(self):\n",
    "        if self.head.next is not None:\n",
    "            slow = self.head\n",
    "            fast = self.head.next\n",
    "            while fast and fast.next:\n",
    "                if(slow == fast):\n",
    "                    return True\n",
    "                slow = slow.next\n",
    "                fast = fast.next.next\n",
    "            return False\n",
    "            \n",
    "CSLL=Csl()   "
   ]
  },
  {
   "cell_type": "code",
   "execution_count": 369,
   "id": "2626dca3-4f78-4886-b5d3-888f0a74b254",
   "metadata": {},
   "outputs": [],
   "source": [
    "CSLL.display()"
   ]
  },
  {
   "cell_type": "code",
   "execution_count": 370,
   "id": "48ed5ff8-6a29-46c4-b30e-01125a127ff3",
   "metadata": {},
   "outputs": [
    {
     "data": {
      "text/plain": [
       "18"
      ]
     },
     "execution_count": 370,
     "metadata": {},
     "output_type": "execute_result"
    }
   ],
   "source": [
    "CSLL.append(18)"
   ]
  },
  {
   "cell_type": "code",
   "execution_count": 371,
   "id": "47b27424-d2cb-49ad-a984-fc8b875c1fa2",
   "metadata": {},
   "outputs": [
    {
     "data": {
      "text/plain": [
       "True"
      ]
     },
     "execution_count": 371,
     "metadata": {},
     "output_type": "execute_result"
    }
   ],
   "source": [
    "CSLL.detectLoop()"
   ]
  },
  {
   "cell_type": "code",
   "execution_count": 372,
   "id": "1db193a9-bd50-46a3-8cd0-bd21471d0cb0",
   "metadata": {},
   "outputs": [
    {
     "data": {
      "text/plain": [
       "True"
      ]
     },
     "execution_count": 372,
     "metadata": {},
     "output_type": "execute_result"
    }
   ],
   "source": [
    "CSLL.detectLoop2()"
   ]
  },
  {
   "cell_type": "code",
   "execution_count": null,
   "id": "fa138091-7181-487f-bbf6-41be2eb36660",
   "metadata": {},
   "outputs": [],
   "source": []
  }
 ],
 "metadata": {
  "kernelspec": {
   "display_name": "Python 3 (ipykernel)",
   "language": "python",
   "name": "python3"
  },
  "language_info": {
   "codemirror_mode": {
    "name": "ipython",
    "version": 3
   },
   "file_extension": ".py",
   "mimetype": "text/x-python",
   "name": "python",
   "nbconvert_exporter": "python",
   "pygments_lexer": "ipython3",
   "version": "3.11.7"
  }
 },
 "nbformat": 4,
 "nbformat_minor": 5
}
