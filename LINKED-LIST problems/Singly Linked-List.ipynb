{
 "cells": [
  {
   "cell_type": "markdown",
   "id": "66922599",
   "metadata": {},
   "source": [
    "# Singly Linked-List"
   ]
  },
  {
   "cell_type": "code",
   "execution_count": 34,
   "id": "ee5f592b",
   "metadata": {
    "scrolled": true
   },
   "outputs": [
    {
     "data": {
      "text/html": [
       "<img src=\"https://media.geeksforgeeks.org/wp-content/uploads/20230503102657/LLdrawio.png\"/>"
      ],
      "text/plain": [
       "<IPython.core.display.Image object>"
      ]
     },
     "execution_count": 34,
     "metadata": {},
     "output_type": "execute_result"
    }
   ],
   "source": [
    "from IPython.display import Image\n",
    "image_url = 'https://media.geeksforgeeks.org/wp-content/uploads/20230503102657/LLdrawio.png'\n",
    "\n",
    "Image(url=image_url)\n"
   ]
  },
  {
   "cell_type": "markdown",
   "id": "671f7e5f",
   "metadata": {},
   "source": [
    " A linked list is a type of linear data structure similar to arrays. It is a collection of nodes that are linked with each other. A node contains two things first is data and second is a link that connects it with another node."
   ]
  },
  {
   "cell_type": "code",
   "execution_count": 20,
   "id": "6f49ce4f",
   "metadata": {},
   "outputs": [],
   "source": [
    "class Node:\n",
    "    def __init__(self, data=None):\n",
    "        self.data = data\n",
    "        self.ref = None"
   ]
  },
  {
   "cell_type": "code",
   "execution_count": 54,
   "id": "1ecfa84a",
   "metadata": {},
   "outputs": [],
   "source": [
    "class Linked_List:\n",
    "    def __init__(self):\n",
    "        self.head = None\n",
    "    \n",
    "    def print_LL(self):\n",
    "        if self.head is None:\n",
    "            print(\"Linked list is empty!\")\n",
    "        else:\n",
    "            n = self.head\n",
    "            while n is not None:\n",
    "                print(n.data, end=\"-->\")\n",
    "                n = n.ref\n",
    "                \n",
    "    def add_begin(self,data):\n",
    "        new_node=Node(data)\n",
    "        new_node.ref=self.head\n",
    "        self.head=new_node\n",
    "        \n",
    "    def add_end(self,data):\n",
    "        new_node=Node(data)\n",
    "        new_node.ref=None\n",
    "        \n",
    "        if self.head is None:\n",
    "            self.head=new_node\n",
    "        else:\n",
    "            n=self.head\n",
    "            while n.ref is not None:\n",
    "                n = n.ref\n",
    "            n.ref=new_node\n",
    "            \n",
    "    def add_after(self, data, x):\n",
    "    \n",
    "        n = self.head\n",
    "        while n is not None:\n",
    "            if x == n.data:\n",
    "                break\n",
    "            n = n.ref\n",
    "        if n is None:\n",
    "            print(\"Node is not present in LL\")\n",
    "        else:\n",
    "            new_node = Node(data)\n",
    "            new_node.ref = n.ref\n",
    "            n.ref = new_node\n",
    "            \n",
    "    def add_before(self, data, x):\n",
    "        if self.head == None:\n",
    "            print(\"LL is empty!\")\n",
    "            return\n",
    "\n",
    "        if self.head.data == x:\n",
    "            new_node = Node(data)\n",
    "            new_node.ref = self.head\n",
    "            self.head = new_node\n",
    "            return\n",
    "\n",
    "        n = self.head\n",
    "        while n.ref != None:\n",
    "            if n.ref.data == x:\n",
    "                break\n",
    "            n = n.ref\n",
    "\n",
    "        if n.ref == None:\n",
    "            print(\"Node is Not Found!\")\n",
    "        else:\n",
    "            new_node = Node(data)\n",
    "            new_node.ref = n.ref\n",
    "            n.ref = new_node\n",
    "    \n",
    "\n",
    "            \n",
    "        \n",
    "        "
   ]
  },
  {
   "cell_type": "code",
   "execution_count": 55,
   "id": "d3bcfed2",
   "metadata": {},
   "outputs": [],
   "source": [
    "LL1 = Linked_List()\n",
    "LL1.add_end(12)\n",
    "LL1.add_begin(90)\n",
    "LL1.add_begin(90)"
   ]
  },
  {
   "cell_type": "code",
   "execution_count": 56,
   "id": "018cc3ff",
   "metadata": {},
   "outputs": [],
   "source": [
    "LL1.add_after(10,90)"
   ]
  },
  {
   "cell_type": "code",
   "execution_count": 57,
   "id": "667d5c18",
   "metadata": {},
   "outputs": [
    {
     "name": "stdout",
     "output_type": "stream",
     "text": [
      "Node is not present in LL\n"
     ]
    }
   ],
   "source": [
    "LL1.add_after(10,80)"
   ]
  },
  {
   "cell_type": "code",
   "execution_count": 58,
   "id": "d73ee0b8",
   "metadata": {},
   "outputs": [],
   "source": [
    "LL1.add_before(11,90)"
   ]
  },
  {
   "cell_type": "code",
   "execution_count": 59,
   "id": "aa055ac2",
   "metadata": {},
   "outputs": [
    {
     "name": "stdout",
     "output_type": "stream",
     "text": [
      "11-->90-->10-->90-->12-->"
     ]
    }
   ],
   "source": [
    "LL1.print_LL()"
   ]
  },
  {
   "cell_type": "code",
   "execution_count": 28,
   "id": "b39a4752",
   "metadata": {},
   "outputs": [],
   "source": []
  },
  {
   "cell_type": "code",
   "execution_count": null,
   "id": "f17be66c",
   "metadata": {},
   "outputs": [],
   "source": []
  }
 ],
 "metadata": {
  "kernelspec": {
   "display_name": "Python 3 (ipykernel)",
   "language": "python",
   "name": "python3"
  },
  "language_info": {
   "codemirror_mode": {
    "name": "ipython",
    "version": 3
   },
   "file_extension": ".py",
   "mimetype": "text/x-python",
   "name": "python",
   "nbconvert_exporter": "python",
   "pygments_lexer": "ipython3",
   "version": "3.11.6"
  }
 },
 "nbformat": 4,
 "nbformat_minor": 5
}
