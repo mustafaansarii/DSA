{
 "cells": [
  {
   "cell_type": "markdown",
   "id": "d129f9c0",
   "metadata": {},
   "source": [
    "### Graph Data Structure: Simplified Notes\n",
    "\n",
    "**Definition:**\n",
    "- A **graph** is a non-linear data structure with **vertices** (nodes) and **edges** (lines or arcs).\n",
    "- **Vertices**: Fundamental units, can be labeled or unlabeled.\n",
    "- **Edges**: Connect two nodes, can be directed or undirected, and labeled or unlabeled.\n",
    "- Denoted as \\( G(V, E) \\) where \\( V \\) is the set of vertices and \\( E \\) is the set of edges.\n"
   ]
  },
  {
   "cell_type": "markdown",
   "id": "321141ca",
   "metadata": {},
   "source": [
    "<img src=\"https://media.geeksforgeeks.org/wp-content/uploads/20240403150314/graph-data-structure.webp\" alt=\"Graph Data Structure\">"
   ]
  },
  {
   "cell_type": "markdown",
   "id": "0a34950a",
   "metadata": {},
   "source": [
    "\n",
    "**Components:**\n",
    "1. **Vertices (Nodes)**: Individual entities in the graph.\n",
    "2. **Edges (Arcs)**: Connections between nodes.\n",
    "\n",
    "**Basic Operations:**\n",
    "1. **Insertion**: Add nodes or edges.\n",
    "2. **Deletion**: Remove nodes or edges.\n",
    "3. **Searching**: Locate entities in the graph.\n",
    "4. **Traversal**: Visit all nodes.\n",
    "\n",
    "**Advanced Operations:**\n",
    "1. **Shortest Paths**: Find shortest paths between nodes.\n",
    "2. **Minimum Spanning Tree**: Find minimum weight edges to connect all nodes in a weighted, undirected graph.\n",
    "\n",
    "**Applications:**\n",
    "- **Social Networks**: Nodes represent users, edges represent connections (friends, followers).\n",
    "- **Neural Networks**: Nodes are neurons, edges are synapses.\n",
    "- **Compilers**: Used for type inference, data flow analysis, etc.\n",
    "- **Robot Planning**: Nodes represent states, edges represent transitions.\n",
    "- **GPS Navigation**: Find shortest routes and locations.\n",
    "- **Network Design**: Optimize connections in networks (e.g., minimizing wire length).\n",
    "- **Sports Analytics**: Represent player interactions and team dynamics.\n",
    "- **Computer Networks**: Represent connections between routers and switches.\n",
    "- **Transportation**: Represent connections between locations (e.g., roads, airports).\n",
    "- **Project Management**: Represent task dependencies (topological sorting)."
   ]
  },
  {
   "cell_type": "code",
   "execution_count": null,
   "id": "554632fc",
   "metadata": {},
   "outputs": [],
   "source": []
  }
 ],
 "metadata": {
  "kernelspec": {
   "display_name": "Python 3 (ipykernel)",
   "language": "python",
   "name": "python3"
  },
  "language_info": {
   "codemirror_mode": {
    "name": "ipython",
    "version": 3
   },
   "file_extension": ".py",
   "mimetype": "text/x-python",
   "name": "python",
   "nbconvert_exporter": "python",
   "pygments_lexer": "ipython3",
   "version": "3.11.7"
  }
 },
 "nbformat": 4,
 "nbformat_minor": 5
}
