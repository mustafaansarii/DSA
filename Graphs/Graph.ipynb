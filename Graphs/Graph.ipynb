{
 "cells": [
  {
   "cell_type": "markdown",
   "id": "d129f9c0",
   "metadata": {},
   "source": [
    "### Graph Data Structure: Simplified Notes\n",
    "\n",
    "**Definition:**\n",
    "- A **graph** is a non-linear data structure with **vertices** (nodes) and **edges** (lines or arcs).\n",
    "- **Vertices**: Fundamental units, can be labeled or unlabeled.\n",
    "- **Edges**: Connect two nodes, can be directed or undirected, and labeled or unlabeled.\n",
    "- Denoted as \\( G(V, E) \\) where \\( V \\) is the set of vertices and \\( E \\) is the set of edges.\n"
   ]
  },
  {
   "cell_type": "markdown",
   "id": "321141ca",
   "metadata": {},
   "source": [
    "<img src=\"https://media.geeksforgeeks.org/wp-content/uploads/20240403150314/graph-data-structure.webp\" alt=\"Graph Data Structure\">"
   ]
  },
  {
   "cell_type": "markdown",
   "id": "0a34950a",
   "metadata": {},
   "source": [
    "\n",
    "**Components:**\n",
    "1. **Vertices (Nodes)**: Individual entities in the graph.\n",
    "2. **Edges (Arcs)**: Connections between nodes.\n",
    "\n",
    "**Basic Operations:**\n",
    "1. **Insertion**: Add nodes or edges.\n",
    "2. **Deletion**: Remove nodes or edges.\n",
    "3. **Searching**: Locate entities in the graph.\n",
    "4. **Traversal**: Visit all nodes.\n",
    "\n",
    "**Advanced Operations:**\n",
    "1. **Shortest Paths**: Find shortest paths between nodes.\n",
    "2. **Minimum Spanning Tree**: Find minimum weight edges to connect all nodes in a weighted, undirected graph.\n",
    "\n",
    "**Applications:**\n",
    "- **Social Networks**: Nodes represent users, edges represent connections (friends, followers).\n",
    "- **Neural Networks**: Nodes are neurons, edges are synapses.\n",
    "- **Compilers**: Used for type inference, data flow analysis, etc.\n",
    "- **Robot Planning**: Nodes represent states, edges represent transitions.\n",
    "- **GPS Navigation**: Find shortest routes and locations.\n",
    "- **Network Design**: Optimize connections in networks (e.g., minimizing wire length).\n",
    "- **Sports Analytics**: Represent player interactions and team dynamics.\n",
    "- **Computer Networks**: Represent connections between routers and switches.\n",
    "- **Transportation**: Represent connections between locations (e.g., roads, airports).\n",
    "- **Project Management**: Represent task dependencies (topological sorting)."
   ]
  },
  {
   "cell_type": "code",
   "execution_count": 59,
   "id": "f6f55426",
   "metadata": {},
   "outputs": [],
   "source": [
    "from collections import deque"
   ]
  },
  {
   "cell_type": "code",
   "execution_count": 1,
   "id": "cfd8a9ec",
   "metadata": {},
   "outputs": [],
   "source": [
    "def depth_first_search(visited,graph,start):\n",
    "    if start not in visited:\n",
    "        print(start, end=' ')\n",
    "        visited.add(start)\n",
    "        for adjacent in graph[start]:\n",
    "            depth_first_search(visited,graph,adjacent)"
   ]
  },
  {
   "cell_type": "code",
   "execution_count": 2,
   "id": "30720fb3",
   "metadata": {},
   "outputs": [
    {
     "name": "stdout",
     "output_type": "stream",
     "text": [
      "5 3 2 4 7 8 "
     ]
    }
   ],
   "source": [
    "if __name__==\"__main__\":\n",
    "    graph={\n",
    "        \"5\":[\"3\",\"7\"],\n",
    "        \"3\":[\"2\",\"4\"],\n",
    "        \"2\":[],\n",
    "        \"4\":[\"7\"],\n",
    "        \"8\":[],\n",
    "        \"7\":[\"8\"]\n",
    "    }\n",
    "    visited=set()\n",
    "    depth_first_search(visited,graph,\"5\")"
   ]
  },
  {
   "cell_type": "code",
   "execution_count": 54,
   "id": "44b97102",
   "metadata": {},
   "outputs": [],
   "source": [
    "def depth_first_search(graph, start):\n",
    "    visited = set()\n",
    "    stack = [start]\n",
    "\n",
    "    while stack:\n",
    "        node = stack.pop()\n",
    "        if node not in visited:\n",
    "            print(node, end=' ')\n",
    "            visited.add(node)\n",
    "            # Add unvisited neighbors to the stack\n",
    "            stack.extend(neighbor for neighbor in graph[node] if neighbor not in visited)\n"
   ]
  },
  {
   "cell_type": "code",
   "execution_count": 56,
   "id": "520adf20",
   "metadata": {},
   "outputs": [
    {
     "name": "stdout",
     "output_type": "stream",
     "text": [
      "3 4 7 8 2 "
     ]
    }
   ],
   "source": [
    "\n",
    "if __name__ == \"__main__\":\n",
    "    graph = {\n",
    "        \"5\": [\"3\", \"7\"],\n",
    "        \"3\": [\"2\", \"4\"],\n",
    "        \"2\": [],\n",
    "        \"4\": [\"7\"],\n",
    "        \"8\": [],\n",
    "        \"7\": [\"8\"]\n",
    "    }\n",
    "    depth_first_search(graph, \"3\")"
   ]
  },
  {
   "cell_type": "code",
   "execution_count": 75,
   "id": "e342438d",
   "metadata": {},
   "outputs": [],
   "source": [
    "def bredth_first_traversal(graph,start):\n",
    "    visited=set()\n",
    "    queue=deque([start])\n",
    "    while queue:\n",
    "        node=queue.popleft()\n",
    "        if node not in visited:\n",
    "            print(node, end=' ')\n",
    "            visited.add(node)\n",
    "            for adjacent in graph[node]:\n",
    "                if adjacent not in visited:\n",
    "                    queue.append(adjacent)"
   ]
  },
  {
   "cell_type": "code",
   "execution_count": 76,
   "id": "be52ae87",
   "metadata": {},
   "outputs": [
    {
     "name": "stdout",
     "output_type": "stream",
     "text": [
      "5 3 7 2 4 8 "
     ]
    }
   ],
   "source": [
    "\n",
    "if __name__ == \"__main__\":\n",
    "    graph = {\n",
    "        \"5\": [\"3\", \"7\"],\n",
    "        \"3\": [\"2\", \"4\"],\n",
    "        \"2\": [],\n",
    "        \"4\": [\"7\"],\n",
    "        \"8\": [],\n",
    "        \"7\": [\"8\"]\n",
    "    }\n",
    "    bredth_first_traversal(graph, \"5\")"
   ]
  },
  {
   "cell_type": "code",
   "execution_count": 91,
   "id": "2433fd3b",
   "metadata": {},
   "outputs": [
    {
     "name": "stdout",
     "output_type": "stream",
     "text": [
      "['0', '3', '2', '4', '7', '8', '7', '8']\n"
     ]
    }
   ],
   "source": [
    "def dfs(adj,node):\n",
    "    visited=set()\n",
    "    result=[]\n",
    "    if node not in visited:\n",
    "        result.append(node)\n",
    "        visited.add(node)\n",
    "        for adjacent in adj[node]:\n",
    "            result.extend(dfs(adj,adjacent))\n",
    "            \n",
    "\n",
    "    return result\n",
    "\n",
    "if __name__==\"__main__\":\n",
    "    graph={\n",
    "        \"0\":[\"3\",\"7\"],\n",
    "        \"3\":[\"2\",\"4\"],\n",
    "        \"2\":[],\n",
    "        \"4\":[\"7\"],\n",
    "        \"8\":[],\n",
    "        \"7\":[\"8\"]\n",
    "    }\n",
    "    visited=set()\n",
    "    a=dfs(graph,\"0\")\n",
    "    print(a)"
   ]
  },
  {
   "cell_type": "code",
   "execution_count": 23,
   "id": "fd6876f6",
   "metadata": {},
   "outputs": [],
   "source": [
    "def dfs(adj,node,visited=None):\n",
    "    if visited==None:\n",
    "        visited=set()\n",
    "    result=[]\n",
    "    if node not in visited:\n",
    "        visited.add(node)\n",
    "        result.append(node)\n",
    "        for adjacent in adj[node]:\n",
    "            if adjacent not in visited:\n",
    "                result.extend(dfs(adj,adjacent,visited))\n",
    "    return result\n"
   ]
  },
  {
   "cell_type": "code",
   "execution_count": 25,
   "id": "01c9a01c",
   "metadata": {},
   "outputs": [
    {
     "name": "stdout",
     "output_type": "stream",
     "text": [
      "[0, 1, 2, 3]\n"
     ]
    }
   ],
   "source": [
    "if __name__ == \"__main__\":\n",
    "    adj = {\n",
    "        0: [1, 2],\n",
    "        1: [2],\n",
    "        2: [0, 3],\n",
    "        3: [3]\n",
    "    }\n",
    "    print(dfs(adj,0))"
   ]
  },
  {
   "cell_type": "code",
   "execution_count": 19,
   "id": "7d99a14e",
   "metadata": {},
   "outputs": [],
   "source": [
    "def dfs(adj,node,visited=None):\n",
    "    if visited==None:\n",
    "        visited=set()\n",
    "    result=[]\n",
    "    if node not in visited:\n",
    "        result.append(node)\n",
    "        visited.add(node)\n",
    "        for adjacent in adj[node]:\n",
    "            if adjacent not in visited:\n",
    "                result.extend(dfs(adj,adjacent,visited))\n",
    "    return result "
   ]
  },
  {
   "cell_type": "code",
   "execution_count": 83,
   "id": "e46c1f6b",
   "metadata": {},
   "outputs": [],
   "source": [
    "def dFS(adj,start):\n",
    "    stack=[start]\n",
    "    visited=set()\n",
    "    result=[]\n",
    "    while stack:\n",
    "        node=stack.pop()\n",
    "        if node not in visited:\n",
    "            visited.add(node)\n",
    "            result.append(node)\n",
    "            stack.extend(adjacent for adjacent in adj[node] if adjacent not in visited)\n",
    "\n",
    "    return result\n"
   ]
  },
  {
   "cell_type": "code",
   "execution_count": 84,
   "id": "3aa41e34",
   "metadata": {},
   "outputs": [
    {
     "name": "stdout",
     "output_type": "stream",
     "text": [
      "[1, 2, 3, 0]\n"
     ]
    }
   ],
   "source": [
    "adj = {\n",
    "        0: [1, 2],\n",
    "        1: [2],\n",
    "        2: [0, 3],\n",
    "        3: [3]}\n",
    "\n",
    "print(dFS(adj,1))"
   ]
  },
  {
   "cell_type": "code",
   "execution_count": 85,
   "id": "4e178f93",
   "metadata": {},
   "outputs": [],
   "source": [
    "def BFS(adj,node1):\n",
    "    Queue=[node1]\n",
    "    visited=set()\n",
    "    result=[]\n",
    "    while Queue:\n",
    "        node=Queue.pop(0)\n",
    "        if node not in visited:\n",
    "            visited.add(node)\n",
    "            result.append(node)\n",
    "            Queue.extend(adjacent for adjacent in adj[node] if adjacent not in visited)\n",
    "    return result"
   ]
  },
  {
   "cell_type": "code",
   "execution_count": 86,
   "id": "953029e8",
   "metadata": {},
   "outputs": [
    {
     "name": "stdout",
     "output_type": "stream",
     "text": [
      "[0, 1, 2, 3]\n"
     ]
    }
   ],
   "source": [
    "adj = {\n",
    "        0: [1, 2],\n",
    "        1: [2],\n",
    "        2: [0, 3],\n",
    "        3: [3]}\n",
    "\n",
    "print(BFS(adj,0))"
   ]
  },
  {
   "cell_type": "markdown",
   "id": "b4c61bef",
   "metadata": {},
   "source": [
    "### dfs and bfs"
   ]
  },
  {
   "cell_type": "code",
   "execution_count": 10,
   "id": "9a20d9b7",
   "metadata": {},
   "outputs": [],
   "source": [
    "def dfs(adj,start):\n",
    "    visited=set()\n",
    "    stack=[start]\n",
    "    result=[]\n",
    "    while stack:\n",
    "        Node=stack.pop()\n",
    "        if Node not in visited:\n",
    "            visited.add(Node)\n",
    "            result.append(Node)\n",
    "            stack.extend(neighbor for neighbor in adj[Node] if neighbor not in visited)\n",
    "    return result\n",
    "\n"
   ]
  },
  {
   "cell_type": "code",
   "execution_count": 11,
   "id": "f318e471",
   "metadata": {},
   "outputs": [
    {
     "name": "stdout",
     "output_type": "stream",
     "text": [
      "['0', '2', '3', '5']\n"
     ]
    }
   ],
   "source": [
    "adj = {\n",
    "        \"0\": [\"5\", \"2\"],\n",
    "        \"1\": [\"2\"],\n",
    "        \"2\": [\"0\", \"3\"],\n",
    "        \"3\": [\"3\"],\n",
    "        \"5\":[]}\n",
    "\n",
    "print(dfs(adj,\"0\"))"
   ]
  },
  {
   "cell_type": "markdown",
   "id": "d006848f",
   "metadata": {},
   "source": [
    "<img src=\"https://media.geeksforgeeks.org/img-practice/PROD/addEditProblem/700219/Web/Other/891791f9-1abb-45b1-80f2-7af46d73dcd2_1685086491.png\">"
   ]
  },
  {
   "cell_type": "code",
   "execution_count": 4,
   "id": "974169f0",
   "metadata": {},
   "outputs": [],
   "source": [
    "class Solution:\n",
    "    #Function to detect cycle in an undirected graph.\n",
    "\tdef isCycle(self, V,adj) -> bool:\n",
    "\t\t#Code here\n",
    "\t\tvisited=set()\n",
    "\t\tQueue=[V]\n",
    "\t\tresult=[]\n",
    "\t\twhile Queue:\n",
    "\t\t\tcurr=Queue.pop(0)\n",
    "\t\t\tresult.append(curr)\n",
    "\t\t\tif curr not in visited:\n",
    "\t\t\t\tvisited.add(curr)\n",
    "\t\t\t\tQueue.extend(neighbor for neighbor in adj[curr] if neighbor not in visited)\n",
    "\t\treturn result"
   ]
  },
  {
   "cell_type": "code",
   "execution_count": 5,
   "id": "78bf8b32",
   "metadata": {},
   "outputs": [
    {
     "name": "stdout",
     "output_type": "stream",
     "text": [
      "[1, 3]\n"
     ]
    }
   ],
   "source": [
    "adj=[[2,4],\n",
    "    [1,3],\n",
    "\t[2,4],\n",
    "\t[1,3],\n",
    "    [1]]\n",
    "print(Solution().isCycle(1,adj))"
   ]
  },
  {
   "cell_type": "code",
   "execution_count": 35,
   "id": "642925ab",
   "metadata": {},
   "outputs": [],
   "source": [
    "def dfs( adj,v):\n",
    "    visited = set()\n",
    "    stack = [v]\n",
    "    while stack:\n",
    "        node = stack.pop()\n",
    "        if node not in visited:\n",
    "            visited.add(node)\n",
    "            print(node, end=\" \")\n",
    "            for neighbor in adj[node]:\n",
    "                if neighbor not in visited:\n",
    "                    stack.append(neighbor) \n"
   ]
  },
  {
   "cell_type": "code",
   "execution_count": 46,
   "id": "8cd17138",
   "metadata": {},
   "outputs": [],
   "source": [
    "def dfsr(start,visited,result,adj):\n",
    "    visited.add(start)\n",
    "    result.append(start)\n",
    "    for node in adj[start]:\n",
    "        if node not in visited:\n",
    "            dfsr(node,visited,result,adj)\n",
    "    return result"
   ]
  },
  {
   "cell_type": "code",
   "execution_count": 49,
   "id": "c1acb17a",
   "metadata": {},
   "outputs": [
    {
     "name": "stdout",
     "output_type": "stream",
     "text": [
      "['0', '5', '2', '3']\n"
     ]
    }
   ],
   "source": [
    "adj = {\n",
    "        \"0\": [\"5\", \"2\"],\n",
    "        \"1\": [\"2\"],\n",
    "        \"2\": [\"0\", \"3\"],\n",
    "        \"3\": [\"3\"],\n",
    "        \"5\":[]}\n",
    "\n",
    "result=[]\n",
    "visited=set()\n",
    "\n",
    "print(dfsr(\"0\",visited,result,adj))"
   ]
  },
  {
   "cell_type": "code",
   "execution_count": 51,
   "id": "37c1d6c3",
   "metadata": {},
   "outputs": [
    {
     "name": "stdout",
     "output_type": "stream",
     "text": [
      "0 2 3 5 "
     ]
    }
   ],
   "source": [
    "(dfs(adj,\"0\"))"
   ]
  },
  {
   "cell_type": "code",
   "execution_count": 56,
   "id": "d4dc6ed6",
   "metadata": {},
   "outputs": [],
   "source": [
    "from queue import Queue"
   ]
  },
  {
   "cell_type": "code",
   "execution_count": 79,
   "id": "d85bb0fe",
   "metadata": {},
   "outputs": [],
   "source": [
    "def bfs(start,adj):\n",
    "    visited=set()\n",
    "    q=Queue()\n",
    "    q.put(start)\n",
    "    while not q.empty():\n",
    "        node=q.get()\n",
    "        if node not in visited:\n",
    "            print(node,end=\" \")\n",
    "            visited.add(node)\n",
    "        for nodes in adj[node]:\n",
    "            if nodes not in visited:\n",
    "                q.put(nodes)\n",
    "    "
   ]
  },
  {
   "cell_type": "code",
   "execution_count": 80,
   "id": "ae2a9a08",
   "metadata": {},
   "outputs": [
    {
     "name": "stdout",
     "output_type": "stream",
     "text": [
      "0 5 2 3 None\n"
     ]
    }
   ],
   "source": [
    "adj = {\n",
    "        \"0\": [\"5\", \"2\"],\n",
    "        \"1\": [\"2\"],\n",
    "        \"2\": [\"0\", \"3\"],\n",
    "        \"3\": [\"3\"],\n",
    "        \"5\":[]}\n",
    "\n",
    "print(bfs(\"0\",adj))"
   ]
  },
  {
   "cell_type": "code",
   "execution_count": 81,
   "id": "328a5756",
   "metadata": {},
   "outputs": [
    {
     "name": "stdout",
     "output_type": "stream",
     "text": [
      "0 1 2 3 "
     ]
    }
   ],
   "source": [
    "adj = {\n",
    "        0: [1, 2],\n",
    "        1: [2],\n",
    "        2: [0, 3],\n",
    "        3: [3]}\n",
    "bfs(0,adj)"
   ]
  },
  {
   "cell_type": "code",
   "execution_count": null,
   "id": "963b5fc7",
   "metadata": {},
   "outputs": [],
   "source": []
  }
 ],
 "metadata": {
  "kernelspec": {
   "display_name": "Python 3",
   "language": "python",
   "name": "python3"
  },
  "language_info": {
   "codemirror_mode": {
    "name": "ipython",
    "version": 3
   },
   "file_extension": ".py",
   "mimetype": "text/x-python",
   "name": "python",
   "nbconvert_exporter": "python",
   "pygments_lexer": "ipython3",
   "version": "3.12.3"
  }
 },
 "nbformat": 4,
 "nbformat_minor": 5
}
