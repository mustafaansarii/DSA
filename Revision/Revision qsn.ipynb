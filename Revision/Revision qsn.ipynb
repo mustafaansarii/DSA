{
 "cells": [
  {
   "cell_type": "markdown",
   "id": "f4064bc1-d634-495e-ae3f-7485448a15dd",
   "metadata": {},
   "source": [
    "Sure, let's start revising Data Structures and Algorithms (DSA) from the beginning. We'll cover the fundamental concepts and then move on to more advanced topics. Here’s a structured plan:\n",
    "\n",
    "### 1. **Introduction to Data Structures and Algorithms**\n",
    "\n",
    "- **What is a Data Structure?**\n",
    "  - Definition and types (linear and non-linear)\n",
    "  - Importance and real-life applications\n",
    "\n",
    "- **What is an Algorithm?**\n",
    "  - Definition and characteristics\n",
    "  - Pseudocode and flowcharts\n",
    "\n",
    "- **Complexity Analysis**\n",
    "  - Time complexity (Big O notation)\n",
    "  - Space complexity\n",
    "  - Best, average, and worst-case scenarios\n",
    "\n",
    "### 2. **Basic Data Structures**\n",
    "\n",
    "- **Arrays**\n",
    "  - Definition and characteristics\n",
    "  - Operations: insertion, deletion, traversal, and searching\n",
    "  - Advantages and disadvantages\n",
    "\n",
    "- **Linked Lists**\n",
    "  - Definition and types (singly, doubly, circular)\n",
    "  - Operations: insertion, deletion, traversal, and searching\n",
    "  - Advantages and disadvantages\n",
    "\n",
    "- **Stacks**\n",
    "  - Definition and characteristics\n",
    "  - Operations: push, pop, peek\n",
    "  - Applications (e.g., expression evaluation)\n",
    "\n",
    "- **Queues**\n",
    "  - Definition and types (regular, circular, priority, deque)\n",
    "  - Operations: enqueue, dequeue, peek\n",
    "  - Applications (e.g., scheduling)\n",
    "\n",
    "### 3. **Advanced Data Structures**\n",
    "\n",
    "- **Trees**\n",
    "  - Definition and types (binary tree, binary search tree, AVL tree, etc.)\n",
    "  - Tree traversals: in-order, pre-order, post-order\n",
    "  - Operations: insertion, deletion, searching\n",
    "  - Applications (e.g., hierarchical data)\n",
    "\n",
    "- **Heaps**\n",
    "  - Definition and types (min-heap, max-heap)\n",
    "  - Operations: insertion, deletion, heapify\n",
    "  - Applications (e.g., priority queues)\n",
    "\n",
    "- **Graphs**\n",
    "  - Definition and types (directed, undirected, weighted, unweighted)\n",
    "  - Representations: adjacency matrix, adjacency list\n",
    "  - Traversals: BFS, DFS\n",
    "  - Applications (e.g., social networks, pathfinding)\n",
    "\n",
    "### 4. **Hashing**\n",
    "\n",
    "- **Hash Tables**\n",
    "  - Definition and characteristics\n",
    "  - Hash functions and collision resolution techniques (chaining, open addressing)\n",
    "  - Applications (e.g., dictionaries)\n",
    "\n",
    "### 5. **Sorting and Searching Algorithms**\n",
    "\n",
    "- **Sorting Algorithms**\n",
    "  - Bubble Sort, Selection Sort, Insertion Sort\n",
    "  - Merge Sort, Quick Sort, Heap Sort\n",
    "  - Time and space complexity of each algorithm\n",
    "\n",
    "- **Searching Algorithms**\n",
    "  - Linear Search\n",
    "  - Binary Search\n",
    "  - Time and space complexity of each algorithm\n",
    "\n",
    "### 6. **Advanced Algorithms**\n",
    "\n",
    "- **Dynamic Programming**\n",
    "  - Principles and methodology\n",
    "  - Examples: Fibonacci sequence, knapsack problem\n",
    "\n",
    "- **Greedy Algorithms**\n",
    "  - Principles and methodology\n",
    "  - Examples: coin change problem, Huffman coding\n",
    "\n",
    "- **Divide and Conquer**\n",
    "  - Principles and methodology\n",
    "  - Examples: merge sort, quick sort\n",
    "\n",
    "### 7. **Algorithmic Paradigms**\n",
    "\n",
    "- **Backtracking**\n",
    "  - Principles and methodology\n",
    "  - Examples: N-Queens problem, Sudoku solver\n",
    "\n",
    "- **Branch and Bound**\n",
    "  - Principles and methodology\n",
    "  - Examples: traveling salesman problem, knapsack problem\n",
    "\n",
    "### 8. **Practice Problems and Projects**\n",
    "\n",
    "- **LeetCode, HackerRank, CodeSignal**\n",
    "  - Practice problems categorized by topic\n",
    "\n",
    "- **Project Ideas**\n",
    "  - Implementing a custom data structure\n",
    "  - Developing a small application using various data structures and algorithms\n",
    "\n",
    "### Resources\n",
    "\n",
    "- **Books**\n",
    "  - \"Introduction to Algorithms\" by Cormen, Leiserson, Rivest, and Stein\n",
    "  - \"Data Structures and Algorithms in Java\" by Robert Lafore\n",
    "  - \"The Algorithm Design Manual\" by Steven S. Skiena\n",
    "\n",
    "- **Online Courses**\n",
    "  - Coursera, edX, Udemy, MIT OpenCourseWare\n",
    "\n",
    "Would you like to start with a specific topic or have any questions about the overview?"
   ]
  },
  {
   "cell_type": "markdown",
   "id": "56513d96-1b10-427b-ae56-9ffc0b252de5",
   "metadata": {},
   "source": [
    "### 1. Linked-list"
   ]
  },
  {
   "cell_type": "markdown",
   "id": "983d483a-376f-45ec-bee7-6b2d62a76ac7",
   "metadata": {},
   "source": [
    "### singly"
   ]
  },
  {
   "cell_type": "code",
   "execution_count": 25,
   "id": "dd21f814-d9b1-4b7a-a069-e940baa79238",
   "metadata": {},
   "outputs": [],
   "source": [
    "class Node:\n",
    "    def __init__(self,data):\n",
    "        self.data=data\n",
    "        self.next=None\n",
    "class SLL:\n",
    "    def __init__(self):\n",
    "        self.head=None\n",
    "        self.tail=None\n",
    "        \n",
    "    def append(self,data):\n",
    "        new_node=Node(data)\n",
    "        if self.head is None: \n",
    "            self.head=new_node\n",
    "            self.tail=new_node\n",
    "            return new_node.data\n",
    "        self.tail.next=new_node\n",
    "        self.tail=new_node\n",
    "        return new_node.data\n",
    "\n",
    "    def print(self):\n",
    "        n=self.head\n",
    "        while n:\n",
    "            print(n.data, end=' ')\n",
    "            n=n.next\n",
    "            \n",
    "    def appendleft(self,data):\n",
    "        new_node=Node(data)\n",
    "        if self.head==None:\n",
    "            self.head=new_node\n",
    "            self.tail=new_node\n",
    "            return self.head.data\n",
    "        new_node.next=self.head\n",
    "        self.head=new_node\n",
    "        return new_node.data\n",
    "        \n",
    "    def reverse(self):\n",
    "        if self.head !=None:\n",
    "            prev=None\n",
    "            curr=self.head\n",
    "            while curr:\n",
    "                temp=curr.next\n",
    "                curr.next=prev\n",
    "                prev=curr\n",
    "                curr=temp\n",
    "            self.head=prev\n",
    "\n",
    "Sll=SLL()"
   ]
  },
  {
   "cell_type": "code",
   "execution_count": 26,
   "id": "bfdc5d1a-1168-470f-8510-d91a567a851f",
   "metadata": {},
   "outputs": [],
   "source": []
  },
  {
   "cell_type": "code",
   "execution_count": 30,
   "id": "ca41efba-b923-404d-8107-1e0ee49165f4",
   "metadata": {},
   "outputs": [
    {
     "data": {
      "text/plain": [
       "4"
      ]
     },
     "execution_count": 30,
     "metadata": {},
     "output_type": "execute_result"
    }
   ],
   "source": [
    "Sll.append(4)"
   ]
  },
  {
   "cell_type": "code",
   "execution_count": 33,
   "id": "76614b39-3210-42d2-a628-adc26f45d39a",
   "metadata": {},
   "outputs": [
    {
     "name": "stdout",
     "output_type": "stream",
     "text": [
      "4 3 1 "
     ]
    }
   ],
   "source": [
    "Sll.print()"
   ]
  },
  {
   "cell_type": "code",
   "execution_count": 32,
   "id": "94fccfec-877c-4247-818b-dd6b28b453ea",
   "metadata": {},
   "outputs": [],
   "source": [
    "Sll.reverse()"
   ]
  },
  {
   "cell_type": "code",
   "execution_count": null,
   "id": "6205f160-8bbe-484f-93b1-8274cb064dcd",
   "metadata": {},
   "outputs": [],
   "source": []
  },
  {
   "cell_type": "code",
   "execution_count": 1,
   "id": "37fd4a05",
   "metadata": {},
   "outputs": [],
   "source": [
    "class CircularQueue:\n",
    "    \"\"\"\n",
    "    Implements a circular queue data structure in Python.\n",
    "\n",
    "    Attributes:\n",
    "        size (int): Maximum capacity of the queue.\n",
    "        queue (list): Internal array to store queue elements.\n",
    "        front (int): Index of the front element (or -1 if empty).\n",
    "        rear (int): Index of the rear element (or -1 if empty).\n",
    "    \"\"\"\n",
    "\n",
    "    def __init__(self, size):\n",
    "        \"\"\"\n",
    "        Initializes a circular queue with the specified size.\n",
    "\n",
    "        Args:\n",
    "            size (int): Maximum capacity of the queue.\n",
    "        \"\"\"\n",
    "\n",
    "        self.size = size\n",
    "        self.queue = [None] * size\n",
    "        self.front = self.rear = -1  # Initially, both front and rear point to -1 (empty queue)\n",
    "\n",
    "    def enqueue(self, data):\n",
    "        \"\"\"\n",
    "        Inserts an element into the circular queue.\n",
    "\n",
    "        Args:\n",
    "            data: The element to be enqueued.\n",
    "\n",
    "        Raises:\n",
    "            OverflowError: If the queue is full.\n",
    "        \"\"\"\n",
    "\n",
    "        if (self.rear + 1) % self.size == self.front:\n",
    "            raise OverflowError(\"Queue overflow!\")\n",
    "\n",
    "        elif self.front == -1:  # Queue is initially empty\n",
    "            self.front = self.rear = 0\n",
    "        else:\n",
    "            self.rear = (self.rear + 1) % self.size\n",
    "\n",
    "        self.queue[self.rear] = data\n",
    "\n",
    "    def dequeue(self):\n",
    "        \"\"\"\n",
    "        Removes and returns the front element from the circular queue.\n",
    "\n",
    "        Returns:\n",
    "            The dequeued element, or None if the queue is empty.\n",
    "\n",
    "        Raises:\n",
    "            UnderflowError: If the queue is empty.\n",
    "        \"\"\"\n",
    "\n",
    "        if self.front == -1:\n",
    "            raise UnderflowError(\"Queue underflow!\")\n",
    "\n",
    "        temp = self.queue[self.front]\n",
    "\n",
    "        if self.front == self.rear:  # Dequeueing the last element\n",
    "            self.front = self.rear = -1\n",
    "        else:\n",
    "            self.front = (self.front + 1) % self.size\n",
    "\n",
    "        return temp\n",
    "\n",
    "    def display(self):\n",
    "        \"\"\"\n",
    "        Prints the elements of the circular queue.\n",
    "        \"\"\"\n",
    "\n",
    "        if self.front == -1:\n",
    "            print(\"Queue is empty!\")\n",
    "        else:\n",
    "            print(\"Queue elements are:\", end=\" \")\n",
    "            start = self.front\n",
    "            while True:\n",
    "                print(self.queue[start], end=\" \")\n",
    "                start = (start + 1) % self.size\n",
    "                if start == self.rear:\n",
    "                    break\n",
    "            print()  # Print a newline at the end\n",
    "\n",
    "# Example usage\n",
    "q = CircularQueue(5)\n"
   ]
  },
  {
   "cell_type": "code",
   "execution_count": null,
   "id": "6d8ca68a",
   "metadata": {},
   "outputs": [],
   "source": []
  },
  {
   "cell_type": "code",
   "execution_count": 2,
   "id": "3c3f8baa",
   "metadata": {},
   "outputs": [
    {
     "name": "stdout",
     "output_type": "stream",
     "text": [
      "Queue elements are: 10 20 \n"
     ]
    }
   ],
   "source": [
    "q.enqueue(10)\n",
    "q.enqueue(20)\n",
    "q.enqueue(30)\n",
    "q.display()  # Output: Queue elements are: 10 20 30\n"
   ]
  },
  {
   "cell_type": "code",
   "execution_count": 3,
   "id": "a5aa90eb",
   "metadata": {},
   "outputs": [
    {
     "name": "stdout",
     "output_type": "stream",
     "text": [
      "10\n",
      "Queue elements are: 20 \n"
     ]
    }
   ],
   "source": [
    "\n",
    "print(q.dequeue())  # Output: 10\n",
    "q.display()  # Output: Queue elements are: 20 30\n"
   ]
  },
  {
   "cell_type": "code",
   "execution_count": 4,
   "id": "198b8635",
   "metadata": {},
   "outputs": [
    {
     "name": "stdout",
     "output_type": "stream",
     "text": [
      "Queue elements are: 20 30 40 \n"
     ]
    }
   ],
   "source": [
    "\n",
    "q.enqueue(40)\n",
    "q.enqueue(50)\n",
    "q.display()  # Output: Queue elements are: 20 30 40 50\n"
   ]
  },
  {
   "cell_type": "code",
   "execution_count": 5,
   "id": "8bd7e0d7",
   "metadata": {},
   "outputs": [],
   "source": [
    "\n",
    "try:\n",
    "    q.enqueue(60)  # Should raise OverflowError\n",
    "except OverflowError as e:\n",
    "    print(e)  # Output: Queue overflow!\n"
   ]
  },
  {
   "cell_type": "code",
   "execution_count": 6,
   "id": "0149528e",
   "metadata": {},
   "outputs": [
    {
     "name": "stdout",
     "output_type": "stream",
     "text": [
      "20\n",
      "30\n",
      "Queue elements are: 40 50 \n"
     ]
    }
   ],
   "source": [
    "\n",
    "print(q.dequeue())  # Output: 20\n",
    "print(q.dequeue())  # Output: 30\n",
    "q.display()  # Output: Queue elements are: 40 50\n"
   ]
  },
  {
   "cell_type": "code",
   "execution_count": 7,
   "id": "974180c4",
   "metadata": {},
   "outputs": [
    {
     "name": "stdout",
     "output_type": "stream",
     "text": [
      "40\n",
      "50\n"
     ]
    }
   ],
   "source": [
    "\n",
    "print(q.dequeue())  # Output: 40\n",
    "print(q.dequeue())  # Output: 50\n",
    "\n",
    "try:\n",
    "    q.dequeue()  # Should raise UnderflowError\n",
    "except UnderflowError as e:\n",
    "    print(e)  # Output: Queue underflow!\n"
   ]
  },
  {
   "cell_type": "code",
   "execution_count": 35,
   "id": "d978a24a",
   "metadata": {},
   "outputs": [],
   "source": [
    "q.enqueue(63)"
   ]
  },
  {
   "cell_type": "code",
   "execution_count": 34,
   "id": "f96f3d95",
   "metadata": {},
   "outputs": [
    {
     "name": "stdout",
     "output_type": "stream",
     "text": [
      "Queue is empty!\n"
     ]
    }
   ],
   "source": [
    "\n",
    "q.display() "
   ]
  },
  {
   "cell_type": "code",
   "execution_count": 36,
   "id": "374b462c",
   "metadata": {},
   "outputs": [
    {
     "name": "stdout",
     "output_type": "stream",
     "text": [
      "63\n"
     ]
    }
   ],
   "source": [
    "print(q.dequeue()) "
   ]
  },
  {
   "cell_type": "code",
   "execution_count": 56,
   "id": "eaa37385",
   "metadata": {},
   "outputs": [],
   "source": [
    "class Cq:\n",
    "    def __init__(self,size) -> None:\n",
    "        self.size=size;\n",
    "        self.Queue=[];\n",
    "\n",
    "    def append(self,data):\n",
    "        if len(self.Queue)<self.size:\n",
    "            self.Queue.append(data);\n",
    "            return data;\n",
    "        return \"CircularQueue overFlow!\"\n",
    "    def pop(self):\n",
    "        if len(self.Queue)>0:\n",
    "            a=self.Queue[0]\n",
    "            self.Queue.pop(0)\n",
    "            return a;\n",
    "        return \"CircularQueue underFlow!\"\n",
    "    def display(self):\n",
    "        for i in range(len(self.Queue)):\n",
    "            print(self.Queue[i], end=' ')\n",
    "\n",
    "\n",
    "\n",
    "CircularQueue=Cq(5)"
   ]
  },
  {
   "cell_type": "code",
   "execution_count": 63,
   "id": "5481b30f",
   "metadata": {},
   "outputs": [
    {
     "data": {
      "text/plain": [
       "4"
      ]
     },
     "execution_count": 63,
     "metadata": {},
     "output_type": "execute_result"
    }
   ],
   "source": [
    "CircularQueue.append(4)"
   ]
  },
  {
   "cell_type": "code",
   "execution_count": 70,
   "id": "6aea96ce",
   "metadata": {},
   "outputs": [],
   "source": [
    "CircularQueue.display()"
   ]
  },
  {
   "cell_type": "code",
   "execution_count": 69,
   "id": "1072170a",
   "metadata": {},
   "outputs": [
    {
     "data": {
      "text/plain": [
       "'CircularQueue underFlow!'"
      ]
     },
     "execution_count": 69,
     "metadata": {},
     "output_type": "execute_result"
    }
   ],
   "source": [
    "CircularQueue.pop()"
   ]
  },
  {
   "cell_type": "markdown",
   "id": "3a777183",
   "metadata": {},
   "source": [
    "The Fibonacci sequence \\( F_n \\) is defined by the recurrence relation:\n",
    "\\[ F_n = F_{n-1} + F_{n-2} \\]\n",
    "with the initial conditions:\n",
    "\\[ F_0 = 0 \\]\n",
    "\\[ F_1 = 1 \\]"
   ]
  },
  {
   "cell_type": "code",
   "execution_count": 18,
   "id": "b225c318",
   "metadata": {},
   "outputs": [
    {
     "name": "stdout",
     "output_type": "stream",
     "text": [
      "Fibonacci number F(3) is 2\n"
     ]
    }
   ],
   "source": [
    "import math\n",
    "\n",
    "def fibonacci_binet(n):\n",
    "    phi = (1 + math.sqrt(5)) / 2\n",
    "    psi = (1 - math.sqrt(5)) / 2\n",
    "    return round((phi**n - psi**n) / math.sqrt(5))\n",
    "\n",
    "# Example usage\n",
    "n = 3\n",
    "print(f\"Fibonacci number F({n}) is {fibonacci_binet(n)}\")\n"
   ]
  },
  {
   "cell_type": "code",
   "execution_count": 23,
   "id": "54e6f5bf",
   "metadata": {},
   "outputs": [],
   "source": [
    "def fibonacci_(n):\n",
    "    if n<=1:\n",
    "        return n\n",
    "    return fibonacci_(n-1)+fibonacci_(n-2)"
   ]
  },
  {
   "cell_type": "code",
   "execution_count": 25,
   "id": "d49ab34b",
   "metadata": {},
   "outputs": [
    {
     "data": {
      "text/plain": [
       "0"
      ]
     },
     "execution_count": 25,
     "metadata": {},
     "output_type": "execute_result"
    }
   ],
   "source": [
    "fibonacci_(0)"
   ]
  },
  {
   "cell_type": "code",
   "execution_count": 31,
   "id": "c3035507",
   "metadata": {},
   "outputs": [],
   "source": [
    "def duplicates_ele(arr):\n",
    "    a=[]\n",
    "    for i in range(len(arr)):\n",
    "        for j in range(1,len(arr)):\n",
    "            if arr[i]==arr[j]:\n",
    "                if arr[i] not in a:\n",
    "                    a.append(arr[i])\n",
    "    return a"
   ]
  },
  {
   "cell_type": "code",
   "execution_count": 32,
   "id": "74b2609b",
   "metadata": {},
   "outputs": [
    {
     "data": {
      "text/plain": [
       "[1, 3, 4, 32, 2, 76, 54, 23, 5, 6, 7, 8]"
      ]
     },
     "execution_count": 32,
     "metadata": {},
     "output_type": "execute_result"
    }
   ],
   "source": [
    "arr=[1,1,1,1,1,3,4,4,32,2,4,4,76,54,23,5,6,7,8,8]\n",
    "duplicates_ele(arr)"
   ]
  },
  {
   "cell_type": "code",
   "execution_count": null,
   "id": "b8e29b39",
   "metadata": {},
   "outputs": [],
   "source": []
  }
 ],
 "metadata": {
  "kernelspec": {
   "display_name": "Python 3 (ipykernel)",
   "language": "python",
   "name": "python3"
  },
  "language_info": {
   "codemirror_mode": {
    "name": "ipython",
    "version": 3
   },
   "file_extension": ".py",
   "mimetype": "text/x-python",
   "name": "python",
   "nbconvert_exporter": "python",
   "pygments_lexer": "ipython3",
   "version": "3.11.7"
  }
 },
 "nbformat": 4,
 "nbformat_minor": 5
}
