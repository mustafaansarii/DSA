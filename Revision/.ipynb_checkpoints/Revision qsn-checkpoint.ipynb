{
 "cells": [
  {
   "cell_type": "markdown",
   "id": "f4064bc1-d634-495e-ae3f-7485448a15dd",
   "metadata": {},
   "source": [
    "Sure, let's start revising Data Structures and Algorithms (DSA) from the beginning. We'll cover the fundamental concepts and then move on to more advanced topics. Here’s a structured plan:\n",
    "\n",
    "### 1. **Introduction to Data Structures and Algorithms**\n",
    "\n",
    "- **What is a Data Structure?**\n",
    "  - Definition and types (linear and non-linear)\n",
    "  - Importance and real-life applications\n",
    "\n",
    "- **What is an Algorithm?**\n",
    "  - Definition and characteristics\n",
    "  - Pseudocode and flowcharts\n",
    "\n",
    "- **Complexity Analysis**\n",
    "  - Time complexity (Big O notation)\n",
    "  - Space complexity\n",
    "  - Best, average, and worst-case scenarios\n",
    "\n",
    "### 2. **Basic Data Structures**\n",
    "\n",
    "- **Arrays**\n",
    "  - Definition and characteristics\n",
    "  - Operations: insertion, deletion, traversal, and searching\n",
    "  - Advantages and disadvantages\n",
    "\n",
    "- **Linked Lists**\n",
    "  - Definition and types (singly, doubly, circular)\n",
    "  - Operations: insertion, deletion, traversal, and searching\n",
    "  - Advantages and disadvantages\n",
    "\n",
    "- **Stacks**\n",
    "  - Definition and characteristics\n",
    "  - Operations: push, pop, peek\n",
    "  - Applications (e.g., expression evaluation)\n",
    "\n",
    "- **Queues**\n",
    "  - Definition and types (regular, circular, priority, deque)\n",
    "  - Operations: enqueue, dequeue, peek\n",
    "  - Applications (e.g., scheduling)\n",
    "\n",
    "### 3. **Advanced Data Structures**\n",
    "\n",
    "- **Trees**\n",
    "  - Definition and types (binary tree, binary search tree, AVL tree, etc.)\n",
    "  - Tree traversals: in-order, pre-order, post-order\n",
    "  - Operations: insertion, deletion, searching\n",
    "  - Applications (e.g., hierarchical data)\n",
    "\n",
    "- **Heaps**\n",
    "  - Definition and types (min-heap, max-heap)\n",
    "  - Operations: insertion, deletion, heapify\n",
    "  - Applications (e.g., priority queues)\n",
    "\n",
    "- **Graphs**\n",
    "  - Definition and types (directed, undirected, weighted, unweighted)\n",
    "  - Representations: adjacency matrix, adjacency list\n",
    "  - Traversals: BFS, DFS\n",
    "  - Applications (e.g., social networks, pathfinding)\n",
    "\n",
    "### 4. **Hashing**\n",
    "\n",
    "- **Hash Tables**\n",
    "  - Definition and characteristics\n",
    "  - Hash functions and collision resolution techniques (chaining, open addressing)\n",
    "  - Applications (e.g., dictionaries)\n",
    "\n",
    "### 5. **Sorting and Searching Algorithms**\n",
    "\n",
    "- **Sorting Algorithms**\n",
    "  - Bubble Sort, Selection Sort, Insertion Sort\n",
    "  - Merge Sort, Quick Sort, Heap Sort\n",
    "  - Time and space complexity of each algorithm\n",
    "\n",
    "- **Searching Algorithms**\n",
    "  - Linear Search\n",
    "  - Binary Search\n",
    "  - Time and space complexity of each algorithm\n",
    "\n",
    "### 6. **Advanced Algorithms**\n",
    "\n",
    "- **Dynamic Programming**\n",
    "  - Principles and methodology\n",
    "  - Examples: Fibonacci sequence, knapsack problem\n",
    "\n",
    "- **Greedy Algorithms**\n",
    "  - Principles and methodology\n",
    "  - Examples: coin change problem, Huffman coding\n",
    "\n",
    "- **Divide and Conquer**\n",
    "  - Principles and methodology\n",
    "  - Examples: merge sort, quick sort\n",
    "\n",
    "### 7. **Algorithmic Paradigms**\n",
    "\n",
    "- **Backtracking**\n",
    "  - Principles and methodology\n",
    "  - Examples: N-Queens problem, Sudoku solver\n",
    "\n",
    "- **Branch and Bound**\n",
    "  - Principles and methodology\n",
    "  - Examples: traveling salesman problem, knapsack problem\n",
    "\n",
    "### 8. **Practice Problems and Projects**\n",
    "\n",
    "- **LeetCode, HackerRank, CodeSignal**\n",
    "  - Practice problems categorized by topic\n",
    "\n",
    "- **Project Ideas**\n",
    "  - Implementing a custom data structure\n",
    "  - Developing a small application using various data structures and algorithms\n",
    "\n",
    "### Resources\n",
    "\n",
    "- **Books**\n",
    "  - \"Introduction to Algorithms\" by Cormen, Leiserson, Rivest, and Stein\n",
    "  - \"Data Structures and Algorithms in Java\" by Robert Lafore\n",
    "  - \"The Algorithm Design Manual\" by Steven S. Skiena\n",
    "\n",
    "- **Online Courses**\n",
    "  - Coursera, edX, Udemy, MIT OpenCourseWare\n",
    "\n",
    "Would you like to start with a specific topic or have any questions about the overview?"
   ]
  },
  {
   "cell_type": "markdown",
   "id": "56513d96-1b10-427b-ae56-9ffc0b252de5",
   "metadata": {},
   "source": [
    "### 1. Linked-list"
   ]
  },
  {
   "cell_type": "markdown",
   "id": "983d483a-376f-45ec-bee7-6b2d62a76ac7",
   "metadata": {},
   "source": [
    "### singly"
   ]
  },
  {
   "cell_type": "code",
   "execution_count": 25,
   "id": "dd21f814-d9b1-4b7a-a069-e940baa79238",
   "metadata": {},
   "outputs": [],
   "source": [
    "class Node:\n",
    "    def __init__(self,data):\n",
    "        self.data=data\n",
    "        self.next=None\n",
    "class SLL:\n",
    "    def __init__(self):\n",
    "        self.head=None\n",
    "        self.tail=None\n",
    "        \n",
    "    def append(self,data):\n",
    "        new_node=Node(data)\n",
    "        if self.head is None: \n",
    "            self.head=new_node\n",
    "            self.tail=new_node\n",
    "            return new_node.data\n",
    "        self.tail.next=new_node\n",
    "        self.tail=new_node\n",
    "        return new_node.data\n",
    "\n",
    "    def print(self):\n",
    "        n=self.head\n",
    "        while n:\n",
    "            print(n.data, end=' ')\n",
    "            n=n.next\n",
    "            \n",
    "    def appendleft(self,data):\n",
    "        new_node=Node(data)\n",
    "        if self.head==None:\n",
    "            self.head=new_node\n",
    "            self.tail=new_node\n",
    "            return self.head.data\n",
    "        new_node.next=self.head\n",
    "        self.head=new_node\n",
    "        return new_node.data\n",
    "        \n",
    "    def reverse(self):\n",
    "        if self.head !=None:\n",
    "            prev=None\n",
    "            curr=self.head\n",
    "            while curr:\n",
    "                temp=curr.next\n",
    "                curr.next=prev\n",
    "                prev=curr\n",
    "                curr=temp\n",
    "            self.head=prev\n",
    "\n",
    "Sll=SLL()"
   ]
  },
  {
   "cell_type": "code",
   "execution_count": 26,
   "id": "bfdc5d1a-1168-470f-8510-d91a567a851f",
   "metadata": {},
   "outputs": [],
   "source": []
  },
  {
   "cell_type": "code",
   "execution_count": 30,
   "id": "ca41efba-b923-404d-8107-1e0ee49165f4",
   "metadata": {},
   "outputs": [
    {
     "data": {
      "text/plain": [
       "4"
      ]
     },
     "execution_count": 30,
     "metadata": {},
     "output_type": "execute_result"
    }
   ],
   "source": [
    "Sll.append(4)"
   ]
  },
  {
   "cell_type": "code",
   "execution_count": 33,
   "id": "76614b39-3210-42d2-a628-adc26f45d39a",
   "metadata": {},
   "outputs": [
    {
     "name": "stdout",
     "output_type": "stream",
     "text": [
      "4 3 1 "
     ]
    }
   ],
   "source": [
    "Sll.print()"
   ]
  },
  {
   "cell_type": "code",
   "execution_count": 32,
   "id": "94fccfec-877c-4247-818b-dd6b28b453ea",
   "metadata": {},
   "outputs": [],
   "source": [
    "Sll.reverse()"
   ]
  },
  {
   "cell_type": "code",
   "execution_count": null,
   "id": "6205f160-8bbe-484f-93b1-8274cb064dcd",
   "metadata": {},
   "outputs": [],
   "source": []
  }
 ],
 "metadata": {
  "kernelspec": {
   "display_name": "Python 3 (ipykernel)",
   "language": "python",
   "name": "python3"
  },
  "language_info": {
   "codemirror_mode": {
    "name": "ipython",
    "version": 3
   },
   "file_extension": ".py",
   "mimetype": "text/x-python",
   "name": "python",
   "nbconvert_exporter": "python",
   "pygments_lexer": "ipython3",
   "version": "3.11.7"
  }
 },
 "nbformat": 4,
 "nbformat_minor": 5
}
