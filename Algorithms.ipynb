{
 "cells": [
  {
   "cell_type": "markdown",
   "id": "4b2964c9-c245-41dc-8fe4-d32b9d71b32a",
   "metadata": {},
   "source": [
    "# What is an Algorithms?"
   ]
  },
  {
   "cell_type": "markdown",
   "id": "7b7534ee-706c-40fa-9f7b-14381d801712",
   "metadata": {},
   "source": [
    "An algorithm is a step-by-step procedure or method for solving a problem or accomplishing some task. In computer science, algorithms are particularly important as they form the basis for writing computer programs. Algorithms provide a clear and unambiguous description of how to perform a task, enabling efficient problem-solving and automation."
   ]
  },
  {
   "cell_type": "markdown",
   "id": "4bbe25d7-2531-45ee-8511-c0d7b6b68ac5",
   "metadata": {},
   "source": [
    "## different types of Algorithms"
   ]
  },
  {
   "cell_type": "markdown",
   "id": "7e304285-0681-4d81-aa9f-e43cc6608698",
   "metadata": {},
   "source": [
    "\\begin{array}{|c|l|}\n",
    "\\hline\n",
    "\\textbf{S No.} & \\textbf{Algorithms} \\\\\n",
    "\\hline \n",
    "1 & \\textbf{Sorting Algorithms} \\\\\n",
    "\\hline\n",
    "2 & \\textbf{Searching Algorithms} \\\\\n",
    "\\hline\n",
    "3 & \\textbf{Greedy Algorithms} \\\\\n",
    "\\hline\n",
    "4 & \\textbf{Dynamic Programming} \\\\\n",
    "\\hline\n",
    "5 & \\textbf{Graph Algorithms} \\\\\n",
    "\\hline\n",
    "6 & \\textbf{Pattern Searching} \\\\\n",
    "\\hline\n",
    "7 & \\textbf{Recursion} \\\\\n",
    "\\hline\n",
    "8 & \\textbf{Backtracking} \\\\\n",
    "\\hline\n",
    "9 & \\textbf{Divide and Conquer} \\\\\n",
    "\\hline\n",
    "10 & \\textbf{Mathematical Algorithms} \\\\\n",
    "\\hline\n",
    "11 & \\textbf{Geometric Algorithms} \\\\\n",
    "\\hline\n",
    "12 & \\textbf{Bitwise Algorithms} \\\\\n",
    "\\hline\n",
    "13 & \\textbf{Randomized Algorithms} \\\\\n",
    "\\hline\n",
    "14 & \\textbf{Branch and Bound} \\\\\n",
    "\\hline\n",
    "\\end{array}\n"
   ]
  },
  {
   "cell_type": "markdown",
   "id": "34d97210-8b6e-413c-97fe-12f68eccec5e",
   "metadata": {},
   "source": [
    "# 1. Sorting Algorithms"
   ]
  },
  {
   "cell_type": "markdown",
   "id": "8bdbfbdb-c4ec-414b-b9f2-e937f7facb6a",
   "metadata": {},
   "source": [
    "**Sorting refers to rearrangement of a given array or list of elements according to a comparison operator on the elements. The comparison operator is used to decide the new order of elements in the respective data structure.**"
   ]
  },
  {
   "cell_type": "markdown",
   "id": "ceab1851-03f4-48bf-acee-4c4bba2cf085",
   "metadata": {},
   "source": [
    "### Types of Sorting Techniques\n",
    "There are various sorting algorithms are used in data structures. The following two types of sorting algorithms can be broadly classified:\n",
    "\n",
    "1. **Comparison-based:** We compare the elements in a comparison-based sorting algorithm)\n",
    "2. **Non-comparison-based:** We do not compare the elements in a non-comparison-based sorting algorithm)"
   ]
  },
  {
   "cell_type": "code",
   "execution_count": 2,
   "id": "b4404b64-ec94-4ad4-b932-ae2af0199608",
   "metadata": {},
   "outputs": [
    {
     "data": {
      "text/html": [
       "<img src=\"https://media.geeksforgeeks.org/wp-content/uploads/20220916131621/SortingTYPE.png\"/>"
      ],
      "text/plain": [
       "<IPython.core.display.Image object>"
      ]
     },
     "execution_count": 2,
     "metadata": {},
     "output_type": "execute_result"
    }
   ],
   "source": [
    "from IPython.display import Image\n",
    "Image(url='https://media.geeksforgeeks.org/wp-content/uploads/20220916131621/SortingTYPE.png')"
   ]
  },
  {
   "cell_type": "markdown",
   "id": "829915dd-1de2-473c-960a-b2c92604788f",
   "metadata": {},
   "source": [
    "**Why sorting need?** <br>\n",
    "-The sorting algorithm is important in Computer Science because it reduces the complexity of a problem."
   ]
  },
  {
   "cell_type": "markdown",
   "id": "98f4a2a3-13bc-41e9-ae70-72dbaf7753da",
   "metadata": {},
   "source": [
    "### Space Complexity & Time Complexity of different types of Sorting Algorithms"
   ]
  },
  {
   "cell_type": "markdown",
   "id": "c4cbcb7a-dfdb-4e59-91d4-04662867b5c9",
   "metadata": {},
   "source": [
    "\\begin{array}{|l|c|c|c|c|}\n",
    "\\hline\n",
    "\\textbf{Sorting Algorithm} & \\textbf{Time Complexity - Best} & \\textbf{Time Complexity - Worst} & \\textbf{Time Complexity - Average} & \\textbf{Space Complexity} \\\\\n",
    "\\hline\n",
    "\\text{Bubble Sort} & n & n^2 & n^2 & 1 \\\\\n",
    "\\hline\n",
    "\\text{Selection Sort} & n^2 & n^2 & n^2 & 1 \\\\\n",
    "\\hline\n",
    "\\text{Insertion Sort} & n & n^2 & n^2 & 1 \\\\\n",
    "\\hline\n",
    "\\text{Merge Sort} & n\\log n & n\\log n & n\\log n & n \\\\\n",
    "\\hline\n",
    "\\text{Quicksort} & n\\log n & n^2 & n\\log n & \\log n \\\\\n",
    "\\hline\n",
    "\\text{Counting Sort} & n+k & n+k & n+k & \\text{max} \\\\\n",
    "\\hline\n",
    "\\text{Radix Sort} & n+k & n+k & n+k & \\text{max} \\\\\n",
    "\\hline\n",
    "\\text{Bucket Sort} & n+k & n^2 & n & n+k \\\\\n",
    "\\hline\n",
    "\\text{Heap Sort} & n\\log n & n\\log n & n\\log n & 1 \\\\\n",
    "\\hline\n",
    "\\text{Shell Sort} & n\\log n & n^2 & n\\log n & 1 \\\\\n",
    "\\hline\n",
    "\\end{array}\n"
   ]
  },
  {
   "cell_type": "markdown",
   "id": "05ec9224-8b22-44ae-9443-5c3ed9724192",
   "metadata": {},
   "source": [
    "# I. Bubble Sort"
   ]
  },
  {
   "cell_type": "markdown",
   "id": "27349a5e-11fe-4719-a74a-ab3306537824",
   "metadata": {},
   "source": [
    "Bubble sort is a sorting algorithm that compares two adjacent elements and swaps them until they are in the intended order.\n",
    "\n",
    "Just like the movement of air bubbles in the water that rise up to the surface, each element of the array move to the end in each iteration. Therefore, it is called a bubble sort. <br>\n",
    "**Working of Bubble Sort**<br>\n",
    "Suppose we are trying to sort the elements in ascending order.\n",
    "\n",
    "**1. First Iteration (Compare and Swap)**\n",
    "\n",
    "1. Starting from the first index, compare the first and the second elements.\n",
    "2. If the first element is greater than the second element, they are swapped.\n",
    "3. Now, compare the second and the third elements. Swap them if they are not in order.\n",
    "4. The above process goes on until the last element.\n"
   ]
  },
  {
   "cell_type": "code",
   "execution_count": 3,
   "id": "5d036c3b-8ee5-4c21-8d90-f647d1c5f017",
   "metadata": {},
   "outputs": [
    {
     "data": {
      "text/html": [
       "<img src=\"https://www.programiz.com/sites/tutorial2program/files/Bubble-sort-0.png\"/>"
      ],
      "text/plain": [
       "<IPython.core.display.Image object>"
      ]
     },
     "execution_count": 3,
     "metadata": {},
     "output_type": "execute_result"
    }
   ],
   "source": [
    "Image(url='https://www.programiz.com/sites/tutorial2program/files/Bubble-sort-0.png')"
   ]
  },
  {
   "cell_type": "markdown",
   "id": "a36300eb-f380-41c3-801b-bb957cc59ea1",
   "metadata": {},
   "source": [
    "**2. Remaining Iteration**\n",
    "\n",
    "The same process goes on for the remaining iterations.\n",
    "\n",
    "After each iteration, the largest element among the unsorted elements is placed at the end."
   ]
  },
  {
   "cell_type": "code",
   "execution_count": 4,
   "id": "89b23df3-a4c0-42b9-af6a-087c01284856",
   "metadata": {},
   "outputs": [
    {
     "data": {
      "text/html": [
       "<img src=\"https://www.programiz.com/sites/tutorial2program/files/Bubble-sort-1.png\"/>"
      ],
      "text/plain": [
       "<IPython.core.display.Image object>"
      ]
     },
     "execution_count": 4,
     "metadata": {},
     "output_type": "execute_result"
    }
   ],
   "source": [
    "Image(url='https://www.programiz.com/sites/tutorial2program/files/Bubble-sort-1.png')"
   ]
  },
  {
   "cell_type": "code",
   "execution_count": 5,
   "id": "f6230eba-b97f-4d64-a98e-2ed81884d8d9",
   "metadata": {},
   "outputs": [
    {
     "data": {
      "text/html": [
       "<img src=\"https://www.programiz.com/sites/tutorial2program/files/Bubble-sort-2.png\"/>"
      ],
      "text/plain": [
       "<IPython.core.display.Image object>"
      ]
     },
     "execution_count": 5,
     "metadata": {},
     "output_type": "execute_result"
    }
   ],
   "source": [
    "Image(url='https://www.programiz.com/sites/tutorial2program/files/Bubble-sort-2.png')"
   ]
  },
  {
   "cell_type": "code",
   "execution_count": 6,
   "id": "b6a660fd-8300-4b20-a590-f155e6985cca",
   "metadata": {},
   "outputs": [
    {
     "data": {
      "text/html": [
       "<img src=\"https://www.programiz.com/sites/tutorial2program/files/Bubble-sort-3.png\"/>"
      ],
      "text/plain": [
       "<IPython.core.display.Image object>"
      ]
     },
     "execution_count": 6,
     "metadata": {},
     "output_type": "execute_result"
    }
   ],
   "source": [
    "Image(url='https://www.programiz.com/sites/tutorial2program/files/Bubble-sort-3.png')"
   ]
  },
  {
   "cell_type": "markdown",
   "id": "70f9a28f-eae0-4371-95f6-c55a32072bd1",
   "metadata": {},
   "source": [
    "### Bubble Sort Algorithm"
   ]
  },
  {
   "cell_type": "raw",
   "id": "7272aab0-db90-4bcd-bf0d-92f5974163e6",
   "metadata": {},
   "source": [
    "bubbleSort(array)\n",
    "  for i <- 1 to indexOfLastUnsortedElement-1\n",
    "    if leftElement > rightElement\n",
    "      swap leftElement and rightElement\n",
    "end bubbleSort"
   ]
  },
  {
   "cell_type": "code",
   "execution_count": 7,
   "id": "dd20d26d-ca62-4416-8bdc-ca59eca3602d",
   "metadata": {},
   "outputs": [],
   "source": [
    "from numpy import array"
   ]
  },
  {
   "cell_type": "code",
   "execution_count": 8,
   "id": "8b350506-3501-4229-87a3-891fe6eae7fe",
   "metadata": {},
   "outputs": [
    {
     "name": "stdout",
     "output_type": "stream",
     "text": [
      "unsorted array: [34 64  3  5  6 78  4]\n",
      "sorted array: [ 3  4  5  6 34 64 78]\n"
     ]
    }
   ],
   "source": [
    "def bubble_sort(arr):\n",
    "    for r in range(1,len(arr)):\n",
    "        for i in range (len(arr)-r):\n",
    "            if arr[i]>arr[i+1]:\n",
    "                arr[i],arr[i+1]=arr[i+1],arr[i]\n",
    "                \n",
    "l=array([34,64,3,5,6,78,4])\n",
    "print('unsorted array:',l)\n",
    "bubble_sort(l)\n",
    "print('sorted array:',l)"
   ]
  },
  {
   "cell_type": "code",
   "execution_count": 9,
   "id": "6b063a7f-8583-4a9e-b773-1d5f0c852f6f",
   "metadata": {},
   "outputs": [
    {
     "name": "stdout",
     "output_type": "stream",
     "text": [
      "step: 1\n",
      "[13 64 33 35 26 78  4]\n",
      "[13 33 64 35 26 78  4]\n",
      "[13 33 35 64 26 78  4]\n",
      "[13 33 35 26 64 78  4]\n",
      "[13 33 35 26 64 78  4]\n",
      "[13 33 35 26 64  4 78]\n",
      "\n",
      "step: 2\n",
      "[13 33 35 26 64  4 78]\n",
      "[13 33 35 26 64  4 78]\n",
      "[13 33 26 35 64  4 78]\n",
      "[13 33 26 35 64  4 78]\n",
      "[13 33 26 35  4 64 78]\n",
      "\n",
      "step: 3\n",
      "[13 33 26 35  4 64 78]\n",
      "[13 26 33 35  4 64 78]\n",
      "[13 26 33 35  4 64 78]\n",
      "[13 26 33  4 35 64 78]\n",
      "\n",
      "step: 4\n",
      "[13 26 33  4 35 64 78]\n",
      "[13 26 33  4 35 64 78]\n",
      "[13 26  4 33 35 64 78]\n",
      "\n",
      "step: 5\n",
      "[13 26  4 33 35 64 78]\n",
      "[13  4 26 33 35 64 78]\n",
      "\n",
      "step: 6\n",
      "[ 4 13 26 33 35 64 78]\n",
      "\n",
      "sorted array: [ 4 13 26 33 35 64 78]\n"
     ]
    }
   ],
   "source": [
    "def Bubble_Sort(arr):\n",
    "    for r in range(1,len(arr)):\n",
    "        print(f'step: {r}')\n",
    "        for i in range (len(arr)-r):\n",
    "            if arr[i]>arr[i+1]:\n",
    "                arr[i],arr[i+1]=arr[i+1],arr[i]\n",
    "                print(arr)\n",
    "            else:\n",
    "                print(arr)\n",
    "        print()\n",
    "            \n",
    "A=array([13,64,33,35,26,78,4])\n",
    "\n",
    "Bubble_Sort(A)\n",
    "print('sorted array:',A)"
   ]
  },
  {
   "cell_type": "code",
   "execution_count": 14,
   "id": "b9568b59-c603-4ea0-a580-ffd54e2402de",
   "metadata": {},
   "outputs": [
    {
     "data": {
      "text/plain": [
       "array([ 12,  32,  32, 243, 453, 544])"
      ]
     },
     "execution_count": 14,
     "metadata": {},
     "output_type": "execute_result"
    }
   ],
   "source": [
    "def bubblesort(arr):\n",
    "    size= len(arr)\n",
    "    for k in range(size-1):\n",
    "        for i in range(size-1):\n",
    "            if arr[i]>arr[i+1]:\n",
    "                arr[i],arr[i+1]=arr[i+1],arr[i]\n",
    "\n",
    "A=array([544,32,32,12,243,453])\n",
    "bubblesort(A)\n",
    "A"
   ]
  },
  {
   "cell_type": "markdown",
   "id": "634935d5-e76c-4c57-bd80-6b8cd3d4366f",
   "metadata": {},
   "source": [
    "**Optimized Bubble Sort Algorithm**"
   ]
  },
  {
   "cell_type": "markdown",
   "id": "40be5fbe-c6c1-4802-a1f3-fb42c1dbe65f",
   "metadata": {},
   "source": [
    "In the above algorithm, all the comparisons are made even if the array is already sorted.\n",
    "\n",
    "This increases the execution time.\n",
    "\n",
    "To solve this, we can introduce an extra variable swapped. The value of swapped is set true if there occurs swapping of elements. Otherwise, it is set false.\n",
    "\n",
    "After an iteration, if there is no swapping, the value of swapped will be false. This means elements are already sorted and there is no need to perform further iterations.\n",
    "\n",
    "This will reduce the execution time and helps to optimize the bubble sort."
   ]
  },
  {
   "cell_type": "markdown",
   "id": "18c0d0cf-42cb-4ff1-9709-4c8c55983f44",
   "metadata": {},
   "source": [
    "### Algorithm for optimized bubble sort"
   ]
  },
  {
   "cell_type": "raw",
   "id": "63879990-00d8-411e-b777-a68075b14c9e",
   "metadata": {},
   "source": [
    "bubbleSort(array)\n",
    "  swapped <- false\n",
    "  for i <- 1 to indexOfLastUnsortedElement-1\n",
    "    if leftElement > rightElement\n",
    "      swap leftElement and rightElement\n",
    "      swapped <- true\n",
    "end bubbleSort"
   ]
  },
  {
   "cell_type": "code",
   "execution_count": 16,
   "id": "d1b63602-591c-473e-bb0c-3225bf776540",
   "metadata": {},
   "outputs": [
    {
     "data": {
      "text/plain": [
       "array([ 12,  32,  32, 243, 453, 544])"
      ]
     },
     "execution_count": 16,
     "metadata": {},
     "output_type": "execute_result"
    }
   ],
   "source": [
    "def bubblesort(arr):\n",
    "    size= len(arr)\n",
    "    for k in range(size-1):\n",
    "        swapped=False\n",
    "        for i in range(size-1):\n",
    "            if arr[i]>arr[i+1]:\n",
    "                arr[i],arr[i+1]=arr[i+1],arr[i]\n",
    "                swapped=True\n",
    "        if not swapped:\n",
    "            break\n",
    "\n",
    "A=array([544,32,32,12,243,453])\n",
    "bubblesort(A)\n",
    "A        "
   ]
  },
  {
   "cell_type": "markdown",
   "id": "86128168-0b85-4b27-a1a7-83c59397739f",
   "metadata": {},
   "source": [
    "# II. Selection Sort "
   ]
  },
  {
   "cell_type": "markdown",
   "id": "49014b53-b4a4-49b6-8679-ab4bf506623d",
   "metadata": {},
   "source": [
    "Selection sort is a sorting algorithm that selects the smallest element from an unsorted list in each iteration and places that element at the beginning of the unsorted list."
   ]
  },
  {
   "cell_type": "code",
   "execution_count": 18,
   "id": "2d873533-db77-4a53-b1ac-1e7fdd1d3568",
   "metadata": {},
   "outputs": [
    {
     "data": {
      "text/html": [
       "<img src=\"https://miro.medium.com/v2/resize:fit:750/format:webp/0*pK2-pSUoAnIR_Eg7.png\"/>"
      ],
      "text/plain": [
       "<IPython.core.display.Image object>"
      ]
     },
     "execution_count": 18,
     "metadata": {},
     "output_type": "execute_result"
    }
   ],
   "source": [
    "Image(url='https://miro.medium.com/v2/resize:fit:750/format:webp/0*pK2-pSUoAnIR_Eg7.png')"
   ]
  },
  {
   "cell_type": "code",
   "execution_count": 29,
   "id": "d3a8fc2c-b0c5-4d7e-b0fe-32f2245b9227",
   "metadata": {},
   "outputs": [
    {
     "name": "stdout",
     "output_type": "stream",
     "text": [
      "[ 1  5  7 12 12 34 34 34]\n"
     ]
    }
   ],
   "source": [
    "def selection_sort(arr):\n",
    "    size=len(arr)\n",
    "    for i in range(size-1):\n",
    "        min_index=i\n",
    "        for j in range(min_index+1,size):\n",
    "            if arr[j]<arr[min_index]:\n",
    "                min_index= j\n",
    "        if i!=min_index:\n",
    "            arr[i],arr[min_index]=arr[min_index],arr[i]\n",
    "            \n",
    "A=array([34,5,7,12,34,34,12,1])\n",
    "selection_sort(A)\n",
    "print(A)"
   ]
  },
  {
   "cell_type": "code",
   "execution_count": null,
   "id": "4822cafb-2b06-4b1a-b6ed-4edb705142b4",
   "metadata": {},
   "outputs": [],
   "source": []
  }
 ],
 "metadata": {
  "kernelspec": {
   "display_name": "Python 3 (ipykernel)",
   "language": "python",
   "name": "python3"
  },
  "language_info": {
   "codemirror_mode": {
    "name": "ipython",
    "version": 3
   },
   "file_extension": ".py",
   "mimetype": "text/x-python",
   "name": "python",
   "nbconvert_exporter": "python",
   "pygments_lexer": "ipython3",
   "version": "3.11.7"
  }
 },
 "nbformat": 4,
 "nbformat_minor": 5
}
