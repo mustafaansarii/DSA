{
 "cells": [
  {
   "cell_type": "markdown",
   "metadata": {},
   "source": [
    "\\begin{array}{|c|c|l|}\n",
    "\\hline\n",
    "\\text{S. No.} & \\text{Complexity} & \\text{Name} & \\text{Description} \\\\\n",
    "\\hline\n",
    "1 & O(1) & \\text{Constant} & \\text{Executes in a constant amount of time, regardless of input size.} \\\\\n",
    "\\hline\n",
    "2 & O(\\log n) & \\text{Logarithmic} & \\text{Time increases logarithmically with the input size.} \\\\\n",
    "\\hline\n",
    "3 & O(n) & \\text{Linear} & \\text{Time increases linearly with the input size.} \\\\\n",
    "\\hline\n",
    "4 & O(n \\log n) & \\text{Linearithmic} & \\text{Time grows in proportion to } n \\text{ times the logarithm of } n. \\\\\n",
    "\\hline\n",
    "5 & O(n^2) & \\text{Quadratic} & \\text{Time grows quadratically with the input size.} \\\\\n",
    "\\hline\n",
    "6 & O(n^3) & \\text{Cubic} & \\text{Time grows cubically with the input size.} \\\\\n",
    "\\hline\n",
    "7 & O(2^n) & \\text{Exponential} & \\text{Time doubles with each additional element in the input.} \\\\\n",
    "\\hline\n",
    "8 & O(n!) & \\text{Factorial} & \\text{Time grows factorially with the input size.} \\\\\n",
    "\\hline\n",
    "\\end{array}\n"
   ]
  },
  {
   "cell_type": "markdown",
   "metadata": {},
   "source": [
    "| Algorithm         | Worst-case Complexity | Description                                                                  |\n",
    "|-------------------|-----------------------|------------------------------------------------------------------------------|\n",
    "| Bubble Sort       | O(n^2)                | Iteratively compares adjacent elements and swaps them if they are in the wrong order. |\n",
    "| Selection Sort    | O(n^2)                | Selects the smallest element from the unsorted portion and moves it to the beginning. |\n",
    "| Insertion Sort    | O(n^2)                | Builds a sorted array by repeatedly taking the next element and inserting it into the correct position in the already sorted part. |\n",
    "| Shell Sort        | O(n log^2 n)          | Improves insertion sort by comparing elements that are distant from each other. |\n",
    "| Merge Sort        | O(n log n)            | Divides the array into halves, sorts the halves recursively, and then merges them. |\n",
    "| Quick Sort        | O(n^2)                | Divides the array based on a pivot element, recursively sorts sub-arrays, and finally combines them. However, with a good choice of pivot, its average-case complexity is O(n log n). |\n",
    "| Heap Sort         | O(n log n)            | Builds a max/min heap from the array and repeatedly extracts the root element to create a sorted array. |\n",
    "| Counting Sort     | O(n + k)              | Assumes that the input elements are integers within a specific range and uses this property to sort them efficiently. |\n",
    "| Radix Sort        | O(n * k)              | Sorts integers by grouping them by individual digits and sorting them accordingly. |\n",
    "| Bucket Sort       | O(n^2)                | Distributes elements into different buckets, sorts each bucket individually, and then combines them. The complexity can vary depending on the sorting algorithm used for individual buckets. |"
   ]
  },
  {
   "cell_type": "code",
   "execution_count": 19,
   "metadata": {},
   "outputs": [],
   "source": [
    "def linear_search(arr,n,x):\n",
    "    for i in range(n):\n",
    "        if arr[i]==x:\n",
    "            return i\n",
    "    return -1\n",
    "        "
   ]
  },
  {
   "cell_type": "code",
   "execution_count": 20,
   "metadata": {},
   "outputs": [
    {
     "data": {
      "text/plain": [
       "0"
      ]
     },
     "execution_count": 20,
     "metadata": {},
     "output_type": "execute_result"
    }
   ],
   "source": [
    "arr=[1,2,3,4,5,5,67,8,9]\n",
    "linear_search(arr,len(arr),1)"
   ]
  },
  {
   "cell_type": "code",
   "execution_count": 133,
   "metadata": {},
   "outputs": [],
   "source": [
    "def binary_search(arr,left,right,x):\n",
    "    mid=left+(right-left)//2\n",
    "    print(\"left:\", left)\n",
    "    print(\"right:\", right)\n",
    "    print(\"mid:\",mid)\n",
    "    if arr[mid]==x:\n",
    "        return mid\n",
    "    if x in arr:\n",
    "        if arr[mid]>x:\n",
    "            return binary_search(arr,left,mid-1,x)\n",
    "        \n",
    "        if arr[mid]<x:\n",
    "            return binary_search(arr,mid+1,right,x)\n",
    "    return -1\n",
    "    \n",
    "arr=[1,2,3,4,5,6,7,8,9]\n",
    "binary_search(arr,0,len(arr),9)"
   ]
  },
  {
   "cell_type": "code",
   "execution_count": 134,
   "metadata": {},
   "outputs": [
    {
     "name": "stdout",
     "output_type": "stream",
     "text": [
      "left: 0\n",
      "right: 9\n",
      "mid: 4\n",
      "left: 5\n",
      "right: 9\n",
      "mid: 7\n",
      "left: 8\n",
      "right: 9\n",
      "mid: 8\n"
     ]
    },
    {
     "data": {
      "text/plain": [
       "8"
      ]
     },
     "execution_count": 134,
     "metadata": {},
     "output_type": "execute_result"
    }
   ],
   "source": [
    "arr=[1,2,3,4,5,6,7,8,9]\n",
    "binary_search(arr,0,len(arr),9)"
   ]
  },
  {
   "cell_type": "code",
   "execution_count": 50,
   "metadata": {},
   "outputs": [
    {
     "name": "stdout",
     "output_type": "stream",
     "text": [
      "[1, 2, 3]\n"
     ]
    }
   ],
   "source": [
    "def b_search(arr)"
   ]
  },
  {
   "cell_type": "code",
   "execution_count": 1,
   "metadata": {},
   "outputs": [],
   "source": [
    "def binary_search(arr, left, right, x):\n",
    "    if left > right:\n",
    "        return -1  \n",
    "\n",
    "    mid = left + (right - left) // 2\n",
    "    \n",
    "    if arr[mid] == x:\n",
    "        return mid\n",
    "    elif arr[mid] > x:\n",
    "        return binary_search(arr, left, mid - 1, x)\n",
    "    else:\n",
    "        return binary_search(arr, mid + 1, right, x)"
   ]
  },
  {
   "cell_type": "code",
   "execution_count": 2,
   "metadata": {},
   "outputs": [
    {
     "data": {
      "text/plain": [
       "-1"
      ]
     },
     "execution_count": 2,
     "metadata": {},
     "output_type": "execute_result"
    }
   ],
   "source": [
    "arr = [1, 2, 3, 4, 5, 6, 7, 8, 9]\n",
    "result = binary_search(arr, 0, len(arr) - 1, 99)\n",
    "result"
   ]
  },
  {
   "cell_type": "code",
   "execution_count": 3,
   "metadata": {},
   "outputs": [],
   "source": [
    "def binary_search(arr,left,right,x):\n",
    "    if left>right:\n",
    "        return -1\n",
    "    mid=(left+right)//2\n",
    "    if arr[mid]==x:\n",
    "        return mid\n",
    "    if arr[mid]>x:\n",
    "        return binary_search(arr,left,mid-1,x)\n",
    "    if arr[mid]<x:\n",
    "        return binary_search(arr,mid+1,right,x)"
   ]
  },
  {
   "cell_type": "code",
   "execution_count": 5,
   "metadata": {},
   "outputs": [
    {
     "data": {
      "text/plain": [
       "0"
      ]
     },
     "execution_count": 5,
     "metadata": {},
     "output_type": "execute_result"
    }
   ],
   "source": [
    "arr = [1, 2, 3, 4, 5, 6, 7, 8, 9]\n",
    "binary_search(arr, 0, len(arr)-1, 1)"
   ]
  },
  {
   "cell_type": "code",
   "execution_count": 196,
   "metadata": {},
   "outputs": [
    {
     "data": {
      "text/plain": [
       "[4, 23, 34]"
      ]
     },
     "execution_count": 196,
     "metadata": {},
     "output_type": "execute_result"
    }
   ],
   "source": [
    "a=[23,34,4]\n",
    "sorted(a)\n"
   ]
  },
  {
   "cell_type": "code",
   "execution_count": 221,
   "metadata": {},
   "outputs": [],
   "source": [
    "def b_s(arr,left,right,x):\n",
    "    if left>right:\n",
    "        return -1\n",
    "    mid=(left+right)//2\n",
    "    if arr[mid]==x:\n",
    "        return mid\n",
    "    if arr[mid]>x:\n",
    "        return b_s(arr,left,mid-1,x)\n",
    "    if arr[mid]<x:\n",
    "        return b_s(arr,mid+1,right,x)"
   ]
  },
  {
   "cell_type": "code",
   "execution_count": 228,
   "metadata": {},
   "outputs": [
    {
     "name": "stdout",
     "output_type": "stream",
     "text": [
      "[1, 1, 2, 2, 3, 4, 12, 12, 12, 15, 21, 23, 25, 33, 44, 51]\n"
     ]
    },
    {
     "data": {
      "text/plain": [
       "15"
      ]
     },
     "execution_count": 228,
     "metadata": {},
     "output_type": "execute_result"
    }
   ],
   "source": [
    "arr=[1,2,33,4,15,25,51,3,2,1,21,12,44,23,12,12]\n",
    "print(sorted(arr))\n",
    "b_s(sorted(arr),0,len(arr)-1,51)"
   ]
  },
  {
   "cell_type": "code",
   "execution_count": 233,
   "metadata": {},
   "outputs": [],
   "source": [
    "def b_s(arr,left,right,x):\n",
    "    while left<=right:\n",
    "        mid=(left+right)//2\n",
    "        if arr[mid]==x:\n",
    "            return mid\n",
    "        elif arr[mid]<x:\n",
    "            left=mid+1\n",
    "        else:\n",
    "            right=mid-1\n",
    "    return -1\n",
    "        "
   ]
  },
  {
   "cell_type": "code",
   "execution_count": 234,
   "metadata": {},
   "outputs": [
    {
     "data": {
      "text/plain": [
       "3"
      ]
     },
     "execution_count": 234,
     "metadata": {},
     "output_type": "execute_result"
    }
   ],
   "source": [
    "arr = [1, 2, 3, 4, 5, 6, 7, 8, 9]\n",
    "b_s(arr,0,len(arr)-1,4)"
   ]
  },
  {
   "cell_type": "code",
   "execution_count": 242,
   "metadata": {},
   "outputs": [],
   "source": [
    "def binarysearch(arr,l,r,x):\n",
    "    while l<=r:\n",
    "        mid=l+(r-l)//2\n",
    "        if arr[mid]==x:\n",
    "            return mid\n",
    "        elif arr[mid]>x:\n",
    "            r=mid-1\n",
    "        else:\n",
    "            l=mid+1\n",
    "    return -1\n",
    "        "
   ]
  },
  {
   "cell_type": "code",
   "execution_count": 265,
   "metadata": {},
   "outputs": [
    {
     "data": {
      "text/plain": [
       "1"
      ]
     },
     "execution_count": 265,
     "metadata": {},
     "output_type": "execute_result"
    }
   ],
   "source": [
    "arr=[1,2,3,4,5,6,8]\n",
    "i=0\n",
    "j=len(arr)-1\n",
    "x=2\n",
    "binarysearch(arr,i,j,x)\n"
   ]
  },
  {
   "cell_type": "code",
   "execution_count": 252,
   "metadata": {},
   "outputs": [
    {
     "name": "stdout",
     "output_type": "stream",
     "text": [
      "0\n"
     ]
    }
   ],
   "source": [
    "if x in arr:\n",
    "    print(arr.index(x) )\n",
    "else:\n",
    "    print(-1)"
   ]
  },
  {
   "cell_type": "markdown",
   "metadata": {},
   "source": [
    "## two pointer\n",
    "### sum of two number=n"
   ]
  },
  {
   "cell_type": "code",
   "execution_count": 287,
   "metadata": {},
   "outputs": [],
   "source": [
    "def sum_two(arr,l,r,x):\n",
    "    while l<=r:\n",
    "        if arr[l]+arr[r]==x:\n",
    "            return l,r\n",
    "        elif arr[l]+arr[r]>x:\n",
    "            r-=1\n",
    "        else:\n",
    "            l+=1"
   ]
  },
  {
   "cell_type": "code",
   "execution_count": 288,
   "metadata": {},
   "outputs": [
    {
     "data": {
      "text/plain": [
       "(0, 4)"
      ]
     },
     "execution_count": 288,
     "metadata": {},
     "output_type": "execute_result"
    }
   ],
   "source": [
    "arr=[20,40,60,80,90,120,240]\n",
    "sum_two(arr,0,len(arr)-1,110)"
   ]
  },
  {
   "cell_type": "code",
   "execution_count": 292,
   "metadata": {},
   "outputs": [],
   "source": [
    "def sum_two_(arr,x):\n",
    "    for i in range(len(arr)):\n",
    "        for j in range(i):\n",
    "            if arr[i]+arr[j]==x:\n",
    "                return i,j\n"
   ]
  },
  {
   "cell_type": "code",
   "execution_count": 293,
   "metadata": {},
   "outputs": [
    {
     "data": {
      "text/plain": [
       "(4, 0)"
      ]
     },
     "execution_count": 293,
     "metadata": {},
     "output_type": "execute_result"
    }
   ],
   "source": [
    "arr=[20,40,60,80,90,120,240]\n",
    "sum_two_(arr,110)"
   ]
  },
  {
   "cell_type": "markdown",
   "metadata": {},
   "source": [
    "### price=[7,1,5,3,6,4]\n",
    "what is maximum sequence for buying and seling stock?"
   ]
  },
  {
   "cell_type": "code",
   "execution_count": 1,
   "metadata": {},
   "outputs": [],
   "source": [
    "def buy_sell(arr):\n",
    "    min_price = float('inf')\n",
    "    max_profit = 0\n",
    "    \n",
    "    for price in arr:\n",
    "        if price < min_price:\n",
    "            min_price = price\n",
    "        elif price - min_price > max_profit:\n",
    "            max_profit = price - min_price\n",
    "            \n",
    "    return max_profit\n"
   ]
  },
  {
   "cell_type": "code",
   "execution_count": 2,
   "metadata": {},
   "outputs": [
    {
     "data": {
      "text/plain": [
       "11"
      ]
     },
     "execution_count": 2,
     "metadata": {},
     "output_type": "execute_result"
    }
   ],
   "source": [
    "price=[7,11,5,3,6,14]\n",
    "buy_sell(price)"
   ]
  },
  {
   "cell_type": "markdown",
   "metadata": {},
   "source": [
    "### 5. 2-D Array"
   ]
  },
  {
   "cell_type": "code",
   "execution_count": 83,
   "metadata": {},
   "outputs": [],
   "source": [
    "def find_y(arr,target):\n",
    "    for i in range(len(arr)):\n",
    "        for j in range(len(arr[i])):\n",
    "            if arr[i][j]==target:\n",
    "                return True\n",
    "    return False\n"
   ]
  },
  {
   "cell_type": "code",
   "execution_count": 86,
   "metadata": {},
   "outputs": [
    {
     "data": {
      "text/plain": [
       "False"
      ]
     },
     "execution_count": 86,
     "metadata": {},
     "output_type": "execute_result"
    }
   ],
   "source": [
    "arr=[[2,4,6],\n",
    "     [8,10,12],\n",
    "     [20,27,40]]\n",
    "\n",
    "find_y(arr,0)"
   ]
  },
  {
   "cell_type": "code",
   "execution_count": 69,
   "metadata": {},
   "outputs": [],
   "source": [
    "def find_x(arr,target):\n",
    "    for i in arr:\n",
    "        for j in i:\n",
    "            if j==target:\n",
    "                return True\n",
    "    return False"
   ]
  },
  {
   "cell_type": "code",
   "execution_count": 88,
   "metadata": {},
   "outputs": [
    {
     "data": {
      "text/plain": [
       "False"
      ]
     },
     "execution_count": 88,
     "metadata": {},
     "output_type": "execute_result"
    }
   ],
   "source": [
    "arr=[[2,4,6],\n",
    "     [8,10,12],\n",
    "     [20,27,40]]\n",
    "\n",
    "find_x(arr,1)"
   ]
  },
  {
   "cell_type": "markdown",
   "metadata": {},
   "source": []
  },
  {
   "cell_type": "markdown",
   "metadata": {},
   "source": [
    "## Compute Integer Square Root\n",
    "\n",
    "### Problem Description\n",
    "Compute and return the square root of `x`, where `x` is guaranteed to be a non-negative integer. Since the return type is an integer, the decimal digits are truncated, and only the integer part of the result is returned.\n",
    "\n",
    "### Test Cases\n",
    "- **Input:** 4\n",
    "  - **Output:** 2\n",
    "- **Input:** 8\n",
    "  - **Output:** 2\n",
    "  - **Explanation:** The square root of 8 is approximately 2.8284, but since we truncate the decimal part, the result is 2.\n",
    "\n",
    "### Implementation\n",
    "The problem can be solved using various methods, such as:\n",
    "1. **Linear Search:** Incrementally check each number until the square of the number exceeds `x`.\n",
    "2. **Binary Search:** Efficiently narrow down the range by repeatedly halving the search space.\n",
    "3. **Newton's Method:** Iteratively converge to the square root using a numerical approach.\n"
   ]
  },
  {
   "cell_type": "code",
   "execution_count": 108,
   "metadata": {},
   "outputs": [
    {
     "name": "stdout",
     "output_type": "stream",
     "text": [
      "2.0\n"
     ]
    }
   ],
   "source": [
    "def find_sroot(x):\n",
    "    return ((x)**(1/2)//1)\n",
    "\n",
    "find_sroot(8)"
   ]
  },
  {
   "cell_type": "code",
   "execution_count": 110,
   "metadata": {},
   "outputs": [
    {
     "data": {
      "text/plain": [
       "2"
      ]
     },
     "execution_count": 110,
     "metadata": {},
     "output_type": "execute_result"
    }
   ],
   "source": [
    "def integer_square_root(x):\n",
    "    if x < 2:\n",
    "        return x\n",
    "    \n",
    "    left, right = 1, x // 2\n",
    "    while left <= right:\n",
    "        mid = (left + right) // 2\n",
    "        if mid * mid == x:\n",
    "            return mid\n",
    "        elif mid * mid < x:\n",
    "            left = mid + 1\n",
    "        else:\n",
    "            right = mid - 1\n",
    "    \n",
    "    return right\n",
    "\n",
    "integer_square_root(6)"
   ]
  },
  {
   "cell_type": "code",
   "execution_count": 91,
   "metadata": {},
   "outputs": [],
   "source": [
    "def find_z(arr,target):\n",
    "    #no of rows\n",
    "    m=len(arr)\n",
    "    if m==0:\n",
    "        return False\n",
    "    n=len(arr[0]) # no columns\n",
    "    left,right=0,m*n-1\n",
    "    while left<=right:\n",
    "        mid=left+(right-left)//2\n",
    "        mid_element=arr[mid//n][mid%n]\n",
    "        if target==mid_element:\n",
    "            return True\n",
    "        elif target<mid_element:\n",
    "            right=mid-1\n",
    "        else:\n",
    "            left=mid+1\n",
    "    return False\n"
   ]
  },
  {
   "cell_type": "code",
   "execution_count": 94,
   "metadata": {},
   "outputs": [
    {
     "data": {
      "text/plain": [
       "False"
      ]
     },
     "execution_count": 94,
     "metadata": {},
     "output_type": "execute_result"
    }
   ],
   "source": [
    "arr=[[1,3,5,7],\n",
    "     [10,11,16,20],\n",
    "     [23,30,34,60]]\n",
    "\n",
    "find_z(arr,121)"
   ]
  },
  {
   "cell_type": "code",
   "execution_count": 97,
   "metadata": {},
   "outputs": [
    {
     "data": {
      "text/plain": [
       "float"
      ]
     },
     "execution_count": 97,
     "metadata": {},
     "output_type": "execute_result"
    }
   ],
   "source": [
    "a=float('inf')\n",
    "type(a)"
   ]
  },
  {
   "cell_type": "markdown",
   "metadata": {},
   "source": [
    "### ternary search"
   ]
  },
  {
   "cell_type": "code",
   "execution_count": 117,
   "metadata": {},
   "outputs": [],
   "source": [
    "def Ternary_search(arr, i, j, x):\n",
    "    while i <= j:\n",
    "        # Calculate the two mid points\n",
    "        mid1 = i + (j - i) // 3\n",
    "        mid2 = j - (j - i) // 3\n",
    "\n",
    "        # Check if the element is present at mid1 or mid2\n",
    "        if arr[mid1] == x:\n",
    "            return mid1\n",
    "        if arr[mid2] == x:\n",
    "            return mid2\n",
    "\n",
    "        # Since x is not present at mid1 or mid2, check in which region it lies\n",
    "        if x < arr[mid1]:\n",
    "            # The element lies between i and mid1-1\n",
    "            j = mid1 - 1\n",
    "        elif x > arr[mid2]:\n",
    "            # The element lies between mid2+1 and j\n",
    "            i = mid2 + 1\n",
    "        else:\n",
    "            # The element lies between mid1+1 and mid2-1\n",
    "            i = mid1 + 1\n",
    "            j = mid2 - 1\n",
    "\n",
    "    # Element is not present in the array\n",
    "    return -1\n"
   ]
  },
  {
   "cell_type": "code",
   "execution_count": 118,
   "metadata": {},
   "outputs": [
    {
     "data": {
      "text/plain": [
       "1"
      ]
     },
     "execution_count": 118,
     "metadata": {},
     "output_type": "execute_result"
    }
   ],
   "source": [
    "array=[11,12,13,14,15,16,17,18,19]\n",
    "i=0\n",
    "j=len(array)-1\n",
    "Ternary_search(array,i,j,12)"
   ]
  },
  {
   "cell_type": "code",
   "execution_count": 124,
   "metadata": {},
   "outputs": [],
   "source": [
    "def t_search(arr, i, j, x):\n",
    "    if i > j:\n",
    "        return -1\n",
    "\n",
    "    mid1 = i + (j - i) // 3\n",
    "    mid2 = j - (j - i) // 3\n",
    "\n",
    "    if arr[mid1] == x:\n",
    "        return mid1\n",
    "    elif arr[mid2] == x:\n",
    "        return mid2\n",
    "    elif x < arr[mid1]:\n",
    "        return t_search(arr, i, mid1 - 1, x)\n",
    "    elif x > arr[mid2]:\n",
    "        return t_search(arr, mid2 + 1, j, x)\n",
    "    else:\n",
    "        return t_search(arr, mid1 + 1, mid2 - 1, x)\n",
    "\n",
    "    return -1"
   ]
  },
  {
   "cell_type": "code",
   "execution_count": 126,
   "metadata": {},
   "outputs": [
    {
     "data": {
      "text/plain": [
       "-1"
      ]
     },
     "execution_count": 126,
     "metadata": {},
     "output_type": "execute_result"
    }
   ],
   "source": [
    "array=[11,12,13,14,15,16,17,18,19]\n",
    "i=0\n",
    "j=len(array)-1\n",
    "t_search(array,i,j,5)"
   ]
  },
  {
   "cell_type": "markdown",
   "metadata": {},
   "source": [
    "## Time Complexity of Sorting Algorithms\n",
    "\n",
    "| Algorithm      | Time Complexity (Worst Case) | Time Complexity (Average Case) | Time Complexity (Best Case) | Space Complexity |\n",
    "|----------------|------------------------------|--------------------------------|-----------------------------|------------------|\n",
    "| Bubble Sort    | \\(O(n^2)\\)                   | \\(O(n^2)\\)                     | \\(O(n)\\)                    | \\(O(1)\\)         |\n",
    "| Selection Sort | \\(O(n^2)\\)                   | \\(O(n^2)\\)                     | \\(O(n^2)\\)                  | \\(O(1)\\)         |\n",
    "| Insertion Sort | \\(O(n^2)\\)                   | \\(O(n^2)\\)                     | \\(O(n)\\)                    | \\(O(1)\\)         |\n",
    "| Merge Sort     | \\(O(n \\log n)\\)              | \\(O(n \\log n)\\)                | \\(O(n \\log n)\\)             | \\(O(n)\\)         |\n",
    "| Quick Sort     | \\(O(n^2)\\)                   | \\(O(n \\log n)\\)                | \\(O(n \\log n)\\)             | \\(O(\\log n)\\)    |\n",
    "| Heap Sort      | \\(O(n \\log n)\\)              | \\(O(n \\log n)\\)                | \\(O(n \\log n)\\)             | \\(O(1)\\)         |\n",
    "| Counting Sort  | \\(O(n + k)\\)                 | \\(O(n + k)\\)                   | \\(O(n + k)\\)                | \\(O(n + k)\\)     |\n",
    "| Radix Sort     | \\(O(d \\cdot (n + k))\\)       | \\(O(d \\cdot (n + k))\\)         | \\(O(d \\cdot (n + k))\\)      | \\(O(n + k)\\)     |\n",
    "\n",
    "Note: \\(n\\) represents the number of elements in the array, \\(k\\) represents the range of the non-negative key values, and \\(d\\) represents the number of digits in the largest number.\n"
   ]
  },
  {
   "cell_type": "markdown",
   "metadata": {},
   "source": [
    "### Devide And Conquer"
   ]
  },
  {
   "cell_type": "code",
   "execution_count": 12,
   "metadata": {},
   "outputs": [],
   "source": [
    "def quick_sort(arr):\n",
    "    max=float(\"-inf\")\n",
    "    for i in arr:\n",
    "        if i>max:\n",
    "            max=i\n",
    "    min=float(\"inf\")      \n",
    "    for i in arr:\n",
    "        if i<min:\n",
    "            min=i\n",
    "    return max,min"
   ]
  },
  {
   "cell_type": "code",
   "execution_count": 13,
   "metadata": {},
   "outputs": [
    {
     "data": {
      "text/plain": [
       "(42, 3)"
      ]
     },
     "execution_count": 13,
     "metadata": {},
     "output_type": "execute_result"
    }
   ],
   "source": [
    "arr=[23,34,3,21,42,13]\n",
    "quick_sort(arr)"
   ]
  },
  {
   "cell_type": "code",
   "execution_count": 40,
   "metadata": {},
   "outputs": [],
   "source": [
    "def max_min(arr, i, j):\n",
    "    if i == j:\n",
    "        # Only one element\n",
    "        return arr[i], arr[i]\n",
    "    elif i == j - 1:\n",
    "        # Only two elements\n",
    "        if arr[i] > arr[j]:\n",
    "            return arr[i], arr[j]\n",
    "        else:\n",
    "            return arr[j], arr[i]\n",
    "    else:\n",
    "        mid = i + (j - i) // 2\n",
    "        max_1, min_1 = max_min(arr, i, mid)\n",
    "        max_2, min_2 = max_min(arr, mid + 1, j)\n",
    "        # Combine the results\n",
    "        max_value = max(max_1, max_2)\n",
    "        min_value = min(min_1, min_2)\n",
    "    return max_value, min_value"
   ]
  },
  {
   "cell_type": "code",
   "execution_count": 41,
   "metadata": {},
   "outputs": [
    {
     "data": {
      "text/plain": [
       "(42, 3)"
      ]
     },
     "execution_count": 41,
     "metadata": {},
     "output_type": "execute_result"
    }
   ],
   "source": [
    "arr=[23,34,3,21,42,13]\n",
    "max_min(arr,0,len(arr)-1)"
   ]
  },
  {
   "cell_type": "markdown",
   "metadata": {},
   "source": [
    "### find power of element"
   ]
  },
  {
   "cell_type": "code",
   "execution_count": 54,
   "metadata": {},
   "outputs": [],
   "source": [
    "def power(base, exponent):\n",
    "    result = 1\n",
    "    while exponent > 0:\n",
    "        if exponent % 2 == 1:\n",
    "            result *= base\n",
    "        base *= base\n",
    "        exponent //= 2\n",
    "    return result\n"
   ]
  },
  {
   "cell_type": "code",
   "execution_count": 58,
   "metadata": {},
   "outputs": [
    {
     "name": "stdout",
     "output_type": "stream",
     "text": [
      "1\n"
     ]
    }
   ],
   "source": [
    "base = -2\n",
    "exponent = -5\n",
    "result = power(base, exponent)\n",
    "print(result)"
   ]
  },
  {
   "cell_type": "code",
   "execution_count": 2,
   "metadata": {},
   "outputs": [],
   "source": [
    "def binary_exponentiation(base, exponent):\n",
    "    if exponent < 0:\n",
    "        base = 1 / base\n",
    "        exponent = -exponent\n",
    "    result = 1\n",
    "    while exponent > 0:\n",
    "        if exponent & 1:\n",
    "            result *= base\n",
    "        base *= base\n",
    "        exponent >>= 1\n",
    "    return result\n",
    "\n"
   ]
  },
  {
   "cell_type": "code",
   "execution_count": 3,
   "metadata": {},
   "outputs": [
    {
     "name": "stdout",
     "output_type": "stream",
     "text": [
      "0.0625\n"
     ]
    }
   ],
   "source": [
    "# Example usage:\n",
    "base = 2\n",
    "exponent = -4\n",
    "result = binary_exponentiation(base, exponent)\n",
    "print(result)  # Output: 0.0625 (1 / 16)\n"
   ]
  },
  {
   "cell_type": "code",
   "execution_count": 4,
   "metadata": {},
   "outputs": [
    {
     "name": "stdout",
     "output_type": "stream",
     "text": [
      "4398046511104\n"
     ]
    }
   ],
   "source": [
    "# Example usage:\n",
    "base = 2\n",
    "exponent = 42\n",
    "result = binary_exponentiation(base, exponent)\n",
    "print(result)  # Output: 0.0625 (1 / 16)\n"
   ]
  },
  {
   "cell_type": "markdown",
   "metadata": {},
   "source": [
    "### merge sort"
   ]
  },
  {
   "cell_type": "markdown",
   "metadata": {},
   "source": [
    "<figure>\n",
    "    <center> <img src=\"https://www.w3schools.com/dsa/img_mergesort_long.png\"  alt='missing' width=\"400\"  ><center/>\n",
    "<figure/>"
   ]
  },
  {
   "cell_type": "code",
   "execution_count": 36,
   "metadata": {},
   "outputs": [],
   "source": [
    "def merge_sort(arr,left,right):\n",
    "    if left==right:\n",
    "        return arr\n",
    "    mid=left+(right-left)//2\n",
    "    merge_sort(arr,left,mid)\n",
    "    merge_sort(arr,mid+1,right)\n",
    "    merge(arr,left,mid,right)\n",
    "    return arr\n",
    "\n",
    "def merge(arr, left, mid, right):\n",
    "    n1 = mid - left + 1\n",
    "    n2 = right - mid\n",
    "\n",
    "    leftsubArray = [0] * n1\n",
    "    RightsubArray = [0] * n2\n",
    "\n",
    "    for i in range(n1):\n",
    "        leftsubArray[i] = arr[left + i]\n",
    "    for j in range(n2):\n",
    "        RightsubArray[j] = arr[mid + 1 + j]\n",
    "\n",
    "    p = q = 0\n",
    "    k = left\n",
    "\n",
    "    while p < n1 and q < n2:\n",
    "        if leftsubArray[p] <= RightsubArray[q]:\n",
    "            arr[k] = leftsubArray[p]\n",
    "            p += 1\n",
    "        else:\n",
    "            arr[k] = RightsubArray[q]\n",
    "            q += 1\n",
    "        k += 1\n",
    "\n",
    "    while p < n1:\n",
    "        arr[k] = leftsubArray[p]\n",
    "        p += 1\n",
    "        k += 1\n",
    "\n",
    "    while q < n2:\n",
    "        arr[k] = RightsubArray[q]\n",
    "        q += 1\n",
    "        k += 1"
   ]
  },
  {
   "cell_type": "code",
   "execution_count": 35,
   "metadata": {},
   "outputs": [
    {
     "data": {
      "text/plain": [
       "[1, 3, 3, 4, 5, 6, 54]"
      ]
     },
     "execution_count": 35,
     "metadata": {},
     "output_type": "execute_result"
    }
   ],
   "source": [
    "arr=[1,3,4,6,5,54,3]\n",
    "merge_sort(arr,0,len(arr)-1)"
   ]
  },
  {
   "cell_type": "code",
   "execution_count": 20,
   "metadata": {},
   "outputs": [],
   "source": [
    "def merge_sort2(arr, n):\n",
    "    mid = n // 2\n",
    "    if len(arr) > 1:\n",
    "        left_arr2 = arr[:mid]\n",
    "        right_arr2 = arr[mid:]\n",
    "\n",
    "        merge_sort2(left_arr2, len(left_arr2))\n",
    "        merge_sort2(right_arr2, len(right_arr2))\n",
    "\n",
    "        i = 0\n",
    "        j = 0\n",
    "        k = 0\n",
    "        while i < len(left_arr2) and j < len(right_arr2):\n",
    "            if left_arr2[i] < right_arr2[j]:\n",
    "                arr[k] = left_arr2[i]\n",
    "                i += 1\n",
    "            else:\n",
    "                arr[k] = right_arr2[j]\n",
    "                j += 1\n",
    "            k += 1\n",
    "        \n",
    "        while i < len(left_arr2):\n",
    "            arr[k] = left_arr2[i]\n",
    "            i += 1\n",
    "            k += 1\n",
    "        \n",
    "        while j < len(right_arr2):\n",
    "            arr[k] = right_arr2[j]\n",
    "            j += 1\n",
    "            k += 1\n"
   ]
  },
  {
   "cell_type": "code",
   "execution_count": 21,
   "metadata": {},
   "outputs": [
    {
     "data": {
      "text/plain": [
       "[-1, 1, 2, 3, 4, 23]"
      ]
     },
     "execution_count": 21,
     "metadata": {},
     "output_type": "execute_result"
    }
   ],
   "source": [
    "arr=[2,3,23,1,4,-1]\n",
    "merge_sort2(arr,len(arr))\n",
    "arr"
   ]
  },
  {
   "cell_type": "markdown",
   "metadata": {},
   "source": [
    "### Merge sort"
   ]
  },
  {
   "cell_type": "markdown",
   "metadata": {},
   "source": [
    "\\begin{array}{|c|c|l|}\n",
    "\\hline\n",
    "\\text{S. No.} & \\text{Complexity} & \\text{Name} & \\text{Description} \\\\\n",
    "\\hline\n",
    "1 & O(1) & \\text{Constant} & \\text{Executes in a constant amount of time, regardless of input size.} \\\\\n",
    "\\hline\n",
    "2 & O(\\log n) & \\text{Logarithmic} & \\text{Time increases logarithmically with the input size.} \\\\\n",
    "\\hline\n",
    "3 & O(n) & \\text{Linear} & \\text{Time increases linearly with the input size.} \\\\\n",
    "\\hline\n",
    "4 & O(n \\log n) & \\text{Linearithmic} & \\text{Time grows in proportion to } n \\text{ times the logarithm of } n. \\\\\n",
    "\\hline\n",
    "5 & O(n^2) & \\text{Quadratic} & \\text{Time grows quadratically with the input size.} \\\\\n",
    "\\hline\n",
    "6 & O(n^3) & \\text{Cubic} & \\text{Time grows cubically with the input size.} \\\\\n",
    "\\hline\n",
    "7 & O(2^n) & \\text{Exponential} & \\text{Time doubles with each additional element in the input.} \\\\\n",
    "\\hline\n",
    "8 & O(n!) & \\text{Factorial} & \\text{Time grows factorially with the input size.} \\\\\n",
    "\\hline\n",
    "\\end{array}\n"
   ]
  },
  {
   "cell_type": "markdown",
   "metadata": {},
   "source": [
    "| Algorithm         | Worst-case Complexity | Description                                                                  |\n",
    "|-------------------|-----------------------|------------------------------------------------------------------------------|\n",
    "| Bubble Sort       | O(n^2)                | Iteratively compares adjacent elements and swaps them if they are in the wrong order. |\n",
    "| Selection Sort    | O(n^2)                | Selects the smallest element from the unsorted portion and moves it to the beginning. |\n",
    "| Insertion Sort    | O(n^2)                | Builds a sorted array by repeatedly taking the next element and inserting it into the correct position in the already sorted part. |\n",
    "| Shell Sort        | O(n log^2 n)          | Improves insertion sort by comparing elements that are distant from each other. |\n",
    "| Merge Sort        | O(n log n)            | Divides the array into halves, sorts the halves recursively, and then merges them. |\n",
    "| Quick Sort        | O(n^2)                | Divides the array based on a pivot element, recursively sorts sub-arrays, and finally combines them. However, with a good choice of pivot, its average-case complexity is O(n log n). |\n",
    "| Heap Sort         | O(n log n)            | Builds a max/min heap from the array and repeatedly extracts the root element to create a sorted array. |\n",
    "| Counting Sort     | O(n + k)              | Assumes that the input elements are integers within a specific range and uses this property to sort them efficiently. |\n",
    "| Radix Sort        | O(n * k)              | Sorts integers by grouping them by individual digits and sorting them accordingly. |\n",
    "| Bucket Sort       | O(n^2)                | Distributes elements into different buckets, sorts each bucket individually, and then combines them. The complexity can vary depending on the sorting algorithm used for individual buckets. |"
   ]
  },
  {
   "cell_type": "markdown",
   "metadata": {},
   "source": []
  },
  {
   "cell_type": "code",
   "execution_count": 19,
   "metadata": {},
   "outputs": [],
   "source": [
    "def merge_sort(arr):\n",
    "    n = len(arr)\n",
    "    if n <= 1:\n",
    "        return arr\n",
    "    \n",
    "    mid = n // 2\n",
    "    left = arr[:mid]\n",
    "    right = arr[mid:]\n",
    "    \n",
    "    merge_sort(left)\n",
    "    merge_sort(right)\n",
    "    \n",
    "    merge_two_sorted_array(left, right, arr)\n",
    "    return arr\n",
    "\n",
    "def merge_two_sorted_array(left, right, arr):\n",
    "    len_left = len(left)\n",
    "    len_right = len(right)\n",
    "    i = j = k = 0\n",
    "    \n",
    "    while i < len_left and j < len_right:\n",
    "        if left[i] <= right[j]:\n",
    "            arr[k] = left[i]\n",
    "            i += 1\n",
    "        else:\n",
    "            arr[k] = right[j]\n",
    "            j += 1\n",
    "        k += 1\n",
    "    \n",
    "    while i < len_left:\n",
    "        arr[k] = left[i]\n",
    "        i += 1\n",
    "        k += 1\n",
    "    \n",
    "    while j < len_right:\n",
    "        arr[k] = right[j]\n",
    "        j += 1\n",
    "        k += 1"
   ]
  },
  {
   "cell_type": "code",
   "execution_count": 16,
   "metadata": {},
   "outputs": [
    {
     "data": {
      "text/plain": [
       "[1, 2, 2, 2, 2, 4, 4, 21, 23, 33, 43]"
      ]
     },
     "execution_count": 16,
     "metadata": {},
     "output_type": "execute_result"
    }
   ],
   "source": [
    "arr=[23,4,2,1,2,43,21,2,4,2,33]\n",
    "merge_sort(arr)"
   ]
  },
  {
   "cell_type": "code",
   "execution_count": null,
   "metadata": {},
   "outputs": [],
   "source": []
  },
  {
   "cell_type": "code",
   "execution_count": null,
   "metadata": {},
   "outputs": [],
   "source": []
  },
  {
   "cell_type": "markdown",
   "metadata": {},
   "source": []
  },
  {
   "cell_type": "code",
   "execution_count": 4,
   "metadata": {},
   "outputs": [],
   "source": [
    "import random\n",
    "\n",
    "def randomized_quick_sort(arr, low, high):\n",
    "    if low < high:\n",
    "        pivot_index = random_partition(arr, low, high)\n",
    "        randomized_quick_sort(arr, low, pivot_index - 1)\n",
    "        randomized_quick_sort(arr, pivot_index + 1, high)\n",
    "\n",
    "def random_partition(arr, low, high):\n",
    "    pivot_index = random.randint(low, high)\n",
    "    arr[pivot_index], arr[high] = arr[high], arr[pivot_index]\n",
    "    return partition(arr, low, high)\n",
    "\n",
    "def partition(arr, low, high):\n",
    "    pivot = arr[high]\n",
    "    i = low - 1\n",
    "    for j in range(low, high):\n",
    "        if arr[j] <= pivot:\n",
    "            i += 1\n",
    "            arr[i], arr[j] = arr[j], arr[i]\n",
    "    arr[i + 1], arr[high] = arr[high], arr[i + 1]\n",
    "    return i + 1"
   ]
  },
  {
   "cell_type": "code",
   "execution_count": 6,
   "metadata": {},
   "outputs": [
    {
     "data": {
      "text/plain": [
       "[1, 5, 7, 8, 9, 10]"
      ]
     },
     "execution_count": 6,
     "metadata": {},
     "output_type": "execute_result"
    }
   ],
   "source": [
    "arr = [10, 7, 8, 9, 1, 5]\n",
    "n = len(arr)\n",
    "randomized_quick_sort(arr, 0, n - 1)\n",
    "arr"
   ]
  },
  {
   "cell_type": "code",
   "execution_count": 10,
   "metadata": {},
   "outputs": [],
   "source": [
    "def Binary_search(arr, low, high, item):\n",
    "    if low <= high:\n",
    "        mid = (low + high) // 2\n",
    "        if arr[mid] == item:\n",
    "            return mid\n",
    "        elif arr[mid] > item:\n",
    "            return Binary_search(arr, low, mid - 1, item)\n",
    "        else:\n",
    "            return Binary_search(arr, mid + 1, high, item) \n",
    "    return \"not found\"\n",
    "        "
   ]
  },
  {
   "cell_type": "code",
   "execution_count": 11,
   "metadata": {},
   "outputs": [
    {
     "data": {
      "text/plain": [
       "'not found'"
      ]
     },
     "execution_count": 11,
     "metadata": {},
     "output_type": "execute_result"
    }
   ],
   "source": [
    "Binary_search([1,3,42,43],0,3,6)"
   ]
  },
  {
   "cell_type": "code",
   "execution_count": 13,
   "metadata": {},
   "outputs": [],
   "source": [
    "def b_search(arr,low,high,target):\n",
    "    if low <=high:\n",
    "        mid=(low+high)//2\n",
    "        if arr[mid]==target:\n",
    "            return mid\n",
    "        elif arr[mid]>target:\n",
    "            return b_search(arr,low,mid-1,target)\n",
    "        return b_search(arr,mid+1,high,target)\n",
    "    return -1"
   ]
  },
  {
   "cell_type": "code",
   "execution_count": 15,
   "metadata": {},
   "outputs": [
    {
     "data": {
      "text/plain": [
       "0"
      ]
     },
     "execution_count": 15,
     "metadata": {},
     "output_type": "execute_result"
    }
   ],
   "source": [
    "b_search([1,3,42,43],0,3,1)"
   ]
  },
  {
   "cell_type": "code",
   "execution_count": null,
   "metadata": {},
   "outputs": [],
   "source": []
  }
 ],
 "metadata": {
  "kernelspec": {
   "display_name": "Python 3 (ipykernel)",
   "language": "python",
   "name": "python3"
  },
  "language_info": {
   "codemirror_mode": {
    "name": "ipython",
    "version": 3
   },
   "file_extension": ".py",
   "mimetype": "text/x-python",
   "name": "python",
   "nbconvert_exporter": "python",
   "pygments_lexer": "ipython3",
   "version": "3.1.undefined"
  }
 },
 "nbformat": 4,
 "nbformat_minor": 4
}
