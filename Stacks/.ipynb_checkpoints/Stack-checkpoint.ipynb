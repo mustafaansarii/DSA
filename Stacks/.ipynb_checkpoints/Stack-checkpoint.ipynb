{
 "cells": [
  {
   "cell_type": "code",
   "execution_count": 181,
   "id": "f65fe6b1",
   "metadata": {},
   "outputs": [
    {
     "data": {
      "text/html": [
       "<img src=\"https://media.geeksforgeeks.org/wp-content/cdn-uploads/20230726165552/Stack-Data-Structure.png\"/>"
      ],
      "text/plain": [
       "<IPython.core.display.Image object>"
      ]
     },
     "execution_count": 181,
     "metadata": {},
     "output_type": "execute_result"
    }
   ],
   "source": [
    "from IPython.display import Image\n",
    "image_url = 'https://media.geeksforgeeks.org/wp-content/cdn-uploads/20230726165552/Stack-Data-Structure.png'\n",
    "\n",
    "Image(url=image_url)\n"
   ]
  },
  {
   "cell_type": "markdown",
   "id": "e70e2c44",
   "metadata": {},
   "source": [
    "Stack is a linear data structure that follows a particular order in which the operations are performed. The order may be LIFO(Last In First Out) or FILO(First In Last Out). LIFO implies that the element that is inserted last, comes out first and FILO implies that the element that is inserted first, comes out last."
   ]
  },
  {
   "cell_type": "markdown",
   "id": "30ce6593",
   "metadata": {},
   "source": [
    "# Working of Stack\n"
   ]
  },
  {
   "cell_type": "markdown",
   "id": "d944248b",
   "metadata": {},
   "source": [
    "Stack works on the LIFO pattern. As we can observe in the below figure there are five memory blocks in the stack; therefore, the size of the stack is 5.\n",
    "\n",
    "Suppose we want to store the elements in a stack and let's assume that stack is empty. We have taken the stack of size 5 as shown below in which we are pushing the elements one by one until the stack becomes full.\n",
    "\n"
   ]
  },
  {
   "cell_type": "code",
   "execution_count": 182,
   "id": "0d4ddaeb",
   "metadata": {},
   "outputs": [
    {
     "data": {
      "text/html": [
       "<img src=\"https://static.javatpoint.com/ds/images/ds-stack.png\"/>"
      ],
      "text/plain": [
       "<IPython.core.display.Image object>"
      ]
     },
     "execution_count": 182,
     "metadata": {},
     "output_type": "execute_result"
    }
   ],
   "source": [
    "image_url = 'https://static.javatpoint.com/ds/images/ds-stack.png'\n",
    "\n",
    "Image(url=image_url)"
   ]
  },
  {
   "cell_type": "code",
   "execution_count": 183,
   "id": "f80d32b0",
   "metadata": {},
   "outputs": [],
   "source": [
    "class Creating_stack:\n",
    "    def __init__(self, stack=None):\n",
    "        if stack is None:\n",
    "            self.stack = []\n",
    "        else:\n",
    "            self.stack = stack\n",
    "    \n",
    "    def append_(self, data=None):\n",
    "        self.data = data\n",
    "        self.stack.append(self.data)\n",
    "        print(f\"Inserted element at last: {self.data}\")\n",
    "    \n",
    "    def pop_(self):\n",
    "        if len(self.stack) == 0:\n",
    "            print(\"Stack is empty!\")\n",
    "        else:\n",
    "            deleted_element = self.stack.pop()\n",
    "            print(f\"Deleted element: {deleted_element}\")\n",
    "            \n",
    "    def traverse_stack(self):\n",
    "        print(self.stack)\n",
    "        \n",
    "stack=Creating_stack()\n",
    "    "
   ]
  },
  {
   "cell_type": "code",
   "execution_count": 184,
   "id": "8e55065f",
   "metadata": {},
   "outputs": [
    {
     "name": "stdout",
     "output_type": "stream",
     "text": [
      "Inserted element at last: 1\n",
      "Inserted element at last: 10\n",
      "Inserted element at last: 18\n"
     ]
    }
   ],
   "source": [
    "stack.append_(1)\n",
    "stack.append_(10)\n",
    "stack.append_(18)"
   ]
  },
  {
   "cell_type": "code",
   "execution_count": 185,
   "id": "ac76e0bb",
   "metadata": {},
   "outputs": [
    {
     "name": "stdout",
     "output_type": "stream",
     "text": [
      "[1, 10, 18]\n"
     ]
    }
   ],
   "source": [
    "stack.traverse_stack()"
   ]
  },
  {
   "cell_type": "code",
   "execution_count": 186,
   "id": "62a48d37",
   "metadata": {},
   "outputs": [
    {
     "name": "stdout",
     "output_type": "stream",
     "text": [
      "Deleted element: 18\n",
      "Deleted element: 10\n"
     ]
    }
   ],
   "source": [
    "stack.pop_()\n",
    "stack.pop_()"
   ]
  },
  {
   "cell_type": "code",
   "execution_count": 187,
   "id": "b5e4fcf4",
   "metadata": {},
   "outputs": [
    {
     "name": "stdout",
     "output_type": "stream",
     "text": [
      "[1]\n"
     ]
    }
   ],
   "source": [
    "stack.traverse_stack()"
   ]
  },
  {
   "cell_type": "code",
   "execution_count": 188,
   "id": "9072cc4c",
   "metadata": {},
   "outputs": [
    {
     "name": "stdout",
     "output_type": "stream",
     "text": [
      "Inserted element at last: 18\n"
     ]
    }
   ],
   "source": [
    "stack.append_(18)"
   ]
  },
  {
   "cell_type": "code",
   "execution_count": 189,
   "id": "8a09636b",
   "metadata": {},
   "outputs": [],
   "source": [
    "from collections import deque\n",
    "\n",
    "class Stack:\n",
    "    def __init__(self):\n",
    "        self._stack = deque()\n",
    "\n",
    "    def push(self, item):\n",
    "        self._stack.append(item)\n",
    "\n",
    "    def pop(self):\n",
    "        if self._stack:\n",
    "            return self._stack.pop()\n",
    "        else:\n",
    "            print(\"Stack is empty!\")\n",
    "            return None\n",
    "\n",
    "    def print_stack(self):\n",
    "        print(list(self._stack))\n",
    "\n",
    "s = Stack()\n",
    "\n"
   ]
  },
  {
   "cell_type": "code",
   "execution_count": 190,
   "id": "3cc164c1",
   "metadata": {},
   "outputs": [],
   "source": [
    "\n",
    "s.push(1)\n",
    "s.push(2)\n",
    "s.push(3)\n"
   ]
  },
  {
   "cell_type": "code",
   "execution_count": 191,
   "id": "939ec7af",
   "metadata": {},
   "outputs": [
    {
     "name": "stdout",
     "output_type": "stream",
     "text": [
      "[1, 2, 3]\n"
     ]
    }
   ],
   "source": [
    "s.print_stack()\n"
   ]
  },
  {
   "cell_type": "code",
   "execution_count": 192,
   "id": "d39da36f",
   "metadata": {},
   "outputs": [
    {
     "data": {
      "text/plain": [
       "3"
      ]
     },
     "execution_count": 192,
     "metadata": {},
     "output_type": "execute_result"
    }
   ],
   "source": [
    "s.pop()"
   ]
  },
  {
   "cell_type": "code",
   "execution_count": 193,
   "id": "df638a96",
   "metadata": {},
   "outputs": [
    {
     "name": "stdout",
     "output_type": "stream",
     "text": [
      "[1, 2]\n"
     ]
    }
   ],
   "source": [
    "\n",
    "s.print_stack()"
   ]
  },
  {
   "cell_type": "code",
   "execution_count": null,
   "id": "9c5f1e1b",
   "metadata": {},
   "outputs": [],
   "source": []
  },
  {
   "cell_type": "code",
   "execution_count": null,
   "id": "920b6567",
   "metadata": {},
   "outputs": [],
   "source": []
  },
  {
   "cell_type": "code",
   "execution_count": null,
   "id": "211fbbe9",
   "metadata": {},
   "outputs": [],
   "source": []
  },
  {
   "cell_type": "code",
   "execution_count": null,
   "id": "9b3e9ec3",
   "metadata": {},
   "outputs": [],
   "source": []
  },
  {
   "cell_type": "code",
   "execution_count": null,
   "id": "e98427e6",
   "metadata": {},
   "outputs": [],
   "source": []
  },
  {
   "cell_type": "code",
   "execution_count": null,
   "id": "7d0c9965",
   "metadata": {},
   "outputs": [],
   "source": []
  },
  {
   "cell_type": "code",
   "execution_count": null,
   "id": "d4b8bc2c",
   "metadata": {},
   "outputs": [],
   "source": []
  },
  {
   "cell_type": "code",
   "execution_count": null,
   "id": "02d832a9",
   "metadata": {},
   "outputs": [],
   "source": []
  },
  {
   "cell_type": "code",
   "execution_count": null,
   "id": "77f956df",
   "metadata": {},
   "outputs": [],
   "source": []
  }
 ],
 "metadata": {
  "kernelspec": {
   "display_name": "Python 3 (ipykernel)",
   "language": "python",
   "name": "python3"
  },
  "language_info": {
   "codemirror_mode": {
    "name": "ipython",
    "version": 3
   },
   "file_extension": ".py",
   "mimetype": "text/x-python",
   "name": "python",
   "nbconvert_exporter": "python",
   "pygments_lexer": "ipython3",
   "version": "3.9.12"
  }
 },
 "nbformat": 4,
 "nbformat_minor": 5
}
