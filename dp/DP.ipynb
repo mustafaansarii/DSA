{
 "cells": [
  {
   "cell_type": "code",
   "execution_count": 5,
   "id": "0b7c3d56-7b50-4e51-b92e-4943e059429c",
   "metadata": {},
   "outputs": [
    {
     "data": {
      "text/plain": [
       "13"
      ]
     },
     "execution_count": 5,
     "metadata": {},
     "output_type": "execute_result"
    }
   ],
   "source": [
    "# Fibonnaci Seriese\n",
    "def fib(n):\n",
    "    if n==0 or n==1: return n\n",
    "    else:\n",
    "        return fib(n-1)+fib(n-2)\n",
    "    \n",
    "fib(7)"
   ]
  },
  {
   "cell_type": "code",
   "execution_count": 10,
   "id": "a275d57a",
   "metadata": {},
   "outputs": [
    {
     "name": "stdout",
     "output_type": "stream",
     "text": [
      "Execution time: 30.45332670211792 seconds\n"
     ]
    }
   ],
   "source": [
    "import time\n",
    "start_time = time.time()\n",
    "fib(40)  \n",
    "end_time = time.time()  \n",
    "execution_time = end_time - start_time\n",
    "print(\"Execution time:\", execution_time, \"seconds\")"
   ]
  },
  {
   "cell_type": "markdown",
   "id": "891c74b5",
   "metadata": {},
   "source": [
    "### **Dynamic Programing**\n",
    "1. Memoization(Top Down Approach)\n",
    "2. Tabulation(Bottom Up Approach)"
   ]
  },
  {
   "cell_type": "code",
   "execution_count": 6,
   "id": "c6c16579",
   "metadata": {},
   "outputs": [
    {
     "data": {
      "text/plain": [
       "55"
      ]
     },
     "execution_count": 6,
     "metadata": {},
     "output_type": "execute_result"
    }
   ],
   "source": [
    "# Memoization(Top Down Approach)\n",
    "def fib_topDown(n,memo):\n",
    "    if memo[n] is not None:\n",
    "        return memo[n]\n",
    "    if n<=1:\n",
    "        result=n\n",
    "    else:\n",
    "        result=fib_topDown(n-1,memo)+fib_topDown(n-2,memo)\n",
    "    memo[n]=result\n",
    "    return result\n",
    "\n",
    "def fib_memo(n):\n",
    "    memo=[None]*(n+1)\n",
    "    return fib_topDown(n,memo)\n",
    "\n",
    "fib_memo(10)\n",
    "# in higher input it's gives RecursionError: maximum recursion depth exceeded"
   ]
  },
  {
   "cell_type": "code",
   "execution_count": 4,
   "id": "d2b35d8e",
   "metadata": {},
   "outputs": [
    {
     "data": {
      "text/plain": [
       "55"
      ]
     },
     "execution_count": 4,
     "metadata": {},
     "output_type": "execute_result"
    }
   ],
   "source": [
    "#Tabulation \n",
    "def fib_bottomup(n):\n",
    "    bottomup=[None]*(n+1)\n",
    "    bottomup[0]=0\n",
    "    bottomup[1]=1\n",
    "    for i in range(2,n+1):\n",
    "        bottomup[i]=bottomup[i-1]+bottomup[i-2]\n",
    "    return bottomup[n]\n",
    "\n",
    "\n",
    "fib_bottomup(10)"
   ]
  },
  {
   "cell_type": "code",
   "execution_count": 1,
   "id": "5932d954",
   "metadata": {},
   "outputs": [
    {
     "data": {
      "text/plain": [
       "55"
      ]
     },
     "execution_count": 1,
     "metadata": {},
     "output_type": "execute_result"
    }
   ],
   "source": [
    "##Optimized\n",
    "def fibbn(n):\n",
    "    a=0\n",
    "    b=1\n",
    "    for i in range(2,n+1):\n",
    "        a,b=b,a+b\n",
    "    return b\n",
    "fibbn(10)"
   ]
  },
  {
   "cell_type": "code",
   "execution_count": 32,
   "id": "31b6e0f2",
   "metadata": {},
   "outputs": [],
   "source": [
    "def count(n):\n",
    "    if n<=1: return 1\n",
    "    a=count(n-1)\n",
    "    b=count(n-2)\n",
    "    return b+a"
   ]
  },
  {
   "cell_type": "code",
   "execution_count": 33,
   "id": "b78e4f7b",
   "metadata": {},
   "outputs": [
    {
     "data": {
      "text/plain": [
       "5"
      ]
     },
     "execution_count": 33,
     "metadata": {},
     "output_type": "execute_result"
    }
   ],
   "source": [
    "count(4)"
   ]
  },
  {
   "cell_type": "markdown",
   "id": "2aa76511",
   "metadata": {},
   "source": [
    "**70. Climbing Stairs**"
   ]
  },
  {
   "cell_type": "code",
   "execution_count": 4,
   "id": "83011577",
   "metadata": {},
   "outputs": [
    {
     "data": {
      "text/plain": [
       "8"
      ]
     },
     "execution_count": 4,
     "metadata": {},
     "output_type": "execute_result"
    }
   ],
   "source": [
    "def countStep(n):\n",
    "    if n==1: return 1\n",
    "    if n==2: return 2\n",
    "    memo=[-1]*(n+1)\n",
    "    memo[1]=1\n",
    "    memo[2]=2\n",
    "    for i in range(3,n+1):\n",
    "        memo[i]=memo[i-1]+memo[i-2]\n",
    "    return memo[n]\n",
    "countStep(5)"
   ]
  },
  {
   "cell_type": "markdown",
   "id": "bb20b5f5",
   "metadata": {},
   "source": [
    "## Longest common Subsequence|"
   ]
  },
  {
   "cell_type": "code",
   "execution_count": 3,
   "id": "f440270b",
   "metadata": {},
   "outputs": [
    {
     "data": {
      "text/plain": [
       "3"
      ]
     },
     "execution_count": 3,
     "metadata": {},
     "output_type": "execute_result"
    }
   ],
   "source": [
    "def longestCommonSubsequence(text1: str, text2: str):\n",
    "    m=len(text1)\n",
    "    n=len(text2)\n",
    "    if m==0 or n==0: return 0\n",
    "    table=[[0]*(n+1) for _ in range(m+1)]\n",
    "    for i in range(1,m+1):\n",
    "        for j in range(1,n+1):\n",
    "            if text1[i-1]==text2[j-1]:\n",
    "                table[i][j]=table[i-1][j-1]+1\n",
    "            else:\n",
    "                table[i][j]=max(table[i-1][j],table[i][j-1])\n",
    "    return table[m][n]\n",
    "    \n",
    "longestCommonSubsequence(\"abcde\",\"ace\")"
   ]
  },
  {
   "cell_type": "code",
   "execution_count": 6,
   "id": "90ecdb60",
   "metadata": {},
   "outputs": [
    {
     "data": {
      "text/plain": [
       "'bd'"
      ]
     },
     "execution_count": 6,
     "metadata": {},
     "output_type": "execute_result"
    }
   ],
   "source": [
    "def lcs(text1,text2):\n",
    "    m=len(text1)\n",
    "    n=len(text2)\n",
    "    res=[]\n",
    "    table=[[0]*(n+1) for _ in range(m+1)]\n",
    "    for i in range(1,m+1):\n",
    "        for j in range(1,n+1):\n",
    "            if text1[i-1]==text2[j-1]:\n",
    "                table[i][j]=table[i-1][j-1]+1\n",
    "            else:\n",
    "                table[i][j]=max(table[i-1][j],table[i][j-1])\n",
    "\n",
    "    i,j=m,n\n",
    "    while i>0 and j>0:\n",
    "        if text1[i-1]==text2[j-1]:\n",
    "            res.append(text1[i-1])\n",
    "            i-=1\n",
    "            j-=1\n",
    "        if table[i-1][j]>table[i][j-1]:\n",
    "            i-=1\n",
    "        else:\n",
    "            j-=1\n",
    "    res.reverse()\n",
    "    return \"\".join(res)\n",
    "lcs(\"b,d\",\"abcd\")"
   ]
  },
  {
   "cell_type": "code",
   "execution_count": null,
   "id": "8e8c776f",
   "metadata": {},
   "outputs": [],
   "source": []
  }
 ],
 "metadata": {
  "kernelspec": {
   "display_name": "Python 3 (ipykernel)",
   "language": "python",
   "name": "python3"
  },
  "language_info": {
   "codemirror_mode": {
    "name": "ipython",
    "version": 3
   },
   "file_extension": ".py",
   "mimetype": "text/x-python",
   "name": "python",
   "nbconvert_exporter": "python",
   "pygments_lexer": "ipython3",
   "version": "3.11.6"
  }
 },
 "nbformat": 4,
 "nbformat_minor": 5
}
