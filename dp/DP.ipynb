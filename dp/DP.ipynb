{
 "cells": [
  {
   "cell_type": "code",
   "execution_count": 5,
   "id": "0b7c3d56-7b50-4e51-b92e-4943e059429c",
   "metadata": {},
   "outputs": [
    {
     "data": {
      "text/plain": [
       "13"
      ]
     },
     "execution_count": 5,
     "metadata": {},
     "output_type": "execute_result"
    }
   ],
   "source": [
    "# Fibonnaci Seriese\n",
    "def fib(n):\n",
    "    if n==0 or n==1: return n\n",
    "    else:\n",
    "        return fib(n-1)+fib(n-2)\n",
    "    \n",
    "fib(7)"
   ]
  },
  {
   "cell_type": "code",
   "execution_count": 10,
   "id": "a275d57a",
   "metadata": {},
   "outputs": [
    {
     "name": "stdout",
     "output_type": "stream",
     "text": [
      "Execution time: 30.45332670211792 seconds\n"
     ]
    }
   ],
   "source": [
    "import time\n",
    "start_time = time.time()\n",
    "fib(40)  \n",
    "end_time = time.time()  \n",
    "execution_time = end_time - start_time\n",
    "print(\"Execution time:\", execution_time, \"seconds\")"
   ]
  },
  {
   "cell_type": "markdown",
   "id": "891c74b5",
   "metadata": {},
   "source": [
    "### **Dynamic Programing**\n",
    "1. Memoization(Top Down Approach)\n",
    "2. Tabulation(Bottom Up Approach)"
   ]
  },
  {
   "cell_type": "code",
   "execution_count": 6,
   "id": "c6c16579",
   "metadata": {},
   "outputs": [
    {
     "data": {
      "text/plain": [
       "55"
      ]
     },
     "execution_count": 6,
     "metadata": {},
     "output_type": "execute_result"
    }
   ],
   "source": [
    "# Memoization(Top Down Approach)\n",
    "def fib_topDown(n,memo):\n",
    "    if memo[n] is not None:\n",
    "        return memo[n]\n",
    "    if n<=1:\n",
    "        result=n\n",
    "    else:\n",
    "        result=fib_topDown(n-1,memo)+fib_topDown(n-2,memo)\n",
    "    memo[n]=result\n",
    "    return result\n",
    "\n",
    "def fib_memo(n):\n",
    "    memo=[None]*(n+1)\n",
    "    return fib_topDown(n,memo)\n",
    "\n",
    "fib_memo(10)\n",
    "# in higher input it's gives RecursionError: maximum recursion depth exceeded"
   ]
  },
  {
   "cell_type": "code",
   "execution_count": 4,
   "id": "d2b35d8e",
   "metadata": {},
   "outputs": [
    {
     "data": {
      "text/plain": [
       "55"
      ]
     },
     "execution_count": 4,
     "metadata": {},
     "output_type": "execute_result"
    }
   ],
   "source": [
    "#Tabulation \n",
    "def fib_bottomup(n):\n",
    "    bottomup=[None]*(n+1)\n",
    "    bottomup[0]=0\n",
    "    bottomup[1]=1\n",
    "    for i in range(2,n+1):\n",
    "        bottomup[i]=bottomup[i-1]+bottomup[i-2]\n",
    "    return bottomup[n]\n",
    "\n",
    "\n",
    "fib_bottomup(10)"
   ]
  },
  {
   "cell_type": "code",
   "execution_count": 1,
   "id": "5932d954",
   "metadata": {},
   "outputs": [
    {
     "data": {
      "text/plain": [
       "55"
      ]
     },
     "execution_count": 1,
     "metadata": {},
     "output_type": "execute_result"
    }
   ],
   "source": [
    "##Optimized\n",
    "def fibbn(n):\n",
    "    a=0\n",
    "    b=1\n",
    "    for i in range(2,n+1):\n",
    "        a,b=b,a+b\n",
    "    return b\n",
    "fibbn(10)"
   ]
  },
  {
   "cell_type": "code",
   "execution_count": 32,
   "id": "31b6e0f2",
   "metadata": {},
   "outputs": [],
   "source": [
    "def count(n):\n",
    "    if n<=1: return 1\n",
    "    a=count(n-1)\n",
    "    b=count(n-2)\n",
    "    return b+a"
   ]
  },
  {
   "cell_type": "code",
   "execution_count": 33,
   "id": "b78e4f7b",
   "metadata": {},
   "outputs": [
    {
     "data": {
      "text/plain": [
       "5"
      ]
     },
     "execution_count": 33,
     "metadata": {},
     "output_type": "execute_result"
    }
   ],
   "source": [
    "count(4)"
   ]
  },
  {
   "cell_type": "markdown",
   "id": "2aa76511",
   "metadata": {},
   "source": [
    "**70. Climbing Stairs**"
   ]
  },
  {
   "cell_type": "code",
   "execution_count": 4,
   "id": "83011577",
   "metadata": {},
   "outputs": [
    {
     "data": {
      "text/plain": [
       "8"
      ]
     },
     "execution_count": 4,
     "metadata": {},
     "output_type": "execute_result"
    }
   ],
   "source": [
    "def countStep(n):\n",
    "    if n==1: return 1\n",
    "    if n==2: return 2\n",
    "    memo=[-1]*(n+1)\n",
    "    memo[1]=1\n",
    "    memo[2]=2\n",
    "    for i in range(3,n+1):\n",
    "        memo[i]=memo[i-1]+memo[i-2]\n",
    "    return memo[n]\n",
    "countStep(5)"
   ]
  },
  {
   "cell_type": "markdown",
   "id": "bb20b5f5",
   "metadata": {},
   "source": [
    "## Longest common Subsequence|"
   ]
  },
  {
   "cell_type": "code",
   "execution_count": 3,
   "id": "f440270b",
   "metadata": {},
   "outputs": [
    {
     "data": {
      "text/plain": [
       "3"
      ]
     },
     "execution_count": 3,
     "metadata": {},
     "output_type": "execute_result"
    }
   ],
   "source": [
    "def longestCommonSubsequence(text1: str, text2: str):\n",
    "    m=len(text1)\n",
    "    n=len(text2)\n",
    "    if m==0 or n==0: return 0\n",
    "    table=[[0]*(n+1) for _ in range(m+1)]\n",
    "    for i in range(1,m+1):\n",
    "        for j in range(1,n+1):\n",
    "            if text1[i-1]==text2[j-1]:\n",
    "                table[i][j]=table[i-1][j-1]+1\n",
    "            else:\n",
    "                table[i][j]=max(table[i-1][j],table[i][j-1])\n",
    "    return table[m][n]\n",
    "    \n",
    "longestCommonSubsequence(\"abcde\",\"ace\")"
   ]
  },
  {
   "cell_type": "code",
   "execution_count": 6,
   "id": "90ecdb60",
   "metadata": {},
   "outputs": [
    {
     "data": {
      "text/plain": [
       "'bd'"
      ]
     },
     "execution_count": 6,
     "metadata": {},
     "output_type": "execute_result"
    }
   ],
   "source": [
    "def lcs(text1,text2):\n",
    "    m=len(text1)\n",
    "    n=len(text2)\n",
    "    res=[]\n",
    "    table=[[0]*(n+1) for _ in range(m+1)]\n",
    "    for i in range(1,m+1):\n",
    "        for j in range(1,n+1):\n",
    "            if text1[i-1]==text2[j-1]:\n",
    "                table[i][j]=table[i-1][j-1]+1\n",
    "            else:\n",
    "                table[i][j]=max(table[i-1][j],table[i][j-1])\n",
    "\n",
    "    i,j=m,n\n",
    "    while i>0 and j>0:\n",
    "        if text1[i-1]==text2[j-1]:\n",
    "            res.append(text1[i-1])\n",
    "            i-=1\n",
    "            j-=1\n",
    "        if table[i-1][j]>table[i][j-1]:\n",
    "            i-=1\n",
    "        else:\n",
    "            j-=1\n",
    "    res.reverse()\n",
    "    return \"\".join(res)\n",
    "lcs(\"b,d\",\"abcd\")"
   ]
  },
  {
   "cell_type": "markdown",
   "id": "0b7d88f3",
   "metadata": {},
   "source": [
    "### 0-1 Knapsack"
   ]
  },
  {
   "cell_type": "markdown",
   "id": "091fb755",
   "metadata": {},
   "source": [
    "### Brut_force"
   ]
  },
  {
   "cell_type": "code",
   "execution_count": 8,
   "id": "e32a8d7d",
   "metadata": {},
   "outputs": [
    {
     "data": {
      "text/plain": [
       "30"
      ]
     },
     "execution_count": 8,
     "metadata": {},
     "output_type": "execute_result"
    }
   ],
   "source": [
    "def knapsack_brut(W,value,weight,n):\n",
    "    if W==0 or n==0: return 0\n",
    "    if W<weight[n-1]:\n",
    "        return knapsack_brut(W,value,weight,n-1)\n",
    "    else:\n",
    "        exclude=knapsack_brut(W,value,weight,n-1)\n",
    "        include=value[n-1]+knapsack_brut(W - weight[n-1], value, weight, n-1,)\n",
    "        return max(exclude,include)\n",
    "\n",
    "weight = [1, 2, 3, 8]\n",
    "value = [20, 5, 10, 40]\n",
    "W= 5\n",
    "n = len(weight)\n",
    "knapsack_brut(W,value,weight,n,)"
   ]
  },
  {
   "cell_type": "markdown",
   "id": "a75007b3",
   "metadata": {},
   "source": [
    "## Memoization\n"
   ]
  },
  {
   "cell_type": "code",
   "execution_count": 9,
   "id": "c2e42c33",
   "metadata": {},
   "outputs": [
    {
     "data": {
      "text/plain": [
       "30"
      ]
     },
     "execution_count": 9,
     "metadata": {},
     "output_type": "execute_result"
    }
   ],
   "source": [
    "def knapsack_memo(W,value,weight,n,memo):\n",
    "    if W==0 or n==0: return 0\n",
    "    if memo[n][W]!=-1:\n",
    "        return memo[n][W]\n",
    "    if W<weight[n-1]:\n",
    "        memo[n][W]=knapsack_memo(W,value,weight,n-1,memo)\n",
    "    \n",
    "    else:\n",
    "        exclude=knapsack_memo(W,value,weight,n-1,memo)\n",
    "        include=value[n-1]+knapsack_memo(W - weight[n-1], value, weight, n-1,memo)\n",
    "        memo[n][W]=max(exclude,include)\n",
    "    return memo[n][W]\n",
    "\n",
    "weight = [1, 2, 3, 8]\n",
    "value = [20, 5, 10, 40]\n",
    "W= 5\n",
    "n = len(weight)\n",
    "memo = [[-1 for _ in range(W + 1)] for _ in range(n + 1)]\n",
    "knapsack_memo(W,value,weight,n,memo)"
   ]
  },
  {
   "cell_type": "markdown",
   "id": "df4f449c",
   "metadata": {},
   "source": [
    "## tabulation \n"
   ]
  },
  {
   "cell_type": "code",
   "execution_count": 6,
   "id": "d66370a8",
   "metadata": {},
   "outputs": [
    {
     "name": "stdout",
     "output_type": "stream",
     "text": [
      "40\n"
     ]
    }
   ],
   "source": [
    "def knapsack(weights, values, capacity):\n",
    "    n = len(weights)\n",
    "    dp = [[0 for _ in range(capacity + 1)] for _ in range(n + 1)]\n",
    "    \n",
    "    for i in range(1, n + 1):\n",
    "        for w in range(1, capacity + 1):\n",
    "            if weights[i - 1] <= w:\n",
    "                dp[i][w] = max(dp[i - 1][w], values[i - 1] + dp[i - 1][w - weights[i - 1]])\n",
    "            else:\n",
    "                dp[i][w] = dp[i - 1][w]\n",
    "    \n",
    "    return dp[n][capacity]\n",
    "\n",
    "# Example usage:\n",
    "weights = [1, 3, 4]\n",
    "values = [10, 20, 30]\n",
    "capacity = 6\n",
    "print(knapsack(weights, values, capacity))  # Output: 40\n"
   ]
  },
  {
   "cell_type": "markdown",
   "id": "4fd7ca9b",
   "metadata": {},
   "source": [
    "## 3. Frog Jump | Dynamic Programming |\n"
   ]
  },
  {
   "cell_type": "code",
   "execution_count": 11,
   "id": "d6c9aafa",
   "metadata": {},
   "outputs": [
    {
     "data": {
      "text/plain": [
       "17"
      ]
     },
     "execution_count": 11,
     "metadata": {},
     "output_type": "execute_result"
    }
   ],
   "source": [
    "def minimizeCost(n, height):\n",
    "    if n<=1:\n",
    "        return 0\n",
    "    \n",
    "    dp=[0]*n\n",
    "    dp[0]=0\n",
    "    dp[1]=abs(height[1]-height[0])\n",
    "\n",
    "    for i in range(2,n):\n",
    "        left=dp[i-1]+abs(height[i]-height[i-1])\n",
    "        right=dp[i-2]+abs(height[i]-height[i-2])\n",
    "        dp[i]=min(left,right)\n",
    "\n",
    "    return dp[n-1]\n",
    "\n",
    "\n",
    "minimizeCost(len([0,1,3,5,6,8,12,17]),[0,1,3,5,6,8,12,17])"
   ]
  },
  {
   "cell_type": "code",
   "execution_count": 50,
   "id": "2d3bbeee",
   "metadata": {},
   "outputs": [],
   "source": [
    "from typing import List\n",
    "\n",
    "class Solution:\n",
    "    def canCross(self, height: List[int]) -> bool:\n",
    "        n = len(height)\n",
    "        if n <= 1:\n",
    "            return True \n",
    "        \n",
    "        dp = [0] * n\n",
    "        dp[0] = 0  \n",
    "        dp[1] = abs(height[1] - height[0])  \n",
    "\n",
    "        for i in range(2, n):\n",
    "            left = dp[i - 1] + abs(height[i] - height[i - 1]) \n",
    "            right = dp[i - 2] + abs(height[i] - height[i - 2]) \n",
    "            dp[i] = min(left, right)\n",
    "\n",
    "        return dp[n - 1] <= 5\n"
   ]
  },
  {
   "cell_type": "markdown",
   "id": "833830ab",
   "metadata": {},
   "source": [
    "## 198. House Robber"
   ]
  },
  {
   "cell_type": "code",
   "execution_count": 42,
   "id": "dc2322f5",
   "metadata": {},
   "outputs": [
    {
     "data": {
      "text/plain": [
       "4"
      ]
     },
     "execution_count": 42,
     "metadata": {},
     "output_type": "execute_result"
    }
   ],
   "source": [
    "def rob(nums) -> int:\n",
    "    n=len(nums)\n",
    "    def rob_help(ind):\n",
    "        if ind==0:\n",
    "            return nums[ind]\n",
    "        if ind<0:\n",
    "            return 0\n",
    "        pick=nums[ind]+rob_help(ind-2)\n",
    "        not_pick=rob_help(ind-1)\n",
    "        \n",
    "        return max(pick,not_pick)\n",
    "    return rob_help(n-1)\n",
    "\n",
    "rob([1,2,3,1])"
   ]
  },
  {
   "cell_type": "code",
   "execution_count": 49,
   "id": "05b835b0",
   "metadata": {},
   "outputs": [
    {
     "data": {
      "text/plain": [
       "4"
      ]
     },
     "execution_count": 49,
     "metadata": {},
     "output_type": "execute_result"
    }
   ],
   "source": [
    "def rob(nums) -> int:\n",
    "    n=len(nums)\n",
    "    if n==0:\n",
    "        return 0\n",
    "    if n==1:\n",
    "        return nums[0]\n",
    "    dp=[0]*n\n",
    "    dp[0]=nums[0]\n",
    "    dp[1]=max(nums[0],nums[1])\n",
    "    for i in range(2,n):\n",
    "        dp[i]=max(nums[i]+dp[i-2],dp[i-1])\n",
    "\n",
    "    return dp[n-1]\n",
    "\n",
    "rob([1,2,3,1])"
   ]
  },
  {
   "cell_type": "markdown",
   "id": "87b2ff48",
   "metadata": {},
   "source": [
    "### Maximum sum of non-adjacent elements"
   ]
  },
  {
   "cell_type": "code",
   "execution_count": null,
   "id": "407fb56a",
   "metadata": {},
   "outputs": [],
   "source": [
    "def pick_notpick(n,nums,dp):\n",
    "    if n==0:\n",
    "        return nums[0]\n",
    "    if n<0:\n",
    "        return 0\n",
    "    if dp[n]!=-1:\n",
    "        return dp[n]\n",
    "    \n",
    "    pick=nums[n]+pick_notpick(n-2,nums,dp)\n",
    "    not_pick=0+pick_notpick(n-1,nums,dp)\n",
    "    dp[n]=max(pick,not_pick)\n",
    "    return dp[n]\n",
    "\n",
    "def maximumNonAdjacentSum(nums):    \n",
    "    # Write your code here.\n",
    "    n=len(nums)\n",
    "    dp=[-1]*n\n",
    "    return pick_notpick(n-1,nums,dp)"
   ]
  },
  {
   "cell_type": "markdown",
   "id": "b4f6231f",
   "metadata": {},
   "source": [
    "### frog jump 2(first and last are neighbour)"
   ]
  },
  {
   "cell_type": "code",
   "execution_count": 51,
   "id": "348e0a4b",
   "metadata": {},
   "outputs": [],
   "source": [
    "def houseRobber(valueInHouse):\n",
    "    n = len(valueInHouse)\n",
    "    \n",
    "    if n == 0:\n",
    "        return 0\n",
    "    elif n == 1:\n",
    "        return valueInHouse[0]\n",
    "    \n",
    "    # 1. Include the first house (exclude the last house)\n",
    "    # 2. Exclude the first house (include the last house)\n",
    "    temp1 = valueInHouse[:-1] \n",
    "    temp2 = valueInHouse[1:]  \n",
    "    \n",
    "    dp1 = [-1] * len(temp1)\n",
    "    dp2 = [-1] * len(temp2)\n",
    "    \n",
    "    return max(pick_notpick(len(temp1) - 1, temp1, dp1),\n",
    "               pick_notpick(len(temp2) - 1, temp2, dp2))\n",
    "\n",
    "def pick_notpick(n, nums, dp):\n",
    "    if n == 0:\n",
    "        return nums[0]\n",
    "    if n < 0:\n",
    "        return 0\n",
    "    if dp[n] != -1:\n",
    "        return dp[n]\n",
    "\n",
    "    pick = nums[n] + pick_notpick(n - 2, nums, dp)\n",
    "    not_pick = pick_notpick(n - 1, nums, dp)\n",
    "    \n",
    "    dp[n] = max(pick, not_pick)  \n",
    "    return dp[n]"
   ]
  },
  {
   "cell_type": "markdown",
   "id": "51a78f3b",
   "metadata": {},
   "source": [
    "\n",
    "### 213. House Robber II\n",
    "**Medium**\n",
    "\n",
    "You are a professional robber planning to rob houses along a street. Each house has a certain amount of money stashed. All houses at this place are arranged in a circle. That means the first house is the neighbor of the last one. Meanwhile, adjacent houses have a security system connected, and it will automatically contact the police if two adjacent houses are broken into on the same night.\n",
    "\n",
    "Given an integer array `nums` representing the amount of money of each house, return the maximum amount of money you can rob tonight without alerting the police.\n",
    "\n",
    "#### Example 1:\n",
    "**Input:** `nums = [2,3,2]`  \n",
    "**Output:** `3`  \n",
    "**Explanation:** You cannot rob house 1 (money = 2) and then rob house 3 (money = 2) because they are adjacent houses.\n",
    "\n",
    "#### Example 2:\n",
    "**Input:** `nums = [1,2,3,1]`  \n",
    "**Output:** `4`  \n",
    "**Explanation:** Rob house 1 (money = 1) and then rob house 3 (money = 3). Total amount you can rob = 1 + 3 = 4.\n",
    "\n",
    "#### Example 3:\n",
    "**Input:** `nums = [1,2,3]`  \n",
    "**Output:** `3`  \n",
    "\n",
    "--- \n"
   ]
  },
  {
   "cell_type": "code",
   "execution_count": null,
   "id": "e75387c4",
   "metadata": {},
   "outputs": [],
   "source": []
  }
 ],
 "metadata": {
  "kernelspec": {
   "display_name": "Python 3 (ipykernel)",
   "language": "python",
   "name": "python3"
  },
  "language_info": {
   "codemirror_mode": {
    "name": "ipython",
    "version": 3
   },
   "file_extension": ".py",
   "mimetype": "text/x-python",
   "name": "python",
   "nbconvert_exporter": "python",
   "pygments_lexer": "ipython3",
   "version": "3.11.6"
  }
 },
 "nbformat": 4,
 "nbformat_minor": 5
}
