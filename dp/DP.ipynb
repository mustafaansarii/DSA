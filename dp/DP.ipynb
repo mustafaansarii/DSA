{
 "cells": [
  {
   "cell_type": "code",
   "execution_count": 5,
   "id": "0b7c3d56-7b50-4e51-b92e-4943e059429c",
   "metadata": {},
   "outputs": [
    {
     "data": {
      "text/plain": [
       "13"
      ]
     },
     "execution_count": 5,
     "metadata": {},
     "output_type": "execute_result"
    }
   ],
   "source": [
    "# Fibonnaci Seriese\n",
    "def fib(n):\n",
    "    if n==0 or n==1: return n\n",
    "    else:\n",
    "        return fib(n-1)+fib(n-2)\n",
    "    \n",
    "fib(7)"
   ]
  },
  {
   "cell_type": "code",
   "execution_count": 10,
   "id": "a275d57a",
   "metadata": {},
   "outputs": [
    {
     "name": "stdout",
     "output_type": "stream",
     "text": [
      "Execution time: 30.45332670211792 seconds\n"
     ]
    }
   ],
   "source": [
    "import time\n",
    "start_time = time.time()\n",
    "fib(40)  \n",
    "end_time = time.time()  \n",
    "execution_time = end_time - start_time\n",
    "print(\"Execution time:\", execution_time, \"seconds\")"
   ]
  },
  {
   "cell_type": "markdown",
   "id": "891c74b5",
   "metadata": {},
   "source": [
    "### **Dynamic Programing**\n",
    "1. Memoization(Top Down Approach)\n",
    "2. Tabulation(Bottom Up Approach)"
   ]
  },
  {
   "cell_type": "code",
   "execution_count": 6,
   "id": "c6c16579",
   "metadata": {},
   "outputs": [
    {
     "data": {
      "text/plain": [
       "55"
      ]
     },
     "execution_count": 6,
     "metadata": {},
     "output_type": "execute_result"
    }
   ],
   "source": [
    "# Memoization(Top Down Approach)\n",
    "def fib_topDown(n,memo):\n",
    "    if memo[n] is not None:\n",
    "        return memo[n]\n",
    "    if n<=1:\n",
    "        result=n\n",
    "    else:\n",
    "        result=fib_topDown(n-1,memo)+fib_topDown(n-2,memo)\n",
    "    memo[n]=result\n",
    "    return result\n",
    "\n",
    "def fib_memo(n):\n",
    "    memo=[None]*(n+1)\n",
    "    return fib_topDown(n,memo)\n",
    "\n",
    "fib_memo(10)\n",
    "# in higher input it's gives RecursionError: maximum recursion depth exceeded"
   ]
  },
  {
   "cell_type": "code",
   "execution_count": 4,
   "id": "d2b35d8e",
   "metadata": {},
   "outputs": [
    {
     "data": {
      "text/plain": [
       "55"
      ]
     },
     "execution_count": 4,
     "metadata": {},
     "output_type": "execute_result"
    }
   ],
   "source": [
    "#Tabulation \n",
    "def fib_bottomup(n):\n",
    "    bottomup=[None]*(n+1)\n",
    "    bottomup[0]=0\n",
    "    bottomup[1]=1\n",
    "    for i in range(2,n+1):\n",
    "        bottomup[i]=bottomup[i-1]+bottomup[i-2]\n",
    "    return bottomup[n]\n",
    "\n",
    "\n",
    "fib_bottomup(10)"
   ]
  },
  {
   "cell_type": "code",
   "execution_count": 5,
   "id": "5932d954",
   "metadata": {},
   "outputs": [
    {
     "data": {
      "text/plain": [
       "55"
      ]
     },
     "execution_count": 5,
     "metadata": {},
     "output_type": "execute_result"
    }
   ],
   "source": [
    "##Optimized\n",
    "def fibbn(n):\n",
    "    a=0\n",
    "    b=1\n",
    "    for i in range(2,n+1):\n",
    "        a,b=b,a+b\n",
    "    return b\n",
    "fibbn(10)"
   ]
  },
  {
   "cell_type": "code",
   "execution_count": null,
   "id": "31b6e0f2",
   "metadata": {},
   "outputs": [],
   "source": []
  }
 ],
 "metadata": {
  "kernelspec": {
   "display_name": "Python 3 (ipykernel)",
   "language": "python",
   "name": "python3"
  },
  "language_info": {
   "codemirror_mode": {
    "name": "ipython",
    "version": 3
   },
   "file_extension": ".py",
   "mimetype": "text/x-python",
   "name": "python",
   "nbconvert_exporter": "python",
   "pygments_lexer": "ipython3",
   "version": "3.11.6"
  }
 },
 "nbformat": 4,
 "nbformat_minor": 5
}
