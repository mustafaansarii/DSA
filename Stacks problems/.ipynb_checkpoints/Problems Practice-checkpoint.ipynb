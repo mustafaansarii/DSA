{
 "cells": [
  {
   "cell_type": "code",
   "execution_count": 86,
   "id": "b023f820",
   "metadata": {},
   "outputs": [],
   "source": [
    "class Node:\n",
    "    def __init__(self,data):\n",
    "        self.data=data\n",
    "class Node:\n",
    "    def __init__(self, data):\n",
    "        self.data = data\n",
    "        self.next = None\n",
    "\n",
    "class Stack:\n",
    "    def __init__(self):\n",
    "        self.head = None\n",
    "        self.tail = None\n",
    "\n",
    "    def push(self, data):\n",
    "        new_node = Node(data)\n",
    "        if self.tail is None:\n",
    "            self.head = new_node\n",
    "            self.tail = new_node\n",
    "        else:\n",
    "            self.tail.next = new_node\n",
    "            self.tail = new_node\n",
    "\n",
    "    def display(self):\n",
    "        if self.head is None:\n",
    "            print(\"Stack is empty\")\n",
    "        else:\n",
    "            n = self.head\n",
    "            while n:\n",
    "                print(n.data, end=' ')\n",
    "                n = n.next\n",
    "\n",
    "    def pop(self):\n",
    "        if self.head is None:\n",
    "            raise IndexError(\"pop from empty list\")\n",
    "        if self.head.next is None:\n",
    "            data = self.head.data\n",
    "            self.head = None\n",
    "            self.tail = None\n",
    "        else:\n",
    "            n = self.head\n",
    "            while n.next.next:\n",
    "                n = n.next\n",
    "            data = n.next.data\n",
    "            n.next = None\n",
    "            self.tail = n\n",
    "        return data\n",
    "\n",
    "\n",
    "if __name__ == '__main__':\n",
    "    S=Stack()\n",
    "    arr=[10, 20, 30, 40, 50]\n",
    "    for i in arr:\n",
    "        S.push(i)\n",
    "    reversed_arr = []\n",
    "    for i in range(len(arr)):\n",
    "        reversed_arr.append(S.pop())\n"
   ]
  },
  {
   "cell_type": "code",
   "execution_count": 87,
   "id": "9176ca6e",
   "metadata": {},
   "outputs": [
    {
     "data": {
      "text/plain": [
       "[50, 40, 30, 20, 10]"
      ]
     },
     "execution_count": 87,
     "metadata": {},
     "output_type": "execute_result"
    }
   ],
   "source": [
    "reversed_arr"
   ]
  },
  {
   "cell_type": "code",
   "execution_count": null,
   "id": "92eb9b86",
   "metadata": {},
   "outputs": [],
   "source": []
  },
  {
   "cell_type": "code",
   "execution_count": 88,
   "id": "9f75e3ca",
   "metadata": {},
   "outputs": [
    {
     "name": "stdout",
     "output_type": "stream",
     "text": [
      "Stack is empty\n"
     ]
    }
   ],
   "source": [
    "S.display()"
   ]
  },
  {
   "cell_type": "code",
   "execution_count": null,
   "id": "ba50f2d0",
   "metadata": {},
   "outputs": [],
   "source": []
  },
  {
   "cell_type": "code",
   "execution_count": null,
   "id": "a8e8d63d",
   "metadata": {},
   "outputs": [],
   "source": [
    "\n"
   ]
  },
  {
   "cell_type": "code",
   "execution_count": null,
   "id": "36e10e57",
   "metadata": {},
   "outputs": [],
   "source": []
  }
 ],
 "metadata": {
  "kernelspec": {
   "display_name": "Python 3 (ipykernel)",
   "language": "python",
   "name": "python3"
  },
  "language_info": {
   "codemirror_mode": {
    "name": "ipython",
    "version": 3
   },
   "file_extension": ".py",
   "mimetype": "text/x-python",
   "name": "python",
   "nbconvert_exporter": "python",
   "pygments_lexer": "ipython3",
   "version": "3.9.12"
  }
 },
 "nbformat": 4,
 "nbformat_minor": 5
}
