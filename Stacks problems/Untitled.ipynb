{
 "cells": [
  {
   "cell_type": "code",
   "execution_count": 4,
   "id": "8ca99f44-5744-4207-96f5-13ff8cc82410",
   "metadata": {},
   "outputs": [],
   "source": [
    "# https://www.geeksforgeeks.org/implement-stack-queue-using-deque/\n",
    "\n",
    "class Node:\n",
    "    def __init__(self,data):\n",
    "        self.next=None\n",
    "        self.data=data\n",
    "        self.prev=None\n",
    "class Queue:\n",
    "    def __init__(self):\n",
    "        self.head=None\n",
    "        self.tail=None\n",
    "\n",
    "    def Enqueue(self,data):\n",
    "        new_node=Node(data)\n",
    "        if self.head is None:\n",
    "            self.head=new_node\n",
    "            new_node.prev=new_node\n",
    "            new_node.next=new_node\n",
    "            return\n",
    "        self.head.prev.next=new_node\n",
    "        new_node.prev=self.head.prev\n",
    "        new_node.next=self.head\n",
    "        self.head=new_node\n",
    "        \n",
    "    def _print(self):\n",
    "        if self.head is None: return \"Queue is Empty!\"\n",
    "        n=self.head\n",
    "        while n is not n.next:\n",
    "            print(n.data, end=' ')\n",
    "            n=n.next\n",
    "Q=Queue()"
   ]
  },
  {
   "cell_type": "code",
   "execution_count": 6,
   "id": "7a2f62b4-f719-4d9a-9578-6e95bbc1a6a1",
   "metadata": {},
   "outputs": [],
   "source": [
    "Q._print()"
   ]
  },
  {
   "cell_type": "code",
   "execution_count": 5,
   "id": "b2e586b4-6c70-47b4-a106-da7c4737c7ff",
   "metadata": {},
   "outputs": [],
   "source": [
    "Q.Enqueue(2)"
   ]
  },
  {
   "cell_type": "code",
   "execution_count": null,
   "id": "fb36d03e-19a5-459a-834e-7034427912fc",
   "metadata": {},
   "outputs": [],
   "source": []
  }
 ],
 "metadata": {
  "kernelspec": {
   "display_name": "Python 3 (ipykernel)",
   "language": "python",
   "name": "python3"
  },
  "language_info": {
   "codemirror_mode": {
    "name": "ipython",
    "version": 3
   },
   "file_extension": ".py",
   "mimetype": "text/x-python",
   "name": "python",
   "nbconvert_exporter": "python",
   "pygments_lexer": "ipython3",
   "version": "3.11.7"
  }
 },
 "nbformat": 4,
 "nbformat_minor": 5
}
