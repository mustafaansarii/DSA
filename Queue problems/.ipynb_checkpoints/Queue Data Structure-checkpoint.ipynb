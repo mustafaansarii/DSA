{
 "cells": [
  {
   "cell_type": "code",
   "execution_count": 257,
   "id": "b9aa1e2a",
   "metadata": {},
   "outputs": [
    {
     "data": {
      "text/html": [
       "<img src=\"https://cdn.programiz.com/sites/tutorial2program/files/queue.png\"/>"
      ],
      "text/plain": [
       "<IPython.core.display.Image object>"
      ]
     },
     "execution_count": 257,
     "metadata": {},
     "output_type": "execute_result"
    }
   ],
   "source": [
    "from IPython.display import Image\n",
    "image_url = 'https://cdn.programiz.com/sites/tutorial2program/files/queue.png'\n",
    "\n",
    "Image(url=image_url)\n"
   ]
  },
  {
   "cell_type": "markdown",
   "id": "5bfc96e7",
   "metadata": {},
   "source": [
    "A queue is a useful data structure in programming. It is similar to the ticket queue outside a cinema hall, where the first person entering the queue is the first person who gets the ticket.\n",
    "\n",
    "Queue follows the First In First Out (FIFO) rule - the item that goes in first is the item that comes out first."
   ]
  },
  {
   "cell_type": "markdown",
   "id": "137c5aad",
   "metadata": {},
   "source": [
    "In programming terms, putting items in the queue is called enqueue, and removing items from the queue is called dequeue."
   ]
  },
  {
   "cell_type": "code",
   "execution_count": 30,
   "id": "689b5d46",
   "metadata": {},
   "outputs": [],
   "source": [
    "from collections import deque\n",
    "\n",
    "class Queue:\n",
    "    def __init__(self):\n",
    "        self.queue = deque()\n",
    "\n",
    "    def enqueue(self, item):\n",
    "        self.queue.append(item)\n",
    "\n",
    "    def dequeue(self):\n",
    "        if self.queue:\n",
    "            return self.queue.popleft()\n",
    "        else:\n",
    "            print(\"Queue is empty!\")\n",
    "            return None\n",
    "\n",
    "    def print_queue(self):\n",
    "        print(list(self.queue))\n",
    "\n",
    "q = Queue()\n",
    "\n"
   ]
  },
  {
   "cell_type": "code",
   "execution_count": 31,
   "id": "dfb276b0",
   "metadata": {},
   "outputs": [],
   "source": [
    "q.enqueue(1)\n",
    "q.enqueue(2)\n",
    "q.enqueue(3)\n"
   ]
  },
  {
   "cell_type": "code",
   "execution_count": 32,
   "id": "5e9c1011",
   "metadata": {},
   "outputs": [
    {
     "name": "stdout",
     "output_type": "stream",
     "text": [
      "[1, 2, 3]\n"
     ]
    }
   ],
   "source": [
    "q.print_queue()\n",
    "\n"
   ]
  },
  {
   "cell_type": "code",
   "execution_count": 33,
   "id": "b5f00eb1",
   "metadata": {},
   "outputs": [
    {
     "data": {
      "text/plain": [
       "1"
      ]
     },
     "execution_count": 33,
     "metadata": {},
     "output_type": "execute_result"
    }
   ],
   "source": [
    "q.dequeue()"
   ]
  },
  {
   "cell_type": "code",
   "execution_count": 34,
   "id": "49b6b0a4",
   "metadata": {},
   "outputs": [
    {
     "data": {
      "text/plain": [
       "2"
      ]
     },
     "execution_count": 34,
     "metadata": {},
     "output_type": "execute_result"
    }
   ],
   "source": [
    "q.dequeue()"
   ]
  },
  {
   "cell_type": "code",
   "execution_count": 35,
   "id": "216e10bc",
   "metadata": {},
   "outputs": [
    {
     "name": "stdout",
     "output_type": "stream",
     "text": [
      "[3]\n"
     ]
    }
   ],
   "source": [
    "q.print_queue()"
   ]
  },
  {
   "cell_type": "markdown",
   "id": "2f5c8355",
   "metadata": {},
   "source": [
    "O(1) time complexity. good "
   ]
  },
  {
   "cell_type": "code",
   "execution_count": 36,
   "id": "68c12e10",
   "metadata": {},
   "outputs": [],
   "source": [
    "class Creating_queue:\n",
    "    def __init__(self, Queue=None):\n",
    "        self.Queue = Queue if Queue is not None else []\n",
    "    \n",
    "    def Enqueue(self, data=None):\n",
    "        self.data = data\n",
    "        self.Queue.append(self.data)\n",
    "        print(f\"Enqueue element: {self.data}\")\n",
    "    \n",
    "    def dequeue(self):\n",
    "        if len(self.Queue) == 0:\n",
    "            print(\"Queue is Empty!\")\n",
    "        else:\n",
    "            print(f\"dequeue element: {self.Queue[0]}\")\n",
    "            self.Queue.pop(0)\n",
    "            \n",
    "    \n",
    "    def printQ(self):\n",
    "        print(self.Queue)\n",
    "\n",
    "q=Creating_queue()"
   ]
  },
  {
   "cell_type": "markdown",
   "id": "3cf497d3",
   "metadata": {},
   "source": [
    " O(n) time complexity. that's it's not efficient"
   ]
  },
  {
   "cell_type": "code",
   "execution_count": 37,
   "id": "0ad414f9",
   "metadata": {},
   "outputs": [
    {
     "name": "stdout",
     "output_type": "stream",
     "text": [
      "Enqueue element: 24\n"
     ]
    }
   ],
   "source": [
    "\n",
    "q.Enqueue(24)"
   ]
  },
  {
   "cell_type": "code",
   "execution_count": 38,
   "id": "3b09188d",
   "metadata": {},
   "outputs": [
    {
     "name": "stdout",
     "output_type": "stream",
     "text": [
      "Enqueue element: 54\n"
     ]
    }
   ],
   "source": [
    "q.Enqueue(54)"
   ]
  },
  {
   "cell_type": "code",
   "execution_count": 39,
   "id": "a956c97a",
   "metadata": {},
   "outputs": [
    {
     "name": "stdout",
     "output_type": "stream",
     "text": [
      "Enqueue element: 11\n",
      "Enqueue element: 21\n",
      "Enqueue element: 41\n",
      "Enqueue element: 61\n",
      "Enqueue element: 71\n",
      "Enqueue element: 141\n",
      "Enqueue element: 143\n",
      "Enqueue element: 134\n"
     ]
    }
   ],
   "source": [
    "q.Enqueue(11)\n",
    "q.Enqueue(21)\n",
    "q.Enqueue(41)\n",
    "q.Enqueue(61)\n",
    "q.Enqueue(71)\n",
    "q.Enqueue(141)\n",
    "q.Enqueue(143)\n",
    "q.Enqueue(134)"
   ]
  },
  {
   "cell_type": "code",
   "execution_count": 40,
   "id": "ef742900",
   "metadata": {},
   "outputs": [
    {
     "name": "stdout",
     "output_type": "stream",
     "text": [
      "[24, 54, 11, 21, 41, 61, 71, 141, 143, 134]\n"
     ]
    }
   ],
   "source": [
    "q.printQ()"
   ]
  },
  {
   "cell_type": "code",
   "execution_count": null,
   "id": "d643634a",
   "metadata": {},
   "outputs": [],
   "source": []
  },
  {
   "cell_type": "code",
   "execution_count": null,
   "id": "87dc0296",
   "metadata": {},
   "outputs": [],
   "source": []
  },
  {
   "cell_type": "code",
   "execution_count": null,
   "id": "308b2f72",
   "metadata": {},
   "outputs": [],
   "source": []
  },
  {
   "cell_type": "code",
   "execution_count": 16,
   "id": "ea012225",
   "metadata": {},
   "outputs": [],
   "source": []
  },
  {
   "cell_type": "code",
   "execution_count": null,
   "id": "33573bd3",
   "metadata": {},
   "outputs": [],
   "source": []
  },
  {
   "cell_type": "code",
   "execution_count": null,
   "id": "34c75f5c",
   "metadata": {},
   "outputs": [],
   "source": []
  },
  {
   "cell_type": "code",
   "execution_count": null,
   "id": "45fed851",
   "metadata": {},
   "outputs": [],
   "source": []
  },
  {
   "cell_type": "code",
   "execution_count": null,
   "id": "3db09d3e",
   "metadata": {},
   "outputs": [],
   "source": []
  },
  {
   "cell_type": "code",
   "execution_count": null,
   "id": "92debb8f",
   "metadata": {},
   "outputs": [],
   "source": []
  },
  {
   "cell_type": "code",
   "execution_count": null,
   "id": "0773edf3",
   "metadata": {},
   "outputs": [],
   "source": []
  }
 ],
 "metadata": {
  "kernelspec": {
   "display_name": "Python 3 (ipykernel)",
   "language": "python",
   "name": "python3"
  },
  "language_info": {
   "codemirror_mode": {
    "name": "ipython",
    "version": 3
   },
   "file_extension": ".py",
   "mimetype": "text/x-python",
   "name": "python",
   "nbconvert_exporter": "python",
   "pygments_lexer": "ipython3",
   "version": "3.9.12"
  }
 },
 "nbformat": 4,
 "nbformat_minor": 5
}
