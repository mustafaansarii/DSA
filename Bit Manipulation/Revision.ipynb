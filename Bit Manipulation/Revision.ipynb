{
 "cells": [
  {
   "cell_type": "code",
   "execution_count": 14,
   "metadata": {},
   "outputs": [],
   "source": [
    "class Node:\n",
    "    def __init__(self,data) -> None:\n",
    "        self.data=data\n",
    "        self.Next=None\n",
    "        self.prev=None"
   ]
  },
  {
   "cell_type": "code",
   "execution_count": 41,
   "metadata": {},
   "outputs": [],
   "source": [
    "class SLL:\n",
    "    def __init__(self) -> None:\n",
    "        self.head=None\n",
    "\n",
    "    def append(self,data):\n",
    "        new_node=Node(data)\n",
    "        if self.head==None:\n",
    "            self.head=new_node\n",
    "            return self.head.data\n",
    "        n=self.head\n",
    "        while n.Next:\n",
    "            n=n.Next\n",
    "        n.Next=new_node\n",
    "        return new_node.data\n",
    "    \n",
    "    def Display(self):\n",
    "        n = self.head\n",
    "        if self.head is not None:\n",
    "            while n:\n",
    "                print(n.data, end=' ')\n",
    "                n = n.Next\n",
    "\n",
    "    def reverse(self):\n",
    "        if self.head !=None:\n",
    "            curr=self.head\n",
    "            prev=None\n",
    "            while curr:\n",
    "                temp=curr.Next\n",
    "                curr.Next=prev\n",
    "                prev=curr\n",
    "                curr=temp\n",
    "            self.head=prev\n",
    "    def appendLeft(self,data):\n",
    "        new_node=Node(data)\n",
    "        n=self.head\n",
    "        if self.head ==None:\n",
    "            self.head=new_node\n",
    "            return new_node.data\n",
    "        new_node.Next=self.head\n",
    "        new_node.prev=self.head\n",
    "        self.head.Next=new_node\n",
    "        self.head=new_node\n",
    "        return new_node.data\n",
    "    \n",
    "    def print2(self):\n",
    "        n=self.head\n",
    "        while n.Next:\n",
    "            print(n.data, end=' ')\n",
    "            n=n.Next\n",
    "            if n.Next==n.prev:\n",
    "                break\n",
    "            \n",
    "    def cycle_detection(self):\n",
    "        if self.head == None or self.head.Next == None:\n",
    "            return False\n",
    "\n",
    "        slow = self.head\n",
    "        fast = self.head\n",
    "\n",
    "        while fast and fast.Next:\n",
    "            slow = slow.Next\n",
    "            fast = fast.Next.Next\n",
    "            if slow == fast:\n",
    "                return True\n",
    "\n",
    "        return False\n",
    "    \n",
    "    def pop(self):\n",
    "        if self.head!=None:\n",
    "            if self.head.Next==None:\n",
    "                a=self.head.data\n",
    "                self.head=None\n",
    "                return a\n",
    "            n=self.head\n",
    "            while n.Next:\n",
    "                n=n.Next\n",
    "                if n.Next.next==self.head:\n",
    "                    break\n",
    "                a=n.Next.data\n",
    "                n.next=self.head\n",
    "                return a\n",
    "        return -1\n",
    "\n",
    "\n",
    "Sll=SLL()"
   ]
  },
  {
   "cell_type": "code",
   "execution_count": 30,
   "metadata": {},
   "outputs": [
    {
     "data": {
      "text/plain": [
       "False"
      ]
     },
     "execution_count": 30,
     "metadata": {},
     "output_type": "execute_result"
    }
   ],
   "source": [
    "Sll.cycle_detection()"
   ]
  },
  {
   "cell_type": "code",
   "execution_count": 43,
   "metadata": {},
   "outputs": [
    {
     "data": {
      "text/plain": [
       "1"
      ]
     },
     "execution_count": 43,
     "metadata": {},
     "output_type": "execute_result"
    }
   ],
   "source": [
    "Sll.appendLeft(1)"
   ]
  },
  {
   "cell_type": "code",
   "execution_count": 32,
   "metadata": {},
   "outputs": [],
   "source": [
    "Sll.print2()"
   ]
  },
  {
   "cell_type": "code",
   "execution_count": 46,
   "metadata": {},
   "outputs": [],
   "source": [
    "Sll.Display()"
   ]
  },
  {
   "cell_type": "code",
   "execution_count": 47,
   "metadata": {},
   "outputs": [
    {
     "data": {
      "text/plain": [
       "-1"
      ]
     },
     "execution_count": 47,
     "metadata": {},
     "output_type": "execute_result"
    }
   ],
   "source": [
    "Sll.pop()"
   ]
  },
  {
   "cell_type": "code",
   "execution_count": 28,
   "metadata": {},
   "outputs": [],
   "source": [
    "Sll.reverse()"
   ]
  },
  {
   "cell_type": "code",
   "execution_count": 21,
   "metadata": {},
   "outputs": [
    {
     "name": "stdout",
     "output_type": "stream",
     "text": [
      "1 "
     ]
    }
   ],
   "source": [
    "Sll.Display()"
   ]
  },
  {
   "cell_type": "code",
   "execution_count": null,
   "metadata": {},
   "outputs": [],
   "source": []
  },
  {
   "cell_type": "code",
   "execution_count": null,
   "metadata": {},
   "outputs": [],
   "source": []
  },
  {
   "cell_type": "markdown",
   "metadata": {},
   "source": [
    "### Bit Manipulation"
   ]
  },
  {
   "cell_type": "code",
   "execution_count": 53,
   "metadata": {},
   "outputs": [
    {
     "data": {
      "text/plain": [
       "20"
      ]
     },
     "execution_count": 53,
     "metadata": {},
     "output_type": "execute_result"
    }
   ],
   "source": [
    "10<<1"
   ]
  },
  {
   "cell_type": "code",
   "execution_count": 60,
   "metadata": {},
   "outputs": [],
   "source": [
    "a=24\n",
    "binary=''\n",
    "while a>0:\n",
    "    binary=str(a%2)+binary\n",
    "    a=a//2\n"
   ]
  },
  {
   "cell_type": "code",
   "execution_count": 75,
   "metadata": {},
   "outputs": [
    {
     "data": {
      "text/plain": [
       "True"
      ]
     },
     "execution_count": 75,
     "metadata": {},
     "output_type": "execute_result"
    }
   ],
   "source": [
    "int(binary[-1])"
   ]
  },
  {
   "cell_type": "code",
   "execution_count": 91,
   "metadata": {},
   "outputs": [],
   "source": [
    "def manupulate(num):\n",
    "    if num & 1==0:\n",
    "        return True\n",
    "    return False"
   ]
  },
  {
   "cell_type": "code",
   "execution_count": 94,
   "metadata": {},
   "outputs": [
    {
     "data": {
      "text/plain": [
       "False"
      ]
     },
     "execution_count": 94,
     "metadata": {},
     "output_type": "execute_result"
    }
   ],
   "source": [
    "manupulate(123)"
   ]
  },
  {
   "cell_type": "code",
   "execution_count": 1,
   "metadata": {},
   "outputs": [
    {
     "data": {
      "text/plain": [
       "1"
      ]
     },
     "execution_count": 1,
     "metadata": {},
     "output_type": "execute_result"
    }
   ],
   "source": [
    "23 & 1"
   ]
  },
  {
   "cell_type": "markdown",
   "metadata": {},
   "source": [
    "### all the question, if there is solve the question without using any operator use bit manipulation\n"
   ]
  },
  {
   "cell_type": "code",
   "execution_count": 11,
   "metadata": {},
   "outputs": [],
   "source": [
    "def devideTwoInteger(n,m):\n",
    "    count=0\n",
    "    while n>m:\n",
    "        n=n-m\n",
    "        count+=1\n",
    "    return count"
   ]
  },
  {
   "cell_type": "code",
   "execution_count": 12,
   "metadata": {},
   "outputs": [
    {
     "data": {
      "text/plain": [
       "10"
      ]
     },
     "execution_count": 12,
     "metadata": {},
     "output_type": "execute_result"
    }
   ],
   "source": [
    "devideTwoInteger(43,4)"
   ]
  },
  {
   "cell_type": "markdown",
   "metadata": {},
   "source": [
    "##### Time Complexity: O(n)\n",
    "##### Space Complexity: O(1)"
   ]
  },
  {
   "cell_type": "markdown",
   "metadata": {},
   "source": [
    "### using Bitwisw"
   ]
  },
  {
   "cell_type": "code",
   "execution_count": 25,
   "metadata": {},
   "outputs": [],
   "source": [
    "class Solution:\n",
    "    def divide(self, dividend: int, divisor: int) -> int:\n",
    "        if dividend == -2147483648 and divisor == -1:\n",
    "            return 2147483647\n",
    "        \n",
    "        negative = (dividend < 0) != (divisor < 0)\n",
    "        \n",
    "        divid = abs(dividend)\n",
    "        div = abs(divisor)\n",
    "        result = 0\n",
    "        \n",
    "        while divid >= div:\n",
    "            shift = 0\n",
    "            while divid >= (div << shift):\n",
    "                shift += 1\n",
    "            result += 1 << (shift - 1)\n",
    "            divid -= div << (shift - 1)\n",
    "        \n",
    "        if negative:\n",
    "            result = -result\n",
    "        \n",
    "        return min(2147483647, max(-2147483648, result))\n"
   ]
  },
  {
   "cell_type": "code",
   "execution_count": 26,
   "metadata": {},
   "outputs": [
    {
     "data": {
      "text/plain": [
       "11"
      ]
     },
     "execution_count": 26,
     "metadata": {},
     "output_type": "execute_result"
    }
   ],
   "source": [
    "Solution().divide(45,4)"
   ]
  },
  {
   "cell_type": "code",
   "execution_count": 119,
   "metadata": {},
   "outputs": [],
   "source": [
    "class Node:\n",
    "    def __init__(self, data) -> None:\n",
    "        self.data = data\n",
    "        self.next = None\n",
    "\n",
    "class Sll:\n",
    "    def __init__(self) -> None:\n",
    "        self.head = None\n",
    "\n",
    "    def append(self, data):\n",
    "        new_node = Node(data)\n",
    "        if self.head is None:\n",
    "            self.head = new_node\n",
    "            return new_node.data\n",
    "        else:\n",
    "            n = self.head\n",
    "            while n.next:\n",
    "                n = n.next\n",
    "            n.next = new_node\n",
    "            return new_node.data\n",
    "        \n",
    "    def print_sll(self):\n",
    "        if self.head !=None:\n",
    "            n=self.head\n",
    "            while n:\n",
    "                print(n.data,end=' ')\n",
    "                n=n.next\n",
    "\n",
    "    def reverse(self):\n",
    "        if self.head==None:\n",
    "            return\n",
    "        curr=self.head\n",
    "        Prev=None\n",
    "        while curr:\n",
    "            temp=curr.next\n",
    "            curr.next=Prev\n",
    "            Prev=curr\n",
    "            curr=temp\n",
    "        self.head=Prev\n",
    "\n",
    "    def insertAfter(self,node,data):\n",
    "        new_node=Node(data)\n",
    "        if self.head==None:\n",
    "            raise IndexError(\"Linked_List is Empty!\")\n",
    "        n=self.head\n",
    "        while n:\n",
    "            if n.data==node:\n",
    "                break\n",
    "            n=n.next\n",
    "        if n==None:\n",
    "            raise IndexError(\"NodeNotFoundError\")\n",
    "        new_node.next=n.next\n",
    "        n.next=new_node\n",
    "\n",
    "\n",
    "\n",
    "\n",
    "Sll=Sll()"
   ]
  },
  {
   "cell_type": "code",
   "execution_count": 120,
   "metadata": {},
   "outputs": [
    {
     "data": {
      "text/plain": [
       "5"
      ]
     },
     "execution_count": 120,
     "metadata": {},
     "output_type": "execute_result"
    }
   ],
   "source": [
    "Sll.append(5)"
   ]
  },
  {
   "cell_type": "code",
   "execution_count": 122,
   "metadata": {},
   "outputs": [],
   "source": [
    "Sll.insertAfter(5,87)"
   ]
  },
  {
   "cell_type": "code",
   "execution_count": 123,
   "metadata": {},
   "outputs": [
    {
     "name": "stdout",
     "output_type": "stream",
     "text": [
      "5 87 "
     ]
    }
   ],
   "source": [
    "Sll.print_sll()"
   ]
  },
  {
   "cell_type": "code",
   "execution_count": 59,
   "metadata": {},
   "outputs": [],
   "source": [
    "Sll.reverse()"
   ]
  },
  {
   "cell_type": "code",
   "execution_count": null,
   "metadata": {},
   "outputs": [],
   "source": []
  },
  {
   "cell_type": "code",
   "execution_count": null,
   "metadata": {},
   "outputs": [],
   "source": []
  },
  {
   "cell_type": "code",
   "execution_count": null,
   "metadata": {},
   "outputs": [],
   "source": []
  }
 ],
 "metadata": {
  "kernelspec": {
   "display_name": "base",
   "language": "python",
   "name": "python3"
  },
  "language_info": {
   "codemirror_mode": {
    "name": "ipython",
    "version": 3
   },
   "file_extension": ".py",
   "mimetype": "text/x-python",
   "name": "python",
   "nbconvert_exporter": "python",
   "pygments_lexer": "ipython3",
   "version": "3.11.7"
  }
 },
 "nbformat": 4,
 "nbformat_minor": 2
}
