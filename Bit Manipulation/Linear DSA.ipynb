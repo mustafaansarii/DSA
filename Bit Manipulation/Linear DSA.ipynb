{
 "cells": [
  {
   "cell_type": "code",
   "execution_count": 16,
   "id": "b6a97afd-9114-4f2c-aa56-9f635ac38478",
   "metadata": {},
   "outputs": [],
   "source": [
    "class Q:\n",
    "    def __init__(self,size):\n",
    "        self.size=size\n",
    "        self.queue=[None]* self.size\n",
    "        \n",
    "    def display(self):\n",
    "        return self.queue\n",
    "\n",
    "    def Enqueue(self,data):\n",
    "        if self.queue[self.size-1]!=None:\n",
    "            raise IndexError(\"Queue OverFlow!\")\n",
    "        for i in range(self.size):\n",
    "            if self.queue[i]==None:\n",
    "                self.queue[i]=data\n",
    "                return data\n",
    "                \n",
    "    def insertAt(self,index,data):\n",
    "        if (self.size-1)<index or index<0:\n",
    "            raise IndexError(\"list assignment index out of range or queue overflow!\")\n",
    "        self.queue[index]=data\n",
    "\n",
    "    def Dequeue(self):\n",
    "        for i in range(self.size):\n",
    "            if self.queue[i]!=None:\n",
    "                self.queue[i]=None\n",
    "                break\n",
    "            \n",
    "                \n",
    "\n",
    "q=Q(3)"
   ]
  },
  {
   "cell_type": "code",
   "execution_count": null,
   "id": "3c3b3b08",
   "metadata": {},
   "outputs": [],
   "source": []
  },
  {
   "cell_type": "code",
   "execution_count": null,
   "id": "c808638e",
   "metadata": {},
   "outputs": [],
   "source": []
  },
  {
   "cell_type": "code",
   "execution_count": null,
   "id": "556e9755",
   "metadata": {},
   "outputs": [],
   "source": []
  },
  {
   "cell_type": "code",
   "execution_count": 23,
   "id": "9f681b66-065f-4989-a2c2-69755c841145",
   "metadata": {},
   "outputs": [
    {
     "data": {
      "text/plain": [
       "3"
      ]
     },
     "execution_count": 23,
     "metadata": {},
     "output_type": "execute_result"
    }
   ],
   "source": [
    "q.Enqueue(3)"
   ]
  },
  {
   "cell_type": "code",
   "execution_count": 24,
   "id": "e3292da3-316b-4e87-88d5-48768575396d",
   "metadata": {},
   "outputs": [
    {
     "data": {
      "text/plain": [
       "[1, 2, 3]"
      ]
     },
     "execution_count": 24,
     "metadata": {},
     "output_type": "execute_result"
    }
   ],
   "source": [
    "q.display()"
   ]
  },
  {
   "cell_type": "code",
   "execution_count": 29,
   "id": "260ba2d9-6727-4b49-8ce6-1765eb9e73c1",
   "metadata": {},
   "outputs": [],
   "source": [
    "\n",
    "q.Dequeue()"
   ]
  },
  {
   "cell_type": "code",
   "execution_count": 30,
   "id": "b400eb3c-d25d-480b-b250-fe0d94291f4f",
   "metadata": {},
   "outputs": [
    {
     "data": {
      "text/plain": [
       "[None, None, None]"
      ]
     },
     "execution_count": 30,
     "metadata": {},
     "output_type": "execute_result"
    }
   ],
   "source": [
    "q.display()"
   ]
  },
  {
   "cell_type": "markdown",
   "id": "80976871",
   "metadata": {},
   "source": [
    "##### *circuler Queue*"
   ]
  },
  {
   "cell_type": "code",
   "execution_count": 116,
   "id": "c3dbaca7",
   "metadata": {},
   "outputs": [],
   "source": [
    "class MyCircularQueue:\n",
    "\n",
    "    def __init__(self, k: int):\n",
    "        self.size=k\n",
    "        self.q=[None]*k\n",
    "        self.head=0\n",
    "        self.rear=0\n",
    "\n",
    "    def enQueue(self, value: int) -> bool:\n",
    "        for i in range (self.size):\n",
    "            if self.q[i]==None:\n",
    "                self.q[i]=value\n",
    "                return value\n",
    "\n",
    "    def deQueue(self) -> bool:\n",
    "        a=0\n",
    "        for i in range (self.size):\n",
    "            if self.q[i]!=None:\n",
    "                a+=1\n",
    "        if a==0:\n",
    "            return \"MyCircularQueue is Empty!\"\n",
    "        i=0\n",
    "        n=self.size\n",
    "        while i<n:\n",
    "            if self.q[i]==None:\n",
    "                continue\n",
    "            i+=1\n",
    "        return i\n",
    "\n",
    "    def Front(self) -> int:\n",
    "        pass\n",
    "\n",
    "    def Rear(self) -> int:\n",
    "        pass\n",
    "\n",
    "    def isEmpty(self) -> bool:\n",
    "        pass\n",
    "\n",
    "    def isFull(self) -> bool:\n",
    "        pass\n",
    "\n",
    "    def displaycl(self):\n",
    "        return self.q\n",
    "    \n",
    "Cll=MyCircularQueue(5)"
   ]
  },
  {
   "cell_type": "code",
   "execution_count": 117,
   "id": "2864482c",
   "metadata": {},
   "outputs": [
    {
     "data": {
      "text/plain": [
       "[None, None, None, None, None]"
      ]
     },
     "execution_count": 117,
     "metadata": {},
     "output_type": "execute_result"
    }
   ],
   "source": [
    "Cll.displaycl()"
   ]
  },
  {
   "cell_type": "code",
   "execution_count": 121,
   "id": "efd13306",
   "metadata": {},
   "outputs": [
    {
     "data": {
      "text/plain": [
       "12"
      ]
     },
     "execution_count": 121,
     "metadata": {},
     "output_type": "execute_result"
    }
   ],
   "source": [
    "Cll.enQueue(12)"
   ]
  },
  {
   "cell_type": "code",
   "execution_count": 122,
   "id": "85fead26",
   "metadata": {},
   "outputs": [
    {
     "data": {
      "text/plain": [
       "[12, 12, 12, 12, None]"
      ]
     },
     "execution_count": 122,
     "metadata": {},
     "output_type": "execute_result"
    }
   ],
   "source": [
    "Cll.displaycl()"
   ]
  },
  {
   "cell_type": "code",
   "execution_count": 123,
   "id": "1bd3862a",
   "metadata": {},
   "outputs": [
    {
     "ename": "KeyboardInterrupt",
     "evalue": "",
     "output_type": "error",
     "traceback": [
      "\u001b[0;31m---------------------------------------------------------------------------\u001b[0m",
      "\u001b[0;31mKeyboardInterrupt\u001b[0m                         Traceback (most recent call last)",
      "Cell \u001b[0;32mIn[123], line 1\u001b[0m\n\u001b[0;32m----> 1\u001b[0m Cll\u001b[38;5;241m.\u001b[39mdeQueue()\n",
      "Cell \u001b[0;32mIn[116], line 26\u001b[0m, in \u001b[0;36mMyCircularQueue.deQueue\u001b[0;34m(self)\u001b[0m\n\u001b[1;32m     24\u001b[0m \u001b[38;5;28;01mwhile\u001b[39;00m i\u001b[38;5;241m<\u001b[39mn:\n\u001b[1;32m     25\u001b[0m     \u001b[38;5;28;01mif\u001b[39;00m \u001b[38;5;28mself\u001b[39m\u001b[38;5;241m.\u001b[39mq[i]\u001b[38;5;241m==\u001b[39m\u001b[38;5;28;01mNone\u001b[39;00m:\n\u001b[0;32m---> 26\u001b[0m         \u001b[38;5;28;01mcontinue\u001b[39;00m\n\u001b[1;32m     27\u001b[0m     i\u001b[38;5;241m+\u001b[39m\u001b[38;5;241m=\u001b[39m\u001b[38;5;241m1\u001b[39m\n\u001b[1;32m     28\u001b[0m \u001b[38;5;28;01mreturn\u001b[39;00m i\n",
      "\u001b[0;31mKeyboardInterrupt\u001b[0m: "
     ]
    }
   ],
   "source": [
    "Cll.deQueue()"
   ]
  },
  {
   "cell_type": "code",
   "execution_count": 27,
   "id": "c9f30803",
   "metadata": {},
   "outputs": [],
   "source": [
    "def reverseint(n):\n",
    "    rev=0\n",
    "    while n>0:\n",
    "        rev=(rev*10)+n%10\n",
    "        n=n//10\n",
    "    return rev"
   ]
  },
  {
   "cell_type": "code",
   "execution_count": 4,
   "id": "fde8e6a8",
   "metadata": {},
   "outputs": [
    {
     "data": {
      "text/plain": [
       "321"
      ]
     },
     "execution_count": 4,
     "metadata": {},
     "output_type": "execute_result"
    }
   ],
   "source": [
    "reverseint(123)"
   ]
  },
  {
   "cell_type": "code",
   "execution_count": 11,
   "id": "5c56a425",
   "metadata": {},
   "outputs": [],
   "source": [
    "def evemsum(n):\n",
    "    sum=0\n",
    "    for i in range(n):\n",
    "        if i%2==0:\n",
    "            continue\n",
    "        sum+=i\n",
    "    return sum\n"
   ]
  },
  {
   "cell_type": "code",
   "execution_count": 12,
   "id": "9a4e40fb",
   "metadata": {},
   "outputs": [
    {
     "data": {
      "text/plain": [
       "100"
      ]
     },
     "execution_count": 12,
     "metadata": {},
     "output_type": "execute_result"
    }
   ],
   "source": [
    "evemsum(20)"
   ]
  },
  {
   "cell_type": "code",
   "execution_count": 20,
   "id": "1778853c",
   "metadata": {},
   "outputs": [],
   "source": [
    "def prime(n):\n",
    "    m=2\n",
    "    while (n-1>m):\n",
    "        if n==2 or n%m==0:\n",
    "            return \"not prime\"\n",
    "        m+=1\n",
    "    return \"prime\""
   ]
  },
  {
   "cell_type": "code",
   "execution_count": 26,
   "id": "f20c4f25",
   "metadata": {},
   "outputs": [
    {
     "data": {
      "text/plain": [
       "'prime'"
      ]
     },
     "execution_count": 26,
     "metadata": {},
     "output_type": "execute_result"
    }
   ],
   "source": [
    "prime(101)"
   ]
  },
  {
   "cell_type": "code",
   "execution_count": 8,
   "id": "a8eac835",
   "metadata": {},
   "outputs": [
    {
     "name": "stdout",
     "output_type": "stream",
     "text": [
      "*\n",
      "*\n",
      "*\n",
      "*\n",
      "*\n"
     ]
    }
   ],
   "source": [
    "for i in range(5):\n",
    "    for j in range(i,5):\n",
    "        print(\"\", end='')\n",
    "    print(\"*\")"
   ]
  },
  {
   "cell_type": "code",
   "execution_count": null,
   "id": "37cb0f87",
   "metadata": {},
   "outputs": [],
   "source": []
  }
 ],
 "metadata": {
  "kernelspec": {
   "display_name": "Python 3 (ipykernel)",
   "language": "python",
   "name": "python3"
  },
  "language_info": {
   "codemirror_mode": {
    "name": "ipython",
    "version": 3
   },
   "file_extension": ".py",
   "mimetype": "text/x-python",
   "name": "python",
   "nbconvert_exporter": "python",
   "pygments_lexer": "ipython3",
   "version": "3.11.7"
  }
 },
 "nbformat": 4,
 "nbformat_minor": 5
}
