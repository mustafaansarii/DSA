{
 "cells": [
  {
   "cell_type": "code",
   "execution_count": 87,
   "id": "b6a97afd-9114-4f2c-aa56-9f635ac38478",
   "metadata": {},
   "outputs": [],
   "source": [
    "class Q:\n",
    "    def __init__(self,size):\n",
    "        self.size=size\n",
    "        self.queue=[None]* self.size\n",
    "        \n",
    "    def display(self):\n",
    "        return self.queue\n",
    "\n",
    "    def Enqueue(self,data):\n",
    "        if self.queue[self.size-1]!=None:\n",
    "            raise IndexError(\"Queue OverFlow!\")\n",
    "        for i in range(self.size):\n",
    "            if self.queue[i]==None:\n",
    "                self.queue[i]=data\n",
    "                return data\n",
    "                \n",
    "    def insertAt(self,index,data):\n",
    "        if (self.size-1)<index or index<0:\n",
    "            raise IndexError(\"list assignment index out of range or queue overflow!\")\n",
    "        self.queue[index]=data\n",
    "\n",
    "    def Dequeue(self):\n",
    "        if self.queue[0]!=None:\n",
    "            for i in range(self.size):\n",
    "                if self.queue[i]!=None:\n",
    "                    self.queue[i]=None\n",
    "                    \n",
    "                \n",
    "\n",
    "q=Q(3)"
   ]
  },
  {
   "cell_type": "code",
   "execution_count": 88,
   "id": "ac87bd48-e3d4-485e-87a6-74c4ab93fe1c",
   "metadata": {},
   "outputs": [
    {
     "data": {
      "text/plain": [
       "[None, None, None]"
      ]
     },
     "execution_count": 88,
     "metadata": {},
     "output_type": "execute_result"
    }
   ],
   "source": [
    "q.display()"
   ]
  },
  {
   "cell_type": "code",
   "execution_count": 95,
   "id": "9f681b66-065f-4989-a2c2-69755c841145",
   "metadata": {},
   "outputs": [
    {
     "data": {
      "text/plain": [
       "1"
      ]
     },
     "execution_count": 95,
     "metadata": {},
     "output_type": "execute_result"
    }
   ],
   "source": [
    "q.Enqueue(1)"
   ]
  },
  {
   "cell_type": "code",
   "execution_count": 103,
   "id": "e3292da3-316b-4e87-88d5-48768575396d",
   "metadata": {},
   "outputs": [
    {
     "data": {
      "text/plain": [
       "[None, 1, 1]"
      ]
     },
     "execution_count": 103,
     "metadata": {},
     "output_type": "execute_result"
    }
   ],
   "source": [
    "q.display()"
   ]
  },
  {
   "cell_type": "code",
   "execution_count": 102,
   "id": "260ba2d9-6727-4b49-8ce6-1765eb9e73c1",
   "metadata": {},
   "outputs": [],
   "source": [
    "\n",
    "q.Dequeue()"
   ]
  },
  {
   "cell_type": "code",
   "execution_count": null,
   "id": "b400eb3c-d25d-480b-b250-fe0d94291f4f",
   "metadata": {},
   "outputs": [],
   "source": []
  }
 ],
 "metadata": {
  "kernelspec": {
   "display_name": "Python 3 (ipykernel)",
   "language": "python",
   "name": "python3"
  },
  "language_info": {
   "codemirror_mode": {
    "name": "ipython",
    "version": 3
   },
   "file_extension": ".py",
   "mimetype": "text/x-python",
   "name": "python",
   "nbconvert_exporter": "python",
   "pygments_lexer": "ipython3",
   "version": "3.11.7"
  }
 },
 "nbformat": 4,
 "nbformat_minor": 5
}
