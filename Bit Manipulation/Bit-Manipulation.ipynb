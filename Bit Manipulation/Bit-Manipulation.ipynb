{
 "cells": [
  {
   "cell_type": "code",
   "execution_count": 8,
   "id": "65a8e7e5-a4ca-478f-a7e3-dfffb16d0f4d",
   "metadata": {},
   "outputs": [],
   "source": [
    "def get_key_by_value(dictionary, target_value):\n",
    "    for key, value in dictionary.items():\n",
    "        if value == target_value:\n",
    "            return key\n",
    "    return None"
   ]
  },
  {
   "cell_type": "code",
   "execution_count": 10,
   "id": "a53b51de",
   "metadata": {},
   "outputs": [
    {
     "name": "stdout",
     "output_type": "stream",
     "text": [
      "1\n"
     ]
    }
   ],
   "source": [
    "d={1:2,23:3}\n",
    "print(get_key_by_value(d,2))"
   ]
  },
  {
   "cell_type": "code",
   "execution_count": 12,
   "id": "d1a489a9",
   "metadata": {},
   "outputs": [
    {
     "name": "stdout",
     "output_type": "stream",
     "text": [
      "1 2\n",
      "23 3\n"
     ]
    }
   ],
   "source": [
    "for i,j in d.items():\n",
    "    print(i,j)"
   ]
  },
  {
   "cell_type": "code",
   "execution_count": null,
   "id": "48a1850a",
   "metadata": {},
   "outputs": [],
   "source": [
    "def invalid(n):\n",
    "    braces={\"{\":\"}\",\"[\":\"]\",\"(\":\")\"}\n",
    "    for key, value in braces.items():\n",
    "        if value == target_value:\n",
    "            return key"
   ]
  },
  {
   "cell_type": "code",
   "execution_count": 9,
   "id": "71dbf446",
   "metadata": {},
   "outputs": [],
   "source": [
    "def fact(n):\n",
    "    if n==0 or n==1:\n",
    "        return 1\n",
    "    \n",
    "    return n*fact(n-1)\n"
   ]
  },
  {
   "cell_type": "code",
   "execution_count": 10,
   "id": "2d1a9201",
   "metadata": {},
   "outputs": [
    {
     "data": {
      "text/plain": [
       "6"
      ]
     },
     "execution_count": 10,
     "metadata": {},
     "output_type": "execute_result"
    }
   ],
   "source": [
    "fact(3)"
   ]
  },
  {
   "cell_type": "code",
   "execution_count": 11,
   "id": "5a6bf715",
   "metadata": {},
   "outputs": [
    {
     "data": {
      "text/plain": [
       "'0b100'"
      ]
     },
     "execution_count": 11,
     "metadata": {},
     "output_type": "execute_result"
    }
   ],
   "source": [
    "bin(4)"
   ]
  },
  {
   "cell_type": "code",
   "execution_count": null,
   "id": "58849cc2",
   "metadata": {},
   "outputs": [],
   "source": [
    "class Node:\n",
    "    def __init__(self,Value) -> None:\n",
    "        self.value=Value\n",
    "        self.next=None\n",
    "\n",
    "class circulerQ:\n",
    "    def __init__(self,size) -> None:\n",
    "        self.start=None\n",
    "        self.size=size\n",
    "\n",
    "    def eNQUEUE(self,value):\n",
    "        pass\n",
    "        "
   ]
  }
 ],
 "metadata": {
  "kernelspec": {
   "display_name": "Python 3 (ipykernel)",
   "language": "python",
   "name": "python3"
  },
  "language_info": {
   "codemirror_mode": {
    "name": "ipython",
    "version": 3
   },
   "file_extension": ".py",
   "mimetype": "text/x-python",
   "name": "python",
   "nbconvert_exporter": "python",
   "pygments_lexer": "ipython3",
   "version": "3.11.7"
  }
 },
 "nbformat": 4,
 "nbformat_minor": 5
}
