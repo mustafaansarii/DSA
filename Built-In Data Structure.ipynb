{
 "cells": [
  {
   "cell_type": "code",
   "execution_count": 1,
   "id": "57b31480",
   "metadata": {},
   "outputs": [
    {
     "data": {
      "text/html": [
       "<img src=\"https://media.geeksforgeeks.org/wp-content/uploads/20211118125839/PythonDataStructuresandAlgorithms.png\"/>"
      ],
      "text/plain": [
       "<IPython.core.display.Image object>"
      ]
     },
     "execution_count": 1,
     "metadata": {},
     "output_type": "execute_result"
    }
   ],
   "source": [
    "from IPython.display import Image\n",
    "image_url = 'https://media.geeksforgeeks.org/wp-content/uploads/20211118125839/PythonDataStructuresandAlgorithms.png'\n",
    "\n",
    "Image(url=image_url)\n"
   ]
  },
  {
   "cell_type": "code",
   "execution_count": 2,
   "id": "945d6c23",
   "metadata": {},
   "outputs": [
    {
     "data": {
      "text/html": [
       "<img src=\"https://miro.medium.com/v2/resize:fit:828/format:webp/0*iwq1pKSNK4wdrqFG.jpeg\"/>"
      ],
      "text/plain": [
       "<IPython.core.display.Image object>"
      ]
     },
     "execution_count": 2,
     "metadata": {},
     "output_type": "execute_result"
    }
   ],
   "source": [
    "image_url = 'https://miro.medium.com/v2/resize:fit:828/format:webp/0*iwq1pKSNK4wdrqFG.jpeg'\n",
    "\n",
    "Image(url=image_url)\n"
   ]
  },
  {
   "cell_type": "markdown",
   "id": "4fb3f2d5",
   "metadata": {},
   "source": [
    "# What is data structure?"
   ]
  },
  {
   "cell_type": "markdown",
   "id": "bbbd9b79",
   "metadata": {},
   "source": [
    "### A data structure is a way of organizing and storing data in a computer so that it can be accessed and manipulated efficiently. Think of it as a blueprint for how data is arranged and managed within a computer's memory or storage.\n",
    "\n",
    "### Data structures provide various operations to perform on the data, such as insertion, deletion, searching, sorting, and traversal. Different data structures are designed for different purposes, and the choice of data structure depends on the specific requirements of the problem at hand.\n"
   ]
  },
  {
   "cell_type": "markdown",
   "id": "3dc9acdc",
   "metadata": {},
   "source": [
    "# Data structures:\n",
    "### \"Data + structures\" says it all. A data structure structures the data. It is a storage unit that organizes and stores data in a way the programmer can easily access.\n",
    "\n",
    "\n",
    "* In the real world, a programmer/ coder's work involves huge amounts of data. Analyzing and using the data is made easy for the programmer when it is arranged the right way. Apart from organizing the data, Data structures also makes processing and accessing the data easy.\n",
    "\n",
    "covers all of Python's Data structures. There are built-in data structures as well as user-defined data structures. Let's first look at the built-in ones:"
   ]
  },
  {
   "cell_type": "markdown",
   "id": "93b1797d",
   "metadata": {},
   "source": [
    "# 1. Lists\n",
    "### A list is like a dynamic and heterogeneous array. Arrays are used in languages like C. Unlike arrays, lists are dynamically-sized and can store data of different types. It is one of the sequential data types in Python.\n",
    "\n",
    "### Important points about Lists:\n",
    "\n",
    "* Lists are mutable, meaning that after creation, we can modify their elements.\n",
    "* It consists of data separated by commas inside square braces-[].\n",
    "* Lists allow duplicate elements.\n",
    "* We use indexing to access the list elements (0 to length - 1), and negative indexing is allowed too (-1 to -length).\n",
    "* We can nest another data structure as an element inside a list. Nesting another list makes it a multi-dimensional list.\n",
    "* Using Slicing, we can get sub-lists of a list for which we need to use the slice operator - [:].\n",
    "* List comprehension is used to create new lists from existing lists or other data structures. It is faster than creating a list using the regular for loop.\n",
    "* We can use functions like max(), min() and sum() to find the maximum, minimum and sum of the elements in the list.\n",
    "* We can concatenate lists using + and repeat elements using * operators.\n",
    "* To take a list as an input, we use input() and then the split(separator) to convert the string into a list"
   ]
  },
  {
   "cell_type": "markdown",
   "id": "e821b6a9",
   "metadata": {},
   "source": [
    "## Most used Functions and Methods:\n",
    "| | Function/Method | Description                                                     |\n",
    "|-------|-----------------|-----------------------------------------------------------------|\n",
    "|   1   | `len()`         | Returns the number of elements in a list.                       |\n",
    "|   2   | `append()`      | Adds an element to the end of the list.                         |\n",
    "|   3   | `insert()`      | Inserts an element at a specified position in the list.         |\n",
    "|   4   | `remove()`      | Removes the first occurrence of a specified element from a list.|\n",
    "|   5   | `reverse()`     | Reverses the order of elements in a list.                       |\n",
    "|   6   | `index()`       | Returns the index of the first occurrence of a specified value. |\n",
    "|   7   | `extend()`      | Adds the elements of another list to the end of the current list.|\n",
    "|   8   | `pop()`         | Removes and returns the element at the specified position.      |\n",
    "|   9   | `split()`       | Splits a string into a list of substrings based on a delimiter. |\n",
    "\n"
   ]
  },
  {
   "cell_type": "code",
   "execution_count": 4,
   "id": "15619611",
   "metadata": {},
   "outputs": [
    {
     "name": "stdout",
     "output_type": "stream",
     "text": [
      "Created lists:\n",
      "emptylist: []\n",
      "mylist: [20, 20, 'H', 'Hello']\n",
      "nestedlist: [[1, 2], [20, 20, 'H', 'Hello']]\n",
      "Concatenating mylist and nestedlist: [20, 20, 'H', 'Hello', [1, 2], [20, 20, 'H', 'Hello']]\n",
      "Repeating the elements of a list: [20, 20, 'H', 'Hello', 20, 20, 'H', 'Hello', 20, 20, 'H', 'Hello']\n",
      "\n",
      "List as an input:Enter elements(separate by space):3 3 3\n",
      "[3, 3, 3]\n",
      "In the nested list: \n",
      "(Normal)nestedlist[0]: [1, 2]\n",
      "(Negative)nestedlist[-2]: [1, 2]\n",
      "\n",
      "Adding elements into empty list:\n",
      "emptylist: [1, 3, 4, 5]\n",
      "Adding at index emptylist[1]: [1, 2, 3, 4, 5]\n",
      "Extending mylist with emptylist: None\n",
      "Slicing mylist[:]: [20, 20, 'H', 'Hello', 1, 2, 3, 4, 5]\n",
      "Reverse using slicing[::-1]: [5, 4, 3, 2, 1, 'Hello', 'H', 20, 20]\n",
      "Slicing using indices[1:3]: [20, 'H']\n",
      "\n",
      "Creating a newlist[] using list comprehension:\n",
      "newlist with even elements in emptylist: [2, 4]\n",
      "\n",
      "Using functions:\n",
      "Length using len(): 9\n",
      "Removing an element using remove: None\n",
      "Removing the last element using pop: 5\n",
      "Using index(): 5\n",
      "Using reverse on [1, 2, 3, 4, 5] :\n",
      "[5, 4, 3, 2, 1]\n"
     ]
    }
   ],
   "source": [
    "#Creating a list  \n",
    "emptylist = []  \n",
    "mylist = [20, 20, 'H', \"Hello\"]  \n",
    "nestedlist = [[1, 2], mylist]  \n",
    "print(\"Created lists:\")  \n",
    "print(\"emptylist:\", emptylist)  \n",
    "print(\"mylist:\", mylist)  \n",
    "print(\"nestedlist:\", nestedlist)  \n",
    "print(\"Concatenating mylist and nestedlist:\", mylist + nestedlist)  \n",
    "print(\"Repeating the elements of a list:\", mylist*3)  \n",
    "#List as an input   \n",
    "print(\"\\nList as an input:\",end=\"\")  \n",
    "inputlist = list(map(int, input(\"Enter elements(separate by space):\").split()))  \n",
    "print(inputlist)  \n",
    "#Accessing elements  \n",
    "print(\"In the nested list: \")  \n",
    "print(\"(Normal)nestedlist[0]:\", nestedlist[0])  \n",
    "print(\"(Negative)nestedlist[-2]:\", nestedlist[-2])  \n",
    "#adding elements  \n",
    "print()  \n",
    "print(\"Adding elements into empty list:\")  \n",
    "emptylist.append(1)  \n",
    "for i in range(3, 6):  \n",
    "    emptylist.append(i)  \n",
    "print(\"emptylist:\", emptylist)  \n",
    "emptylist.insert(1, 2)  \n",
    "print(\"Adding at index emptylist[1]:\", emptylist)  \n",
    "print(\"Extending mylist with emptylist:\", mylist.extend(emptylist))  \n",
    "#Using Slicing  \n",
    "print(\"Slicing mylist[:]:\", mylist[:])  \n",
    "print(\"Reverse using slicing[::-1]:\", mylist[::-1])  \n",
    "print(\"Slicing using indices[1:3]:\", mylist[1:3])  \n",
    "#list comprehension  \n",
    "print()  \n",
    "print(\"Creating a newlist[] using list comprehension:\")  \n",
    "newlist = [i for i in emptylist if i%2 == 0]  \n",
    "print(\"newlist with even elements in emptylist:\", newlist)  \n",
    "#Using the built-in functions  \n",
    "print(\"\\nUsing functions:\")  \n",
    "print(\"Length using len():\", len(mylist))  \n",
    "print(\"Removing an element using remove:\", mylist.remove(20))  \n",
    "print(\"Removing the last element using pop:\", mylist.pop())  \n",
    "print(\"Using index():\",mylist.index(3))  \n",
    "print(\"Using reverse on\",emptylist,\":\")  \n",
    "emptylist.reverse()  \n",
    "print(emptylist)  "
   ]
  },
  {
   "cell_type": "markdown",
   "id": "94927b76",
   "metadata": {},
   "source": [
    "# 2. Tuples:\n",
    "### A Tuple is like an immutable list. It is also a sequence data type in Python and can store data of different data types, like a list, but unlike a list, we cannot alter a tuple once created; Python raises an error if we try.\n",
    "\n",
    "Example:"
   ]
  },
  {
   "cell_type": "markdown",
   "id": "816702fa",
   "metadata": {},
   "source": [
    "### Important points about Tuples:\n",
    "\n",
    "* A tuple consists of data separated by commas inside the parenthesis, although parenthesis is not mandatory but followed for readability in convention.\n",
    "* Creating a tuple without parenthesis is called \"Tuple packing\" and to access a tuple, we can also use \"Tuple unpacking\".\n",
    "* Tuples allow duplicate elements like lists.\n",
    "* We use indexing to access the tuple elements (0 to length - 1), and negative indexing is allowed too (-1 to -length).\n",
    "* We can nest another data structure as an element inside a tuple. Nesting another tuple makes it a multi-dimensional tuple.\n",
    "* Using Slicing, we can get sub-tuples of a tuple for which we need to use the slice operator - [:].\n",
    "* We can concatenate two tuples, repeat, reassign or delete the whole tuple but once created, we can't perform operations like append, remove, insert elements or delete elements which means we cannot disturb the original elements from when created-Tuples are immutable.\n",
    "* To perform all the operations we can't perform on a tuple, we generally convert a tuple into a list using list(), do what we want and then convert it back to a tuple using tuple().\n",
    "* As a tuple is immutable, it can be used as a key in dictionaries.\n",
    "* Iterating through a tuple is much faster than iterating through a list."
   ]
  },
  {
   "cell_type": "markdown",
   "id": "bc1e230b",
   "metadata": {},
   "source": [
    "| Function/Method        | Description                                                           |\n",
    "|------------------------|-----------------------------------------------------------------------|\n",
    "| `len()`                | Returns the number of elements in a tuple.                            |\n",
    "| `sorted()`             | Returns a new sorted list from the elements of the given tuple.       |\n",
    "| `max()`                | Returns the maximum value in a tuple.                                 |\n",
    "| `min()`                | Returns the minimum value in a tuple.                                 |\n",
    "| `sum()`                | Returns the sum of all elements in a tuple.                           |\n",
    "| `index()`              | Returns the index of the first occurrence of a specified element.     |\n",
    "| `all()`                | Returns True if all elements in the tuple are True, otherwise False.  |\n",
    "| `any()`                | Returns True if at least one element in the tuple is True, otherwise False.|\n",
    "| `count(element)`       | Returns the number of occurrences of a specified element in the tuple.|\n"
   ]
  },
  {
   "cell_type": "code",
   "execution_count": 5,
   "id": "2db6fa36",
   "metadata": {},
   "outputs": [
    {
     "name": "stdout",
     "output_type": "stream",
     "text": [
      "Emptytuple: ()\n",
      "mytuple: (1, 'h', 'Hello')\n",
      "nestedtuple: ([1, 2], (1, 'h', 'Hello'))\n",
      "By Tuple packing: (1, 'Hi')\n",
      "Using tuple(): (1, 2, 3)\n",
      "Tuple with one element: (1,)\n",
      "Concatenating nestedtuple and mytuple: ([1, 2], (1, 'h', 'Hello'), 1, 'h', 'Hello')\n",
      "Repeating the elements of a tuple: (1, 'h', 'Hello', 1, 'h', 'Hello', 1, 'h', 'Hello')\n",
      "\n",
      "Tuple as an input:Enter elements(separate by space):4 3 3 4\n",
      "(4, 3, 3, 4)\n",
      "\n",
      "Slicing mytuple[:]: (1, 'h', 'Hello')\n",
      "Reverse using slicing[::-1]: ('Hello', 'h', 1)\n",
      "Slicing using indices[1:3]: ('h', 'Hello')\n",
      "\n",
      "Acccessing elements:\n",
      "In nestedtuple[0]: [1, 2]\n",
      "In nestedtuple[-2]: [1, 2]\n",
      "By tuple unpacking: 1 h Hello\n",
      "\n",
      "Using the built-in functions: \n",
      "Length of mytuple: 3\n",
      "Sorting a tuple using sorted(): [0, 1, 2]\n",
      "Using max(): 23\n",
      "Using min(): 1\n",
      "Using sum(): 10\n",
      "Using all(): False\n",
      "Using any(): True\n",
      "Using count(): 2\n"
     ]
    }
   ],
   "source": [
    "emptytuple = ()  \n",
    "mytuple = (1, 'h', \"Hello\")  \n",
    "nestedtuple = ([1, 2], mytuple)  \n",
    "print(\"Emptytuple:\",emptytuple)  \n",
    "print(\"mytuple:\",mytuple)  \n",
    "print(\"nestedtuple:\",nestedtuple)  \n",
    "mytuple1 = 1,'Hi'  \n",
    "print(\"By Tuple packing:\", mytuple1)  \n",
    "list1 = [1, 2, 3]  \n",
    "print(\"Using tuple():\", tuple(list1))  \n",
    "tuple2 = (1,)  \n",
    "print(\"Tuple with one element:\", tuple2)  \n",
    "print(\"Concatenating nestedtuple and mytuple:\", nestedtuple + mytuple)  \n",
    "print(\"Repeating the elements of a tuple:\", mytuple*3)  \n",
    "#Tuple as an input   \n",
    "print(\"\\nTuple as an input:\",end=\"\")  \n",
    "inputtuple = tuple(map(int, input(\"Enter elements(separate by space):\").split()))  \n",
    "print(inputtuple)  \n",
    "#Using Slicing  \n",
    "print(\"\\nSlicing mytuple[:]:\", mytuple[:])  \n",
    "print(\"Reverse using slicing[::-1]:\", mytuple[::-1])  \n",
    "print(\"Slicing using indices[1:3]:\", mytuple[1:3])  \n",
    "#Accessing elements  \n",
    "print(\"\\nAcccessing elements:\")  \n",
    "print(\"In nestedtuple[0]:\", nestedtuple[0])  \n",
    "print(\"In nestedtuple[-2]:\", nestedtuple[-2])  \n",
    "a, b, c = mytuple  \n",
    "print(\"By tuple unpacking:\",a,b,c)  \n",
    "#Using the built-in functions  \n",
    "print(\"\\nUsing the built-in functions: \")  \n",
    "print(\"Length of mytuple:\", len(mytuple))  \n",
    "print(\"Sorting a tuple using sorted():\", sorted((2, 1, 0)))  \n",
    "print(\"Using max():\", max((8, 23, 1)))  \n",
    "print(\"Using min():\", min((3, 1, 2)))  \n",
    "print(\"Using sum():\", sum((3, 4, 3)))  \n",
    "print(\"Using all():\", all((3, 0, 9)))  \n",
    "print(\"Using any():\", any((2, 0, 9)))  \n",
    "print(\"Using count():\", (3, 1, 2, 1).count(1))  "
   ]
  },
  {
   "cell_type": "markdown",
   "id": "878eb9de",
   "metadata": {},
   "source": [
    "# 3. Sets:\n",
    "A set is a collection of unique elements which does not support duplicate elements like lists and tuples. Another important point about Sets is that they are unordered, which makes accessing their elements using indexes impossible."
   ]
  },
  {
   "cell_type": "markdown",
   "id": "86893f05",
   "metadata": {},
   "source": [
    "## Important points about Sets:\n",
    "\n",
    "* A set is enclosed by {}.\n",
    "* It is a mutable data type and is iterable.\n",
    "* Even though a set is mutable, due to its no duplicates policy and unordered nature, the elements of a set are immutable.\n",
    "* We can add or delete elements from a set, but we can't perform slicing or indexing operations on a set.\n",
    "* There is another category of immutable sets called the Frozen sets.\n",
    "* Internally, the elements in a set are arranged based on hashing and hash tables.\n",
    "* If more than one element is placed in an index, the values are arranged in a linked list to that index position.\n",
    "* Every index position acts as a key, and the members/ values in the index are stored as values inside a dictionary.\n",
    "* The internal working makes a set more time-optimized.\n",
    "* A set won't allow mutable items as its elements like lists:\n"
   ]
  },
  {
   "cell_type": "code",
   "execution_count": 6,
   "id": "c0e0a32e",
   "metadata": {},
   "outputs": [
    {
     "ename": "TypeError",
     "evalue": "unhashable type: 'list'",
     "output_type": "error",
     "traceback": [
      "\u001b[0;31m---------------------------------------------------------------------------\u001b[0m",
      "\u001b[0;31mTypeError\u001b[0m                                 Traceback (most recent call last)",
      "Input \u001b[0;32mIn [6]\u001b[0m, in \u001b[0;36m<cell line: 1>\u001b[0;34m()\u001b[0m\n\u001b[0;32m----> 1\u001b[0m set1 \u001b[38;5;241m=\u001b[39m {[\u001b[38;5;241m1\u001b[39m, \u001b[38;5;241m2\u001b[39m], \u001b[38;5;241m2\u001b[39m, \u001b[38;5;241m3\u001b[39m}  \n\u001b[1;32m      2\u001b[0m \u001b[38;5;28mprint\u001b[39m(set1)\n",
      "\u001b[0;31mTypeError\u001b[0m: unhashable type: 'list'"
     ]
    }
   ],
   "source": [
    "set1 = {[1, 2], 2, 3}  \n",
    "print(set1)  "
   ]
  },
  {
   "cell_type": "markdown",
   "id": "8d885c43",
   "metadata": {},
   "source": [
    "| Function/Method                  | Equivalent Operator | Explanation                                                      |\n",
    "|----------------------------------|----------------------|------------------------------------------------------------------|\n",
    "| `add(value)`                     |                      | Adds the specified element into a set.                           |\n",
    "| `union(Set2)`                    | `Set1 | Set2`        | Merges two given sets.                                          |\n",
    "| `intersection(Set2)`             | `Set1 & Set2`        | Finds the common elements of the given two sets.                 |\n",
    "| `difference(Set2)`               | `Set1 - Set2`        | Finds elements in Set1 that are not in Set2.                     |\n",
    "| `clear()`                        |                      | Empties the given set.                                           |\n",
    "| `set()`                          |                      | To create a set or to convert other data types into a set.       |\n",
    "| `isdisjoint(Set2)`               |                      | To check if Set1 and Set2 have no elements in common.            |\n"
   ]
  },
  {
   "cell_type": "code",
   "execution_count": 8,
   "id": "ee02d2ce",
   "metadata": {},
   "outputs": [
    {
     "name": "stdout",
     "output_type": "stream",
     "text": [
      "Creating a set:\n",
      "Empty set: set()\n",
      "Myset: {1, 2, 3}\n",
      "Nestedset: {(1, 2), 3, 4}\n",
      "Removing duplicacy using set(): {1, 2}Enter elements: 45\n",
      "inputset: {45}\n",
      "\n",
      "Frozen set: frozenset({1, 2, 3, 4, 5})\n",
      "\n",
      "Adding to emptyset: {'a'}\n",
      "Union of {1, 2, 3} and {(1, 2), 3, 4} :\n",
      "{1, 2, 3, (1, 2), 4}\n",
      "Intersection of {1, 2, 3} and {(1, 2), 3, 4} :\n",
      "{3}\n",
      "Difference of {1, 2, 3} and {(1, 2), 3, 4} :\n",
      "{1, 2}\n",
      "Clearing emptyset: set()\n",
      "\n",
      "Membership operator to check if (1, 2) is in nestedset: True\n",
      "Equivalency on myset and nested set: False\n",
      "Subset operator to check if {1} is a subset of nestedset: False\n",
      "proper subset operator to check if {1} is a proper subset of nestedset: False\n",
      "Superset operator to check if nestedset is a superset of {1}: False\n",
      "proper superset operator to check if nestedset is a proper superset of {1}: False\n",
      "Elements in either myset or nestedset but not in both: {1, 2, (1, 2), 4}\n"
     ]
    }
   ],
   "source": [
    "#Creating a set  \n",
    "print(\"Creating a set:\")  \n",
    "emptyset = set()  \n",
    "print(\"Empty set:\", emptyset)  \n",
    "myset = {1, 2, 3}  \n",
    "print(\"Myset:\", myset)  \n",
    "nestedset = {(1, 2), 3, 4}  \n",
    "print(\"Nestedset:\", nestedset)  \n",
    "set1 = set([1, 2, 1])  \n",
    "print(\"Removing duplicacy using set():\", set1, end = \"\")  \n",
    "inputset = set(map(int, input(\"Enter elements: \").split()))  \n",
    "print(\"inputset:\", inputset)  \n",
    "#Frozen sets  \n",
    "myfrozenset = frozenset([1, 2, 3, 4, 5])  \n",
    "print(\"\\nFrozen set:\", myfrozenset)  \n",
    "#Using functions  \n",
    "emptyset.add('a')  \n",
    "print(\"\\nAdding to emptyset:\",emptyset)  \n",
    "print(\"Union of\", myset,\"and\", nestedset,\":\")  \n",
    "print(myset.union(nestedset))  \n",
    "print(\"Intersection of\", myset,\"and\", nestedset,\":\")  \n",
    "print(myset.intersection(nestedset))  \n",
    "print(\"Difference of\", myset,\"and\", nestedset,\":\")  \n",
    "print(myset.difference(nestedset))  \n",
    "emptyset.clear()  \n",
    "print(\"Clearing emptyset:\", emptyset)  \n",
    "#Set operators  \n",
    "print(\"\\nMembership operator to check if (1, 2) is in nestedset:\",(1, 2) in nestedset)  \n",
    "print(\"Equivalency on myset and nested set:\", myset == nestedset)  \n",
    "print(\"Subset operator to check if {1} is a subset of nestedset:\", {1} <= nestedset)  \n",
    "print(\"proper subset operator to check if {1} is a proper subset of nestedset:\", {1} < nestedset)  \n",
    "print(\"Superset operator to check if nestedset is a superset of {1}:\", nestedset >= {1})  \n",
    "print(\"proper superset operator to check if nestedset is a proper superset of {1}:\", nestedset > {1})  \n",
    "print(\"Elements in either myset or nestedset but not in both:\", myset ^ nestedset)  "
   ]
  },
  {
   "cell_type": "markdown",
   "id": "89909ca0",
   "metadata": {},
   "source": [
    "# 4. Dictionary\n",
    "A dictionary is a collection of {key: value} pairs. Keys map values, and to access the values, in the places of indexes, we need to use the keys. It is an unordered collection of data.\n",
    "\n",
    "Important points about a Dictionary:\n"
   ]
  },
  {
   "cell_type": "markdown",
   "id": "a59b0b37",
   "metadata": {},
   "source": [
    "* Keys identify values. Hence, a key has to be unique and immutable. Only immutable data types are accepted to be keys.\n",
    "* Any data type can be used to make a value as it is the data.\n",
    "* There cannot be any duplicate keys, but duplicate values are allowed.\n",
    "* We can also use dictionary comprehension to create a dictionary like list comprehension.\n",
    "* The dictionary's keys are like the Roll numbers of students, and the values are the students' names."
   ]
  },
  {
   "cell_type": "markdown",
   "id": "2fab73bc",
   "metadata": {},
   "source": [
    "### Most used dict Functions and Methods:"
   ]
  },
  {
   "cell_type": "markdown",
   "id": "0a8ae4f2",
   "metadata": {},
   "source": [
    "| Function/Method  | Explanation                                                    |\n",
    "|------------------|----------------------------------------------------------------|\n",
    "| `keys()`         | Returns a list of keys in the dictionary.                      |\n",
    "| `values()`       | Returns a list of values in the dictionary.                    |\n",
    "| `items()`        | Returns a list of key-value pairs as tuples in the dictionary. |\n",
    "| `pop()`          | Deletes and returns the value at the specified key.            |\n",
    "| `dict()`         | Creates a dictionary and converts a list of key-value tuples into a dictionary. |\n",
    "| `get()`          | Returns the value at the given key.                            |\n",
    "| `update()`       | Extends the dictionary with the given key-value pairs.         |\n"
   ]
  },
  {
   "cell_type": "code",
   "execution_count": 11,
   "id": "00bb6462",
   "metadata": {},
   "outputs": [
    {
     "name": "stdout",
     "output_type": "stream",
     "text": [
      "Enter keys: 2\n",
      "Enter value for 2: 3\n",
      "Created dictionaries:\n",
      "Emptydict: {}\n",
      "mydict1: {1: 'A', 2: 'B', 3: 'C'}\n",
      "mydict2: {4: 'D', 'E': 5}\n",
      "mydict3: {6: 'F', 7: 'G'}\n",
      "nesteddict: {1: {1: 'A', 2: 'B', 3: 'C'}, 2: {4: 'D', 'E': 5}}\n",
      "inputdict: {2: '3'}\n",
      "\n",
      "Altering mydict2: {4: 'D', 5: 'E'}\n",
      "Adding elements to mydict3: {6: 'F', 7: 'G', 8: 'H', 9: ('I', 'J', 'K')}\n",
      "\n",
      "Using get() to access: mydict1.get(1):  A\n",
      "Using keys() on {1: 'A', 2: 'B', 3: 'C'} : dict_keys([1, 2, 3])\n",
      "using values() on {1: 'A', 2: 'B', 3: 'C'} : dict_values(['A', 'B', 'C'])\n",
      "Using items() on {1: 'A', 2: 'B', 3: 'C'} : dict_items([(1, 'A'), (2, 'B'), (3, 'C')])\n",
      "Updating {1: 'A', 2: 'B', 3: 'C'} with {4: 'D', 5: 'E'} :\n",
      "{1: 'A', 2: 'B', 3: 'C', 4: 'D', 5: 'E'}\n",
      "Deleting a value using pop(): B {1: 'A', 3: 'C', 4: 'D', 5: 'E'}\n"
     ]
    }
   ],
   "source": [
    "#Creating a dictionary  \n",
    "emptydict = {}  \n",
    "mydict1 = {1: 'A', 2: 'B', 3: 'C'}  \n",
    "mydict2 = {4: 'D', 'E': 5}  \n",
    "mydict3 = dict([(6, 'F'), (7, 'G')])  \n",
    "nesteddict = {1: mydict1, 2: mydict2}  \n",
    "inputdict = {}  \n",
    "#Taking dict as input  \n",
    "keys = []  \n",
    "keys = map(int, input(\"Enter keys: \").split(\" \"))  \n",
    "for i in keys:  \n",
    "    inputdict[i] = input(\"Enter value for \"+ str(i) +\": \")  \n",
    "print(\"Created dictionaries:\")  \n",
    "print(\"Emptydict:\", emptydict)  \n",
    "print(\"mydict1:\", mydict1)  \n",
    "print(\"mydict2:\", mydict2)  \n",
    "print(\"mydict3:\", mydict3)  \n",
    "print(\"nesteddict:\", nesteddict)  \n",
    "print(\"inputdict:\", inputdict)  \n",
    "#Operations on dictionary  \n",
    "mydict2['E'] = 'E'  \n",
    "mydict2[5] = mydict2['E']  \n",
    "del mydict2['E']  \n",
    "print(\"\\nAltering mydict2:\", mydict2)  \n",
    "mydict3[8] = 'H'  \n",
    "mydict3[9] = 'I', 'J', 'K'  \n",
    "print(\"Adding elements to mydict3:\", mydict3)  \n",
    "#Using built-in functions   \n",
    "print(\"\\nUsing get() to access: mydict1.get(1): \", mydict1.get(1))  \n",
    "print(\"Using keys() on\",mydict1,\":\", mydict1.keys())  \n",
    "print(\"using values() on\",mydict1,\":\", mydict1.values())  \n",
    "print(\"Using items() on\",mydict1,\":\", mydict1.items())  \n",
    "print(\"Updating\",mydict1,\"with\",mydict2,\":\")   \n",
    "mydict1.update(mydict2)  \n",
    "print(mydict1)  \n",
    "print(\"Deleting a value using pop():\", mydict1.pop(2), mydict1)  "
   ]
  },
  {
   "cell_type": "markdown",
   "id": "de6b59b1",
   "metadata": {},
   "source": [
    "# 5. Strings:\n",
    "### A string is an array of bytes/ characters. In C, we declare a string as a character array. In Python, there is no character data type. Characters do exist, but they are recognized as strings with length 1. A string is immutable, meaning we can't modify it once created.\n",
    "\n",
    "## Important points about Strings:\n",
    "\n",
    "* A string can be enclosed by single, double, or even triple quotes. Generally, triple quotes are used to create a multi-line string.\n",
    "* The bytes/ characters of the string can be accessed using indices (0 to length-1). Negative indexing is also allowed (-1 to -length). Accessing a character in the string out of the range causes an IndexError.\n",
    "* Only integers can be indices, and using any other data type causes a TypeError.\n",
    "* Using Slicing, we can obtain copies of sub-strings from the original string.\n",
    "* Deleting or manipulating a string's characters causes an error as a string is an immutable data type. Using the del keyword, we can delete the whole string. We can also reassign new strings to old existing string variables.\n",
    "* As quotes enclose a string, Python won't be able to print a quote if it is a part of the string to be printed. It assumes it reached the end of the string. Hence, we need to use \"Escape sequences\".\n",
    "* Using the {}.format() method, we can hold space for formatting and printing variables following the order.\n",
    "* If we try to update/ manipulate the characters of a string:"
   ]
  },
  {
   "cell_type": "code",
   "execution_count": null,
   "id": "8174117e",
   "metadata": {},
   "outputs": [],
   "source": [
    "string = \"Hello\"  \n",
    "string[2] = \"h\"  "
   ]
  },
  {
   "cell_type": "markdown",
   "id": "faa006f3",
   "metadata": {},
   "source": [
    "TypeError: 'str' object does not support item assignment"
   ]
  },
  {
   "cell_type": "code",
   "execution_count": 13,
   "id": "dfe53632",
   "metadata": {},
   "outputs": [
    {
     "name": "stdout",
     "output_type": "stream",
     "text": [
      "0.26\n"
     ]
    }
   ],
   "source": [
    "number = 0.2567  \n",
    "print(\"%3.2f\" %number)  "
   ]
  },
  {
   "cell_type": "code",
   "execution_count": 14,
   "id": "c6fc3fe7",
   "metadata": {},
   "outputs": [
    {
     "name": "stdout",
     "output_type": "stream",
     "text": [
      "Created strings:\n",
      "Hi\n",
      "Hi\n",
      "Hello \n",
      "            Man\n",
      "\n",
      "The first character string1[0]: H\n",
      "The first character string[-2]: H\n",
      "\n",
      "Substrings of string3:\n",
      "string3[0:6]: Hello string3[-6:-1]:    Ma\n",
      "Reversing using slicing-string3[::-1]: naM            \n",
      " olleH\n",
      "Enter a string: de\n",
      "inputstring:: de\n",
      "\n",
      "Reassigning string2 to Hello:\n",
      "Present: Hi\n",
      "After reassigning: Hello\n",
      "\n",
      "Using escape sequences to escape single quotes, double quotes and backslashes\n",
      "Hi it's my pen\n",
      "I read a book called \"It ends with us\" yesterday\n",
      "The file is stored in the path: C:\\Media\\Documents\\\n",
      "Printing in a new line: Hi\n",
      "man\n",
      "Urging a tab space: Hi\tman\n",
      "\n",
      "The sum of 4 and 5: 9\n",
      "The difference between 5 and 4: 9\n",
      "The product of 4 and 5: 20\n"
     ]
    }
   ],
   "source": [
    "#Creating a string  \n",
    "string1 = 'Hi'  \n",
    "string2 = \"Hi\"  \n",
    "string3 = \"\"\"Hello \n",
    "            Man\"\"\"  \n",
    "print(\"Created strings:\")  \n",
    "print(string1)  \n",
    "print(string2)  \n",
    "print(string3)  \n",
    "#Accessing characters  \n",
    "print(\"\\nThe first character string1[0]:\", string1[0])  \n",
    "print('The first character string[-2]:', string1[-2])  \n",
    "#Slicing  \n",
    "print(\"\\nSubstrings of string3:\")  \n",
    "print(\"string3[0:6]:\", string3[0:6], end = '')  \n",
    "print(\"string3[-6:-1]:\", string3[-6:-1])  \n",
    "print(\"Reversing using slicing-string3[::-1]:\", string3[::-1])  \n",
    "#Taking input  \n",
    "inputstring = input(\"Enter a string: \")  \n",
    "print(\"inputstring::\", inputstring)  \n",
    "#Updation  \n",
    "print(\"\\nReassigning string2 to Hello:\")  \n",
    "print(\"Present:\", string2)  \n",
    "string2 = 'Hello'  \n",
    "print(\"After reassigning:\", string2)  \n",
    "#Escape sequences  \n",
    "print('\\nUsing escape sequences to escape single quotes, double quotes and backslashes')  \n",
    "print('Hi it\\'s my pen')  \n",
    "print(\"I read a book called \\\"It ends with us\\\" yesterday\")  \n",
    "print(\"The file is stored in the path: C:\\\\Media\\\\Documents\\\\\")  \n",
    "print(\"Printing in a new line: Hi\\nman\")  \n",
    "print(\"Urging a tab space: Hi\\tman\")  \n",
    "#String formatting  \n",
    "a = 4  \n",
    "b = 5  \n",
    "print(\"\\nThe sum of {0} and {1}: {2}\".format(4,5,4+5))  \n",
    "print(\"The difference between {a} and {b}: {c}\".format(a=5, b=4, c=5+4))  \n",
    "print(\"The product of %d and %d: %d\"%(a,b,a*b))  \n"
   ]
  },
  {
   "cell_type": "markdown",
   "id": "97e59e4d",
   "metadata": {},
   "source": [
    "| Function/Method                   | Explanation                                                                           |\n",
    "|-----------------------------------|---------------------------------------------------------------------------------------|\n",
    "| `String.split(separator)`         | Splits the string based on the specified separator and returns a list of substrings.  |\n",
    "| `String.strip()`                  | Returns the string with leading and trailing whitespace removed.                       |\n",
    "| `\"string\".join(iterable)`         | Joins elements of an iterable with the specified string and converts to a string.     |\n",
    "| `String.upper()`                  | Converts all characters in the string to uppercase.                                    |\n",
    "| `String.lower()`                  | Converts all characters in the string to lowercase.                                    |\n",
    "| `String.replace(substring1, substring2)` | Replaces substring1 with substring2 in the string.                                |\n",
    "| `String.find(substring)`          | Searches for a substring and returns the index of the first occurrence.                |\n",
    "| `String.count(substring)`         | Returns the number of occurrences of a substring in the string.                         |\n"
   ]
  }
 ],
 "metadata": {
  "kernelspec": {
   "display_name": "Python 3 (ipykernel)",
   "language": "python",
   "name": "python3"
  },
  "language_info": {
   "codemirror_mode": {
    "name": "ipython",
    "version": 3
   },
   "file_extension": ".py",
   "mimetype": "text/x-python",
   "name": "python",
   "nbconvert_exporter": "python",
   "pygments_lexer": "ipython3",
   "version": "3.9.12"
  }
 },
 "nbformat": 4,
 "nbformat_minor": 5
}
