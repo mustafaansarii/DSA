{
 "cells": [
  {
   "cell_type": "code",
   "execution_count": 68,
   "id": "7632c087-022f-4e4d-8eb4-5f7aa38e9b0e",
   "metadata": {},
   "outputs": [],
   "source": [
    "class Heap:\n",
    "    def __init__(self) -> None:\n",
    "        self.heap=[]\n",
    "\n",
    "    def create_heap(self,list1):\n",
    "        for e in list1:\n",
    "            self.insert(e)\n",
    "\n",
    "    def insert(self,e):\n",
    "        index=len(self.heap)\n",
    "        parentIndex=(index-1)//2\n",
    "        while index>0 and self.heap[parentIndex]<e:\n",
    "            if index==len(self.heap):\n",
    "                self.heap.append(self.heap[parentIndex])\n",
    "            else:\n",
    "                self.heap[index]=self.heap[parentIndex]\n",
    "            index=parentIndex\n",
    "            parentIndex=(index-1)//2\n",
    "        if index==len(self.heap):\n",
    "            self.heap.append(e)\n",
    "        else:\n",
    "            self.heap[index]=e\n",
    "\n",
    "    def top_element(self):\n",
    "        if len(self.heap)==0:\n",
    "            raise EmptyHeapException()\n",
    "        return self.heap[0]\n",
    "    \n",
    "    def delete(self):\n",
    "        if len(self.heap)==0:\n",
    "            raise EmptyHeapException()\n",
    "        if len(self.heap)==1:\n",
    "            return self.heap.pop()\n",
    "        max_value=self.heap[0]\n",
    "        temp=self.heap.pop()\n",
    "        index=0\n",
    "        leftchildindex=2*index+1\n",
    "        rightchildindex=2*index+2\n",
    "        \n",
    "        while leftchildindex<len(self.heap):\n",
    "            if rightchildindex<len(self.heap):\n",
    "                if self.heap[leftchildindex]>self.heap[rightchildindex]:\n",
    "                    if self.heap[leftchildindex]>temp:\n",
    "                        self.heap[index]=self.heap[leftchildindex]\n",
    "                        index=leftchildindex\n",
    "                    else:\n",
    "                        break\n",
    "                else:\n",
    "                    if self.heap[rightchildindex]>temp:\n",
    "                        self.heap[index]=self.heap[rightchildindex]\n",
    "                        index=rightchildindex\n",
    "                    else:\n",
    "                        break\n",
    "            else:\n",
    "                if self.heap[leftchildindex]>temp:\n",
    "                    self.heap[index]=self.heap[leftchildindex]\n",
    "                    index=leftchildindex\n",
    "                else:\n",
    "                    break\n",
    "            leftchildindex=2*index+1\n",
    "            rightchildindex=2*index+2\n",
    "        self.heap[index]=temp\n",
    "        return max_value\n",
    "    \n",
    "    def heap_sort(self,list):\n",
    "        self.create_heap(list)\n",
    "        list2=[]\n",
    "        try:\n",
    "            while True:\n",
    "                list2.insert(0,self.delete())\n",
    "        except EmptyHeapException:\n",
    "            pass\n",
    "        return list2\n",
    "\n",
    "class EmptyHeapException(Exception):\n",
    "    def __init__(self, msg=\"Empty Heap\") -> None:\n",
    "        self.msg=msg\n",
    "    def __str__(self) -> str:\n",
    "        return self.msg"
   ]
  },
  {
   "cell_type": "code",
   "execution_count": 98,
   "id": "3bc2f18c-072e-4666-b694-260e2e60c271",
   "metadata": {},
   "outputs": [],
   "source": [
    "class Heap:\n",
    "    def __init__(self):\n",
    "        self.heap=[]\n",
    "        \n",
    "    def create_heap(self,list1):\n",
    "        for e in list1:\n",
    "            self.insert(e)\n",
    "        \n",
    "    def insert(self,e):\n",
    "        index=len(self.heap)\n",
    "        parentIndex=(index-1)//2\n",
    "        while index>0 and self.heap[parentIndex]<e:\n",
    "            if index==len(self.heap):\n",
    "                self.heap.append(self.heap[parentIndex])\n",
    "            else:\n",
    "                self.heap[index]=self.heap[parentIndex]-0\n",
    "            index=parentIndex\n",
    "            parentIndex=(index-1)//2\n",
    "        if index==len(self.heap):\n",
    "            self.heap.append(e)\n",
    "        else:\n",
    "            self.heap[index]=e\n",
    "            \n",
    "    def top(self):\n",
    "        if len(self.heap)==0:\n",
    "            raise HeapException()\n",
    "        else:\n",
    "            return self.heap[0]\n",
    "            \n",
    "    def Heap_sort(self,arr):\n",
    "        sorted_array=[]\n",
    "        self.create_heap(arr)\n",
    "        while True:\n",
    "            sorted_array.insert(0,self.delete())\n",
    "        return sorted_array\n",
    "        \n",
    "        \n",
    "            \n",
    "class HeapException(Exception):\n",
    "    def __init__(self,msg=\"HeapIsEmpty!\"):\n",
    "        self.msg=msg\n",
    "    def __str__(self):\n",
    "        return self.msg\n",
    "        \n",
    "heap=Heap()"
   ]
  },
  {
   "cell_type": "code",
   "execution_count": 101,
   "id": "08eebeb8-7968-475a-b304-0f58c736be82",
   "metadata": {},
   "outputs": [],
   "source": [
    "arr=[1,22,12,15,76,45]\n",
    "heap.create_heap(arr)"
   ]
  },
  {
   "cell_type": "code",
   "execution_count": 102,
   "id": "a221e897-e261-43e7-930f-b3fca7cd5b93",
   "metadata": {},
   "outputs": [
    {
     "data": {
      "text/plain": [
       "76"
      ]
     },
     "execution_count": 102,
     "metadata": {},
     "output_type": "execute_result"
    }
   ],
   "source": [
    "heap.top()"
   ]
  },
  {
   "cell_type": "code",
   "execution_count": 149,
   "id": "91538515-5993-44b3-b679-25bcd8921eba",
   "metadata": {},
   "outputs": [],
   "source": [
    "class Heap:\n",
    "    def __init__(self) -> None:\n",
    "        self.heap = []\n",
    "\n",
    "    def getitem(self):\n",
    "        return self.heap\n",
    "\n",
    "    def insert(self, e):\n",
    "        self.heap.append(e)\n",
    "        self._heapify_up(len(self.heap) - 1)\n",
    "\n",
    "    def _heapify_up(self, index):\n",
    "        parent_index = (index - 1) // 2\n",
    "        while index > 0 and self.heap[parent_index] < self.heap[index]:\n",
    "            self.heap[parent_index], self.heap[index] = self.heap[index], self.heap[parent_index]\n",
    "            index = parent_index\n",
    "            parent_index = (index - 1) // 2\n",
    "\n",
    "    def create_heap(self, list1):\n",
    "        for e in list1:\n",
    "            self.insert(e)\n",
    "            \n",
    "    def delete(self):\n",
    "        if len(self.heap) == 0:\n",
    "            raise IndexError(\"delete from empty heap\")\n",
    "        if len(self.heap) == 1:\n",
    "            return self.heap.pop()\n",
    "        \n",
    "        root = self.heap[0]\n",
    "        self.heap[0] = self.heap.pop()\n",
    "        self._heapify_down(0)\n",
    "        return root\n",
    "        \n",
    "    def _heapify_down(self, index):\n",
    "        last_index = len(self.heap) - 1\n",
    "        while True:\n",
    "            left_child_index = 2 * index + 1\n",
    "            right_child_index = 2 * index + 2\n",
    "            largest = index\n",
    "            \n",
    "            if left_child_index <= last_index and self.heap[left_child_index] > self.heap[largest]:\n",
    "                largest = left_child_index\n",
    "            if right_child_index <= last_index and self.heap[right_child_index] > self.heap[largest]:\n",
    "                largest = right_child_index\n",
    "            if largest == index:\n",
    "                break\n",
    "            self.heap[index], self.heap[largest] = self.heap[largest], self.heap[index]\n",
    "            index = largest\n",
    "\n",
    "    def Heap_sort(self, arr):\n",
    "        sorted_array = []\n",
    "        self.create_heap(arr)\n",
    "        while self.heap:\n",
    "            sorted_array.insert(0,self.delete())\n",
    "        return sorted_array\n",
    "\n",
    "heap = Heap()"
   ]
  },
  {
   "cell_type": "code",
   "execution_count": 150,
   "id": "8f3bdfb1-7879-4607-aab8-59c2a8f4ffb5",
   "metadata": {},
   "outputs": [],
   "source": [
    "heap.create_heap([3, 1, 6, 5, 2, 4])"
   ]
  },
  {
   "cell_type": "code",
   "execution_count": 151,
   "id": "46ad8fc2-ea67-4e9c-b145-ea0f2034b01d",
   "metadata": {},
   "outputs": [
    {
     "data": {
      "text/plain": [
       "[6, 5, 4, 1, 2, 3]"
      ]
     },
     "execution_count": 151,
     "metadata": {},
     "output_type": "execute_result"
    }
   ],
   "source": [
    "heap.getitem()"
   ]
  },
  {
   "cell_type": "code",
   "execution_count": 152,
   "id": "96fe9b31-5bab-4c82-8012-8d5476477287",
   "metadata": {},
   "outputs": [
    {
     "data": {
      "text/plain": [
       "6"
      ]
     },
     "execution_count": 152,
     "metadata": {},
     "output_type": "execute_result"
    }
   ],
   "source": [
    "heap.delete()"
   ]
  },
  {
   "cell_type": "code",
   "execution_count": 153,
   "id": "93230c98-e410-4943-a24b-8cbfdb1fc74c",
   "metadata": {},
   "outputs": [
    {
     "data": {
      "text/plain": [
       "[1, 1, 2, 2, 3, 3, 4, 4, 5, 5, 6]"
      ]
     },
     "execution_count": 153,
     "metadata": {},
     "output_type": "execute_result"
    }
   ],
   "source": [
    "a=[3, 1, 6, 5, 2, 4]\n",
    "heap.Heap_sort(a)"
   ]
  },
  {
   "cell_type": "code",
   "execution_count": null,
   "id": "2d88fa14-edbb-4238-957b-3210cb27c04a",
   "metadata": {},
   "outputs": [],
   "source": []
  },
  {
   "cell_type": "code",
   "execution_count": null,
   "id": "0df9c559",
   "metadata": {},
   "outputs": [],
   "source": []
  }
 ],
 "metadata": {
  "kernelspec": {
   "display_name": "Python 3 (ipykernel)",
   "language": "python",
   "name": "python3"
  },
  "language_info": {
   "codemirror_mode": {
    "name": "ipython",
    "version": 3
   },
   "file_extension": ".py",
   "mimetype": "text/x-python",
   "name": "python",
   "nbconvert_exporter": "python",
   "pygments_lexer": "ipython3",
   "version": "3.11.7"
  }
 },
 "nbformat": 4,
 "nbformat_minor": 5
}
