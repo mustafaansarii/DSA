{
 "cells": [
  {
   "cell_type": "markdown",
   "metadata": {},
   "source": [
    "# Heap Data Structure\n",
    "\n",
    "A Heap is a complete binary tree data structure that satisfies the heap property: for every node, the value of its children is less than or equal to its own value. Heaps are usually used to implement priority queues, where the smallest (or largest) element is always at the root of the tree.\n"
   ]
  },
  {
   "cell_type": "markdown",
   "metadata": {},
   "source": [
    "<figure>\n",
    "    <center> <img src=\"https://media.geeksforgeeks.org/wp-content/cdn-uploads/20221220165711/MinHeapAndMaxHeap1.png\"  alt='missing' width=\"600\"  ><center/>\n",
    "<figure/>"
   ]
  },
  {
   "cell_type": "markdown",
   "metadata": {},
   "source": [
    "# What is Heap Data Structure?\n",
    "\n",
    "A heap is a binary tree-based data structure that satisfies the heap property: the value of each node is greater than or equal to the value of its children. This property makes sure that the root node contains the maximum or minimum value (depending on the type of heap), and the values decrease or increase as you move down the tree.\n",
    "\n",
    "## Types of Heaps\n",
    "\n",
    "There are two main types of heaps:\n",
    "\n",
    "- **Max Heap:** The root node contains the maximum value, and the values decrease as you move down the tree.\n",
    "- **Min Heap:** The root node contains the minimum value, and the values increase as you move down the tree.\n",
    "\n",
    "## Heap Operations\n",
    "\n",
    "Common heap operations are:\n",
    "\n",
    "- **Insert:** Adds a new element to the heap while maintaining the heap property.\n",
    "- **Extract Max/Min:** Removes the maximum or minimum element from the heap and returns it.\n",
    "- **Heapify:** Converts an arbitrary binary tree into a heap.\n",
    "\n",
    "## Heap Data Structure Applications\n",
    "\n",
    "Heaps have various applications, like:\n",
    "\n",
    "- **Priority Queues:** Heaps are commonly used to implement priority queues, where elements are retrieved based on their priority (maximum or minimum value).\n",
    "- **Heapsort:** Heapsort is a sorting algorithm that uses a heap to sort an array in ascending or descending order.\n",
    "- **Graph Algorithms:** Heaps are used in graph algorithms like Dijkstra’s algorithm and Prim’s algorithm for finding the shortest paths and minimum spanning trees.\n"
   ]
  },
  {
   "cell_type": "code",
   "execution_count": 8,
   "metadata": {},
   "outputs": [],
   "source": [
    "class Heap:\n",
    "    def __init__(self) -> None:\n",
    "        self.heap=[]\n",
    "\n",
    "    def create_heap(self,list1):\n",
    "        for e in list1:\n",
    "            self.insert(e)\n",
    "\n",
    "    def insert(self,e):\n",
    "        index=len(self.heap)\n",
    "        parentIndex=(index-1)//2\n",
    "        while index>0 and self.heap[parentIndex]<e:\n",
    "            if index==len(self.heap):\n",
    "                self.heap.append(self.heap[parentIndex])\n",
    "            else:\n",
    "                self.heap[index]=self.heap[parentIndex]\n",
    "            index=parentIndex\n",
    "            parentIndex=(index-1)//2\n",
    "        if index==len(self.heap):\n",
    "            self.heap.append(e)\n",
    "        else:\n",
    "            self.heap[index]=e\n",
    "\n",
    "    def top_element(self):\n",
    "        if len(self.heap)==0:\n",
    "            raise EmptyHeapException()\n",
    "        return self.heap[0]\n",
    "    \n",
    "    def delete(self):\n",
    "        if len(self.heap)==0:\n",
    "            raise EmptyHeapException()\n",
    "        if len(self.heap)==1:\n",
    "            return self.heap.pop()\n",
    "        max_value=self.heap[0]\n",
    "        temp=self.heap.pop()\n",
    "        index=0\n",
    "        leftchildindex=2*index+1\n",
    "        rightchildindex=2*index+2\n",
    "        \n",
    "        while leftchildindex<len(self.heap):\n",
    "            if rightchildindex<len(self.heap):\n",
    "                if self.heap[leftchildindex]>self.heap[rightchildindex]:\n",
    "                    if self.heap[leftchildindex]>temp:\n",
    "                        self.heap[index]=self.heap[leftchildindex]\n",
    "                        index=leftchildindex\n",
    "                    else:\n",
    "                        break\n",
    "                else:\n",
    "                    if self.heap[rightchildindex]>temp:\n",
    "                        self.heap[index]=self.heap[rightchildindex]\n",
    "                        index=rightchildindex\n",
    "                    else:\n",
    "                        break\n",
    "            else:\n",
    "                if self.heap[leftchildindex]>temp:\n",
    "                    self.heap[index]=self.heap[leftchildindex]\n",
    "                    index=leftchildindex\n",
    "                else:\n",
    "                    break\n",
    "            leftchildindex=2*index+1\n",
    "            rightchildindex=2*index+2\n",
    "        self.heap[index]=temp\n",
    "        return max_value\n",
    "    \n",
    "    def heap_sort(self,list):\n",
    "        self.create_heap(list)\n",
    "        list2=[]\n",
    "        try:\n",
    "            while True:\n",
    "                list2.insert(0,self.delete())\n",
    "        except EmptyHeapException:\n",
    "            pass\n",
    "        return list2\n",
    "\n",
    "class EmptyHeapException(Exception):\n",
    "    def __init__(self, msg=\"Empty Heap\") -> None:\n",
    "        self.msg=msg\n",
    "    def __str__(self) -> str:\n",
    "        return self.msg"
   ]
  },
  {
   "cell_type": "code",
   "execution_count": 9,
   "metadata": {},
   "outputs": [
    {
     "data": {
      "text/plain": [
       "[2, 2, 3, 12, 12, 12, 34, 54]"
      ]
     },
     "execution_count": 9,
     "metadata": {},
     "output_type": "execute_result"
    }
   ],
   "source": [
    "list=[2,34,54,2,12,12,12,3]\n",
    "h=Heap()\n",
    "h.heap_sort(list)"
   ]
  },
  {
   "cell_type": "code",
   "execution_count": 18,
   "metadata": {},
   "outputs": [
    {
     "data": {
      "text/plain": [
       "[1, 2, 3, 4, 5, 6]"
      ]
     },
     "execution_count": 18,
     "metadata": {},
     "output_type": "execute_result"
    }
   ],
   "source": [
    "a=[1,2,3,4,5]\n",
    "a[5]=6\n"
   ]
  },
  {
   "cell_type": "code",
   "execution_count": null,
   "metadata": {},
   "outputs": [],
   "source": [
    "class Solution:\n",
    "    # Heapify function to maintain heap property.\n",
    "    def heapify(self, arr, n, i):\n",
    "        smallest = i\n",
    "        left = 2 * i + 1\n",
    "        right = 2 * i + 2\n",
    "        \n",
    "        if left < n and arr[left] > arr[smallest]:\n",
    "            smallest = left\n",
    "            \n",
    "        if right < n and arr[right] > arr[smallest]:\n",
    "            smallest = right\n",
    "            \n",
    "        if smallest != i:\n",
    "            arr[i], arr[smallest] = arr[smallest], arr[i]\n",
    "            self.heapify(arr, n, smallest)\n",
    "    \n",
    "    # Function to build a Heap from array.\n",
    "    def buildHeap(self, arr, n):\n",
    "        for i in range(n // 2 - 1, -1, -1):\n",
    "            self.heapify(arr, n, i)\n",
    "        \n",
    "    # Function to sort an array using Heap Sort.\n",
    "    def HeapSort(self, arr, n):\n",
    "        # Step 1: Build a max heap\n",
    "        self.buildHeap(arr, n)\n",
    "        \n",
    "        # Step 2: Extract elements from the heap one by one\n",
    "        for i in range(n-1, 0, -1):\n",
    "            arr[0], arr[i] = arr[i], arr[0]  # Move current root to end\n",
    "            self.heapify(arr, i, 0)  # Heapify the reduced heap\n"
   ]
  },
  {
   "cell_type": "code",
   "execution_count": null,
   "metadata": {},
   "outputs": [],
   "source": []
  }
 ],
 "metadata": {
  "kernelspec": {
   "display_name": "base",
   "language": "python",
   "name": "python3"
  },
  "language_info": {
   "codemirror_mode": {
    "name": "ipython",
    "version": 3
   },
   "file_extension": ".py",
   "mimetype": "text/x-python",
   "name": "python",
   "nbconvert_exporter": "python",
   "pygments_lexer": "ipython3",
   "version": "3.9.12"
  }
 },
 "nbformat": 4,
 "nbformat_minor": 2
}
