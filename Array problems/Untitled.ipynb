{
 "cells": [
  {
   "cell_type": "code",
   "execution_count": null,
   "id": "a7d0df88-a961-4774-998d-cae32660d935",
   "metadata": {},
   "outputs": [],
   "source": []
  },
  {
   "cell_type": "code",
   "execution_count": 601,
   "id": "5c8646f9-b6f1-4880-8d27-fe20adc1cb66",
   "metadata": {},
   "outputs": [],
   "source": [
    "from collections import deque\n",
    "import math\n",
    "\n",
    "class Twostack:\n",
    "    def __init__(self, size) -> None:\n",
    "        self.arr = deque()\n",
    "        self.size = size\n",
    "        self.top1 = -1\n",
    "        self.top2 = size\n",
    "\n",
    "    def print(self):\n",
    "        for i in self.arr:\n",
    "            print(i, end=' ')\n",
    "\n",
    "    def s1_push(self, x):\n",
    "        if self.top1 < self.top2 - 1:\n",
    "            self.arr.appendleft(x)\n",
    "            self.top1 = self.top1 + 1\n",
    "        else:\n",
    "            print(\"Stack Overflow by element:\", x)\n",
    "\n",
    "    def s1_pop(self):\n",
    "        if self.top1 >= 0:\n",
    "            x = self.arr.popleft()\n",
    "            self.top1 = self.top1 - 1\n",
    "            return x\n",
    "        else:\n",
    "            print(\"Stack Underflow\")\n",
    "            exit(1)\n",
    "\n",
    "    def s2_push(self, x):\n",
    "        if self.top1 < self.top2 - 1:\n",
    "            self.arr.append(x)\n",
    "            self.top2 = self.top2 - 1\n",
    "        else:\n",
    "            print(\"Stack Overflow by element:\", x)\n",
    "\n",
    "    def s2_pop(self):\n",
    "        if self.top2 < self.size:\n",
    "            x = self.arr.pop()\n",
    "            self.top2 = self.top2 + 1\n",
    "            return x\n",
    "        else:\n",
    "            print(\"Stack Underflow\")\n",
    "            exit(1)\n",
    "\n",
    "Ts = Twostack(10)\n"
   ]
  },
  {
   "cell_type": "code",
   "execution_count": 602,
   "id": "f582cbfc-a2d5-4b7b-8a93-816867841632",
   "metadata": {},
   "outputs": [],
   "source": [
    "Ts.print()"
   ]
  },
  {
   "cell_type": "code",
   "execution_count": 547,
   "id": "3efa22a4-301b-4d62-a279-50c4c5f4d14c",
   "metadata": {},
   "outputs": [
    {
     "name": "stdout",
     "output_type": "stream",
     "text": [
      "18 "
     ]
    }
   ],
   "source": [
    "Ts.s1_push(18)"
   ]
  },
  {
   "cell_type": "code",
   "execution_count": 622,
   "id": "992d15b8-51a8-4804-8d59-33129cf1f62f",
   "metadata": {},
   "outputs": [
    {
     "name": "stdout",
     "output_type": "stream",
     "text": [
      "Stack Underflow\n"
     ]
    }
   ],
   "source": [
    "Ts.s1_pop()"
   ]
  },
  {
   "cell_type": "code",
   "execution_count": 615,
   "id": "4bd6ef4c-ea98-4489-9ed8-7b2a5b202f7d",
   "metadata": {},
   "outputs": [
    {
     "name": "stdout",
     "output_type": "stream",
     "text": [
      "Stack Overflow by element: 6\n"
     ]
    }
   ],
   "source": [
    "Ts.s2_push(6)"
   ]
  },
  {
   "cell_type": "code",
   "execution_count": 616,
   "id": "0a35bbf2-d2c3-4f03-b3ef-d8d50bc0d24d",
   "metadata": {},
   "outputs": [
    {
     "name": "stdout",
     "output_type": "stream",
     "text": [
      "6 6 6 6 6 6 6 6 6 6 "
     ]
    }
   ],
   "source": [
    "Ts.print()"
   ]
  },
  {
   "cell_type": "code",
   "execution_count": 623,
   "id": "b6bac5dd-6aa4-4da7-a8fb-b6cccf2bf36e",
   "metadata": {},
   "outputs": [
    {
     "data": {
      "text/plain": [
       "6"
      ]
     },
     "execution_count": 623,
     "metadata": {},
     "output_type": "execute_result"
    }
   ],
   "source": [
    "Ts.s2_pop()"
   ]
  },
  {
   "cell_type": "code",
   "execution_count": 481,
   "id": "f1093a20-7a67-4615-892f-10c20e10b071",
   "metadata": {},
   "outputs": [],
   "source": [
    "Ts.print()"
   ]
  },
  {
   "cell_type": "code",
   "execution_count": 649,
   "id": "a1322306-3b00-4377-86b9-22f65b240762",
   "metadata": {},
   "outputs": [],
   "source": [
    "from collections import deque\n",
    "\n",
    "class Queue:\n",
    "    def __init__(self):\n",
    "        self.queue = deque()\n",
    "\n",
    "    def enqueue(self, item):\n",
    "        self.queue.append(item)\n",
    "\n",
    "    def dequeue(self):\n",
    "        if len(self.queue) == 0:\n",
    "            print(\"Queue is empty\")\n",
    "            return None\n",
    "        return self.queue.popleft()\n",
    "\n",
    "    def print_reverse(self):\n",
    "        if len(self.queue) == 0:\n",
    "            print(\"Queue is empty\")\n",
    "            return\n",
    "        reversed_queue = deque(reversed(self.queue))\n",
    "        for item in reversed_queue:\n",
    "            print(item, end=\" \")\n",
    "        print()\n",
    "\n",
    "    def size(self):\n",
    "        return len(self.queue)\n",
    "        \n",
    "    def print(self):\n",
    "        for i in self.queue:\n",
    "            print(i,end=' ')\n",
    "\n",
    "\n",
    "Q=Queue()\n"
   ]
  },
  {
   "cell_type": "code",
   "execution_count": 654,
   "id": "25966f79-9ba4-40a8-a9b2-d855eaee020c",
   "metadata": {},
   "outputs": [],
   "source": [
    "Q.enqueue(5)"
   ]
  },
  {
   "cell_type": "code",
   "execution_count": 656,
   "id": "e360b98e-e784-42b0-99cf-0417d3728493",
   "metadata": {},
   "outputs": [
    {
     "name": "stdout",
     "output_type": "stream",
     "text": [
      "5 4 4 \n"
     ]
    }
   ],
   "source": [
    "Q.print_reverse()"
   ]
  },
  {
   "cell_type": "code",
   "execution_count": 655,
   "id": "681b1fd6-204c-4095-9706-f156c422d2d9",
   "metadata": {},
   "outputs": [
    {
     "name": "stdout",
     "output_type": "stream",
     "text": [
      "4 4 5 "
     ]
    }
   ],
   "source": [
    "Q.print()"
   ]
  },
  {
   "cell_type": "code",
   "execution_count": 14,
   "id": "407d36a9-2114-4d4d-8137-4919e339e576",
   "metadata": {},
   "outputs": [],
   "source": [
    "#User function Template for python3\n",
    "class Solution:\n",
    "\n",
    "\tdef count(self,arr, n, x):\n",
    "\t\t# code here\n",
    "\t\toccurence=dict()\n",
    "\t\tfor i in arr:\n",
    "\t\t\tif i in occurence:\n",
    "\t\t\t\toccurence[i]+=1\n",
    "\t\t\telse:\n",
    "\t\t\t\toccurence[i]=1\n",
    "\t\n",
    "\t\treturn occurence[x]"
   ]
  },
  {
   "cell_type": "code",
   "execution_count": 16,
   "id": "a6e2dda6",
   "metadata": {},
   "outputs": [
    {
     "data": {
      "text/plain": [
       "4"
      ]
     },
     "execution_count": 16,
     "metadata": {},
     "output_type": "execute_result"
    }
   ],
   "source": [
    "Arr = [1, 1, 2, 2, 2, 2, 3]\n",
    "n=len(Arr)\n",
    "x=2\n",
    "Solution().count(Arr,n,x)"
   ]
  },
  {
   "cell_type": "code",
   "execution_count": null,
   "id": "d27de0f5",
   "metadata": {},
   "outputs": [],
   "source": []
  }
 ],
 "metadata": {
  "kernelspec": {
   "display_name": "Python 3 (ipykernel)",
   "language": "python",
   "name": "python3"
  },
  "language_info": {
   "codemirror_mode": {
    "name": "ipython",
    "version": 3
   },
   "file_extension": ".py",
   "mimetype": "text/x-python",
   "name": "python",
   "nbconvert_exporter": "python",
   "pygments_lexer": "ipython3",
   "version": "3.12.3"
  }
 },
 "nbformat": 4,
 "nbformat_minor": 5
}
