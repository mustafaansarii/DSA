{
 "cells": [
  {
   "cell_type": "markdown",
   "id": "1f8e00bf",
   "metadata": {},
   "source": [
    "# NumPy Arrays"
   ]
  },
  {
   "cell_type": "markdown",
   "id": "5798b28b",
   "metadata": {},
   "source": [
    "# Types of Array:\n",
    "* One Dimensional Array\n",
    "* Multi-Dimensional Array\n"
   ]
  },
  {
   "cell_type": "code",
   "execution_count": 13,
   "id": "06bd2eba",
   "metadata": {},
   "outputs": [
    {
     "data": {
      "text/html": [
       "<img src=\"https://media.geeksforgeeks.org/wp-content/uploads/20200826190255/1darray-300x42.png\"/>"
      ],
      "text/plain": [
       "<IPython.core.display.Image object>"
      ]
     },
     "execution_count": 13,
     "metadata": {},
     "output_type": "execute_result"
    }
   ],
   "source": [
    "from IPython.display import Image\n",
    "image_url = 'https://media.geeksforgeeks.org/wp-content/uploads/20200826190255/1darray-300x42.png'\n",
    "\n",
    "Image(url=image_url)\n"
   ]
  },
  {
   "cell_type": "code",
   "execution_count": 14,
   "id": "12923134",
   "metadata": {},
   "outputs": [
    {
     "data": {
      "text/plain": [
       "numpy.ndarray"
      ]
     },
     "execution_count": 14,
     "metadata": {},
     "output_type": "execute_result"
    }
   ],
   "source": [
    "import numpy as np\n",
    "a=np.array([1,2,3,4,5])\n",
    "type(a)"
   ]
  },
  {
   "cell_type": "code",
   "execution_count": 15,
   "id": "0c94b693",
   "metadata": {},
   "outputs": [],
   "source": [
    "from numpy import array"
   ]
  },
  {
   "cell_type": "code",
   "execution_count": 16,
   "id": "78198c1b",
   "metadata": {},
   "outputs": [
    {
     "data": {
      "text/plain": [
       "array([12, 32,  4,  5,  6,  7,  8])"
      ]
     },
     "execution_count": 16,
     "metadata": {},
     "output_type": "execute_result"
    }
   ],
   "source": [
    "list=[12,32,4,5,6,7,8]\n",
    "l=array(list)\n",
    "l"
   ]
  },
  {
   "cell_type": "code",
   "execution_count": 18,
   "id": "af87dcb0",
   "metadata": {},
   "outputs": [
    {
     "data": {
      "text/plain": [
       "numpy.ndarray"
      ]
     },
     "execution_count": 18,
     "metadata": {},
     "output_type": "execute_result"
    }
   ],
   "source": [
    "type(l)"
   ]
  },
  {
   "cell_type": "markdown",
   "id": "1e3d41fc",
   "metadata": {},
   "source": [
    "# Multi-Dimensional Array:\n",
    "* Data in multidimensional arrays are stored in tabular form."
   ]
  },
  {
   "cell_type": "code",
   "execution_count": 19,
   "id": "dd927326",
   "metadata": {},
   "outputs": [
    {
     "data": {
      "text/html": [
       "<img src=\"https://media.geeksforgeeks.org/wp-content/uploads/20200826190332/2darray-300x82.png\"/>"
      ],
      "text/plain": [
       "<IPython.core.display.Image object>"
      ]
     },
     "execution_count": 19,
     "metadata": {},
     "output_type": "execute_result"
    }
   ],
   "source": [
    "from IPython.display import Image\n",
    "image_url = 'https://media.geeksforgeeks.org/wp-content/uploads/20200826190332/2darray-300x82.png'\n",
    "\n",
    "Image(url=image_url)\n"
   ]
  },
  {
   "cell_type": "code",
   "execution_count": 20,
   "id": "80208924",
   "metadata": {},
   "outputs": [],
   "source": [
    "arr = array([[1, 2, 3],\n",
    "                [4, 5, 6]])"
   ]
  },
  {
   "cell_type": "code",
   "execution_count": 21,
   "id": "50abf502",
   "metadata": {},
   "outputs": [
    {
     "data": {
      "text/plain": [
       "array([[1, 2, 3],\n",
       "       [4, 5, 6]])"
      ]
     },
     "execution_count": 21,
     "metadata": {},
     "output_type": "execute_result"
    }
   ],
   "source": [
    "arr"
   ]
  },
  {
   "cell_type": "code",
   "execution_count": 22,
   "id": "976ea870",
   "metadata": {},
   "outputs": [
    {
     "data": {
      "text/plain": [
       "(2, 3)"
      ]
     },
     "execution_count": 22,
     "metadata": {},
     "output_type": "execute_result"
    }
   ],
   "source": [
    "arr.shape"
   ]
  },
  {
   "cell_type": "code",
   "execution_count": 23,
   "id": "7f162632",
   "metadata": {},
   "outputs": [],
   "source": [
    "import numpy as np\n",
    "\n",
    "# Create an array\n",
    "arr = np.array([[1, 2, 3],\n",
    "                [4, 5, 6]])\n"
   ]
  },
  {
   "cell_type": "code",
   "execution_count": 24,
   "id": "c07368fe",
   "metadata": {},
   "outputs": [
    {
     "name": "stdout",
     "output_type": "stream",
     "text": [
      "Original Array:\n",
      "[[1 2 3]\n",
      " [4 5 6]]\n"
     ]
    }
   ],
   "source": [
    "\n",
    "# Display the array\n",
    "print(\"Original Array:\")\n",
    "print(arr)\n"
   ]
  },
  {
   "cell_type": "code",
   "execution_count": 25,
   "id": "bc40f445",
   "metadata": {},
   "outputs": [
    {
     "name": "stdout",
     "output_type": "stream",
     "text": [
      "\n",
      "Sum of all elements: 21\n"
     ]
    }
   ],
   "source": [
    "\n",
    "# Operations on the array\n",
    "# Sum of all elements\n",
    "print(\"\\nSum of all elements:\", np.sum(arr))\n"
   ]
  },
  {
   "cell_type": "code",
   "execution_count": 26,
   "id": "c4319c17",
   "metadata": {},
   "outputs": [
    {
     "name": "stdout",
     "output_type": "stream",
     "text": [
      "\n",
      "Column-wise Sum:\n",
      "[5 7 9]\n"
     ]
    }
   ],
   "source": [
    "\n",
    "# Sum along axis 0 (column-wise sum)\n",
    "print(\"\\nColumn-wise Sum:\")\n",
    "print(np.sum(arr, axis=0))\n"
   ]
  },
  {
   "cell_type": "code",
   "execution_count": 27,
   "id": "121f7c93",
   "metadata": {},
   "outputs": [
    {
     "name": "stdout",
     "output_type": "stream",
     "text": [
      "\n",
      "Row-wise Sum:\n",
      "[ 6 15]\n"
     ]
    }
   ],
   "source": [
    "\n",
    "# Sum along axis 1 (row-wise sum)\n",
    "print(\"\\nRow-wise Sum:\")\n",
    "print(np.sum(arr, axis=1))\n"
   ]
  },
  {
   "cell_type": "code",
   "execution_count": 28,
   "id": "b6498c00",
   "metadata": {},
   "outputs": [
    {
     "name": "stdout",
     "output_type": "stream",
     "text": [
      "\n",
      "Mean of all elements: 3.5\n"
     ]
    }
   ],
   "source": [
    "\n",
    "# Mean of all elements\n",
    "print(\"\\nMean of all elements:\", np.mean(arr))\n"
   ]
  },
  {
   "cell_type": "code",
   "execution_count": 29,
   "id": "d0382245",
   "metadata": {},
   "outputs": [
    {
     "name": "stdout",
     "output_type": "stream",
     "text": [
      "\n",
      "Column-wise Mean:\n",
      "[2.5 3.5 4.5]\n"
     ]
    }
   ],
   "source": [
    "\n",
    "# Mean along axis 0 (column-wise mean)\n",
    "print(\"\\nColumn-wise Mean:\")\n",
    "print(np.mean(arr, axis=0))\n"
   ]
  },
  {
   "cell_type": "code",
   "execution_count": 31,
   "id": "e81504ce",
   "metadata": {},
   "outputs": [
    {
     "name": "stdout",
     "output_type": "stream",
     "text": [
      "\n",
      "Row-wise Mean:\n",
      "[2. 5.]\n"
     ]
    }
   ],
   "source": [
    "\n",
    "# Mean along axis 1 (row-wise mean)\n",
    "print(\"\\nRow-wise Mean:\")\n",
    "print(np.mean(arr, axis=1))\n"
   ]
  },
  {
   "cell_type": "code",
   "execution_count": 32,
   "id": "ad60943e",
   "metadata": {},
   "outputs": [
    {
     "name": "stdout",
     "output_type": "stream",
     "text": [
      "\n",
      "Transpose of the array:\n",
      "[[1 4]\n",
      " [2 5]\n",
      " [3 6]]\n"
     ]
    }
   ],
   "source": [
    "\n",
    "# Transpose of the array\n",
    "print(\"\\nTranspose of the array:\")\n",
    "print(arr.T)\n"
   ]
  },
  {
   "cell_type": "code",
   "execution_count": 33,
   "id": "ceb0231d",
   "metadata": {},
   "outputs": [
    {
     "name": "stdout",
     "output_type": "stream",
     "text": [
      "\n",
      "Element-wise Multiplication:\n",
      "[[ 2  4  6]\n",
      " [ 8 10 12]]\n"
     ]
    }
   ],
   "source": [
    "\n",
    "# Element-wise multiplication\n",
    "print(\"\\nElement-wise Multiplication:\")\n",
    "print(arr * 2)\n"
   ]
  },
  {
   "cell_type": "code",
   "execution_count": 34,
   "id": "7d148104",
   "metadata": {},
   "outputs": [
    {
     "name": "stdout",
     "output_type": "stream",
     "text": [
      "\n",
      "Element-wise Square:\n",
      "[[ 1  4  9]\n",
      " [16 25 36]]\n"
     ]
    }
   ],
   "source": [
    "\n",
    "# Element-wise square\n",
    "print(\"\\nElement-wise Square:\")\n",
    "print(np.square(arr))\n"
   ]
  },
  {
   "cell_type": "code",
   "execution_count": 37,
   "id": "5a3b74c3",
   "metadata": {},
   "outputs": [
    {
     "name": "stdout",
     "output_type": "stream",
     "text": [
      "\n",
      "Element-wise Square Root:\n",
      "[4.         2.         5.65685425 8.        ]\n"
     ]
    }
   ],
   "source": [
    "\n",
    "# Element-wise square root\n",
    "print(\"\\nElement-wise Square Root:\")\n",
    "print(np.sqrt([16,4,32,64]))\n"
   ]
  },
  {
   "cell_type": "code",
   "execution_count": 38,
   "id": "124b0bb6",
   "metadata": {},
   "outputs": [
    {
     "data": {
      "text/plain": [
       "array([[0, 0, 0],\n",
       "       [0, 0, 0],\n",
       "       [0, 0, 0],\n",
       "       [0, 0, 0]], dtype=int32)"
      ]
     },
     "execution_count": 38,
     "metadata": {},
     "output_type": "execute_result"
    }
   ],
   "source": [
    "import numpy as np\n",
    "np.zeros([4, 3], \n",
    "         dtype = np.int32,\n",
    "         order = 'f')"
   ]
  },
  {
   "cell_type": "code",
   "execution_count": null,
   "id": "86047521",
   "metadata": {},
   "outputs": [],
   "source": []
  }
 ],
 "metadata": {
  "kernelspec": {
   "display_name": "Python 3 (ipykernel)",
   "language": "python",
   "name": "python3"
  },
  "language_info": {
   "codemirror_mode": {
    "name": "ipython",
    "version": 3
   },
   "file_extension": ".py",
   "mimetype": "text/x-python",
   "name": "python",
   "nbconvert_exporter": "python",
   "pygments_lexer": "ipython3",
   "version": "3.9.12"
  }
 },
 "nbformat": 4,
 "nbformat_minor": 5
}
