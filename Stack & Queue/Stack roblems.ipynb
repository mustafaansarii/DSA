{
 "cells": [
  {
   "cell_type": "markdown",
   "id": "f645aa6f-b2fa-4ec3-b2e5-4ac82bfb6452",
   "metadata": {},
   "source": [
    "# 1. Reverse a String using Stack"
   ]
  },
  {
   "cell_type": "code",
   "execution_count": 233,
   "id": "20b99359-50c8-487f-9240-0803ded43194",
   "metadata": {},
   "outputs": [],
   "source": [
    "from numpy import array\n",
    "import numpy as np"
   ]
  },
  {
   "cell_type": "code",
   "execution_count": 234,
   "id": "1c7e8b71-175d-4633-9b0b-7b38ac951976",
   "metadata": {},
   "outputs": [],
   "source": [
    "from collections import deque "
   ]
  },
  {
   "cell_type": "code",
   "execution_count": 235,
   "id": "93ec9dab-cde8-4444-a4a4-f12df5a09a32",
   "metadata": {},
   "outputs": [],
   "source": [
    "class Stack:\n",
    "    def __init__(self,size):\n",
    "        self.stack=deque()\n",
    "        self.size=size\n",
    "        \n",
    "    def insert(self,data):\n",
    "        if self.size==len(self.stack):\n",
    "            return \"Stack is full\"\n",
    "        print(f\"element inserted in stack: {data}\")\n",
    "        return self.stack.append(data)\n",
    "\n",
    "    def _print(self):\n",
    "        for i in range(len(self.stack)):\n",
    "            print(self.stack[i], end= ' ')\n",
    "        \n",
    "    def Reverse(self):\n",
    "        reversed_string = ''\n",
    "        while self.stack:\n",
    "            word = self.stack.pop()\n",
    "            reversed_string += word[::-1] \n",
    "            if self.stack:  \n",
    "                reversed_string += ' '\n",
    "        print(reversed_string)"
   ]
  },
  {
   "cell_type": "code",
   "execution_count": 236,
   "id": "552b0c3b-d933-4681-a034-31c9f6e4ce1e",
   "metadata": {},
   "outputs": [],
   "source": [
    "St=Stack(10)"
   ]
  },
  {
   "cell_type": "code",
   "execution_count": 237,
   "id": "5830f4de-3dfd-47ec-846f-a9344ed5db9c",
   "metadata": {},
   "outputs": [
    {
     "name": "stdout",
     "output_type": "stream",
     "text": [
      "element inserted in stack: This is Ram\n"
     ]
    }
   ],
   "source": [
    "St.insert(\"This is Ram\")"
   ]
  },
  {
   "cell_type": "code",
   "execution_count": 238,
   "id": "35ea643c-f87d-4de2-bc33-f77a2596dea2",
   "metadata": {},
   "outputs": [
    {
     "name": "stdout",
     "output_type": "stream",
     "text": [
      "This is Ram "
     ]
    }
   ],
   "source": [
    "St._print()"
   ]
  },
  {
   "cell_type": "code",
   "execution_count": 239,
   "id": "4b7f5e2a-10e9-4100-8588-1e534d5f9eb8",
   "metadata": {},
   "outputs": [
    {
     "name": "stdout",
     "output_type": "stream",
     "text": [
      "maR si sihT\n"
     ]
    }
   ],
   "source": [
    "St.Reverse()"
   ]
  },
  {
   "cell_type": "markdown",
   "id": "e8a3628d-630f-4e43-9e7b-1d63f3dcd925",
   "metadata": {},
   "source": [
    "# 2. Parenthesis Checker"
   ]
  },
  {
   "cell_type": "code",
   "execution_count": 240,
   "id": "01ff92c0-113e-46ed-afdd-69c1daec1734",
   "metadata": {},
   "outputs": [],
   "source": [
    "class Stack:\n",
    "    def __init__(self):\n",
    "        self.stack = deque()\n",
    "\n",
    "    def Parenthesis_check(self, chars):\n",
    "        for char in chars:\n",
    "            if char in [\"[\", \"{\", \"(\"]:\n",
    "                self.stack.append(char)\n",
    "            else:\n",
    "                if not self.stack:\n",
    "                    return False\n",
    "                current_char = self.stack.pop()\n",
    "                if current_char == '(':\n",
    "                    if char != \")\":\n",
    "                        return False\n",
    "                elif current_char == '{':\n",
    "                    if char != \"}\":\n",
    "                        return False\n",
    "                elif current_char == '[':\n",
    "                    if char != \"]\":\n",
    "                        return False\n",
    "        return not self.stack\n",
    "\n",
    "PC = Stack()"
   ]
  },
  {
   "cell_type": "code",
   "execution_count": 241,
   "id": "fae0cfec-1bba-407a-8601-ada72cc88a31",
   "metadata": {},
   "outputs": [
    {
     "data": {
      "text/plain": [
       "True"
      ]
     },
     "execution_count": 241,
     "metadata": {},
     "output_type": "execute_result"
    }
   ],
   "source": [
    "PC.Parenthesis_check(\"{()}[]\")"
   ]
  },
  {
   "cell_type": "markdown",
   "id": "d5bdf6a4-53e8-4cb6-8af5-a74c962d535e",
   "metadata": {},
   "source": [
    "# 3. Reverse a Stack using queue"
   ]
  },
  {
   "cell_type": "markdown",
   "id": "d417ee66-ff99-4673-b252-20a4e4baa9ba",
   "metadata": {},
   "source": [
    "To reverse a stack using a queue, you can follow these steps:\n",
    "\n",
    "1. **Pop all elements from the stack and enqueue them into the queue.**\n",
    "2. **Dequeue all elements from the queue and enqueue them back into the queue.**\n",
    "3. **Repeat step 2 while the size of the queue becomes 1.**\n",
    "4. **Dequeue the last element from the queue and enqueue it back into the stack.**"
   ]
  },
  {
   "cell_type": "code",
   "execution_count": 242,
   "id": "a9ded0a1-c8b3-4898-b66f-3d511f74be51",
   "metadata": {},
   "outputs": [
    {
     "name": "stdout",
     "output_type": "stream",
     "text": [
      "element inserted in stack: 1\n",
      "element inserted in stack: 2\n",
      "element inserted in stack: 3\n",
      "element inserted in stack: 4\n",
      "element inserted in stack: 5\n",
      "---------------------\n",
      "1\n",
      "2\n",
      "3\n",
      "4\n",
      "5\n"
     ]
    }
   ],
   "source": [
    "class Stack:\n",
    "    def __init__(self,size):\n",
    "        self.size=size\n",
    "        self.stack=deque()\n",
    "        \n",
    "    def insert(self,data):\n",
    "        print(f\"element inserted in stack: {data}\")\n",
    "        return self.stack.append(data)\n",
    "\n",
    "    def _print(self):\n",
    "        if len(self.stack)==0:\n",
    "            return \"stack is Empty!\"\n",
    "        for i in range(len(self.stack)):\n",
    "            print(self.stack[i])\n",
    "            \n",
    "    def Remove(self):\n",
    "        if len(self.stack)==0:\n",
    "            return \"stack is Empty!\"\n",
    "        return self.stack.pop()\n",
    "R=Stack(5)\n",
    "R.insert(1)\n",
    "R.insert(2)\n",
    "R.insert(3)\n",
    "R.insert(4)\n",
    "R.insert(5)\n",
    "print(\"---------------------\")\n",
    "R._print()"
   ]
  },
  {
   "cell_type": "code",
   "execution_count": 243,
   "id": "f61cf347-58eb-4c30-8c7a-c9ea3a74ec93",
   "metadata": {},
   "outputs": [],
   "source": [
    "class Queue:\n",
    "        def __init__(self):\n",
    "            self.Queue=deque()\n",
    "    \n",
    "        def Enqueue(self,data):\n",
    "            print(f\"element inserted in Queue: {data}\")\n",
    "            return self.Queue.append(data)\n",
    "    \n",
    "        def _print(self):\n",
    "            if len(self.Queue)==0:\n",
    "                return \"Queue is Empty!\"\n",
    "            for i in range(len(self.Queue)):\n",
    "                print(self.Queue[i], end= ' ')\n",
    "                \n",
    "        def Dequeue(self):\n",
    "            if len(self.Queue)==0:\n",
    "                return \"Queue is Empty!\"\n",
    "            return self.Queue.popleft()\n",
    "Qu=Queue()"
   ]
  },
  {
   "cell_type": "code",
   "execution_count": 244,
   "id": "5bd1f8c2-4e57-4acf-bc09-bc6ddba483f2",
   "metadata": {},
   "outputs": [],
   "source": [
    "class Reverse_Stack:\n",
    "    def Remove_from_stack_insert_into_queue(self):\n",
    "        while len(R.stack) != 0:\n",
    "            Qu.Enqueue(R.Remove())\n",
    "        return Qu._print()\n",
    "    def Remove_from_queue_insert_into_stack(self):\n",
    "        while len(Qu.Queue) != 0:\n",
    "            R.insert(Qu.Dequeue())\n",
    "        return R._print()\n",
    "        \n"
   ]
  },
  {
   "cell_type": "code",
   "execution_count": 245,
   "id": "272820be-e5cb-4c30-be83-4e11a547a166",
   "metadata": {},
   "outputs": [],
   "source": [
    "rv=Reverse_Stack()"
   ]
  },
  {
   "cell_type": "code",
   "execution_count": 246,
   "id": "509d7893-3627-4132-9a83-f41f75dd59db",
   "metadata": {},
   "outputs": [
    {
     "name": "stdout",
     "output_type": "stream",
     "text": [
      "element inserted in Queue: 5\n",
      "element inserted in Queue: 4\n",
      "element inserted in Queue: 3\n",
      "element inserted in Queue: 2\n",
      "element inserted in Queue: 1\n",
      "5 4 3 2 1 "
     ]
    }
   ],
   "source": [
    "rv.Remove_from_stack_insert_into_queue()"
   ]
  },
  {
   "cell_type": "code",
   "execution_count": 247,
   "id": "fa9cf1f4-8014-46a5-9aa7-d69c5714c791",
   "metadata": {},
   "outputs": [
    {
     "data": {
      "text/plain": [
       "'stack is Empty!'"
      ]
     },
     "execution_count": 247,
     "metadata": {},
     "output_type": "execute_result"
    }
   ],
   "source": [
    "R._print()"
   ]
  },
  {
   "cell_type": "code",
   "execution_count": 248,
   "id": "c52b8bd5-66bd-47cd-bb5e-5669871b5944",
   "metadata": {},
   "outputs": [
    {
     "name": "stdout",
     "output_type": "stream",
     "text": [
      "element inserted in stack: 5\n",
      "element inserted in stack: 4\n",
      "element inserted in stack: 3\n",
      "element inserted in stack: 2\n",
      "element inserted in stack: 1\n",
      "5\n",
      "4\n",
      "3\n",
      "2\n",
      "1\n"
     ]
    }
   ],
   "source": [
    "rv.Remove_from_queue_insert_into_stack()"
   ]
  },
  {
   "cell_type": "code",
   "execution_count": 249,
   "id": "23266343-9286-482b-bd72-9dc722c0560f",
   "metadata": {},
   "outputs": [
    {
     "data": {
      "text/plain": [
       "'Queue is Empty!'"
      ]
     },
     "execution_count": 249,
     "metadata": {},
     "output_type": "execute_result"
    }
   ],
   "source": [
    "Qu._print()"
   ]
  },
  {
   "cell_type": "code",
   "execution_count": 250,
   "id": "916c5a2e-9cd1-43f6-bb53-20a7d8ed61b0",
   "metadata": {},
   "outputs": [
    {
     "name": "stdout",
     "output_type": "stream",
     "text": [
      "5\n",
      "4\n",
      "3\n",
      "2\n",
      "1\n"
     ]
    }
   ],
   "source": [
    "R._print()"
   ]
  },
  {
   "cell_type": "markdown",
   "id": "8abcae39-2c2b-4211-b4cf-dfa7f96a188b",
   "metadata": {},
   "source": [
    "# Stack using singly Linked_List"
   ]
  },
  {
   "cell_type": "code",
   "execution_count": 251,
   "id": "0a398408-6b71-4a54-a875-a995fa913ec0",
   "metadata": {},
   "outputs": [],
   "source": [
    "class Node:\n",
    "    def __init__(self,data):\n",
    "        self.data=data\n",
    "        self.next=None\n",
    "        \n",
    "class Stack:\n",
    "    def __init__(self):\n",
    "        self.head=None\n",
    "\n",
    "    def push(self,data):\n",
    "        new_node=Node(data)\n",
    "        new_node.next=self.head\n",
    "        self.head=new_node\n",
    "        return new_node.data\n",
    "\n",
    "    def print(self):\n",
    "        if self.head is None:\n",
    "            return \"Stack list is Empty!\"\n",
    "        else:\n",
    "            n=self.head\n",
    "            while n is not None:\n",
    "                print(n.data, end=' ')\n",
    "                n=n.next\n",
    "                \n",
    "    def pop(self):\n",
    "        if self.head is None:\n",
    "            raise IndexError(\"Empty! Stack\")\n",
    "        popped_value = self.head.data\n",
    "        self.head = self.head.next\n",
    "        return popped_value\n",
    "        \n",
    "    def __getitem__(self, index):\n",
    "        n = self.head\n",
    "        count = 0\n",
    "        while n:\n",
    "            if count == index:\n",
    "                return n.data\n",
    "            count += 1\n",
    "            n = n.next\n",
    "        raise IndexError(\"Index out of range\")\n",
    "\n",
    "        \n",
    "S=Stack()"
   ]
  },
  {
   "cell_type": "code",
   "execution_count": 252,
   "id": "1424109b-14de-4be4-9746-43f971650917",
   "metadata": {},
   "outputs": [
    {
     "data": {
      "text/plain": [
       "3"
      ]
     },
     "execution_count": 252,
     "metadata": {},
     "output_type": "execute_result"
    }
   ],
   "source": [
    "S.push(3)"
   ]
  },
  {
   "cell_type": "code",
   "execution_count": 253,
   "id": "8addc268-f327-4e11-8b8b-227080e5a982",
   "metadata": {},
   "outputs": [
    {
     "data": {
      "text/plain": [
       "3"
      ]
     },
     "execution_count": 253,
     "metadata": {},
     "output_type": "execute_result"
    }
   ],
   "source": [
    "S[0]"
   ]
  },
  {
   "cell_type": "code",
   "execution_count": 254,
   "id": "0644d1ff-5554-4b05-a445-fd850c1a3e32",
   "metadata": {},
   "outputs": [
    {
     "name": "stdout",
     "output_type": "stream",
     "text": [
      "3 "
     ]
    }
   ],
   "source": [
    "S.print()"
   ]
  },
  {
   "cell_type": "code",
   "execution_count": 255,
   "id": "2348de5c-ca56-4b2c-9469-634133d7d631",
   "metadata": {},
   "outputs": [
    {
     "data": {
      "text/plain": [
       "3"
      ]
     },
     "execution_count": 255,
     "metadata": {},
     "output_type": "execute_result"
    }
   ],
   "source": [
    "S.pop()"
   ]
  },
  {
   "cell_type": "markdown",
   "id": "c7e8b807-6800-4ffc-83b6-f98f86010310",
   "metadata": {},
   "source": [
    "### 1. text editor"
   ]
  },
  {
   "cell_type": "code",
   "execution_count": 385,
   "id": "7ab7b20d-561f-4f75-ae4e-499bb9bd7bd7",
   "metadata": {},
   "outputs": [],
   "source": [
    "class Node:\n",
    "    def __init__(self,data):\n",
    "        self.data=data\n",
    "        self.next=None\n",
    "        \n",
    "class Stack:\n",
    "    def __init__(self):\n",
    "        self.head=None\n",
    "\n",
    "    def push(self,data):\n",
    "        new_node=Node(data)\n",
    "        if self.head is None:\n",
    "            new_node.next=self.head\n",
    "            self.head=new_node\n",
    "            return new_node.data\n",
    "        n=self.head\n",
    "        while n.next:\n",
    "            n=n.next\n",
    "        n.next=new_node\n",
    "        return new_node.data\n",
    "\n",
    "    def print(self):\n",
    "        if self.head is None:\n",
    "            return \"Stack list is Empty!\"\n",
    "        else:\n",
    "            n=self.head\n",
    "            while n is not None:\n",
    "                print(n.data, end=' ')\n",
    "                n=n.next\n",
    "                \n",
    "    def pop(self):\n",
    "        if self.head is None:\n",
    "            raise IndexError(\"Empty! Stack\")\n",
    "        if self.head.next is None:\n",
    "            popped_value = self.head.data\n",
    "            self.head = self.head.next\n",
    "            return popped_value\n",
    "        n=self.head\n",
    "        while n.next.next:\n",
    "            n=n.next\n",
    "        s=n.next.data\n",
    "        n.next=None\n",
    "        return s\n",
    "        \n",
    "    def undo_redo(self, S1, S2, text):\n",
    "        for i in text:\n",
    "            if i == \"u\":\n",
    "                S2.push(S1.pop())\n",
    "            elif i == \"r\":\n",
    "                S1.push(S2.pop())\n",
    "        return S1.print()\n",
    "        "
   ]
  },
  {
   "cell_type": "code",
   "execution_count": 386,
   "id": "7440db97-4518-4de4-a817-397de48feb9b",
   "metadata": {},
   "outputs": [
    {
     "data": {
      "text/plain": [
       "'t'"
      ]
     },
     "execution_count": 386,
     "metadata": {},
     "output_type": "execute_result"
    }
   ],
   "source": [
    "S1 = Stack()\n",
    "S2 = Stack()\n",
    "S1.push(\"e\")\n",
    "S1.push(\"l\")\n",
    "S1.push(\"e\")\n",
    "S1.push(\"m\")\n",
    "S1.push(\"e\")\n",
    "S1.push(\"n\")\n",
    "S1.push(\"t\")"
   ]
  },
  {
   "cell_type": "markdown",
   "id": "6edccefc-7bf4-4be1-8814-c14801e9629f",
   "metadata": {},
   "source": [
    "## The Celebrity Problem"
   ]
  },
  {
   "cell_type": "code",
   "execution_count": 437,
   "id": "9f5f821d-a852-40ac-83bd-315a752634aa",
   "metadata": {},
   "outputs": [],
   "source": [
    "class Node:\n",
    "    def __init__(self,data):\n",
    "        self.data=data\n",
    "        self.next=None\n",
    "        \n",
    "class Stack:\n",
    "    def __init__(self):\n",
    "        self.head=None\n",
    "\n",
    "    def push(self,data):\n",
    "        new_node=Node(data)\n",
    "        if self.head is None:\n",
    "            new_node.next=self.head\n",
    "            self.head=new_node\n",
    "            return new_node.data\n",
    "        n=self.head\n",
    "        while n.next:\n",
    "            n=n.next\n",
    "        n.next=new_node\n",
    "        return new_node.data\n",
    "\n",
    "    def print(self):\n",
    "        if self.head is None:\n",
    "            return \"Stack list is Empty!\"\n",
    "        else:\n",
    "            n=self.head\n",
    "            while n is not None:\n",
    "                print(n.data, end=' ')\n",
    "                n=n.next\n",
    "                \n",
    "    def pop(self):\n",
    "        if self.head is None:\n",
    "            raise IndexError(\"Empty! Stack\")\n",
    "        if self.head.next is None:\n",
    "            popped_value = self.head.data\n",
    "            self.head = self.head.next\n",
    "            return popped_value\n",
    "        n=self.head\n",
    "        while n.next.next:\n",
    "            n=n.next\n",
    "        s=n.next.data\n",
    "        n.next=None\n",
    "        return s\n",
    "\n",
    "    def size(self):\n",
    "        if self.head is None: return 0\n",
    "        count=0\n",
    "        n=self.head\n",
    "        while n:\n",
    "            count +=1\n",
    "            n=n.next\n",
    "        return count\n",
    "        \n",
    "    def undo_redo(self, S1, S2, text):\n",
    "        for i in text:\n",
    "            if i == \"u\":\n",
    "                S2.push(S1.pop())\n",
    "            elif i == \"r\":\n",
    "                S1.push(S2.pop())\n",
    "        return S1.print()\n",
    "        \n",
    "    def __getitem__(self, index):\n",
    "        n = self.head\n",
    "        count = 0\n",
    "        while n:\n",
    "            if count == index:\n",
    "                return n.data\n",
    "            count += 1\n",
    "            n = n.next\n",
    "        raise IndexError(\"Index out of range\")\n",
    "        \n",
    "    def celebrity(self, M, n=len(M)):\n",
    "        j=len(M[0])\n",
    "        for i in range(j):\n",
    "            c=0\n",
    "            for k in range(n):\n",
    "                if M[k][i]==1:\n",
    "                    c+=1\n",
    "            if c==n-1:\n",
    "                if M[i].count(0)==j:\n",
    "                    return i\n",
    "        return -1\n",
    "                \n",
    "C=Stack()"
   ]
  },
  {
   "cell_type": "code",
   "execution_count": 438,
   "id": "160fc6f2-86f5-4224-9015-12c30d8c28d0",
   "metadata": {},
   "outputs": [
    {
     "data": {
      "text/plain": [
       "2"
      ]
     },
     "execution_count": 438,
     "metadata": {},
     "output_type": "execute_result"
    }
   ],
   "source": [
    "D=Stack()\n",
    "M=[[0,0,1,1],\n",
    "   [0,0,1,0],\n",
    "  [0,0,0,0],\n",
    "   [0,0,1,0]]\n",
    "\n",
    "D.celebrity(M)\n"
   ]
  },
  {
   "cell_type": "markdown",
   "id": "91c0c840-7202-4d16-9d85-fef11611c5de",
   "metadata": {},
   "source": [
    "### 2. Stack Bracket Problem Theory"
   ]
  },
  {
   "cell_type": "code",
   "execution_count": null,
   "id": "387c60a8-9434-4433-98da-7a9e70d26b47",
   "metadata": {},
   "outputs": [],
   "source": []
  },
  {
   "cell_type": "code",
   "execution_count": null,
   "id": "4a9a924c-d14e-4885-b342-6fe479da603a",
   "metadata": {},
   "outputs": [],
   "source": []
  },
  {
   "cell_type": "code",
   "execution_count": null,
   "id": "95fbf903-e56e-434b-a0ca-bdd4d16ae07d",
   "metadata": {},
   "outputs": [],
   "source": []
  },
  {
   "cell_type": "markdown",
   "id": "828d10fa",
   "metadata": {},
   "source": []
  }
 ],
 "metadata": {
  "kernelspec": {
   "display_name": "Python 3 (ipykernel)",
   "language": "python",
   "name": "python3"
  },
  "language_info": {
   "codemirror_mode": {
    "name": "ipython",
    "version": 3
   },
   "file_extension": ".py",
   "mimetype": "text/x-python",
   "name": "python",
   "nbconvert_exporter": "python",
   "pygments_lexer": "ipython3",
   "version": "3.11.7"
  }
 },
 "nbformat": 4,
 "nbformat_minor": 5
}
