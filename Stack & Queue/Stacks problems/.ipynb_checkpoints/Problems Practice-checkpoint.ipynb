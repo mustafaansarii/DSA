{
 "cells": [
  {
   "cell_type": "markdown",
   "id": "2130c5ed",
   "metadata": {},
   "source": [
    "### 1. Reverse an array using Stack"
   ]
  },
  {
   "cell_type": "code",
   "execution_count": 89,
   "id": "f28301aa",
   "metadata": {},
   "outputs": [],
   "source": [
    "class Node:\n",
    "    def __init__(self,data):\n",
    "        self.data=data\n",
    "class Node:\n",
    "    def __init__(self, data):\n",
    "        self.data = data\n",
    "        self.next = None\n",
    "\n",
    "class Stack:\n",
    "    def __init__(self):\n",
    "        self.head = None\n",
    "        self.tail = None\n",
    "\n",
    "    def push(self, data):\n",
    "        new_node = Node(data)\n",
    "        if self.tail is None:\n",
    "            self.head = new_node\n",
    "            self.tail = new_node\n",
    "        else:\n",
    "            self.tail.next = new_node\n",
    "            self.tail = new_node\n",
    "\n",
    "    def display(self):\n",
    "        if self.head is None:\n",
    "            print(\"Stack is empty\")\n",
    "        else:\n",
    "            n = self.head\n",
    "            while n:\n",
    "                print(n.data, end=' ')\n",
    "                n = n.next\n",
    "\n",
    "    def pop(self):\n",
    "        if self.head is None:\n",
    "            raise IndexError(\"pop from empty list\")\n",
    "        if self.head.next is None:\n",
    "            data = self.head.data\n",
    "            self.head = None\n",
    "            self.tail = None\n",
    "        else:\n",
    "            n = self.head\n",
    "            while n.next.next:\n",
    "                n = n.next\n",
    "            data = n.next.data\n",
    "            n.next = None\n",
    "            self.tail = n\n",
    "        return data\n",
    "\n",
    "\n",
    "if __name__ == '__main__':\n",
    "    S=Stack()\n",
    "    arr=[10, 20, 30, 40, 50]\n",
    "    for i in arr:\n",
    "        S.push(i)\n",
    "    reversed_arr = []\n",
    "    for i in range(len(arr)):\n",
    "        reversed_arr.append(S.pop())\n"
   ]
  },
  {
   "cell_type": "code",
   "execution_count": 87,
   "id": "ec9ef4bd",
   "metadata": {},
   "outputs": [
    {
     "data": {
      "text/plain": [
       "[50, 40, 30, 20, 10]"
      ]
     },
     "execution_count": 87,
     "metadata": {},
     "output_type": "execute_result"
    }
   ],
   "source": [
    "reversed_arr"
   ]
  },
  {
   "cell_type": "code",
   "execution_count": 88,
   "id": "7f854b12",
   "metadata": {},
   "outputs": [
    {
     "name": "stdout",
     "output_type": "stream",
     "text": [
      "Stack is empty\n"
     ]
    }
   ],
   "source": [
    "S.display()"
   ]
  },
  {
   "cell_type": "markdown",
   "id": "a1e8fff9",
   "metadata": {},
   "source": [
    "### 2. Delete middle element of a stack\n"
   ]
  },
  {
   "cell_type": "code",
   "execution_count": 93,
   "id": "9fc4f1b8",
   "metadata": {},
   "outputs": [
    {
     "name": "stdout",
     "output_type": "stream",
     "text": [
      "10 20 30 40 50 "
     ]
    }
   ],
   "source": [
    "S.display()"
   ]
  },
  {
   "cell_type": "code",
   "execution_count": 200,
   "id": "02f0e6be",
   "metadata": {},
   "outputs": [],
   "source": [
    "class Node:\n",
    "    def __init__(self,data):\n",
    "        self.data=data\n",
    "class Node:\n",
    "    def __init__(self, data):\n",
    "        self.data = data\n",
    "        self.next = None\n",
    "\n",
    "class Stack:\n",
    "    def __init__(self):\n",
    "        self.head = None\n",
    "        self.tail = None\n",
    "\n",
    "    def push(self, data):\n",
    "        new_node = Node(data)\n",
    "        if self.tail is None:\n",
    "            self.head = new_node\n",
    "            self.tail = new_node\n",
    "        else:\n",
    "            self.tail.next = new_node\n",
    "            self.tail = new_node\n",
    "\n",
    "    def display(self):\n",
    "        if self.head is None:\n",
    "            print(\"Stack is empty\")\n",
    "        else:\n",
    "            n = self.head\n",
    "            while n:\n",
    "                print(n.data, end=' ')\n",
    "                n = n.next\n",
    "\n",
    "    def pop(self):\n",
    "        if self.head is None:\n",
    "            raise IndexError(\"pop from empty list\")\n",
    "        if self.head.next is None:\n",
    "            data = self.head.data\n",
    "            self.head = None\n",
    "            self.tail = None\n",
    "        else:\n",
    "            n = self.head\n",
    "            while n.next.next:\n",
    "                n = n.next\n",
    "            data = n.next.data\n",
    "            n.next = None\n",
    "            self.tail = n\n",
    "        return data\n",
    "    \n",
    "    def length(self):\n",
    "        if self.head !=None:\n",
    "            n=0\n",
    "            k=self.head\n",
    "            while k:\n",
    "                n+=1\n",
    "                k=k.next\n",
    "            return n\n",
    "        return 0\n",
    "    \n",
    "    def deleteMid(self):\n",
    "        if self.head == None:\n",
    "            self.pop()\n",
    "        else:\n",
    "            mid = (self.length()) // 2\n",
    "            n = self.head\n",
    "            while mid != 1:\n",
    "                n = n.next\n",
    "                mid -= 1\n",
    "            n.next = n.next.next\n",
    "            \n",
    "if __name__ == '__main__':\n",
    "    S=Stack()"
   ]
  },
  {
   "cell_type": "code",
   "execution_count": 201,
   "id": "6407de35",
   "metadata": {},
   "outputs": [],
   "source": [
    "arr=[10, 20, 30, 40, 50]\n",
    "for i in arr:\n",
    "    S.push(i)"
   ]
  },
  {
   "cell_type": "code",
   "execution_count": 202,
   "id": "ce4e455c",
   "metadata": {},
   "outputs": [
    {
     "name": "stdout",
     "output_type": "stream",
     "text": [
      "10 20 30 40 50 "
     ]
    }
   ],
   "source": [
    "S.display()"
   ]
  },
  {
   "cell_type": "code",
   "execution_count": 203,
   "id": "12c185dd",
   "metadata": {},
   "outputs": [
    {
     "data": {
      "text/plain": [
       "5"
      ]
     },
     "execution_count": 203,
     "metadata": {},
     "output_type": "execute_result"
    }
   ],
   "source": [
    "S.length()"
   ]
  },
  {
   "cell_type": "code",
   "execution_count": 204,
   "id": "e5abb6c1",
   "metadata": {},
   "outputs": [],
   "source": [
    "S.deleteMid()"
   ]
  },
  {
   "cell_type": "code",
   "execution_count": 205,
   "id": "6d228c18",
   "metadata": {},
   "outputs": [
    {
     "data": {
      "text/plain": [
       "4"
      ]
     },
     "execution_count": 205,
     "metadata": {},
     "output_type": "execute_result"
    }
   ],
   "source": [
    "S.length()"
   ]
  },
  {
   "cell_type": "code",
   "execution_count": 206,
   "id": "0d5d0885",
   "metadata": {},
   "outputs": [
    {
     "name": "stdout",
     "output_type": "stream",
     "text": [
      "10 20 40 50 "
     ]
    }
   ],
   "source": [
    "S.display()"
   ]
  },
  {
   "cell_type": "code",
   "execution_count": null,
   "id": "b1239794",
   "metadata": {},
   "outputs": [],
   "source": []
  }
 ],
 "metadata": {
  "kernelspec": {
   "display_name": "Python 3 (ipykernel)",
   "language": "python",
   "name": "python3"
  },
  "language_info": {
   "codemirror_mode": {
    "name": "ipython",
    "version": 3
   },
   "file_extension": ".py",
   "mimetype": "text/x-python",
   "name": "python",
   "nbconvert_exporter": "python",
   "pygments_lexer": "ipython3",
   "version": "3.9.12"
  }
 },
 "nbformat": 4,
 "nbformat_minor": 5
}
