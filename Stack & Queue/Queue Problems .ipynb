{
 "cells": [
  {
   "cell_type": "markdown",
   "id": "8b59ad82-9b19-4c34-8fee-c345bffd1986",
   "metadata": {},
   "source": [
    "# 1. Array implementation of queue (Simple)"
   ]
  },
  {
   "cell_type": "code",
   "execution_count": 131,
   "id": "6e0d3385-5de8-4c33-80f8-bbccb118c7f7",
   "metadata": {},
   "outputs": [],
   "source": [
    "from collections import deque"
   ]
  },
  {
   "cell_type": "code",
   "execution_count": 132,
   "id": "9484ad99-eac5-48e7-a633-3c9cf1c84652",
   "metadata": {},
   "outputs": [],
   "source": [
    "class Queue:\n",
    "    def __init__(self,size):\n",
    "        self.size=size\n",
    "        self.queue=deque()\n",
    "        \n",
    "    def _print(self):\n",
    "        return self.queue\n",
    "\n",
    "    def Enqueue(self,data):\n",
    "        if self.size==len(self.queue):\n",
    "            return \"Queue is size Full can't insert!\"\n",
    "        print(f\"Element added: {data}\")\n",
    "        self.queue.append(data)\n",
    "\n",
    "    def dequeue(self):\n",
    "        if len(self.queue)== 0:\n",
    "            return \"Queue is Empty!\"\n",
    "        else:\n",
    "            print(f\"Element deleted from Queue is {self.queue[0]}\")\n",
    "            self.queue.popleft()\n",
    "        \n",
    "Q=Queue(5)"
   ]
  },
  {
   "cell_type": "code",
   "execution_count": 133,
   "id": "3c2b164c-c7e0-42e8-aa2d-0fcc8b9a9de8",
   "metadata": {},
   "outputs": [
    {
     "data": {
      "text/plain": [
       "deque([])"
      ]
     },
     "execution_count": 133,
     "metadata": {},
     "output_type": "execute_result"
    }
   ],
   "source": [
    "Q._print()"
   ]
  },
  {
   "cell_type": "code",
   "execution_count": 134,
   "id": "d5a29f9f-7b66-4fa3-b6e0-167d7ff440b2",
   "metadata": {},
   "outputs": [
    {
     "name": "stdout",
     "output_type": "stream",
     "text": [
      "Element added: 5\n"
     ]
    }
   ],
   "source": [
    "Q.Enqueue(5)"
   ]
  },
  {
   "cell_type": "code",
   "execution_count": 135,
   "id": "65f5222f-d434-4714-b78f-38bd00cef97c",
   "metadata": {},
   "outputs": [
    {
     "name": "stdout",
     "output_type": "stream",
     "text": [
      "Element deleted from Queue is 5\n"
     ]
    }
   ],
   "source": [
    "Q.dequeue()"
   ]
  },
  {
   "cell_type": "markdown",
   "id": "c8538fd8-8fab-4dca-8b86-f587f5e8da8d",
   "metadata": {},
   "source": [
    "## 2. Removing the first K elements of a Queue"
   ]
  },
  {
   "cell_type": "code",
   "execution_count": 136,
   "id": "37d7ff6f-651f-4f73-b124-f4cf226bac6b",
   "metadata": {},
   "outputs": [],
   "source": [
    "class Queue:\n",
    "    def __init__(self,size):\n",
    "        self.size=size\n",
    "        self.queue=deque()\n",
    "        \n",
    "    def _print(self):\n",
    "        return self.queue\n",
    "\n",
    "    def Enqueue(self,data):\n",
    "        if self.size==len(self.queue):\n",
    "            return \"Queue is size Full can't insert!\"\n",
    "        print(f\"Element added: {data}\")\n",
    "        self.queue.append(data)\n",
    "\n",
    "    def dequeue(self,k):\n",
    "        if len(self.queue)== 0:\n",
    "            return \"Queue is Empty!\"\n",
    "        else:\n",
    "            for i in range(k):\n",
    "                print(f\"Element deleted from Queue is {self.queue[0]}\")\n",
    "                self.queue.popleft()\n",
    "        \n",
    "Q=Queue(5)"
   ]
  },
  {
   "cell_type": "code",
   "execution_count": 137,
   "id": "ba8a941b-a049-4098-b911-0d98acda7c75",
   "metadata": {},
   "outputs": [
    {
     "data": {
      "text/plain": [
       "'Queue is Empty!'"
      ]
     },
     "execution_count": 137,
     "metadata": {},
     "output_type": "execute_result"
    }
   ],
   "source": [
    "Q.dequeue(3)"
   ]
  },
  {
   "cell_type": "code",
   "execution_count": 138,
   "id": "b4b1b3a8-cc15-46ac-b5f6-134631e06ff9",
   "metadata": {},
   "outputs": [
    {
     "name": "stdout",
     "output_type": "stream",
     "text": [
      "Element added: 1\n"
     ]
    }
   ],
   "source": [
    "Q.Enqueue(1)"
   ]
  },
  {
   "cell_type": "code",
   "execution_count": 139,
   "id": "d28ad93b-f8cd-43a6-a120-2e47948cfacd",
   "metadata": {},
   "outputs": [
    {
     "name": "stdout",
     "output_type": "stream",
     "text": [
      "Element added: 6\n"
     ]
    }
   ],
   "source": [
    "Q.Enqueue(6)"
   ]
  },
  {
   "cell_type": "code",
   "execution_count": 140,
   "id": "7aa77ea7-60fc-4716-b3fb-093d11d925cd",
   "metadata": {},
   "outputs": [
    {
     "data": {
      "text/plain": [
       "deque([1, 6])"
      ]
     },
     "execution_count": 140,
     "metadata": {},
     "output_type": "execute_result"
    }
   ],
   "source": [
    "Q._print()"
   ]
  },
  {
   "cell_type": "markdown",
   "id": "e24c532d-c5c2-4f6e-9133-cd5786fc5b8e",
   "metadata": {},
   "source": [
    "## 3. Reversing the first K elements of a Queue"
   ]
  },
  {
   "cell_type": "code",
   "execution_count": 141,
   "id": "4c85d6bb-5539-40ef-924d-2659e25c231a",
   "metadata": {},
   "outputs": [],
   "source": [
    "class Queue:\n",
    "    def __init__(self):\n",
    "        self.queue=deque([10, 20, 30, 40, 50, 60, 70, 80, 90, 100])\n",
    "        \n",
    "    def _print(self):\n",
    "        return self.queue\n",
    "\n",
    "    def Enqueue(data):\n",
    "        print(f\"Element added: {data}\")\n",
    "        self.queue.append(data)\n",
    "\n",
    "    def dequeue(self):\n",
    "        if len(self.queue)== 0:\n",
    "            return \"Queue is Empty!\"\n",
    "        else:\n",
    "            print(f\"Element deleted from Queue is {self.queue[0]}\")\n",
    "            self.queue.popleft()\n",
    "            \n",
    "    def ReverseK(self, K):\n",
    "        if K <= 0:\n",
    "            return \"Invalid value of K\"\n",
    "        for i in range(K // 2):  \n",
    "            self.queue[i], self.queue[K - i - 1] = self.queue[K - i - 1], self.queue[i]\n",
    "        return self.queue\n",
    "\n",
    "Q=Queue()"
   ]
  },
  {
   "cell_type": "code",
   "execution_count": 142,
   "id": "6e9f9ba7-0177-4afb-a0af-9e6b56411f3e",
   "metadata": {},
   "outputs": [
    {
     "data": {
      "text/plain": [
       "deque([10, 20, 30, 40, 50, 60, 70, 80, 90, 100])"
      ]
     },
     "execution_count": 142,
     "metadata": {},
     "output_type": "execute_result"
    }
   ],
   "source": [
    "Q._print()"
   ]
  },
  {
   "cell_type": "code",
   "execution_count": 143,
   "id": "6e96adb1-d36f-4a98-bc88-6e4767529f47",
   "metadata": {},
   "outputs": [
    {
     "data": {
      "text/plain": [
       "deque([40, 30, 20, 10, 50, 60, 70, 80, 90, 100])"
      ]
     },
     "execution_count": 143,
     "metadata": {},
     "output_type": "execute_result"
    }
   ],
   "source": [
    "Q.ReverseK(4)"
   ]
  },
  {
   "cell_type": "code",
   "execution_count": null,
   "id": "ea8320f2-2224-485a-a98f-ad5b346a66a9",
   "metadata": {},
   "outputs": [],
   "source": []
  },
  {
   "cell_type": "code",
   "execution_count": 144,
   "id": "97f000e8-12fc-4b1f-ad62-a1789ef28221",
   "metadata": {},
   "outputs": [
    {
     "ename": "NameError",
     "evalue": "name 'solve' is not defined",
     "output_type": "error",
     "traceback": [
      "\u001b[0;31m---------------------------------------------------------------------------\u001b[0m",
      "\u001b[0;31mNameError\u001b[0m                                 Traceback (most recent call last)",
      "Cell \u001b[0;32mIn[144], line 12\u001b[0m\n\u001b[1;32m     10\u001b[0m queue \u001b[38;5;241m=\u001b[39m deque([\u001b[38;5;241m10\u001b[39m, \u001b[38;5;241m20\u001b[39m, \u001b[38;5;241m30\u001b[39m, \u001b[38;5;241m40\u001b[39m, \u001b[38;5;241m50\u001b[39m, \u001b[38;5;241m60\u001b[39m, \u001b[38;5;241m70\u001b[39m, \u001b[38;5;241m80\u001b[39m, \u001b[38;5;241m90\u001b[39m, \u001b[38;5;241m100\u001b[39m])\n\u001b[1;32m     11\u001b[0m k \u001b[38;5;241m=\u001b[39m \u001b[38;5;241m5\u001b[39m\n\u001b[0;32m---> 12\u001b[0m queue \u001b[38;5;241m=\u001b[39m reverse_first_k(queue, k)\n\u001b[1;32m     14\u001b[0m \u001b[38;5;66;03m# Printing queue\u001b[39;00m\n\u001b[1;32m     15\u001b[0m \u001b[38;5;28;01mwhile\u001b[39;00m queue:\n",
      "Cell \u001b[0;32mIn[144], line 2\u001b[0m, in \u001b[0;36mreverse_first_k\u001b[0;34m(q, k)\u001b[0m\n\u001b[1;32m      1\u001b[0m \u001b[38;5;28;01mdef\u001b[39;00m \u001b[38;5;21mreverse_first_k\u001b[39m(q, k):\n\u001b[0;32m----> 2\u001b[0m \tsolve(q, k)\n\u001b[1;32m      3\u001b[0m \ts \u001b[38;5;241m=\u001b[39m \u001b[38;5;28mlen\u001b[39m(q) \u001b[38;5;241m-\u001b[39m k\n\u001b[1;32m      4\u001b[0m \t\u001b[38;5;28;01mfor\u001b[39;00m _ \u001b[38;5;129;01min\u001b[39;00m \u001b[38;5;28mrange\u001b[39m(s):\n",
      "\u001b[0;31mNameError\u001b[0m: name 'solve' is not defined"
     ]
    }
   ],
   "source": [
    "def reverse_first_k(q, k):\n",
    "\tsolve(q, k)\n",
    "\ts = len(q) - k\n",
    "\tfor _ in range(s):\n",
    "\t\tx = q.popleft()\n",
    "\t\tq.append(x)\n",
    "\treturn q\n",
    "\n",
    "# Driver code\n",
    "queue = deque([10, 20, 30, 40, 50, 60, 70, 80, 90, 100])\n",
    "k = 5\n",
    "queue = reverse_first_k(queue, k)\n",
    "\n",
    "# Printing queue\n",
    "while queue:\n",
    "\tprint(queue.popleft(), end=' ')\n"
   ]
  },
  {
   "cell_type": "markdown",
   "id": "1595eca9-0670-4b41-ab4b-926974bc3da0",
   "metadata": {},
   "source": [
    "## 4. Print all elements of a queue in a new line"
   ]
  },
  {
   "cell_type": "code",
   "execution_count": 145,
   "id": "e952ef07-dd8e-4f86-8379-0f1b708bf18b",
   "metadata": {},
   "outputs": [],
   "source": [
    "class Queue:\n",
    "    def __init__(self,size):\n",
    "        self.size=size\n",
    "        self.queue=deque([10, 20, 30, 40, 50, 60, 70, 80, 90, 100])\n",
    "        \n",
    "    def _print(self):\n",
    "        if len(self.queue) ==0:\n",
    "            return self.queue\n",
    "        for i in range(len(self.queue)):\n",
    "            print(self.queue[i], end= ' ')\n",
    "\n",
    "    def Enqueue(self,data):\n",
    "        if self.size==len(self.queue):\n",
    "            return \"Queue is size Full can't insert!\"\n",
    "        print(f\"Element added: {data}\")\n",
    "        self.queue.append(data)\n",
    "\n",
    "    def dequeue(self):\n",
    "        if len(self.queue)== 0:\n",
    "            return \"Queue is Empty!\"\n",
    "        else:\n",
    "            print(f\"Element deleted from Queue is {self.queue[0]}\")\n",
    "            self.queue.popleft()\n",
    "        \n",
    "Q=Queue(5)"
   ]
  },
  {
   "cell_type": "code",
   "execution_count": 146,
   "id": "850c47ce-b9f2-46be-949a-34e92a4bd8f8",
   "metadata": {},
   "outputs": [
    {
     "name": "stdout",
     "output_type": "stream",
     "text": [
      "10 20 30 40 50 60 70 80 90 100 "
     ]
    }
   ],
   "source": [
    "Q._print()"
   ]
  },
  {
   "cell_type": "markdown",
   "id": "819180d8-f37f-42de-8b74-28a3f924f3ae",
   "metadata": {},
   "source": [
    "# 5. Implement Queue using Singly Linked-List"
   ]
  },
  {
   "cell_type": "code",
   "execution_count": 147,
   "id": "b8853eb6-abb1-407e-a443-adf6ebcdd91b",
   "metadata": {},
   "outputs": [],
   "source": [
    "class Node:\n",
    "    def __init__(self,data):\n",
    "        self.data=data\n",
    "        self.next=None\n",
    "        \n",
    "class Queue:\n",
    "    def __init__(self):\n",
    "        self.head=None\n",
    "\n",
    "    def Enqueue(self,data):\n",
    "        new_node=Node(data)\n",
    "        if self.head is None:\n",
    "            self.head=new_node\n",
    "            return\n",
    "        n=self.head\n",
    "        while n.next is not None:\n",
    "            n=n.next\n",
    "        n.next=new_node\n",
    "        \n",
    "    def _print(self):\n",
    "        if self.head is None:\n",
    "            return \"Queue is Empty!\"\n",
    "        else:\n",
    "            n=self.head\n",
    "            while n is not None:\n",
    "                print(n.data, end=' ')\n",
    "                n=n.next\n",
    "            print()\n",
    "                \n",
    "    def Dequeue(self):\n",
    "        if self.head is None:\n",
    "            return \"Queue is Empty!\"\n",
    "        elif self.head.next is None:\n",
    "            self.head=None\n",
    "        else:\n",
    "            self.head=self.head.next\n",
    "\n",
    "Q=Queue()"
   ]
  },
  {
   "cell_type": "code",
   "execution_count": 148,
   "id": "490f9f60-dfb5-4244-a43c-3b1ee75b93d5",
   "metadata": {},
   "outputs": [],
   "source": [
    "Q.Enqueue(60)"
   ]
  },
  {
   "cell_type": "code",
   "execution_count": 149,
   "id": "1d780520-d1fd-43d5-88dd-765eb1708094",
   "metadata": {},
   "outputs": [
    {
     "name": "stdout",
     "output_type": "stream",
     "text": [
      "60 \n"
     ]
    }
   ],
   "source": [
    "Q._print()"
   ]
  },
  {
   "cell_type": "code",
   "execution_count": 150,
   "id": "6a0aa788-13bb-4406-95e7-2cc827ff2c6d",
   "metadata": {},
   "outputs": [],
   "source": [
    "Q.Dequeue()"
   ]
  },
  {
   "cell_type": "code",
   "execution_count": null,
   "id": "a296aa1f-269f-4200-813c-df69d4caad45",
   "metadata": {},
   "outputs": [],
   "source": []
  },
  {
   "cell_type": "markdown",
   "id": "538d5b4b-757c-4243-a370-3af624e5e9cb",
   "metadata": {},
   "source": [
    "### Implementation"
   ]
  },
  {
   "cell_type": "code",
   "execution_count": 151,
   "id": "ced36ca7-6e05-44a0-a952-b003a879e72c",
   "metadata": {},
   "outputs": [],
   "source": [
    "class Node:\n",
    "    def __init__(self,data):\n",
    "        self.data=data\n",
    "        self.next=None\n",
    "        \n",
    "class Queue:\n",
    "    def __init__(self):\n",
    "        self.head=None\n",
    "        self.tail=None\n",
    "        \n",
    "    def enqueue(self,data):\n",
    "        new_node=Node(data)\n",
    "        if self.head is None:\n",
    "            self.head=new_node\n",
    "            self.tail=self.head\n",
    "            return new_node.data    \n",
    "        self.tail.next=new_node\n",
    "        self.tail=new_node\n",
    "        return new_node.data \n",
    "        \n",
    "    def dequeue(self):\n",
    "        if self.head is None: return \"Empty LL\"\n",
    "        a=self.head.data\n",
    "        self.head=self.head.next\n",
    "        return a\n",
    "        \n",
    "    def print(self):\n",
    "        if self.head is None: return \"Empty! LL\"\n",
    "        n=self.head\n",
    "        while n:\n",
    "            print(n.data, end=' ')\n",
    "            n=n.next\n",
    "            \n",
    "    def size(self):\n",
    "        if self.head is None: return 0\n",
    "        count=0\n",
    "        n=self.head\n",
    "        while n:\n",
    "            n=n.next\n",
    "            count+=1\n",
    "        return count\n",
    "        \n",
    "    def isEmpty(self):\n",
    "        if self.size()==0:\n",
    "            return True\n",
    "        else:\n",
    "            return False\n",
    "        \n",
    "Q=Queue()      "
   ]
  },
  {
   "cell_type": "code",
   "execution_count": 152,
   "id": "e6e28873-21cb-497a-b14d-13f630c83a0b",
   "metadata": {},
   "outputs": [
    {
     "data": {
      "text/plain": [
       "True"
      ]
     },
     "execution_count": 152,
     "metadata": {},
     "output_type": "execute_result"
    }
   ],
   "source": [
    "Q.isEmpty()"
   ]
  },
  {
   "cell_type": "code",
   "execution_count": 153,
   "id": "11575ddd-f66f-4403-84dc-1670e540bfa7",
   "metadata": {},
   "outputs": [
    {
     "data": {
      "text/plain": [
       "2"
      ]
     },
     "execution_count": 153,
     "metadata": {},
     "output_type": "execute_result"
    }
   ],
   "source": [
    "Q.enqueue(2)"
   ]
  },
  {
   "cell_type": "code",
   "execution_count": 154,
   "id": "452d96d3-9a96-45fc-9c71-7e9172f2970a",
   "metadata": {},
   "outputs": [
    {
     "name": "stdout",
     "output_type": "stream",
     "text": [
      "2 "
     ]
    }
   ],
   "source": [
    "Q.print()"
   ]
  },
  {
   "cell_type": "code",
   "execution_count": 155,
   "id": "c9ef46b5-01bc-420a-8c2a-85dfcfea1a31",
   "metadata": {},
   "outputs": [
    {
     "data": {
      "text/plain": [
       "2"
      ]
     },
     "execution_count": 155,
     "metadata": {},
     "output_type": "execute_result"
    }
   ],
   "source": [
    "Q.dequeue()"
   ]
  },
  {
   "cell_type": "code",
   "execution_count": 156,
   "id": "d81ce342-ab59-406b-a7a9-b125e3e47e85",
   "metadata": {},
   "outputs": [
    {
     "data": {
      "text/plain": [
       "2"
      ]
     },
     "execution_count": 156,
     "metadata": {},
     "output_type": "execute_result"
    }
   ],
   "source": [
    "u.size()"
   ]
  },
  {
   "cell_type": "code",
   "execution_count": 157,
   "id": "7c611add-d197-4ec8-bed2-de870e4cff65",
   "metadata": {},
   "outputs": [],
   "source": [
    "u.Enqueue(1)"
   ]
  },
  {
   "cell_type": "code",
   "execution_count": 173,
   "id": "235fa785-8dcc-45ce-9a98-023ffe53b9a4",
   "metadata": {},
   "outputs": [],
   "source": [
    "class Stack:\n",
    "    def __init__(self):\n",
    "        self.stack=deque()\n",
    "        \n",
    "    def print(self):\n",
    "        for i in self.stack:\n",
    "            print(i,end=' ')\n",
    "        \n",
    "    def push(self,data):\n",
    "        self.stack.append(data)\n",
    "        \n",
    "    def pop(self):\n",
    "        if len(self.stack)==0: return \"Empty! stack\"\n",
    "        self.stack.pop()\n",
    "        \n",
    "    def size(self):\n",
    "        return len(self.stack)\n",
    "s=Stack()"
   ]
  },
  {
   "cell_type": "code",
   "execution_count": 179,
   "id": "89dae525-7996-4e23-af42-56ac725928ac",
   "metadata": {},
   "outputs": [],
   "source": [
    "class Queue:\n",
    "    def __init__(self):\n",
    "        self.enqueue_stack = Stack()\n",
    "        self.dequeue_stack = Stack()\n",
    "\n",
    "    def enqueue(self, data):\n",
    "        while self.dequeue_stack.size() > 0:\n",
    "            self.enqueue_stack.push(self.dequeue_stack.pop())\n",
    "        self.enqueue_stack.push(data)\n",
    "\n",
    "    def dequeue(self):\n",
    "        while self.enqueue_stack.size() > 0:\n",
    "            self.dequeue_stack.push(self.enqueue_stack.pop())\n",
    "        return self.dequeue_stack.pop()"
   ]
  },
  {
   "cell_type": "code",
   "execution_count": null,
   "id": "5342c33b-d155-4f0b-8e5b-27ca319de1a1",
   "metadata": {},
   "outputs": [],
   "source": [
    "q = QueueUsingStacks()\n",
    "q.enqueue(10)\n",
    "q.enqueue(20)\n",
    "q.enqueue(30)\n",
    "print(\"Queue elements:\")\n",
    "q.print()  # Output: 10 20 30\n",
    "print(\"\\nDequeuing elements:\")\n",
    "print(q.dequeue())  # Output: 10\n",
    "print(q.dequeue())  # Output: 20\n",
    "print(q.dequeue())  # Output: 30\n",
    "print(q.dequeue())  # Output: Empty! Stack"
   ]
  }
 ],
 "metadata": {
  "kernelspec": {
   "display_name": "Python 3 (ipykernel)",
   "language": "python",
   "name": "python3"
  },
  "language_info": {
   "codemirror_mode": {
    "name": "ipython",
    "version": 3
   },
   "file_extension": ".py",
   "mimetype": "text/x-python",
   "name": "python",
   "nbconvert_exporter": "python",
   "pygments_lexer": "ipython3",
   "version": "3.11.7"
  }
 },
 "nbformat": 4,
 "nbformat_minor": 5
}
