{
 "cells": [
  {
   "cell_type": "markdown",
   "id": "1db63a3a",
   "metadata": {},
   "source": [
    "# Priority Queue\n",
    "It is a special type of queue in which the elements are arranged based on the priority. It is a special type of queue data structure in which every element has a priority associated with it. Suppose some elements occur with the same priority, they will be arranged according to the FIFO principle. The representation of priority queue is shown in the below image -"
   ]
  },
  {
   "cell_type": "code",
   "execution_count": 4,
   "id": "990b3051",
   "metadata": {},
   "outputs": [
    {
     "data": {
      "text/html": [
       "<img src=\"https://static.javatpoint.com/ds/images/ds-types-of-queue5.png\"/>"
      ],
      "text/plain": [
       "<IPython.core.display.Image object>"
      ]
     },
     "execution_count": 4,
     "metadata": {},
     "output_type": "execute_result"
    }
   ],
   "source": [
    "from IPython.display import Image\n",
    "image_url = 'https://static.javatpoint.com/ds/images/ds-types-of-queue5.png'\n",
    "\n",
    "Image(url=image_url)\n"
   ]
  },
  {
   "cell_type": "markdown",
   "id": "a12bfff3",
   "metadata": {},
   "source": [
    "A priority queue is a special type of queue in which each element is associated with a priority and is served according to its priority. If elements with the same priority occur, they are served according to their order in the queue.\n",
    "\n"
   ]
  },
  {
   "cell_type": "markdown",
   "id": "5ad33f23",
   "metadata": {},
   "source": [
    "* Ascending priority queue - In ascending priority queue, elements can be inserted in arbitrary order, but only smallest can be deleted first. Suppose an array with elements 7, 5, and 3 in the same order, so, insertion can be done with the same sequence, but the order of deleting the elements is 3, 5, 7.\n"
   ]
  },
  {
   "cell_type": "markdown",
   "id": "3674f5c6",
   "metadata": {},
   "source": [
    "* Descending priority queue - In descending priority queue, elements can be inserted in arbitrary order, but only the largest element can be deleted first. Suppose an array with elements 7, 3, and 5 in the same order, so, insertion can be done with the same sequence, but the order of deleting the elements is 7, 5, 3"
   ]
  },
  {
   "cell_type": "markdown",
   "id": "669ae8f0",
   "metadata": {},
   "source": [
    "# using List"
   ]
  },
  {
   "cell_type": "code",
   "execution_count": 12,
   "id": "2b6873a8",
   "metadata": {},
   "outputs": [],
   "source": [
    "class PriorityQueue:\n",
    "    def __init__(self):\n",
    "        self.queue = []\n",
    "\n",
    "    def insert(self, item, priority):\n",
    "        self.queue.append((priority, item))\n",
    "        self.queue.sort(reverse=True) \n",
    "\n",
    "    def delete_max(self):\n",
    "        if not self.queue:\n",
    "            return None\n",
    "        return self.queue.pop(0)[1]\n",
    "\n",
    "    def peek_max(self):\n",
    "        if not self.queue:\n",
    "            return None\n",
    "        return self.queue[0][1]\n",
    "\n",
    "    def size(self):\n",
    "        return len(self.queue)\n",
    "\n",
    "    def is_empty(self):\n",
    "        return len(self.queue) == 0\n",
    "    \n",
    "    def print_(self):\n",
    "        print(self.queue)\n",
    "    \n",
    "pq = PriorityQueue()"
   ]
  },
  {
   "cell_type": "code",
   "execution_count": 14,
   "id": "0bcddebd",
   "metadata": {},
   "outputs": [],
   "source": [
    "pq.insert('Task 1', 3)\n",
    "pq.insert('Task 2', 1)\n",
    "pq.insert('Task 3', 2)\n"
   ]
  },
  {
   "cell_type": "code",
   "execution_count": 8,
   "id": "9dcf9a6a",
   "metadata": {},
   "outputs": [
    {
     "data": {
      "text/plain": [
       "'Task 1'"
      ]
     },
     "execution_count": 8,
     "metadata": {},
     "output_type": "execute_result"
    }
   ],
   "source": [
    "pq.peek_max()"
   ]
  },
  {
   "cell_type": "code",
   "execution_count": 9,
   "id": "b93a4423",
   "metadata": {},
   "outputs": [
    {
     "data": {
      "text/plain": [
       "'Task 1'"
      ]
     },
     "execution_count": 9,
     "metadata": {},
     "output_type": "execute_result"
    }
   ],
   "source": [
    "pq.delete_max()"
   ]
  },
  {
   "cell_type": "code",
   "execution_count": 10,
   "id": "c0596321",
   "metadata": {},
   "outputs": [
    {
     "data": {
      "text/plain": [
       "2"
      ]
     },
     "execution_count": 10,
     "metadata": {},
     "output_type": "execute_result"
    }
   ],
   "source": [
    "pq.size()"
   ]
  },
  {
   "cell_type": "code",
   "execution_count": 11,
   "id": "fce91979",
   "metadata": {},
   "outputs": [
    {
     "data": {
      "text/plain": [
       "False"
      ]
     },
     "execution_count": 11,
     "metadata": {},
     "output_type": "execute_result"
    }
   ],
   "source": [
    "pq.is_empty()"
   ]
  },
  {
   "cell_type": "code",
   "execution_count": 15,
   "id": "fd4448b2",
   "metadata": {},
   "outputs": [
    {
     "name": "stdout",
     "output_type": "stream",
     "text": [
      "[(3, 'Task 1'), (2, 'Task 3'), (1, 'Task 2')]\n"
     ]
    }
   ],
   "source": [
    "pq.print_()"
   ]
  },
  {
   "cell_type": "code",
   "execution_count": null,
   "id": "4a31a0bd",
   "metadata": {},
   "outputs": [],
   "source": []
  }
 ],
 "metadata": {
  "kernelspec": {
   "display_name": "Python 3 (ipykernel)",
   "language": "python",
   "name": "python3"
  },
  "language_info": {
   "codemirror_mode": {
    "name": "ipython",
    "version": 3
   },
   "file_extension": ".py",
   "mimetype": "text/x-python",
   "name": "python",
   "nbconvert_exporter": "python",
   "pygments_lexer": "ipython3",
   "version": "3.9.12"
  }
 },
 "nbformat": 4,
 "nbformat_minor": 5
}
