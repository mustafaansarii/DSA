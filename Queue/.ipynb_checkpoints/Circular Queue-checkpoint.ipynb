{
 "cells": [
  {
   "cell_type": "markdown",
   "id": "b06e1330",
   "metadata": {},
   "source": [
    "# Circular Queue Data Structure\n",
    "A circular queue is the extended version of a regular queue where the last element is connected to the first element. Thus forming a circle-like structure."
   ]
  },
  {
   "cell_type": "code",
   "execution_count": 2,
   "id": "47d12b99",
   "metadata": {},
   "outputs": [
    {
     "data": {
      "text/html": [
       "<img src=\"https://cdn.programiz.com/sites/tutorial2program/files/circular-increment.png\"/>"
      ],
      "text/plain": [
       "<IPython.core.display.Image object>"
      ]
     },
     "execution_count": 2,
     "metadata": {},
     "output_type": "execute_result"
    }
   ],
   "source": [
    "from IPython.display import Image\n",
    "image_url = 'https://cdn.programiz.com/sites/tutorial2program/files/circular-increment.png'\n",
    "\n",
    "Image(url=image_url)\n"
   ]
  },
  {
   "cell_type": "markdown",
   "id": "8df9e03a",
   "metadata": {},
   "source": [
    "The circular queue solves the major limitation of the normal queue. In a normal queue, after a bit of insertion and deletion, there will be non-usable empty space.\n",
    "\n"
   ]
  },
  {
   "cell_type": "code",
   "execution_count": 4,
   "id": "7182f4eb",
   "metadata": {},
   "outputs": [
    {
     "data": {
      "text/html": [
       "<img src=\"https://cdn.programiz.com/sites/tutorial2program/files/why-circular-queue.png\"/>"
      ],
      "text/plain": [
       "<IPython.core.display.Image object>"
      ]
     },
     "execution_count": 4,
     "metadata": {},
     "output_type": "execute_result"
    }
   ],
   "source": [
    "Image(url='https://cdn.programiz.com/sites/tutorial2program/files/why-circular-queue.png')"
   ]
  },
  {
   "cell_type": "markdown",
   "id": "d48d0132",
   "metadata": {},
   "source": [
    "# How Circular Queue Works\n",
    "Circular Queue works by the process of circular increment i.e. when we try to increment the pointer and we reach the end of the queue, we start from the beginning of the queue.\n",
    "\n",
    "Here, the circular increment is performed by modulo division with the queue size. That is,\n",
    "\n",
    "\n",
    "```\n",
    "if REAR + 1 == 5 (overflow!), REAR = (REAR + 1)%5 = 0 (start of queue) ```"
   ]
  },
  {
   "cell_type": "code",
   "execution_count": null,
   "id": "be8d5619",
   "metadata": {},
   "outputs": [],
   "source": []
  }
 ],
 "metadata": {
  "kernelspec": {
   "display_name": "Python 3 (ipykernel)",
   "language": "python",
   "name": "python3"
  },
  "language_info": {
   "codemirror_mode": {
    "name": "ipython",
    "version": 3
   },
   "file_extension": ".py",
   "mimetype": "text/x-python",
   "name": "python",
   "nbconvert_exporter": "python",
   "pygments_lexer": "ipython3",
   "version": "3.9.12"
  }
 },
 "nbformat": 4,
 "nbformat_minor": 5
}
