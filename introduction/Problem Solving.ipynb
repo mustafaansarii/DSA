{
 "cells": [
  {
   "cell_type": "markdown",
   "id": "83fffb7f-245d-468b-ad14-1f24c7aac2cb",
   "metadata": {},
   "source": [
    "### 1. Program to find the minimum (or maximum) element of an array"
   ]
  },
  {
   "cell_type": "code",
   "execution_count": 1,
   "id": "88744cc5-ace2-4dbd-8838-cad67e934e32",
   "metadata": {},
   "outputs": [],
   "source": [
    "from numpy import array"
   ]
  },
  {
   "cell_type": "code",
   "execution_count": 39,
   "id": "23c9ea14-1685-484d-a71b-bc46b6c159ef",
   "metadata": {},
   "outputs": [
    {
     "name": "stdout",
     "output_type": "stream",
     "text": [
      "The maximum value: 432\n",
      "The minimum value: 2\n",
      "Sorted Array: [  2  12  23  43  54 432]\n"
     ]
    }
   ],
   "source": [
    "def max_min(arr):\n",
    "    for i in range(1,len(arr)):\n",
    "        for j in range(len(arr)-i):\n",
    "            if arr[j] > arr[j+1]:\n",
    "                arr[j],arr[j+1]=arr[j+1],arr[j]\n",
    "                \n",
    "    print(f\"The maximum value: {arr[i]}\")\n",
    "    print(f\"The minimum value: {arr[j]}\")\n",
    "    \n",
    "A=array([12,23,43,54,432,2])\n",
    "max_min(A)\n",
    "print(f\"Sorted Array: {A}\")"
   ]
  },
  {
   "cell_type": "code",
   "execution_count": null,
   "id": "fff27790-e290-4c68-b84f-1a95809c0d64",
   "metadata": {},
   "outputs": [],
   "source": []
  },
  {
   "cell_type": "markdown",
   "id": "814ee387-4557-4d08-a992-9dfa7c6fe97d",
   "metadata": {},
   "source": [
    "### 2. Find minimum and maximum element in an array"
   ]
  },
  {
   "cell_type": "code",
   "execution_count": 43,
   "id": "844c8c30-408c-498a-95a1-ad0c8cc622e1",
   "metadata": {},
   "outputs": [
    {
     "data": {
      "text/plain": [
       "43"
      ]
     },
     "execution_count": 43,
     "metadata": {},
     "output_type": "execute_result"
    }
   ],
   "source": [
    "class Solution:\n",
    "    def thirdLargest(self,a, n):\n",
    "        for i in range(1,len(a)):\n",
    "            for j in range(len(a)-i):\n",
    "                if a[j] > a[j+1]:\n",
    "                    a[j],a[j+1]=a[j+1],a[j]\n",
    "        return a[-3]\n",
    "a=Solution()\n",
    "A=array([12,23,43,54,432,2])\n",
    "a.thirdLargest(A,6)"
   ]
  },
  {
   "cell_type": "code",
   "execution_count": null,
   "id": "f4494963-59be-4a1b-9deb-4c12ef5dbc3b",
   "metadata": {},
   "outputs": [],
   "source": []
  },
  {
   "cell_type": "code",
   "execution_count": 73,
   "id": "452f14b2-4cf0-42ce-86a1-67c61a2fcff2",
   "metadata": {},
   "outputs": [],
   "source": [
    "# https://www.geeksforgeeks.org/problems/queue-reversal/1\n",
    "\n",
    "from collections import deque\n",
    "\n",
    "class MyQueue:\n",
    "    def __init__(self):\n",
    "        self.items = deque()\n",
    "        \n",
    "    def _print(self):\n",
    "        return self.items\n",
    "        \n",
    "    def enqueue(self, data):\n",
    "        self.items.append(data)\n",
    "\n",
    "    def dequeue(self):\n",
    "        if self.is_empty():\n",
    "            print(\"Queue is empty\")\n",
    "        else:\n",
    "            print(self.items.popleft())\n",
    "        \n",
    "    def reverse(self):\n",
    "        self.items.reverse()\n",
    "        print(self.items)\n",
    "        \n",
    "    def is_empty(self):\n",
    "        return len(self.items) == 0\n"
   ]
  },
  {
   "cell_type": "code",
   "execution_count": 77,
   "id": "1652ef65-b683-4169-b081-2bdf7d64829e",
   "metadata": {},
   "outputs": [],
   "source": [
    "Q=MyQueue()"
   ]
  },
  {
   "cell_type": "code",
   "execution_count": 78,
   "id": "4ac197b4-b4a8-47c0-ba1f-92f94f0980db",
   "metadata": {},
   "outputs": [],
   "source": [
    "Q.enqueue(1)"
   ]
  },
  {
   "cell_type": "code",
   "execution_count": 79,
   "id": "cf098385-deb8-49eb-90b4-c896dc332573",
   "metadata": {},
   "outputs": [
    {
     "name": "stdout",
     "output_type": "stream",
     "text": [
      "deque([1])\n"
     ]
    }
   ],
   "source": [
    "print(Q._print())"
   ]
  },
  {
   "cell_type": "code",
   "execution_count": 80,
   "id": "1e245414-9d57-435b-9a95-b5a7d142a01c",
   "metadata": {},
   "outputs": [
    {
     "name": "stdout",
     "output_type": "stream",
     "text": [
      "deque([1])\n",
      "None\n"
     ]
    }
   ],
   "source": [
    "print(Q.reverse())"
   ]
  },
  {
   "cell_type": "code",
   "execution_count": 34,
   "id": "6ddc81ef-df36-4459-94f1-2efb6ea24e8f",
   "metadata": {},
   "outputs": [],
   "source": [
    "a=deque([12,3,2,1,1,1])"
   ]
  },
  {
   "cell_type": "code",
   "execution_count": 38,
   "id": "b3238f41-a3af-46b3-bf2f-8e0e091b3656",
   "metadata": {},
   "outputs": [],
   "source": [
    "s=list(a)"
   ]
  },
  {
   "cell_type": "code",
   "execution_count": 39,
   "id": "a60eac35-36df-468b-bcd9-4e48e4ed04c2",
   "metadata": {},
   "outputs": [
    {
     "data": {
      "text/plain": [
       "[12, 3, 2, 1, 1, 1]"
      ]
     },
     "execution_count": 39,
     "metadata": {},
     "output_type": "execute_result"
    }
   ],
   "source": [
    "s"
   ]
  },
  {
   "cell_type": "code",
   "execution_count": 40,
   "id": "0e6fcd2c-e139-49c8-a299-f98f71de9889",
   "metadata": {},
   "outputs": [
    {
     "data": {
      "text/plain": [
       "[1, 1, 1, 2, 3, 12]"
      ]
     },
     "execution_count": 40,
     "metadata": {},
     "output_type": "execute_result"
    }
   ],
   "source": [
    "s[::-1]"
   ]
  },
  {
   "cell_type": "code",
   "execution_count": 121,
   "id": "6735794b-55c2-4160-80ad-31eb7412b082",
   "metadata": {},
   "outputs": [],
   "source": [
    "class stack:\n",
    "    def __init__(self):\n",
    "        self.stack=deque()\n",
    "\n",
    "    def enqueue(self,x):\n",
    "        self.stack.append(x)\n",
    "\n",
    "    def _print(self):\n",
    "        for i in self.stack:\n",
    "            print(i, end= ' ')\n",
    "            \n",
    "    def dequeue(self):\n",
    "        self.stack.pop()\n",
    "\n",
    "    def middle_of_stack(self):\n",
    "        if len(self.stack)==0: return \"stack is empty!\"\n",
    "        a=(len(self.stack)//2)\n",
    "        return self.stack[a]"
   ]
  },
  {
   "cell_type": "code",
   "execution_count": 107,
   "id": "b3f888b7-5566-4f07-a7cf-4fd420591724",
   "metadata": {},
   "outputs": [],
   "source": [
    "s=stack()"
   ]
  },
  {
   "cell_type": "code",
   "execution_count": 118,
   "id": "a8799301-cda1-44ef-87b4-a5f88efb04f5",
   "metadata": {},
   "outputs": [],
   "source": [
    "s.enqueue(3)"
   ]
  },
  {
   "cell_type": "code",
   "execution_count": 119,
   "id": "c93b253a-afb3-47d9-8a28-2b9bc0afe844",
   "metadata": {},
   "outputs": [
    {
     "name": "stdout",
     "output_type": "stream",
     "text": [
      "7 7 8 5 3 "
     ]
    }
   ],
   "source": [
    "s._print()"
   ]
  },
  {
   "cell_type": "code",
   "execution_count": 98,
   "id": "42c679f3-5934-474d-b9a4-d5107603170e",
   "metadata": {},
   "outputs": [],
   "source": [
    "s.dequeue()"
   ]
  },
  {
   "cell_type": "code",
   "execution_count": 120,
   "id": "4635093f-7753-4dea-8366-c585da90bc44",
   "metadata": {},
   "outputs": [
    {
     "name": "stdout",
     "output_type": "stream",
     "text": [
      "8\n"
     ]
    }
   ],
   "source": [
    "print(s.middle_of_stack())"
   ]
  },
  {
   "cell_type": "code",
   "execution_count": 122,
   "id": "052e6634-0edc-4d10-9574-05ef58399882",
   "metadata": {},
   "outputs": [
    {
     "name": "stdout",
     "output_type": "stream",
     "text": [
      "Stack elements:\n",
      "1 2 3 4 5 Middle of the stack: 3\n",
      "Stack elements after dequeue:\n",
      "1 2 3 4 Middle of the stack after dequeue: 3\n"
     ]
    }
   ],
   "source": [
    "my_stack = stack()\n",
    "\n",
    "my_stack.enqueue(1)\n",
    "my_stack.enqueue(2)\n",
    "my_stack.enqueue(3)\n",
    "my_stack.enqueue(4)\n",
    "my_stack.enqueue(5)\n",
    "\n",
    "print(\"Stack elements:\")\n",
    "my_stack._print()\n",
    "\n",
    "print(\"Middle of the stack:\", my_stack.middle_of_stack())\n",
    "\n",
    "my_stack.dequeue()\n",
    "\n",
    "print(\"Stack elements after dequeue:\")\n",
    "my_stack._print()\n",
    "\n",
    "print(\"Middle of the stack after dequeue:\", my_stack.middle_of_stack())"
   ]
  },
  {
   "cell_type": "code",
   "execution_count": null,
   "id": "cbd43189-c337-483a-a050-cbb01751feea",
   "metadata": {},
   "outputs": [],
   "source": []
  }
 ],
 "metadata": {
  "kernelspec": {
   "display_name": "Python 3 (ipykernel)",
   "language": "python",
   "name": "python3"
  },
  "language_info": {
   "codemirror_mode": {
    "name": "ipython",
    "version": 3
   },
   "file_extension": ".py",
   "mimetype": "text/x-python",
   "name": "python",
   "nbconvert_exporter": "python",
   "pygments_lexer": "ipython3",
   "version": "3.11.7"
  }
 },
 "nbformat": 4,
 "nbformat_minor": 5
}
