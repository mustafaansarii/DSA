{
 "cells": [
  {
   "cell_type": "markdown",
   "id": "db9222b5-b05f-4869-99d2-c9b6de027484",
   "metadata": {},
   "source": [
    "# Searching Algoritms"
   ]
  },
  {
   "cell_type": "markdown",
   "id": "b481da95-3fce-4093-9b9f-5f65f8b136a5",
   "metadata": {},
   "source": [
    "**- The time complexity of each algorithm:**\n",
    "\n",
    "| Algorithm                   | Time Complexity (Average) | Time Complexity (Worst Case) | Space Complexity |\n",
    "|-----------------------------|---------------------------|------------------------------|------------------|\n",
    "| Linear Search               | O(n)                      | O(n)                         | O(1)             |\n",
    "| Sentinel Linear Search      | O(n)                      | O(n)                         | O(1)             |\n",
    "| Binary Search               | O(log n)                  | O(log n)                     | O(1)             |\n",
    "| Meta Binary Search          | O(log n)                  | O(log n)                     | O(1)             |\n",
    "| Ternary Search              | O(log3 n)                 | O(log3 n)                    | O(1)             |\n",
    "| Jump Search                 | O(√n)                     | O(√n)                        | O(1)             |\n",
    "| Interpolation Search        | O(log log n)              | O(n)                         | O(1)             |\n",
    "| Exponential Search          | O(log i)                  | O(log i)                     | O(1)             |\n",
    "| Fibonacci Search            | O(log n)                  | O(log n)                     | O(1)             |\n",
    "| The Ubiquitous Binary Search| O(log n)                  | O(log n)                     | O(1)             |\n",
    "\n",
    "Note: \n",
    "- \"n\" represents the size of the input array.\n",
    "- In some cases, the worst-case time complexity might occur when the target element is not present in the array."
   ]
  },
  {
   "cell_type": "markdown",
   "id": "6b40bc23-b9ba-47f3-99a6-6efacc9a26be",
   "metadata": {},
   "source": [
    "### 1. Linear Search Algorithm – Data Structure and Algorithms\n",
    "Linear Search is defined as a sequential search algorithm that starts at one end and goes through each element of a list until the desired element is found, otherwise the search continues till the end of the data set.\n",
    "\n"
   ]
  },
  {
   "cell_type": "markdown",
   "id": "690ab017-a38a-4c0d-9099-9c348f5db93e",
   "metadata": {},
   "source": [
    "**What is Linear Search?**"
   ]
  },
  {
   "cell_type": "markdown",
   "id": "ad81627a-38b8-4efc-b37b-a32f61ff1ffc",
   "metadata": {},
   "source": [
    "Linear Search is a method for searching an element in a collection of elements. In Linear Search, each element of the collection is visited one by one in a sequential fashion to find the desired element. Linear Search is also known as Sequential Search.\n",
    "\n",
    "**Algorithm for Linear Search:** <br>\n",
    "The algorithm for linear search can be broken down into the following steps:\n",
    "\n",
    "**Start:** Begin at the first element of the collection of elements. <br>\n",
    "**Compare:** Compare the current element with the desired element.<br>\n",
    "**Found:** If the current element is equal to the desired element, return true or index to the current element.<br>\n",
    "**Move:** Otherwise, move to the next element in the collection.<br>\n",
    "**Repeat:** Repeat steps 2-4 until we have reached the end of collection.<br>\n",
    "**Not found:** If the end of the collection is reached without finding the desired element, return that the desired element is not in the array.<br>"
   ]
  },
  {
   "cell_type": "code",
   "execution_count": 28,
   "id": "559ddf4f-8b02-4b4d-b717-28ddcef066ee",
   "metadata": {},
   "outputs": [
    {
     "data": {
      "text/html": [
       "<img src=\"https://media.geeksforgeeks.org/wp-content/cdn-uploads/Linear-Search.png\"/>"
      ],
      "text/plain": [
       "<IPython.core.display.Image object>"
      ]
     },
     "execution_count": 28,
     "metadata": {},
     "output_type": "execute_result"
    }
   ],
   "source": [
    "from IPython.display import Image\n",
    "Image(url=\"https://media.geeksforgeeks.org/wp-content/cdn-uploads/Linear-Search.png\")"
   ]
  },
  {
   "cell_type": "code",
   "execution_count": 29,
   "id": "c9197391-9905-4d6f-a752-ecc3075f8d3e",
   "metadata": {},
   "outputs": [],
   "source": [
    "def linear_search(arr,item):\n",
    "    for i in range(len(arr)):\n",
    "        if arr[i]==item:\n",
    "            return i\n",
    "    return \"not found\""
   ]
  },
  {
   "cell_type": "code",
   "execution_count": 30,
   "id": "a1f7dd91-6e27-4889-a7d4-610dfeb78d38",
   "metadata": {},
   "outputs": [
    {
     "data": {
      "text/plain": [
       "0"
      ]
     },
     "execution_count": 30,
     "metadata": {},
     "output_type": "execute_result"
    }
   ],
   "source": [
    "arr=[1,2,3,4,5,4,68,9,0,-1]\n",
    "linear_search(arr,1)"
   ]
  },
  {
   "cell_type": "markdown",
   "id": "f8175045-57da-4e14-bfd1-8d6fba66f7e6",
   "metadata": {},
   "source": [
    "### 2. Binary Search"
   ]
  },
  {
   "cell_type": "markdown",
   "id": "8486f9d4-48b3-43cd-b56f-a9e155266cf2",
   "metadata": {},
   "source": [
    "Binary Search is defined as a searching algorithm used in a sorted array by repeatedly dividing the search interval in half. The idea of binary search is to use the information that the array is sorted and reduce the time complexity to O(log N). "
   ]
  },
  {
   "cell_type": "code",
   "execution_count": 31,
   "id": "10b9dfbd-1bf7-46bf-975e-b069251efa84",
   "metadata": {},
   "outputs": [
    {
     "data": {
      "text/html": [
       "<img src=\"https://media.geeksforgeeks.org/wp-content/uploads/20220309171621/BinarySearch.png\"/>"
      ],
      "text/plain": [
       "<IPython.core.display.Image object>"
      ]
     },
     "execution_count": 31,
     "metadata": {},
     "output_type": "execute_result"
    }
   ],
   "source": [
    "Image(url=\"https://media.geeksforgeeks.org/wp-content/uploads/20220309171621/BinarySearch.png\")"
   ]
  },
  {
   "cell_type": "markdown",
   "id": "3a50acd3-24c3-43fb-9212-87202f729b47",
   "metadata": {},
   "source": [
    "#### **Conditions for when to apply Binary Search in a Data Structure:**\n",
    "To apply Binary Search algorithm: \n",
    "\n",
    "**- The data structure must be sorted.**<br>\n",
    "**- Access to any element of the data structure takes constant time.**\n"
   ]
  },
  {
   "cell_type": "code",
   "execution_count": 63,
   "id": "d0718589-4f77-49fc-8c39-9d9167510d93",
   "metadata": {},
   "outputs": [],
   "source": [
    "def Binary_search(arr, low, high, item):\n",
    "    if low <= high:\n",
    "        mid = (low + high) // 2\n",
    "        if arr[mid] == item:\n",
    "            return mid\n",
    "        elif arr[mid] > item:\n",
    "            return Binary_search(arr, low, mid - 1, item)\n",
    "        else:\n",
    "            return Binary_search(arr, mid + 1, high, item) \n",
    "    else:\n",
    "        return \"not found\""
   ]
  },
  {
   "cell_type": "code",
   "execution_count": 65,
   "id": "99db3e24-c947-4f4a-810a-d9922c8813e4",
   "metadata": {},
   "outputs": [
    {
     "data": {
      "text/plain": [
       "3"
      ]
     },
     "execution_count": 65,
     "metadata": {},
     "output_type": "execute_result"
    }
   ],
   "source": [
    "arr=[1,2,3,4,5,6,7,89,99,100]\n",
    "Binary_search(arr,0,len(arr)-1,4)"
   ]
  },
  {
   "cell_type": "code",
   "execution_count": 73,
   "id": "a688cfce-56de-4301-8de6-afd304c6b7cc",
   "metadata": {},
   "outputs": [],
   "source": [
    "class Solution:\n",
    "    def search(self, nums, target):\n",
    "\n",
    "        start, end = 0, len(nums) - 1\n",
    "\n",
    "        while start <= end:\n",
    "            mid = start + (end - start) // 2\n",
    "\n",
    "            if nums[mid] == target:\n",
    "                return mid\n",
    "            elif nums[mid] > target:\n",
    "                end = mid - 1\n",
    "            else:\n",
    "                start = mid + 1\n",
    "\n",
    "        return -1"
   ]
  },
  {
   "cell_type": "code",
   "execution_count": 74,
   "id": "0f8237f3-4a81-4fd6-95d1-5c7b173f2e0c",
   "metadata": {},
   "outputs": [],
   "source": [
    "arr=[1,2,3,4,5,6,7,8,9]"
   ]
  },
  {
   "cell_type": "code",
   "execution_count": 75,
   "id": "410a9cc5-ad55-41a1-842e-8bd7536c5b52",
   "metadata": {},
   "outputs": [
    {
     "name": "stdout",
     "output_type": "stream",
     "text": [
      "-1\n"
     ]
    }
   ],
   "source": [
    "print(Solution().search(arr,32))"
   ]
  },
  {
   "cell_type": "code",
   "execution_count": null,
   "id": "b113a3b3-51e5-4f8e-a2d7-11e70c3f5d91",
   "metadata": {},
   "outputs": [],
   "source": []
  }
 ],
 "metadata": {
  "kernelspec": {
   "display_name": "Python 3 (ipykernel)",
   "language": "python",
   "name": "python3"
  },
  "language_info": {
   "codemirror_mode": {
    "name": "ipython",
    "version": 3
   },
   "file_extension": ".py",
   "mimetype": "text/x-python",
   "name": "python",
   "nbconvert_exporter": "python",
   "pygments_lexer": "ipython3",
   "version": "3.11.7"
  }
 },
 "nbformat": 4,
 "nbformat_minor": 5
}
