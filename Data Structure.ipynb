{
 "cells": [
  {
   "cell_type": "markdown",
   "id": "476f8d15",
   "metadata": {},
   "source": [
    "# Types of Data Structures\n",
    "## Now that we know what data structures are and why they're important, let's dive into the different types. Data structures can be broadly categorized into:\n",
    "\n",
    "1. Primitive Data Structures: These are basic data structures that include Integers, Float, Character, and Boolean.\n",
    "\n",
    "2. Non-Primitive Data Structures: These are more complex data structures and are further classified into:\n",
    "\n",
    "* Linear Data Structures: In these data structures, data elements are arranged sequentially. Examples include arrays, linked lists, stacks, and queues.\n",
    "* Non-Linear Data Structures: Here, data elements aren't placed in a sequence. Examples are graphs and trees."
   ]
  },
  {
   "cell_type": "code",
   "execution_count": 1,
   "id": "7be943dc",
   "metadata": {},
   "outputs": [
    {
     "data": {
      "text/html": [
       "<img src=\"https://storage.googleapis.com/download/storage/v1/b/designgurus-prod.appspot.com/o/e1aca977880d4dce83f295c00?generation=1697606174169801&alt=media\"/>"
      ],
      "text/plain": [
       "<IPython.core.display.Image object>"
      ]
     },
     "execution_count": 1,
     "metadata": {},
     "output_type": "execute_result"
    }
   ],
   "source": [
    "from IPython.display import Image\n",
    "image_url = 'https://storage.googleapis.com/download/storage/v1/b/designgurus-prod.appspot.com/o/e1aca977880d4dce83f295c00?generation=1697606174169801&alt=media'\n",
    "\n",
    "Image(url=image_url)\n"
   ]
  },
  {
   "cell_type": "markdown",
   "id": "207bd8f9",
   "metadata": {},
   "source": [
    "## An Overview of Big-O"
   ]
  },
  {
   "cell_type": "markdown",
   "id": "f7304d0e",
   "metadata": {},
   "source": [
    "Big-O notation is a mathematical notation that is used to describe the performance or complexity of an algorithm, specifically how long an algorithm takes to run as the input size grows. Understanding Big-O notation is essential for software engineers, as it allows them to analyze and compare the efficiency of different algorithms and make informed decisions about which one to use in a given situation. In this guide, we will cover the basics of Big-O notation and how to use it to analyze the performance of algorithms.\n",
    "\n"
   ]
  },
  {
   "cell_type": "markdown",
   "id": "19bb12dd",
   "metadata": {},
   "source": [
    "## What is Big-O?\n"
   ]
  },
  {
   "cell_type": "markdown",
   "id": "addda3b6",
   "metadata": {},
   "source": [
    "Big-O notation is a way of expressing the time (or space) complexity of an algorithm. It provides a rough estimate of how long an algorithm takes to run (or how much memory it uses), based on the size of the input. For example, an algorithm with a time complexity of O(n)  means that the running time increases linearly with the size of the input."
   ]
  },
  {
   "cell_type": "markdown",
   "id": "b4522b9d",
   "metadata": {},
   "source": [
    "## What is time complexity?\n",
    "Time complexity is a measure of how long an algorithm takes to run, based on the size of the input. It is expressed using Big-O notation, which provides a rough estimate of the running time. An algorithm with a lower time complexity will generally be faster than an algorithm with a higher time complexity."
   ]
  },
  {
   "cell_type": "markdown",
   "id": "56862ffa",
   "metadata": {},
   "source": [
    "## What is space complexity?\n",
    "Space complexity is a measure of how much memory an algorithm requires, based on the size of the input. Like time complexity, it is expressed using Big-O notation. An algorithm with a lower space complexity will generally require less memory than an algorithm with a higher space complexity."
   ]
  },
  {
   "cell_type": "markdown",
   "id": "e4eeab76",
   "metadata": {},
   "source": [
    "## Examples of time complexity\n",
    "Here are some examples of how different time complexities are expressed using Big-O notation:\n",
    "Time complexity is a way to represent the amount of time an algorithm takes to run as a function of the length of its input. Here are some common examples of time complexities:\n",
    "\n",
    "1. **O(1) - Constant Time Complexity**: An algorithm that executes in the same time regardless of the size of the input data. For example, accessing a specific element in an array by index.\n",
    "\n",
    "2. **O(log n) - Logarithmic Time Complexity**: Algorithms that have logarithmic time complexity often halve the size of the input data at each step. Binary search is a classic example of this, where the search space is halved in each iteration.\n",
    "\n",
    "3. **O(n) - Linear Time Complexity**: Algorithms with linear time complexity have a runtime directly proportional to the size of the input data. An example is iterating through each element in an array to find a specific value.\n",
    "\n",
    "4. **O(n log n) - Linearithmic Time Complexity**: Algorithms that have a time complexity of n log n often involve algorithms like quicksort or mergesort, which divide the input data into smaller chunks and operate on each chunk independently.\n",
    "\n",
    "5. **O(n^2) - Quadratic Time Complexity**: Algorithms with quadratic time complexity have a runtime that is proportional to the square of the size of the input data. Examples include nested loops where each loop iterates over the entire input data.\n",
    "\n",
    "6. **O(2^n) - Exponential Time Complexity**: Algorithms with exponential time complexity grow very rapidly with input size. Examples include recursive algorithms that explore all possible combinations, such as the naive recursive solution to the traveling salesman problem.\n",
    "\n",
    "7. **O(n!) - Factorial Time Complexity**: Algorithms with factorial time complexity grow even faster than exponential ones. They typically involve generating all possible permutations or combinations of a set, such as the brute-force solution to the traveling salesman problem.\n",
    "\n",
    "These are just a few examples, and there are many other possible time complexities depending on the nature of the algorithm."
   ]
  },
  {
   "cell_type": "code",
   "execution_count": 2,
   "id": "7b021199",
   "metadata": {},
   "outputs": [
    {
     "data": {
      "text/html": [
       "<img src=\"https://adrianmejia.com/images/time-complexity-examples.png\"/>"
      ],
      "text/plain": [
       "<IPython.core.display.Image object>"
      ]
     },
     "execution_count": 2,
     "metadata": {},
     "output_type": "execute_result"
    }
   ],
   "source": [
    "image_url = 'https://adrianmejia.com/images/time-complexity-examples.png'\n",
    "Image(url=image_url)\n"
   ]
  },
  {
   "cell_type": "markdown",
   "id": "b55576df",
   "metadata": {},
   "source": [
    "\n"
   ]
  },
  {
   "cell_type": "markdown",
   "id": "f2d213d7",
   "metadata": {},
   "source": [
    "## Introduction to Arrays\n",
    "Array is one of the fundamental data structures and is used extensively in software development. Arrays provide a means of storing and organizing data in a systematic, computer-memory-efficient manner.\n",
    "\n",
    "Essentially, an array is a collection of elements, each identified by an array index. The array elements are stored in contiguous memory locations, meaning they are stored in a sequence."
   ]
  },
  {
   "cell_type": "code",
   "execution_count": 3,
   "id": "1f797436",
   "metadata": {},
   "outputs": [
    {
     "data": {
      "text/html": [
       "<img src=\"https://storage.googleapis.com/download/storage/v1/b/designgurus-prod.appspot.com/o/e2f14b97d584bf9636f8a4300?generation=1696468882455291&alt=media\"/>"
      ],
      "text/plain": [
       "<IPython.core.display.Image object>"
      ]
     },
     "execution_count": 3,
     "metadata": {},
     "output_type": "execute_result"
    }
   ],
   "source": [
    "\n",
    "Image(url='https://storage.googleapis.com/download/storage/v1/b/designgurus-prod.appspot.com/o/e2f14b97d584bf9636f8a4300?generation=1696468882455291&alt=media')\n"
   ]
  },
  {
   "cell_type": "markdown",
   "id": "975dd068",
   "metadata": {},
   "source": [
    "# Static-sized Arrays\n",
    "Definition: Static-sized arrays have a fixed size, determined at compile time. Once declared, the size of a static array cannot be changed.\n",
    "\n",
    "Characteristics:\n",
    "\n",
    "* Fixed Size: The number of elements the array can hold is defined when the array is created and cannot be altered.\n",
    "* Memory Allocation: Memory for the array is allocated on the stack (in most programming environments), making allocation and deallocation fast.\n",
    "* Performance: Accessing elements in a static array is fast because elements are stored contiguously in memory, enabling efficient indexing.\n"
   ]
  },
  {
   "cell_type": "code",
   "execution_count": 4,
   "id": "cbf60bc7",
   "metadata": {},
   "outputs": [],
   "source": [
    "from array import array \n",
    "a=array(\"i\",[1,2,3,4,5,6])\n"
   ]
  },
  {
   "cell_type": "code",
   "execution_count": 5,
   "id": "4abb3bcd",
   "metadata": {},
   "outputs": [
    {
     "data": {
      "text/plain": [
       "23"
      ]
     },
     "execution_count": 5,
     "metadata": {},
     "output_type": "execute_result"
    }
   ],
   "source": [
    "a=array('i', [] * 10);\n",
    "a.append(23);\n",
    "a.pop()\n"
   ]
  },
  {
   "cell_type": "code",
   "execution_count": 6,
   "id": "85fb6c39",
   "metadata": {},
   "outputs": [
    {
     "name": "stdout",
     "output_type": "stream",
     "text": [
      "[12 32  4  5  6  7  8]\n"
     ]
    },
    {
     "data": {
      "text/plain": [
       "numpy.ndarray"
      ]
     },
     "execution_count": 6,
     "metadata": {},
     "output_type": "execute_result"
    }
   ],
   "source": [
    "from numpy import array\n",
    "l=array([12,32,4,5,6,7,8])\n",
    "print(l)\n",
    "type(l)"
   ]
  },
  {
   "cell_type": "code",
   "execution_count": 7,
   "id": "0bb3fd64",
   "metadata": {},
   "outputs": [
    {
     "data": {
      "text/plain": [
       "numpy.ndarray"
      ]
     },
     "execution_count": 7,
     "metadata": {},
     "output_type": "execute_result"
    }
   ],
   "source": [
    "import numpy\n",
    "a=numpy.empty(10)\n",
    "type(a)"
   ]
  },
  {
   "cell_type": "markdown",
   "id": "46cbe684",
   "metadata": {},
   "source": [
    "# Dynamic-sized Arrays\n",
    "Definition: Dynamic-sized arrays can change size during runtime. They can grow or shrink as needed, offering more flexibility.\n",
    "\n",
    "Characteristics:\n",
    "\n",
    "* Resizable: The array can adjust its size at runtime to accommodate more (or fewer) elements than initially declared.\n",
    "* Memory Allocation: Memory for dynamic arrays is typically allocated on the heap, which allows them to have a flexible size but also means that memory management (allocation and deallocation) is more complex and slightly slower.\n",
    "* Efficiency Considerations: While dynamic arrays provide flexibility, resizing operations (like increasing the array's size) may require allocating new memory and copying existing elements to the new location, which can be costly in terms of performance."
   ]
  },
  {
   "cell_type": "code",
   "execution_count": 8,
   "id": "fe543953",
   "metadata": {},
   "outputs": [
    {
     "name": "stdout",
     "output_type": "stream",
     "text": [
      "[12 32  4  5  6  7  8]\n"
     ]
    },
    {
     "data": {
      "text/plain": [
       "numpy.ndarray"
      ]
     },
     "execution_count": 8,
     "metadata": {},
     "output_type": "execute_result"
    }
   ],
   "source": [
    "from numpy import array\n",
    "l=array([12,32,4,5,6,7,8])\n",
    "print(l)\n",
    "type(l)"
   ]
  },
  {
   "cell_type": "code",
   "execution_count": 9,
   "id": "b839bdff",
   "metadata": {},
   "outputs": [
    {
     "data": {
      "text/plain": [
       "array([[12,  2,  2,  3,  4],\n",
       "       [ 1,  2,  3,  4,  5]])"
      ]
     },
     "execution_count": 9,
     "metadata": {},
     "output_type": "execute_result"
    }
   ],
   "source": [
    "ma=array([[12,2,2,3,4],[1,2,3,4,5]])\n",
    "ma"
   ]
  },
  {
   "cell_type": "code",
   "execution_count": 10,
   "id": "9d2693fe",
   "metadata": {},
   "outputs": [
    {
     "data": {
      "text/plain": [
       "(2, 5)"
      ]
     },
     "execution_count": 10,
     "metadata": {},
     "output_type": "execute_result"
    }
   ],
   "source": [
    "ma.shape"
   ]
  },
  {
   "cell_type": "markdown",
   "id": "6be49d15",
   "metadata": {},
   "source": [
    "# Introduction to Stack\n"
   ]
  },
  {
   "cell_type": "code",
   "execution_count": 11,
   "id": "6435a079",
   "metadata": {},
   "outputs": [
    {
     "data": {
      "text/html": [
       "<img src=\"https://media.geeksforgeeks.org/wp-content/cdn-uploads/20230726165552/Stack-Data-Structure.png\"/>"
      ],
      "text/plain": [
       "<IPython.core.display.Image object>"
      ]
     },
     "execution_count": 11,
     "metadata": {},
     "output_type": "execute_result"
    }
   ],
   "source": [
    "Image(url='https://media.geeksforgeeks.org/wp-content/cdn-uploads/20230726165552/Stack-Data-Structure.png')"
   ]
  },
  {
   "cell_type": "code",
   "execution_count": 12,
   "id": "0aec3c65",
   "metadata": {},
   "outputs": [],
   "source": [
    "from collections import deque\n",
    "\n",
    "class A:\n",
    "    def __init__(self):\n",
    "        self.stack = deque()\n",
    "        \n",
    "    def append(self, item):\n",
    "        print(f\"element added: {item}\")\n",
    "        self.stack.append(item)\n",
    "        \n",
    "    def pop(self):\n",
    "        if not self.stack:\n",
    "            print(\"Stack is Empty!\")\n",
    "        else:\n",
    "            print(f\"element deleted {self.stack[-1]}\")\n",
    "            self.stack.pop()\n",
    "        \n",
    "    def _print(self):\n",
    "            print(self.stack)\n",
    "        \n",
    "stack = A()\n"
   ]
  },
  {
   "cell_type": "code",
   "execution_count": 13,
   "id": "713563c2",
   "metadata": {},
   "outputs": [
    {
     "name": "stdout",
     "output_type": "stream",
     "text": [
      "element added: 12\n",
      "element added: 2\n",
      "element added: 13\n",
      "element added: 22\n",
      "deque([12, 2, 13, 22])\n"
     ]
    }
   ],
   "source": [
    "stack.append(12)\n",
    "stack.append(2)\n",
    "stack.append(13)\n",
    "stack.append(22)\n",
    "stack._print()"
   ]
  },
  {
   "cell_type": "code",
   "execution_count": 14,
   "id": "c91fcc93",
   "metadata": {},
   "outputs": [
    {
     "name": "stdout",
     "output_type": "stream",
     "text": [
      "element deleted 22\n",
      "deque([12, 2, 13])\n"
     ]
    }
   ],
   "source": [
    "stack.pop()\n",
    "stack._print()"
   ]
  },
  {
   "cell_type": "code",
   "execution_count": 15,
   "id": "cfda2b17",
   "metadata": {},
   "outputs": [
    {
     "name": "stdout",
     "output_type": "stream",
     "text": [
      "element deleted 13\n"
     ]
    }
   ],
   "source": [
    "stack.pop()"
   ]
  },
  {
   "cell_type": "code",
   "execution_count": 16,
   "id": "6950bf00",
   "metadata": {},
   "outputs": [
    {
     "name": "stdout",
     "output_type": "stream",
     "text": [
      "element deleted 2\n"
     ]
    }
   ],
   "source": [
    "stack.pop()"
   ]
  },
  {
   "cell_type": "code",
   "execution_count": 17,
   "id": "9005d87e",
   "metadata": {},
   "outputs": [
    {
     "name": "stdout",
     "output_type": "stream",
     "text": [
      "element deleted 12\n"
     ]
    }
   ],
   "source": [
    "stack.pop()"
   ]
  },
  {
   "cell_type": "code",
   "execution_count": 18,
   "id": "55b25f1f",
   "metadata": {},
   "outputs": [
    {
     "name": "stdout",
     "output_type": "stream",
     "text": [
      "Stack is Empty!\n"
     ]
    }
   ],
   "source": [
    "stack.pop()"
   ]
  },
  {
   "cell_type": "code",
   "execution_count": 19,
   "id": "327c028a",
   "metadata": {},
   "outputs": [
    {
     "name": "stdout",
     "output_type": "stream",
     "text": [
      "deque([])\n"
     ]
    }
   ],
   "source": [
    "stack._print()"
   ]
  },
  {
   "cell_type": "code",
   "execution_count": 20,
   "id": "e22eac5f",
   "metadata": {},
   "outputs": [],
   "source": [
    "from queue import LifoQueue\n",
    "\n",
    "class B:\n",
    "    def __init__(self):\n",
    "        self.stack = LifoQueue()\n",
    "        \n",
    "    def _print(self):\n",
    "    \n",
    "        # Temporary stack to hold elements\n",
    "        temp_stack = LifoQueue()\n",
    "        while not self.stack.empty():\n",
    "            item = self.stack.get()\n",
    "            print(item)\n",
    "            temp_stack.put(item)\n",
    "        # Restore the elements back to the original stack\n",
    "        while not temp_stack.empty():\n",
    "            self.stack.put(temp_stack.get())\n",
    "        \n",
    "    def add(self, item):\n",
    "        print(f\"Element added {item}\")\n",
    "        self.stack.put(item)\n",
    "        \n",
    "    def pop(self):\n",
    "        if not self.stack.empty():\n",
    "            item = self.stack.get()\n",
    "            print(f\"Element popped {item}\")\n",
    "            return item\n",
    "        else:\n",
    "            print(\"Stack is empty\")\n",
    "Stack=B()"
   ]
  },
  {
   "cell_type": "code",
   "execution_count": 21,
   "id": "08e580f7",
   "metadata": {},
   "outputs": [],
   "source": [
    "Stack._print()"
   ]
  },
  {
   "cell_type": "code",
   "execution_count": null,
   "id": "a29016ad",
   "metadata": {},
   "outputs": [],
   "source": []
  },
  {
   "cell_type": "code",
   "execution_count": 22,
   "id": "43217da5",
   "metadata": {},
   "outputs": [
    {
     "name": "stdout",
     "output_type": "stream",
     "text": [
      "Element added 45\n"
     ]
    }
   ],
   "source": [
    "Stack.add(45)"
   ]
  },
  {
   "cell_type": "code",
   "execution_count": 23,
   "id": "0fd65dc8",
   "metadata": {},
   "outputs": [
    {
     "name": "stdout",
     "output_type": "stream",
     "text": [
      "Element added 25\n"
     ]
    }
   ],
   "source": [
    "Stack.add(25)"
   ]
  },
  {
   "cell_type": "code",
   "execution_count": 24,
   "id": "e83824e2",
   "metadata": {},
   "outputs": [
    {
     "name": "stdout",
     "output_type": "stream",
     "text": [
      "Element added 55\n"
     ]
    }
   ],
   "source": [
    "Stack.add(55)"
   ]
  },
  {
   "cell_type": "code",
   "execution_count": null,
   "id": "cd202576",
   "metadata": {},
   "outputs": [],
   "source": []
  },
  {
   "cell_type": "code",
   "execution_count": 25,
   "id": "761bd89d",
   "metadata": {},
   "outputs": [
    {
     "name": "stdout",
     "output_type": "stream",
     "text": [
      "55\n",
      "25\n",
      "45\n"
     ]
    }
   ],
   "source": [
    "Stack._print()"
   ]
  },
  {
   "cell_type": "code",
   "execution_count": 26,
   "id": "187ae93d",
   "metadata": {},
   "outputs": [
    {
     "name": "stdout",
     "output_type": "stream",
     "text": [
      "55\n",
      "25\n",
      "45\n",
      "Element popped 55\n"
     ]
    },
    {
     "data": {
      "text/plain": [
       "55"
      ]
     },
     "execution_count": 26,
     "metadata": {},
     "output_type": "execute_result"
    }
   ],
   "source": [
    "Stack._print()\n",
    "Stack.pop()"
   ]
  },
  {
   "cell_type": "markdown",
   "id": "a2aa8a21",
   "metadata": {},
   "source": [
    "# Introduction to Queue"
   ]
  },
  {
   "cell_type": "markdown",
   "id": "01e71b0e",
   "metadata": {},
   "source": [
    "### A queue is a fundamental data structure in computer science that follows the First-In-First-Out (FIFO) principle. Think of it like a line of people waiting for a service. The first person who joins the line is the first one to be served, and as people join the line, they join at the back and leave from the front once they're served."
   ]
  },
  {
   "cell_type": "code",
   "execution_count": 27,
   "id": "26a5c0fa",
   "metadata": {},
   "outputs": [
    {
     "data": {
      "text/html": [
       "<img src=\"https://static.javatpoint.com/ds/images/queue.png\"/>"
      ],
      "text/plain": [
       "<IPython.core.display.Image object>"
      ]
     },
     "execution_count": 27,
     "metadata": {},
     "output_type": "execute_result"
    }
   ],
   "source": [
    "Image(url='https://static.javatpoint.com/ds/images/queue.png')"
   ]
  },
  {
   "cell_type": "markdown",
   "id": "d9e25c93",
   "metadata": {},
   "source": [
    "# Applications of Queue\n",
    "* Queues are widely used as waiting lists for a single shared resource like printer, disk, CPU.\n",
    "* Queues are used in asynchronous transfer of data (where data is not being transferred at the same rate between two processes) for eg. pipes, file IO, sockets.\n",
    "* Queues are used as buffers in most of the applications like MP3 media player, CD player, etc.\n",
    "* Queue are used to maintain the play list in media players in order to add and remove the songs from the play-list.\n",
    "* Queues are used in operating systems for handling interrupts"
   ]
  },
  {
   "cell_type": "markdown",
   "id": "04c26042",
   "metadata": {},
   "source": [
    "Queue is the data structure that is similar to the queue in the real world. A queue is a data structure in which whatever comes first will go out first, and it follows the FIFO (First-In-First-Out) policy. Queue can also be defined as the list or collection in which the insertion is done from one end known as the rear end or the tail of the queue, whereas the deletion is done from another end known as the front end or the head of the queue."
   ]
  },
  {
   "cell_type": "code",
   "execution_count": 28,
   "id": "4cc49a22",
   "metadata": {},
   "outputs": [
    {
     "data": {
      "text/html": [
       "<img src=\"https://static.javatpoint.com/ds/images/ds-types-of-queue.png\"/>"
      ],
      "text/plain": [
       "<IPython.core.display.Image object>"
      ]
     },
     "execution_count": 28,
     "metadata": {},
     "output_type": "execute_result"
    }
   ],
   "source": [
    "Image(url='https://static.javatpoint.com/ds/images/ds-types-of-queue.png')"
   ]
  },
  {
   "cell_type": "markdown",
   "id": "c4c482b1",
   "metadata": {},
   "source": [
    "# Complexity\n",
    "| Data Structure | Time Complexity         | Space Complexity    |\n",
    "|----------------|-------------------------|---------------------|\n",
    "|                | Average     | Worst     | Worst   | \n",
    "| Access         | θ(n)        | θ(n)      | O(n)    |\n",
    "| Search         | θ(n)        | θ(n)      | O(n)    |\n",
    "| Insertion      | θ(1)        | θ(1)      | O(1)    |\n",
    "| Deletion       | θ(1)        | θ(1)      | O(1)    |\n"
   ]
  },
  {
   "cell_type": "markdown",
   "id": "6214df0f",
   "metadata": {},
   "source": [
    "# Types of Queue\n",
    "There are four different types of queue that are listed as follows -\n"
   ]
  },
  {
   "cell_type": "code",
   "execution_count": 29,
   "id": "5a7d1a94",
   "metadata": {},
   "outputs": [
    {
     "data": {
      "text/html": [
       "<img src=\"https://static.javatpoint.com/ds/images/ds-types-of-queue2.png\"/>"
      ],
      "text/plain": [
       "<IPython.core.display.Image object>"
      ]
     },
     "execution_count": 29,
     "metadata": {},
     "output_type": "execute_result"
    }
   ],
   "source": [
    "Image(url='https://static.javatpoint.com/ds/images/ds-types-of-queue2.png')"
   ]
  },
  {
   "cell_type": "markdown",
   "id": "2f02978b",
   "metadata": {},
   "source": [
    "* Simple Queue or Linear Queue\n",
    "* Circular Queue\n",
    "* Priority Queue\n",
    "* Double Ended Queue (or Deque)"
   ]
  },
  {
   "cell_type": "markdown",
   "id": "4549eac3",
   "metadata": {},
   "source": [
    "# Simple Queue or Linear Queue\n",
    "In Linear Queue, an insertion takes place from one end while the deletion occurs from another end. The end at which the insertion takes place is known as the rear end, and the end at which the deletion takes place is known as front end. It strictly follows the FIFO rule."
   ]
  },
  {
   "cell_type": "code",
   "execution_count": 30,
   "id": "f9641a9b",
   "metadata": {},
   "outputs": [
    {
     "data": {
      "text/html": [
       "<img src=\"https://static.javatpoint.com/ds/images/ds-types-of-queue3.png\"/>"
      ],
      "text/plain": [
       "<IPython.core.display.Image object>"
      ]
     },
     "execution_count": 30,
     "metadata": {},
     "output_type": "execute_result"
    }
   ],
   "source": [
    "Image(url='https://static.javatpoint.com/ds/images/ds-types-of-queue3.png')"
   ]
  },
  {
   "cell_type": "code",
   "execution_count": 31,
   "id": "2d35f956",
   "metadata": {},
   "outputs": [],
   "source": [
    "from collections import deque"
   ]
  },
  {
   "cell_type": "code",
   "execution_count": 32,
   "id": "2c8892ee",
   "metadata": {},
   "outputs": [],
   "source": [
    "class Q:\n",
    "    def __init__(self):\n",
    "        self.queue = deque()\n",
    "    \n",
    "    def enqueue(self, item):\n",
    "        print(f\"Element added: {item}\")\n",
    "        self.queue.appendleft(item)\n",
    "    \n",
    "    def dequeue(self):\n",
    "        if len(self.queue)==0:\n",
    "            print(\"empty queue!\")\n",
    "            \n",
    "        else:\n",
    "            print(f\"Element deleted: {self.queue[-1]}\")\n",
    "            self.queue.pop()\n",
    "            \n",
    "            \n",
    "    def _print(self):\n",
    "        print(self.queue)\n",
    "queue=Q()"
   ]
  },
  {
   "cell_type": "code",
   "execution_count": 33,
   "id": "cfefbd2c",
   "metadata": {},
   "outputs": [
    {
     "name": "stdout",
     "output_type": "stream",
     "text": [
      "Element added: 23\n"
     ]
    }
   ],
   "source": [
    "queue.enqueue(23)"
   ]
  },
  {
   "cell_type": "code",
   "execution_count": 34,
   "id": "99c4406f",
   "metadata": {},
   "outputs": [
    {
     "name": "stdout",
     "output_type": "stream",
     "text": [
      "Element deleted: 23\n"
     ]
    }
   ],
   "source": [
    "queue.dequeue()"
   ]
  },
  {
   "cell_type": "code",
   "execution_count": 35,
   "id": "f0f8c22d",
   "metadata": {},
   "outputs": [
    {
     "name": "stdout",
     "output_type": "stream",
     "text": [
      "deque([])\n"
     ]
    }
   ],
   "source": [
    "queue._print()"
   ]
  },
  {
   "cell_type": "code",
   "execution_count": 36,
   "id": "77019d4b",
   "metadata": {},
   "outputs": [
    {
     "name": "stdout",
     "output_type": "stream",
     "text": [
      "Element added: 23\n",
      "Element added: 33\n",
      "Element added: 13\n"
     ]
    }
   ],
   "source": [
    "queue.enqueue(23)\n",
    "queue.enqueue(33)\n",
    "queue.enqueue(13)"
   ]
  },
  {
   "cell_type": "markdown",
   "id": "aec99105",
   "metadata": {},
   "source": [
    "# Circular Queue"
   ]
  },
  {
   "cell_type": "markdown",
   "id": "d554ec46",
   "metadata": {},
   "source": [
    "In Circular Queue, all the nodes are represented as circular. It is similar to the linear Queue except that the last element of the queue is connected to the first element. It is also known as Ring Buffer, as all the ends are connected to another end. The representation of circular queue is shown in the below image -"
   ]
  },
  {
   "cell_type": "code",
   "execution_count": 37,
   "id": "d6ca4cd4",
   "metadata": {},
   "outputs": [
    {
     "data": {
      "text/html": [
       "<img src=\"https://static.javatpoint.com/ds/images/ds-types-of-queue4.png\"/>"
      ],
      "text/plain": [
       "<IPython.core.display.Image object>"
      ]
     },
     "execution_count": 37,
     "metadata": {},
     "output_type": "execute_result"
    }
   ],
   "source": [
    "Image(url='https://static.javatpoint.com/ds/images/ds-types-of-queue4.png')"
   ]
  },
  {
   "cell_type": "markdown",
   "id": "956bf674",
   "metadata": {},
   "source": [
    "The drawback that occurs in a linear queue is overcome by using the circular queue. If the empty space is available in a circular queue, the new element can be added in an empty space by simply incrementing the value of rear. The main advantage of using the circular queue is better memory utilization."
   ]
  },
  {
   "cell_type": "code",
   "execution_count": 38,
   "id": "864d1a01",
   "metadata": {},
   "outputs": [
    {
     "data": {
      "text/html": [
       "<img src=\"https://cdn.programiz.com/sites/tutorial2program/files/circular-queue-program.png\"/>"
      ],
      "text/plain": [
       "<IPython.core.display.Image object>"
      ]
     },
     "execution_count": 38,
     "metadata": {},
     "output_type": "execute_result"
    }
   ],
   "source": [
    "Image(url='https://cdn.programiz.com/sites/tutorial2program/files/circular-queue-program.png')"
   ]
  },
  {
   "cell_type": "code",
   "execution_count": 39,
   "id": "5c19925e",
   "metadata": {},
   "outputs": [],
   "source": [
    "from collections import deque"
   ]
  },
  {
   "cell_type": "code",
   "execution_count": 40,
   "id": "bc93df81",
   "metadata": {},
   "outputs": [],
   "source": [
    "class CircularQueue:\n",
    "    def __init__(self, size):\n",
    "        self.queue = deque()\n",
    "        self.size = size\n",
    "    \n",
    "    def enqueue(self, item):\n",
    "        if self.size==0:\n",
    "            print(\"Size of Queue is 0!\")\n",
    "        elif len(self.queue) == self.size:\n",
    "            print(\"Queue is full!\")\n",
    "            return False\n",
    "        else:\n",
    "            print(f\"Element added: {item}\")\n",
    "            self.queue.append(item)\n",
    "            return True\n",
    "    \n",
    "    def dequeue(self):\n",
    "        if not self.queue:\n",
    "            print(\"Queue is empty!\")\n",
    "            return None\n",
    "        else:\n",
    "            print(f\"Element deleted: {self.queue[0]}\")\n",
    "            return self.queue.popleft()\n",
    "        \n",
    "    def print_queue(self):\n",
    "        print(self.queue)\n",
    "    \n",
    "    def isempty(self):\n",
    "        if not self.queue:\n",
    "            print(\"Queue is empty!\")\n",
    "            return None\n",
    "        else:\n",
    "            print(f\"Queue Have Elements: {self.queue}\")\n",
    "            \n",
    "    def queueFull(self):\n",
    "        if self.size==0:\n",
    "            print(\"Size of Queue is 0!\")\n",
    "        elif self.size==len(self.queue):\n",
    "            print(\"Queue is full!\")\n",
    "        else:\n",
    "            print(f\"Queue is not full Available Elements: {self.queue}\")\n",
    "            \n",
    "        "
   ]
  },
  {
   "cell_type": "code",
   "execution_count": 41,
   "id": "7b33480f",
   "metadata": {},
   "outputs": [],
   "source": [
    "cq=CircularQueue(10)"
   ]
  },
  {
   "cell_type": "code",
   "execution_count": 42,
   "id": "8106ee9f",
   "metadata": {},
   "outputs": [
    {
     "name": "stdout",
     "output_type": "stream",
     "text": [
      "Element added: 34\n"
     ]
    },
    {
     "data": {
      "text/plain": [
       "True"
      ]
     },
     "execution_count": 42,
     "metadata": {},
     "output_type": "execute_result"
    }
   ],
   "source": [
    "cq.enqueue(34)"
   ]
  },
  {
   "cell_type": "code",
   "execution_count": 43,
   "id": "b4f254aa",
   "metadata": {},
   "outputs": [
    {
     "name": "stdout",
     "output_type": "stream",
     "text": [
      "Element added: 31\n"
     ]
    },
    {
     "data": {
      "text/plain": [
       "True"
      ]
     },
     "execution_count": 43,
     "metadata": {},
     "output_type": "execute_result"
    }
   ],
   "source": [
    "cq.enqueue(31)"
   ]
  },
  {
   "cell_type": "code",
   "execution_count": 44,
   "id": "30e6aa03",
   "metadata": {},
   "outputs": [
    {
     "name": "stdout",
     "output_type": "stream",
     "text": [
      "Element added: 32\n"
     ]
    },
    {
     "data": {
      "text/plain": [
       "True"
      ]
     },
     "execution_count": 44,
     "metadata": {},
     "output_type": "execute_result"
    }
   ],
   "source": [
    "cq.enqueue(32)"
   ]
  },
  {
   "cell_type": "code",
   "execution_count": 45,
   "id": "4a359df4",
   "metadata": {},
   "outputs": [
    {
     "name": "stdout",
     "output_type": "stream",
     "text": [
      "Element added: 35\n"
     ]
    },
    {
     "data": {
      "text/plain": [
       "True"
      ]
     },
     "execution_count": 45,
     "metadata": {},
     "output_type": "execute_result"
    }
   ],
   "source": [
    "cq.enqueue(35)"
   ]
  },
  {
   "cell_type": "code",
   "execution_count": 46,
   "id": "f615fadf",
   "metadata": {},
   "outputs": [
    {
     "name": "stdout",
     "output_type": "stream",
     "text": [
      "deque([34, 31, 32, 35])\n"
     ]
    }
   ],
   "source": [
    "cq.print_queue()"
   ]
  },
  {
   "cell_type": "code",
   "execution_count": 47,
   "id": "6e659fbb",
   "metadata": {},
   "outputs": [
    {
     "name": "stdout",
     "output_type": "stream",
     "text": [
      "Element deleted: 34\n"
     ]
    },
    {
     "data": {
      "text/plain": [
       "34"
      ]
     },
     "execution_count": 47,
     "metadata": {},
     "output_type": "execute_result"
    }
   ],
   "source": [
    "cq.dequeue()"
   ]
  },
  {
   "cell_type": "code",
   "execution_count": 48,
   "id": "82758544",
   "metadata": {},
   "outputs": [
    {
     "name": "stdout",
     "output_type": "stream",
     "text": [
      "Queue Have Elements: deque([31, 32, 35])\n"
     ]
    }
   ],
   "source": [
    "cq.isempty()\n"
   ]
  },
  {
   "cell_type": "code",
   "execution_count": 49,
   "id": "1e404b68",
   "metadata": {},
   "outputs": [
    {
     "name": "stdout",
     "output_type": "stream",
     "text": [
      "Queue is not full Available Elements: deque([31, 32, 35])\n"
     ]
    }
   ],
   "source": [
    "cq.queueFull()"
   ]
  },
  {
   "cell_type": "markdown",
   "id": "5328df25",
   "metadata": {},
   "source": [
    "# Priority Queue"
   ]
  },
  {
   "cell_type": "markdown",
   "id": "e13a1bc8",
   "metadata": {},
   "source": [
    "It is a special type of queue in which the elements are arranged based on the priority. It is a special type of queue data structure in which every element has a priority associated with it. Suppose some elements occur with the same priority, they will be arranged according to the FIFO principle. The representation of priority queue is shown in the below image"
   ]
  },
  {
   "cell_type": "code",
   "execution_count": 50,
   "id": "427697b1",
   "metadata": {},
   "outputs": [
    {
     "data": {
      "text/html": [
       "<img src=\"https://static.javatpoint.com/ds/images/ds-types-of-queue5.png\"/>"
      ],
      "text/plain": [
       "<IPython.core.display.Image object>"
      ]
     },
     "execution_count": 50,
     "metadata": {},
     "output_type": "execute_result"
    }
   ],
   "source": [
    "Image(url='https://static.javatpoint.com/ds/images/ds-types-of-queue5.png')"
   ]
  },
  {
   "cell_type": "markdown",
   "id": "32f51ede",
   "metadata": {},
   "source": [
    "# Difference between Priority Queue and Normal Queue\n",
    "In a queue, the first-in-first-out rule is implemented whereas, in a priority queue, the values are removed on the basis of priority. The element with the highest priority is removed first."
   ]
  },
  {
   "cell_type": "code",
   "execution_count": 51,
   "id": "f9b304c9",
   "metadata": {},
   "outputs": [],
   "source": [
    "from collections import deque"
   ]
  },
  {
   "cell_type": "code",
   "execution_count": 52,
   "id": "f7a89fde",
   "metadata": {},
   "outputs": [],
   "source": [
    "class PriorityQueue:\n",
    "    def __init__(self):\n",
    "        self.queue=deque()\n",
    "        \n",
    "    def Enqueue(self,item,priority):\n",
    "        index=0\n",
    "        while index<len(self.queue) and self.queue[index][1]<=priority:\n",
    "            index+=1\n",
    "        self.queue.insert(index,(item,priority))\n",
    "    def _print(self):\n",
    "        print(self.queue)\n",
    "        \n",
    "    def dequeue(self):\n",
    "        if not self.queue:\n",
    "            raise IndexError(\"Queue is Empty!\")\n",
    "        else:\n",
    "            print(f\"print Element deleted: {self.queue[0]}\")\n",
    "            return self.queue.popleft()\n",
    "        \n",
    "    def size(self):\n",
    "        return (f\"size: {len(self.queue)}\")\n",
    "    \n",
    "    def isempty(self):\n",
    "        if not self.queue:\n",
    "            print(\"Queue is empty!\")\n",
    "            return None\n",
    "        else:\n",
    "            print(f\"Queue Have Elements: {self.queue}\")\n",
    "            \n",
    "\n",
    "            \n",
    "        \n",
    "Pq=PriorityQueue()"
   ]
  },
  {
   "cell_type": "code",
   "execution_count": 53,
   "id": "fe1ce1d8",
   "metadata": {},
   "outputs": [
    {
     "name": "stdout",
     "output_type": "stream",
     "text": [
      "deque([])\n"
     ]
    }
   ],
   "source": [
    "Pq._print()"
   ]
  },
  {
   "cell_type": "code",
   "execution_count": 54,
   "id": "3d414e8e",
   "metadata": {},
   "outputs": [],
   "source": [
    "Pq.Enqueue(12,1)\n",
    "Pq.Enqueue(22,10)\n",
    "Pq.Enqueue(32,30)\n",
    "Pq.Enqueue(42,4)\n",
    "Pq.Enqueue(52,5)"
   ]
  },
  {
   "cell_type": "code",
   "execution_count": 55,
   "id": "09c8849a",
   "metadata": {},
   "outputs": [
    {
     "name": "stdout",
     "output_type": "stream",
     "text": [
      "deque([(12, 1), (42, 4), (52, 5), (22, 10), (32, 30)])\n"
     ]
    }
   ],
   "source": [
    "Pq._print()"
   ]
  },
  {
   "cell_type": "code",
   "execution_count": 56,
   "id": "04d80326",
   "metadata": {},
   "outputs": [
    {
     "name": "stdout",
     "output_type": "stream",
     "text": [
      "print Element deleted: (12, 1)\n"
     ]
    },
    {
     "data": {
      "text/plain": [
       "(12, 1)"
      ]
     },
     "execution_count": 56,
     "metadata": {},
     "output_type": "execute_result"
    }
   ],
   "source": [
    "Pq.dequeue()"
   ]
  },
  {
   "cell_type": "code",
   "execution_count": 57,
   "id": "a51fb366",
   "metadata": {},
   "outputs": [
    {
     "name": "stdout",
     "output_type": "stream",
     "text": [
      "deque([(42, 4), (52, 5), (22, 10), (32, 30)])\n"
     ]
    }
   ],
   "source": [
    "Pq._print()"
   ]
  },
  {
   "cell_type": "code",
   "execution_count": 58,
   "id": "4cb5af3d",
   "metadata": {},
   "outputs": [
    {
     "data": {
      "text/plain": [
       "'size: 4'"
      ]
     },
     "execution_count": 58,
     "metadata": {},
     "output_type": "execute_result"
    }
   ],
   "source": [
    "Pq.size()"
   ]
  },
  {
   "cell_type": "code",
   "execution_count": 59,
   "id": "c94ea1d6",
   "metadata": {},
   "outputs": [
    {
     "name": "stdout",
     "output_type": "stream",
     "text": [
      "Queue Have Elements: deque([(42, 4), (52, 5), (22, 10), (32, 30)])\n"
     ]
    }
   ],
   "source": [
    "Pq.isempty()"
   ]
  },
  {
   "cell_type": "markdown",
   "id": "dcf55569",
   "metadata": {},
   "source": [
    "# Deque (or double-ended queue)\n"
   ]
  },
  {
   "cell_type": "code",
   "execution_count": 60,
   "id": "982ecc77",
   "metadata": {},
   "outputs": [
    {
     "data": {
      "text/html": [
       "<img src=\"https://cdn.programiz.com/sites/tutorial2program/files/deque.png\"/>"
      ],
      "text/plain": [
       "<IPython.core.display.Image object>"
      ]
     },
     "execution_count": 60,
     "metadata": {},
     "output_type": "execute_result"
    }
   ],
   "source": [
    "Image(url='https://cdn.programiz.com/sites/tutorial2program/files/deque.png')"
   ]
  },
  {
   "cell_type": "markdown",
   "id": "e1f4bfde",
   "metadata": {},
   "source": [
    "# Operations performed on deque\n",
    "There are the following operations that can be applied on a deque -\n",
    "\n",
    "* Insertion at front\n",
    "* Insertion at rear\n",
    "* Deletion at front\n",
    "* Deletion at rear"
   ]
  },
  {
   "cell_type": "markdown",
   "id": "af72f8c3",
   "metadata": {},
   "source": [
    "# Applications of Deque Data Structure\n",
    "1. In undo operations on software.\n",
    "2. To store history in browsers.\n",
    "3. For implementing both stacks and queues."
   ]
  },
  {
   "cell_type": "code",
   "execution_count": 61,
   "id": "8002d887",
   "metadata": {},
   "outputs": [],
   "source": [
    "from collections import deque"
   ]
  },
  {
   "cell_type": "code",
   "execution_count": 62,
   "id": "bf50349b",
   "metadata": {},
   "outputs": [],
   "source": [
    "class Deque:\n",
    "    def __init__(self):\n",
    "        self.queue=deque()\n",
    "    \n",
    "    def Insertion_front(self,item1):\n",
    "        self.item1=item1\n",
    "        print(f\"Element added at front: {self.item1}\")\n",
    "        return self.queue.append(item1)\n",
    "    \n",
    "    def Insertion_rear(self,item2):\n",
    "        self.item2=item2\n",
    "        print(f\"Element Added at rear {self.item2}\")\n",
    "        return self.queue.appendleft(item2)\n",
    "    \n",
    "    def delete_front(self):\n",
    "        if not self.queue:\n",
    "            raise IndexError(\"Queue is Empty!\")\n",
    "        print(f\"Element deleted from front {self.queue[-1]}\")\n",
    "        return self.queue.pop()\n",
    "        \n",
    "    def delete_rear(self):\n",
    "        if not self.queue:\n",
    "            raise IndexError(\"Queue is Empty!\")\n",
    "        print(f\"Element deleted from rear {self.queue[0]}\")\n",
    "        return self.queue.popleft()\n",
    "    \n",
    "    def _print(self):\n",
    "        print(self.queue)\n",
    "        \n",
    "    def is_empty(self):\n",
    "        if len(self.queue)==0:\n",
    "            print(\"Queue is Empty!\")\n",
    "        else:\n",
    "            print(f\"Queue is Not empty Available Element: {self.queue}\")\n",
    "dequeue=Deque()"
   ]
  },
  {
   "cell_type": "code",
   "execution_count": 63,
   "id": "156cb8a7",
   "metadata": {},
   "outputs": [
    {
     "name": "stdout",
     "output_type": "stream",
     "text": [
      "Element Added at rear 12\n",
      "Element Added at rear 14\n",
      "Element Added at rear 15\n",
      "Element Added at rear 16\n",
      "Element Added at rear 17\n",
      "Element Added at rear 18\n"
     ]
    }
   ],
   "source": [
    "dequeue.Insertion_rear(12)\n",
    "dequeue.Insertion_rear(14)\n",
    "dequeue.Insertion_rear(15)\n",
    "dequeue.Insertion_rear(16)\n",
    "dequeue.Insertion_rear(17)\n",
    "dequeue.Insertion_rear(18)"
   ]
  },
  {
   "cell_type": "code",
   "execution_count": 64,
   "id": "0c53fd87",
   "metadata": {},
   "outputs": [
    {
     "name": "stdout",
     "output_type": "stream",
     "text": [
      "deque([18, 17, 16, 15, 14, 12])\n"
     ]
    }
   ],
   "source": [
    "dequeue._print()"
   ]
  },
  {
   "cell_type": "code",
   "execution_count": 65,
   "id": "0c825219",
   "metadata": {},
   "outputs": [
    {
     "name": "stdout",
     "output_type": "stream",
     "text": [
      "Element added at front: 2\n"
     ]
    }
   ],
   "source": [
    "dequeue.Insertion_front(2)"
   ]
  },
  {
   "cell_type": "code",
   "execution_count": 66,
   "id": "66e7b877",
   "metadata": {},
   "outputs": [
    {
     "name": "stdout",
     "output_type": "stream",
     "text": [
      "deque([18, 17, 16, 15, 14, 12, 2])\n"
     ]
    }
   ],
   "source": [
    "dequeue._print()"
   ]
  },
  {
   "cell_type": "code",
   "execution_count": 67,
   "id": "e2bf707b",
   "metadata": {},
   "outputs": [
    {
     "name": "stdout",
     "output_type": "stream",
     "text": [
      "Element deleted from rear 18\n"
     ]
    },
    {
     "data": {
      "text/plain": [
       "18"
      ]
     },
     "execution_count": 67,
     "metadata": {},
     "output_type": "execute_result"
    }
   ],
   "source": [
    "dequeue.delete_rear()\n"
   ]
  },
  {
   "cell_type": "code",
   "execution_count": 68,
   "id": "953c14eb",
   "metadata": {},
   "outputs": [
    {
     "name": "stdout",
     "output_type": "stream",
     "text": [
      "deque([17, 16, 15, 14, 12, 2])\n"
     ]
    }
   ],
   "source": [
    "dequeue._print()"
   ]
  },
  {
   "cell_type": "code",
   "execution_count": 69,
   "id": "723756e5",
   "metadata": {},
   "outputs": [
    {
     "name": "stdout",
     "output_type": "stream",
     "text": [
      "Element deleted from front 2\n"
     ]
    },
    {
     "data": {
      "text/plain": [
       "2"
      ]
     },
     "execution_count": 69,
     "metadata": {},
     "output_type": "execute_result"
    }
   ],
   "source": [
    "dequeue.delete_front()"
   ]
  },
  {
   "cell_type": "code",
   "execution_count": 70,
   "id": "02785c46",
   "metadata": {},
   "outputs": [
    {
     "name": "stdout",
     "output_type": "stream",
     "text": [
      "deque([17, 16, 15, 14, 12])\n"
     ]
    }
   ],
   "source": [
    "dequeue._print()"
   ]
  },
  {
   "cell_type": "code",
   "execution_count": 71,
   "id": "dcf5c59f",
   "metadata": {},
   "outputs": [
    {
     "name": "stdout",
     "output_type": "stream",
     "text": [
      "Queue is Not empty Available Element: deque([17, 16, 15, 14, 12])\n"
     ]
    }
   ],
   "source": [
    "dequeue.is_empty()"
   ]
  },
  {
   "cell_type": "markdown",
   "id": "739253c3",
   "metadata": {},
   "source": [
    "# Linked list Data Structure"
   ]
  },
  {
   "cell_type": "markdown",
   "id": "e625829e",
   "metadata": {},
   "source": [
    "Linked list is a linear data structure that includes a series of connected nodes. Linked list can be defined as the nodes that are randomly stored in the memory. A node in the linked list contains two parts, i.e., first is the data part and second is the address part. The last node of the list contains a pointer to the null. After array, linked list is the second most used data structure. In a linked list, every link contains a connection to another link."
   ]
  },
  {
   "cell_type": "markdown",
   "id": "96bbab3a",
   "metadata": {},
   "source": [
    "A linked list is a linear data structure that includes a series of connected nodes. Here, each node stores the data and the address of the next node. For example,\n",
    "\n"
   ]
  },
  {
   "cell_type": "code",
   "execution_count": 72,
   "id": "d9bea5aa",
   "metadata": {},
   "outputs": [
    {
     "data": {
      "text/html": [
       "<img src=\"https://static.javatpoint.com/ds/images/ds-linked-list.png\"/>"
      ],
      "text/plain": [
       "<IPython.core.display.Image object>"
      ]
     },
     "execution_count": 72,
     "metadata": {},
     "output_type": "execute_result"
    }
   ],
   "source": [
    "Image(url='https://static.javatpoint.com/ds/images/ds-linked-list.png')"
   ]
  },
  {
   "cell_type": "markdown",
   "id": "f61e08f8",
   "metadata": {},
   "source": [
    "# Why use linked list over array?\n",
    "Linked list is a data structure that overcomes the limitations of arrays. Let's first see some of the limitations of arrays -\n",
    "\n",
    "* The size of the array must be known in advance before using it in the program.\n",
    "* Increasing the size of the array is a time taking process. It is almost impossible to expand the size of the array at run time.\n",
    "* All the elements in the array need to be contiguously stored in the memory. Inserting an element in the array needs shifting of all its predecessors.\n",
    "\n",
    "# Linked list is useful because -\n",
    "\n",
    "* It allocates the memory dynamically. All the nodes of the linked list are non-contiguously stored in the memory and linked together with the help of pointers.\n",
    "* In linked list, size is no longer a problem since we do not need to define its size at the time of declaration. List grows as per the program's demand and limited to the available memory space.\n"
   ]
  },
  {
   "cell_type": "markdown",
   "id": "6c01c727",
   "metadata": {},
   "source": [
    "# Linked List Applications\n",
    "* Dynamic memory allocation\n",
    "* Implemented in stack and queue\n",
    "* In undo functionality of softwares\n",
    "* Hash tables, Graphs\n"
   ]
  },
  {
   "cell_type": "markdown",
   "id": "4e6c1d70",
   "metadata": {},
   "source": [
    "# Types of Linked list\n",
    "Linked list is classified into the following types -\n",
    "\n",
    "* Singly-linked list  - Singly linked list can be defined as the collection of an ordered set of elements. A node in the singly linked list consists of two parts: data part and link part. Data part of the node stores actual information that is to be represented by the node, while the link part of the node stores the address of its immediate successor.\n",
    "* Doubly linked list - Doubly linked list is a complex type of linked list in which a node contains a pointer to the previous as well as the next node in the sequence. Therefore, in a doubly-linked list, a node consists of three parts: node data, pointer to the next node in sequence (next pointer), and pointer to the previous node (previous pointer).\n",
    "* Circular singly linked list - In a circular singly linked list, the last node of the list contains a pointer to the first node of the list. We can have circular singly linked list as well as circular doubly linked list.\n",
    "* Circular doubly linked list - Circular doubly linked list is a more complex type of data structure in which a node contains pointers to its previous node as well as the next node. Circular doubly linked list doesn't contain NULL in any of the nodes. The last node of the list contains the address of the first node of the list. The first node of the list also contains the address of the last node in its previous pointer.\n"
   ]
  },
  {
   "cell_type": "markdown",
   "id": "49768a2a",
   "metadata": {},
   "source": [
    "# Advantages of Linked list\n",
    "The advantages of using the Linked list are given as follows -\n",
    "\n",
    "* Dynamic data structure - The size of the linked list may vary according to the requirements. Linked list does not have a fixed size.\n",
    "* Insertion and deletion - Unlike arrays, insertion, and deletion in linked list is easier. Array elements are stored in the consecutive location, whereas the elements in the linked list are stored at a random location. To insert or delete an element in an array, we have to shift the elements for creating the space. Whereas, in linked list, instead of shifting, we just have to update the address of the pointer of the node.\n",
    "* Memory efficient - The size of a linked list can grow or shrink according to the requirements, so memory consumption in linked list is efficient.\n",
    "Implementation - We can implement both stacks and queues using linked list."
   ]
  },
  {
   "cell_type": "markdown",
   "id": "825a84a7",
   "metadata": {},
   "source": [
    "# Disadvantages of Linked list\n",
    "The limitations of using the Linked list are given as follows -\n",
    "\n",
    "* Memory usage - In linked list, node occupies more memory than array. Each node of the linked list occupies two types of variables, i.e., one is a simple variable, and another one is the pointer variable.\n",
    "* Traversal - Traversal is not easy in the linked list. If we have to access an element in the linked list, we cannot access it randomly, while in case of array we can randomly access it by index. For example, if we want to access the 3rd node, then we need to traverse all the nodes before it. So, the time required to access a particular node is large.\n",
    "* Reverse traversing - Backtracking or reverse traversing is difficult in a linked list. In a doubly-linked list, it is easier but requires more memory to store the back pointer."
   ]
  },
  {
   "cell_type": "markdown",
   "id": "1f5a9343",
   "metadata": {},
   "source": [
    "# Operations performed on Linked list\n",
    "The basic operations that are supported by a list are mentioned as follows -\n",
    "\n",
    "* Insertion - This operation is performed to add an element into the list.\n",
    "* Deletion - It is performed to delete an operation from the list.\n",
    "* Display - It is performed to display the elements of the list.\n",
    "* Search - It is performed to search an element from the list using the given key.\n"
   ]
  },
  {
   "cell_type": "markdown",
   "id": "22d33d0e",
   "metadata": {},
   "source": [
    "# 1. Singly Linked list\n",
    "The singly linked list is a data structure that contains two parts, i.e., one is the data part, and the other one is the address part, which contains the address of the next or the successor node. The address part in a node is also known as a pointer."
   ]
  },
  {
   "cell_type": "code",
   "execution_count": 73,
   "id": "d648f8f6",
   "metadata": {},
   "outputs": [
    {
     "data": {
      "text/html": [
       "<img src=\"https://static.javatpoint.com/ds/images/ds-types-of-linked-list.png\"/>"
      ],
      "text/plain": [
       "<IPython.core.display.Image object>"
      ]
     },
     "execution_count": 73,
     "metadata": {},
     "output_type": "execute_result"
    }
   ],
   "source": [
    "Image(url='https://static.javatpoint.com/ds/images/ds-types-of-linked-list.png')"
   ]
  },
  {
   "cell_type": "code",
   "execution_count": 74,
   "id": "0bb440b7",
   "metadata": {},
   "outputs": [
    {
     "data": {
      "text/html": [
       "<img src=\"https://static.javatpoint.com/ds/images/linked-list.png\"/>"
      ],
      "text/plain": [
       "<IPython.core.display.Image object>"
      ]
     },
     "execution_count": 74,
     "metadata": {},
     "output_type": "execute_result"
    }
   ],
   "source": [
    "Image(url='https://static.javatpoint.com/ds/images/linked-list.png')"
   ]
  },
  {
   "cell_type": "code",
   "execution_count": 75,
   "id": "d6f8c658",
   "metadata": {},
   "outputs": [],
   "source": [
    "class Node:\n",
    "    def __init__(self, data):\n",
    "        self.data=data\n",
    "        self.ref= None\n",
    "        \n",
    "class LL:\n",
    "    def __init__(self):\n",
    "        self.head=None\n",
    "        \n",
    "    def display(self):\n",
    "        if self.head is None:\n",
    "            print(\"linked List is Empty!\")\n",
    "        else:\n",
    "            n=self.head\n",
    "            while n is not None:\n",
    "                print(n.data, \"-->\",end=' ')\n",
    "                n=n.ref\n",
    "                \n",
    "    def add_begin(self, data):\n",
    "        new_node=Node(data)\n",
    "        new_node.ref=self.head\n",
    "        self.head= new_node\n",
    "        \n",
    "    def add_end(self,data):\n",
    "        new_node=Node(data)\n",
    "        if self.head is None:\n",
    "            self.head= new_node\n",
    "        else:\n",
    "            n=self.head\n",
    "            while n.ref is not None:\n",
    "                n=n.ref\n",
    "            n.ref=new_node\n",
    "            \n",
    "    def insert_after_node(self,data,x):\n",
    "        n=self.head\n",
    "        while n is not None:\n",
    "            if x==n.data:\n",
    "                break\n",
    "            n = n.ref\n",
    "        if n is None:\n",
    "            print(\"node is not present in Linked List!\")\n",
    "        else:\n",
    "            new_node=Node(data)\n",
    "            new_node.ref=n.ref\n",
    "            n.ref=new_node\n",
    "            \n",
    "    def insert_before_node(self,data,x):\n",
    "        if self.head is None:\n",
    "            print(\"Linked is Empty!\")\n",
    "            return \n",
    "        elif self.head.data==x:\n",
    "            new_node=Node(data)\n",
    "            new_node.ref=self.head\n",
    "            self.head= new_node\n",
    "            return\n",
    "        \n",
    "        n=self.head\n",
    "        while n.ref is not None:\n",
    "            if n.ref.data==x:\n",
    "                break\n",
    "            n = n.ref\n",
    "        if n.ref is None:\n",
    "            print(\"Node is not present in Linked List\")\n",
    "        else:\n",
    "            new_node=Node(data)\n",
    "            new_node.ref=n.ref\n",
    "            n.ref=new_node\n",
    "            \n",
    "        \n"
   ]
  },
  {
   "cell_type": "code",
   "execution_count": 76,
   "id": "9ecf86f3",
   "metadata": {},
   "outputs": [],
   "source": [
    "ll=LL()"
   ]
  },
  {
   "cell_type": "code",
   "execution_count": 77,
   "id": "002b22b8",
   "metadata": {},
   "outputs": [
    {
     "name": "stdout",
     "output_type": "stream",
     "text": [
      "linked List is Empty!\n"
     ]
    }
   ],
   "source": [
    "ll.display()"
   ]
  },
  {
   "cell_type": "code",
   "execution_count": 78,
   "id": "1b04dbcd",
   "metadata": {},
   "outputs": [],
   "source": [
    "ll.add_begin(12)"
   ]
  },
  {
   "cell_type": "code",
   "execution_count": 79,
   "id": "bf8b3f70",
   "metadata": {},
   "outputs": [],
   "source": [
    "ll.add_begin(20)"
   ]
  },
  {
   "cell_type": "code",
   "execution_count": 80,
   "id": "84dc0a16",
   "metadata": {},
   "outputs": [
    {
     "name": "stdout",
     "output_type": "stream",
     "text": [
      "20 --> 12 --> "
     ]
    }
   ],
   "source": [
    "ll.display()"
   ]
  },
  {
   "cell_type": "code",
   "execution_count": 81,
   "id": "81f26e70",
   "metadata": {},
   "outputs": [],
   "source": [
    "ll.add_end(37)"
   ]
  },
  {
   "cell_type": "code",
   "execution_count": 82,
   "id": "58bc7def",
   "metadata": {},
   "outputs": [
    {
     "name": "stdout",
     "output_type": "stream",
     "text": [
      "20 --> 12 --> 37 --> "
     ]
    }
   ],
   "source": [
    "ll.display()\n"
   ]
  },
  {
   "cell_type": "code",
   "execution_count": 83,
   "id": "2ade85cc",
   "metadata": {},
   "outputs": [],
   "source": [
    "ll.insert_after_node(23,12)"
   ]
  },
  {
   "cell_type": "code",
   "execution_count": 84,
   "id": "be971d24",
   "metadata": {},
   "outputs": [
    {
     "name": "stdout",
     "output_type": "stream",
     "text": [
      "node is not present in Linked List!\n"
     ]
    }
   ],
   "source": [
    "ll.insert_after_node(23,24)"
   ]
  },
  {
   "cell_type": "code",
   "execution_count": 85,
   "id": "aae82c54",
   "metadata": {},
   "outputs": [
    {
     "name": "stdout",
     "output_type": "stream",
     "text": [
      "20 --> 12 --> 23 --> 37 --> "
     ]
    }
   ],
   "source": [
    "ll.display()"
   ]
  },
  {
   "cell_type": "code",
   "execution_count": 86,
   "id": "18fc84df",
   "metadata": {},
   "outputs": [],
   "source": [
    "ll.insert_before_node(25,37)"
   ]
  },
  {
   "cell_type": "code",
   "execution_count": 87,
   "id": "b0a72d11",
   "metadata": {},
   "outputs": [
    {
     "name": "stdout",
     "output_type": "stream",
     "text": [
      "20 --> 12 --> 23 --> 25 --> 37 --> "
     ]
    }
   ],
   "source": [
    "ll.display()"
   ]
  },
  {
   "cell_type": "markdown",
   "id": "a2aa1f6c-4fb7-4d9c-afaf-638138f476c3",
   "metadata": {},
   "source": [
    "# 2. Doubly linked list"
   ]
  },
  {
   "cell_type": "markdown",
   "id": "c8919953-9be5-4479-ac11-83a840381fe8",
   "metadata": {},
   "source": [
    "Doubly linked list is a complex type of linked list in which a node contains a pointer to the previous as well as the next node in the sequence. Therefore, in a doubly linked list, a node consists of three parts: node data, pointer to the next node in sequence (next pointer) , pointer to the previous node (previous pointer). A sample node in a doubly linked list is shown in the figure."
   ]
  },
  {
   "cell_type": "code",
   "execution_count": 88,
   "id": "365ea5b1-2803-49f5-ace4-c81bd1ed8539",
   "metadata": {},
   "outputs": [
    {
     "data": {
      "text/html": [
       "<img src=\"https://www.programiz.com/sites/tutorial2program/files/doubly-linked-list-created.png\"/>"
      ],
      "text/plain": [
       "<IPython.core.display.Image object>"
      ]
     },
     "execution_count": 88,
     "metadata": {},
     "output_type": "execute_result"
    }
   ],
   "source": [
    "Image(url='https://www.programiz.com/sites/tutorial2program/files/doubly-linked-list-created.png')"
   ]
  },
  {
   "cell_type": "markdown",
   "id": "038e8c1a-d4bc-4da9-8194-bd5b315330a2",
   "metadata": {},
   "source": [
    "## Memory Representation of a doubly linked list"
   ]
  },
  {
   "cell_type": "code",
   "execution_count": 89,
   "id": "032c9479-7405-48bf-a22b-0453c8fb66b2",
   "metadata": {},
   "outputs": [
    {
     "data": {
      "text/html": [
       "<img src=\"https://static.javatpoint.com/ds/images/doubly-linked-list-memory-representation.png\"/>"
      ],
      "text/plain": [
       "<IPython.core.display.Image object>"
      ]
     },
     "execution_count": 89,
     "metadata": {},
     "output_type": "execute_result"
    }
   ],
   "source": [
    "Image(url='https://static.javatpoint.com/ds/images/doubly-linked-list-memory-representation.png')"
   ]
  },
  {
   "cell_type": "code",
   "execution_count": 90,
   "id": "4cc8cbbd-7e3c-49ac-9681-2f0fc3144a18",
   "metadata": {},
   "outputs": [],
   "source": [
    "class Node:\n",
    "    def __init__(self, data):\n",
    "        self.data = data\n",
    "        self.nref = None\n",
    "        self.pref = None\n",
    "\n",
    "class DoublyLL:\n",
    "    def __init__(self):\n",
    "        self.head = None\n",
    "\n",
    "    def print_LL(self):\n",
    "        if self.head is None:\n",
    "            print(\"Linked List is empty!\")\n",
    "        else:\n",
    "            n = self.head\n",
    "            while n is not None:\n",
    "                print(n.data, end=\" \")\n",
    "                if n.nref is not None:\n",
    "                    print(\"->\", end=\" \")\n",
    "                n = n.nref\n",
    "            print()\n",
    "            \n",
    "    def print_LL_reverse(self):\n",
    "        if self.head is None:\n",
    "            print(\"Linked List is empty!\")\n",
    "        else:\n",
    "            n = self.head\n",
    "            while n.nref is not None:\n",
    "                n = n.nref\n",
    "            while n is not None:\n",
    "                print(n.data, end=\" \")\n",
    "                if n.pref is not None:\n",
    "                    print(\"<-\", end=\" \")\n",
    "                n = n.pref\n",
    "            print()\n",
    "\n",
    "    def insert_empty(self, data):\n",
    "        if self.head is None:\n",
    "            new_node = Node(data)\n",
    "            self.head = new_node\n",
    "        else:\n",
    "            print(\"Linked List is not empty!\")\n",
    "\n",
    "    def add_begin(self, data):\n",
    "        new_node = Node(data)\n",
    "        if self.head is None:\n",
    "            self.head = new_node\n",
    "        else:\n",
    "            new_node.nref = self.head\n",
    "            self.head.pref = new_node\n",
    "            self.head = new_node\n",
    "\n",
    "    def add_end(self, data):\n",
    "        new_node = Node(data)\n",
    "        if self.head is None:\n",
    "            self.head = new_node\n",
    "        else:\n",
    "            n = self.head\n",
    "            while n.nref is not None:\n",
    "                n = n.nref\n",
    "            n.nref = new_node\n",
    "            new_node.pref = n\n",
    "\n",
    "    def add_after(self, data, x):\n",
    "        n = self.head\n",
    "        while n is not None:\n",
    "            if x == n.data:\n",
    "                break\n",
    "            n = n.nref\n",
    "        if n is None:\n",
    "            print(\"Given Node is not present in Linked List!\")\n",
    "        elif n.nref is None:\n",
    "            new_node = Node(data)\n",
    "            n.nref = new_node\n",
    "            new_node.pref = n\n",
    "        else:\n",
    "            new_node = Node(data)\n",
    "            n.nref.pref = new_node\n",
    "            new_node.nref = n.nref\n",
    "            n.nref = new_node\n",
    "            new_node.pref = n\n",
    "\n",
    "    def add_before(self, data, x):\n",
    "        if self.head is None:\n",
    "            print(\"Linked List is Empty!\")\n",
    "            return\n",
    "        if self.head.data == x:\n",
    "            new_node = Node(data)\n",
    "            self.head.pref = new_node\n",
    "            new_node.nref = self.head\n",
    "            self.head = new_node\n",
    "            return\n",
    "        n = self.head\n",
    "        while n.nref is not None:\n",
    "            if x == n.nref.data:\n",
    "                break\n",
    "            n = n.nref\n",
    "        if n.nref is None:\n",
    "            print(\"Given Node is not present in Linked List!\")\n",
    "        else:\n",
    "            new_node = Node(data)\n",
    "            new_node.pref = n\n",
    "            new_node.nref = n.nref\n",
    "            n.nref.pref = new_node\n",
    "            n.nref = new_node\n",
    "\n",
    "    def delete_begin(self):\n",
    "        if self.head is None:\n",
    "            print(\"DLL is empty can't delete!\")\n",
    "            return\n",
    "        if self.head.nref is None:\n",
    "            self.head = None\n",
    "            print(\"DLL is empty after deleting the node!\")\n",
    "        else:\n",
    "            self.head = self.head.nref\n",
    "            self.head.pref = None\n",
    "\n",
    "    def delete_end(self):\n",
    "        if self.head is None:\n",
    "            print(\"DLL is empty can't delete!\")\n",
    "            return\n",
    "        if self.head.nref is None:\n",
    "            self.head = None\n",
    "            print(\"DLL is empty after deleting the node!\")\n",
    "        else:\n",
    "            n = self.head\n",
    "            while n.nref is not None:\n",
    "                n = n.nref\n",
    "            n.pref.nref = None\n",
    "\n",
    "    def delete_by_value(self, x):\n",
    "        if self.head is None:\n",
    "            print(\"DLL is empty can't delete!\")\n",
    "            return\n",
    "        if self.head.nref is None:\n",
    "            if x == self.head.data:\n",
    "                self.head = None\n",
    "            else:\n",
    "                print(\"x is not present in DLL\")\n",
    "            return\n",
    "        if self.head.data == x:\n",
    "            self.head = self.head.nref\n",
    "            self.head.pref = None\n",
    "            return\n",
    "        n = self.head\n",
    "        while n.nref is not None:\n",
    "            if x == n.data:\n",
    "                break\n",
    "            n = n.nref\n",
    "        if n.nref is not None:\n",
    "            n.nref.pref = n.pref\n",
    "            n.pref.nref = n.nref\n",
    "        else:\n",
    "            if n.data == x:\n",
    "                n.pref.nref = None\n",
    "            else:\n",
    "                print(\"x is not present in DLL!\")\n",
    "\n",
    "dll = DoublyLL()\n"
   ]
  },
  {
   "cell_type": "code",
   "execution_count": 91,
   "id": "52bf32c7-9bbf-452a-9e94-145f5b315efa",
   "metadata": {},
   "outputs": [],
   "source": [
    "\n",
    "dll.add_begin(1)\n",
    "\n"
   ]
  },
  {
   "cell_type": "code",
   "execution_count": 92,
   "id": "58a947ba-3b3e-4ca5-997f-0aa6d844dc52",
   "metadata": {},
   "outputs": [],
   "source": [
    "dll.add_end(2)\n"
   ]
  },
  {
   "cell_type": "code",
   "execution_count": 93,
   "id": "ea4e2715-831b-4047-b751-51cf14c9c5cb",
   "metadata": {},
   "outputs": [],
   "source": [
    "dll.add_end(3)\n"
   ]
  },
  {
   "cell_type": "code",
   "execution_count": 94,
   "id": "5c863916-7668-47eb-9a59-18b26ce0691a",
   "metadata": {},
   "outputs": [
    {
     "name": "stdout",
     "output_type": "stream",
     "text": [
      "1 -> 2 -> 3 \n"
     ]
    }
   ],
   "source": [
    "dll.print_LL()"
   ]
  },
  {
   "cell_type": "code",
   "execution_count": 95,
   "id": "51982ceb-ee5f-4daa-856b-07860a3b8008",
   "metadata": {},
   "outputs": [],
   "source": [
    "\n",
    "dll.add_begin(1)\n"
   ]
  },
  {
   "cell_type": "code",
   "execution_count": 96,
   "id": "a43a7941-06c7-40c6-bbf4-adcada2eaf95",
   "metadata": {},
   "outputs": [],
   "source": [
    "dll.add_end(2)\n",
    "\n"
   ]
  },
  {
   "cell_type": "code",
   "execution_count": 97,
   "id": "47fde340-a07f-4b9d-ae53-828576627d60",
   "metadata": {},
   "outputs": [],
   "source": [
    "dll.add_end(3)\n"
   ]
  },
  {
   "cell_type": "code",
   "execution_count": 98,
   "id": "ed9b4d8a-9a4d-4ae1-b3d3-57d8dbf0d802",
   "metadata": {},
   "outputs": [
    {
     "name": "stdout",
     "output_type": "stream",
     "text": [
      "3 <- 2 <- 3 <- 2 <- 1 <- 1 \n"
     ]
    }
   ],
   "source": [
    "dll.print_LL_reverse()"
   ]
  },
  {
   "cell_type": "code",
   "execution_count": 99,
   "id": "4c6fdee3-2154-434b-8408-4780a6ac59b0",
   "metadata": {},
   "outputs": [
    {
     "name": "stdout",
     "output_type": "stream",
     "text": [
      "1 -> 1 -> 2 -> 3 -> 2 -> 3 \n"
     ]
    }
   ],
   "source": [
    "dll.print_LL()"
   ]
  },
  {
   "cell_type": "code",
   "execution_count": 100,
   "id": "7144cbce-1e48-4073-a253-1eb6b5953587",
   "metadata": {},
   "outputs": [],
   "source": [
    "\n",
    "dll.add_end(1)\n",
    "\n"
   ]
  },
  {
   "cell_type": "code",
   "execution_count": 101,
   "id": "876af5b4-312a-4b51-be7a-f8b097ffff9a",
   "metadata": {},
   "outputs": [],
   "source": [
    "dll.add_end(2)\n",
    "\n"
   ]
  },
  {
   "cell_type": "code",
   "execution_count": 102,
   "id": "1df5db74-9144-41a9-a878-03ae1b0ea52c",
   "metadata": {},
   "outputs": [],
   "source": [
    "dll.add_end(3)\n"
   ]
  },
  {
   "cell_type": "code",
   "execution_count": 103,
   "id": "48ec1e68-c309-4b0c-a393-f9c8f66c0522",
   "metadata": {},
   "outputs": [],
   "source": [
    "dll.delete_by_value(2)\n"
   ]
  },
  {
   "cell_type": "code",
   "execution_count": 104,
   "id": "e9cf561b-5264-4e81-b81a-f9ce3d32160b",
   "metadata": {},
   "outputs": [
    {
     "name": "stdout",
     "output_type": "stream",
     "text": [
      "1 -> 1 -> 3 -> 2 -> 3 -> 1 -> 2 -> 3 \n"
     ]
    }
   ],
   "source": [
    "dll.print_LL()"
   ]
  },
  {
   "cell_type": "code",
   "execution_count": 105,
   "id": "13afbe0b-7d15-43aa-bca8-e0fb070dd402",
   "metadata": {},
   "outputs": [],
   "source": [
    "\n",
    "dll.add_end(1)\n",
    "dll.add_end(2)\n",
    "\n"
   ]
  },
  {
   "cell_type": "code",
   "execution_count": 106,
   "id": "cbdf6432-8d84-4123-9bc4-a19c94c2558d",
   "metadata": {},
   "outputs": [],
   "source": [
    "dll.delete_begin()\n"
   ]
  },
  {
   "cell_type": "markdown",
   "id": "3e4f11f5-1dff-4f1b-b35e-c36fc020bff0",
   "metadata": {},
   "source": [
    "# 3. CircularLinked List"
   ]
  },
  {
   "cell_type": "markdown",
   "id": "f9bae8b0-d344-4d2b-a73c-4fab59a6ccbe",
   "metadata": {},
   "source": [
    "### A. Circular Singly Linked List"
   ]
  },
  {
   "cell_type": "markdown",
   "id": "8d242763-c927-45d5-a2a8-a9b503b0a4a7",
   "metadata": {},
   "source": [
    "In a circular Singly linked list, the last node of the list contains a pointer to the first node of the list. We can have circular singly linked list as well as circular doubly linked list.\n",
    "\n",
    "We traverse a circular singly linked list until we reach the same node where we started. The circular singly liked list has no beginning and no ending. There is no null value present in the next part of any of the nodes.\n",
    "\n",
    "The following image shows a circular singly linked list.\n",
    "\n"
   ]
  },
  {
   "cell_type": "code",
   "execution_count": 107,
   "id": "5c36b6d4-9523-40d7-a586-8f51f4a1a8f1",
   "metadata": {},
   "outputs": [
    {
     "data": {
      "text/html": [
       "<img src=\"https://static.javatpoint.com/ds/images/circular-singly-linked-list.png\"/>"
      ],
      "text/plain": [
       "<IPython.core.display.Image object>"
      ]
     },
     "execution_count": 107,
     "metadata": {},
     "output_type": "execute_result"
    }
   ],
   "source": [
    "Image(url='https://static.javatpoint.com/ds/images/circular-singly-linked-list.png')"
   ]
  },
  {
   "cell_type": "markdown",
   "id": "a20d77bd-aaec-4e53-8d75-976a68325033",
   "metadata": {},
   "source": [
    "## Memory Representation of circular linked list:"
   ]
  },
  {
   "cell_type": "code",
   "execution_count": 108,
   "id": "72581946-028a-418b-a77d-abd076da0bb0",
   "metadata": {},
   "outputs": [
    {
     "data": {
      "text/html": [
       "<img src=\"https://static.javatpoint.com/ds/images/memory-representation-circular-singly-linked-list.png\"/>"
      ],
      "text/plain": [
       "<IPython.core.display.Image object>"
      ]
     },
     "execution_count": 108,
     "metadata": {},
     "output_type": "execute_result"
    }
   ],
   "source": [
    "Image(url='https://static.javatpoint.com/ds/images/memory-representation-circular-singly-linked-list.png')"
   ]
  },
  {
   "cell_type": "code",
   "execution_count": 358,
   "id": "91b24fc4-9399-4679-807c-ef5650e46e56",
   "metadata": {},
   "outputs": [],
   "source": [
    "class Node:\n",
    "    def __init__(self, data):\n",
    "        self.data=data\n",
    "        self.ref= None\n",
    "        \n",
    "class CircularSinglyLL:\n",
    "    def __init__(self):\n",
    "        self.last=None\n",
    "\n",
    "    def is_empty(self):\n",
    "        if self.last is None:\n",
    "            print(\"Linked List is Empty!\")\n",
    "        else:\n",
    "            return False\n",
    "    \n",
    "    def insert_Begin(self,data):\n",
    "        new_node=Node(data)\n",
    "        if self.last is None:\n",
    "            new_node.ref=new_node\n",
    "            self.last=new_node\n",
    "        else:\n",
    "            new_node.ref=self.last.ref\n",
    "            self.last.ref=new_node\n",
    "            \n",
    "    def insert_end(self,data):\n",
    "        new_node=Node(data)\n",
    "        if self.last is None:\n",
    "            new_node.ref=new_node\n",
    "            self.last=new_node\n",
    "        else:\n",
    "            new_node.ref=self.last.ref\n",
    "            self.last.ref=new_node\n",
    "            self.last=new_node\n",
    "            \n",
    "    def insert_after(self, target_data, new_data):\n",
    "        if self.last is None:\n",
    "            print(\"Linked List is Empty!\")\n",
    "            return\n",
    "        else:\n",
    "            n = self.last.ref\n",
    "            while n is not None:\n",
    "                if n.data == target_data:\n",
    "                    new_node = Node(new_data)\n",
    "                    new_node.ref = n.ref\n",
    "                    n.ref = new_node\n",
    "                    if n == self.last:\n",
    "                        self.last = new_node\n",
    "                    return\n",
    "                n = n.ref\n",
    "                if n == self.last.ref:\n",
    "                    print(f\"Node with {target_data} not found!\")\n",
    "                    return\n",
    "                \n",
    "    def Print_LL(self):\n",
    "        if self.last is not None:\n",
    "            n=self.last.ref\n",
    "            while n != self.last:\n",
    "                print(n.data, end= ' ')\n",
    "                n = n.ref\n",
    "            print(n.data, end = ' ')\n",
    "            \n",
    "    def delete_begin(self):\n",
    "        if self.last is None:\n",
    "            print(\"Linked List is Empty!\")\n",
    "            return\n",
    "        else:\n",
    "            if self.last.ref==self.last:\n",
    "                self.last=None\n",
    "            else:\n",
    "                self.last.ref=self.last.ref.ref\n",
    "            \n",
    "    def delete_end(self):\n",
    "        if self.last is None:\n",
    "            print(\"Linked List is Empty!\")\n",
    "            return\n",
    "        else:\n",
    "            if self.last.ref==self.last:\n",
    "                self.last=None\n",
    "            else:\n",
    "                n=self.last.ref\n",
    "                while n.ref is not self.last:\n",
    "                    n=n.ref\n",
    "                n.ref=self.last.ref\n",
    "                self.last=n\n",
    "            \n",
    "    def delete_data(self,x):\n",
    "        if self.last is None:\n",
    "            print(\"Linked List is Empty!\")\n",
    "            return\n",
    "        else:\n",
    "            if self.last.ref==self.last:\n",
    "                if self.last.data==x:\n",
    "                    self.last=None\n",
    "            else:\n",
    "                if self.last.ref.data==x:\n",
    "                    self.delete_begin()\n",
    "                else:\n",
    "                    n=self.last.ref\n",
    "                    while n is not self.last:\n",
    "                        if n.ref==self.last:\n",
    "                            if self.last.data==x:\n",
    "                                self.delete_end()\n",
    "                            break\n",
    "                        if n.ref.data==x:\n",
    "                            n.ref=n.ref.ref\n",
    "                            break\n",
    "                        n=n.ref\n",
    "        \n",
    "CLL=CircularSinglyLL()"
   ]
  },
  {
   "cell_type": "code",
   "execution_count": 359,
   "id": "21ca16e1-9ae3-4caa-8222-477e255f2172",
   "metadata": {},
   "outputs": [],
   "source": [
    "CLL.Print_LL()"
   ]
  },
  {
   "cell_type": "code",
   "execution_count": 360,
   "id": "6287cc28-4683-4e68-b552-d91f6900a780",
   "metadata": {},
   "outputs": [
    {
     "name": "stdout",
     "output_type": "stream",
     "text": [
      "Linked List is Empty!\n"
     ]
    }
   ],
   "source": [
    "CLL.is_empty()"
   ]
  },
  {
   "cell_type": "code",
   "execution_count": 371,
   "id": "835eedeb-3252-46ca-8c7c-50022d192296",
   "metadata": {},
   "outputs": [],
   "source": [
    "CLL.insert_Begin(10)"
   ]
  },
  {
   "cell_type": "code",
   "execution_count": 372,
   "id": "65c32c2c-bdf0-4cc1-aea0-07ef762405f8",
   "metadata": {},
   "outputs": [],
   "source": [
    "CLL.insert_end(90)"
   ]
  },
  {
   "cell_type": "code",
   "execution_count": 383,
   "id": "8c61188c-647d-4fde-a7b2-332a778b5aec",
   "metadata": {},
   "outputs": [],
   "source": [
    "CLL.Print_LL()"
   ]
  },
  {
   "cell_type": "code",
   "execution_count": 364,
   "id": "4101e38e-a555-43b4-9832-45b5abdc9719",
   "metadata": {},
   "outputs": [
    {
     "name": "stdout",
     "output_type": "stream",
     "text": [
      "Node with 1011 not found!\n"
     ]
    }
   ],
   "source": [
    "CLL.insert_after(1011,22)"
   ]
  },
  {
   "cell_type": "code",
   "execution_count": 365,
   "id": "25b886a4-50b8-4b41-b6d3-7e1d5472e14b",
   "metadata": {},
   "outputs": [],
   "source": [
    "CLL.delete_begin()"
   ]
  },
  {
   "cell_type": "code",
   "execution_count": 366,
   "id": "31936ce7-b89b-4da1-9b86-f42fa3171653",
   "metadata": {},
   "outputs": [],
   "source": [
    "CLL.delete_end()"
   ]
  },
  {
   "cell_type": "code",
   "execution_count": 382,
   "id": "aab9e325-b471-402f-911e-0d8fd66f7a92",
   "metadata": {},
   "outputs": [],
   "source": [
    "CLL.delete_data(10)"
   ]
  },
  {
   "cell_type": "code",
   "execution_count": 385,
   "id": "62b23300-34f1-4ca6-9773-a763bb8366c7",
   "metadata": {},
   "outputs": [
    {
     "name": "stdout",
     "output_type": "stream",
     "text": [
      "Linked List is Empty!\n"
     ]
    }
   ],
   "source": [
    "CLL.delete_data(90)"
   ]
  },
  {
   "cell_type": "code",
   "execution_count": null,
   "id": "5aef107c-ec5d-480c-81c8-a766dc46e8a7",
   "metadata": {},
   "outputs": [],
   "source": []
  },
  {
   "cell_type": "code",
   "execution_count": null,
   "id": "60ded246-02bd-47a0-9d33-b3ed40d835cd",
   "metadata": {},
   "outputs": [],
   "source": []
  }
 ],
 "metadata": {
  "kernelspec": {
   "display_name": "Python 3 (ipykernel)",
   "language": "python",
   "name": "python3"
  },
  "language_info": {
   "codemirror_mode": {
    "name": "ipython",
    "version": 3
   },
   "file_extension": ".py",
   "mimetype": "text/x-python",
   "name": "python",
   "nbconvert_exporter": "python",
   "pygments_lexer": "ipython3",
   "version": "3.11.7"
  }
 },
 "nbformat": 4,
 "nbformat_minor": 5
}
