{
 "cells": [
  {
   "cell_type": "markdown",
   "id": "a3a30710-ed99-442c-a394-80265f1f43fa",
   "metadata": {},
   "source": [
    "**time complexities from best to worst, represented in Big O notation:**\n",
    "\\begin{array}{|c|l|}\n",
    "\\hline\n",
    "\\text{Complexity} & \\text{Description} \\\\\n",
    "\\hline\n",
    "O(1) & \\text{Constant time} \\\\\n",
    "O(\\log n) & \\text{Logarithmic time} \\\\\n",
    "O(n) & \\text{Linear time} \\\\\n",
    "O(n \\log n) & \\text{Log-linear time} \\\\\n",
    "O(n^2) & \\text{Quadratic time} \\\\\n",
    "O(n^c) & \\text{Polynomial time} \\quad (c > 2) \\\\\n",
    "O(2^n) & \\text{Exponential time} \\\\\n",
    "O(n!) & \\text{Factorial time} \\\\\n",
    "\\hline\n",
    "\\end{array}\n"
   ]
  },
  {
   "cell_type": "code",
   "execution_count": 19,
   "id": "4597efbc-d399-4096-80a9-2efcc14b8145",
   "metadata": {},
   "outputs": [],
   "source": [
    "class Node:\n",
    "    def __init__(self,data):\n",
    "        self.next=None\n",
    "        self.data=data\n",
    "        \n",
    "class Sll:\n",
    "    def __init__(self):\n",
    "        self.head=None\n",
    "        self.tail=None\n",
    "        \n",
    "    def push(self,data):\n",
    "        new_node=Node(data)\n",
    "        if self.head is None:\n",
    "            self.head=new_node\n",
    "            self.tail=new_node\n",
    "            return\n",
    "        self.tail.next=new_node\n",
    "        self.tail=new_node\n",
    "        \n",
    "    def print(self):\n",
    "        if self.head is not None:\n",
    "            n=self.head\n",
    "            while n:\n",
    "                print(n.data, end=' ')\n",
    "                n=n.next\n",
    "                \n",
    "    def reverse(self):\n",
    "        if self.head is not None:\n",
    "            prev=None\n",
    "            n=self.head\n",
    "            while n:\n",
    "                temp=n.next\n",
    "                n.next=prev\n",
    "                prev=n\n",
    "                n=temp\n",
    "            self.head=prev\n",
    "            \n",
    "        \n",
    "\n",
    "S=Sll()        "
   ]
  },
  {
   "cell_type": "code",
   "execution_count": 26,
   "id": "0147b4a1-0df5-41ce-a83a-799748411ec0",
   "metadata": {},
   "outputs": [
    {
     "name": "stdout",
     "output_type": "stream",
     "text": [
      "0 1 11 1 "
     ]
    }
   ],
   "source": [
    "S.print()"
   ]
  },
  {
   "cell_type": "code",
   "execution_count": 25,
   "id": "af5fe022-343c-4b14-9732-8cf9859eca73",
   "metadata": {},
   "outputs": [],
   "source": [
    "S.push(1)"
   ]
  },
  {
   "cell_type": "code",
   "execution_count": 27,
   "id": "e0555e36-a635-4678-9984-fb99789d1cc3",
   "metadata": {},
   "outputs": [],
   "source": [
    "S.reverse()"
   ]
  },
  {
   "cell_type": "code",
   "execution_count": 28,
   "id": "62cc553c-1ed7-49b0-9b1e-885bf910ab70",
   "metadata": {},
   "outputs": [
    {
     "name": "stdout",
     "output_type": "stream",
     "text": [
      "1 11 1 0 "
     ]
    }
   ],
   "source": [
    " S.print()"
   ]
  },
  {
   "cell_type": "markdown",
   "id": "d741639c-c362-4948-a298-13a9552c675e",
   "metadata": {},
   "source": [
    "## hash"
   ]
  },
  {
   "cell_type": "code",
   "execution_count": 130,
   "id": "fe3afed0-3978-408d-a3d2-5e63283ef00d",
   "metadata": {},
   "outputs": [],
   "source": [
    "class Dictionary:\n",
    "    def __init__(self, size):\n",
    "        self.size = size\n",
    "        self.slots = [None] * self.size\n",
    "        self.data = [None] * self.size\n",
    "\n",
    "    def put(self, key, value):\n",
    "        hash_value = self.hash_function(key)\n",
    "        if self.slots[hash_value] is None:\n",
    "            self.slots[hash_value] = key\n",
    "            self.data[hash_value] = value\n",
    "        else:\n",
    "            if self.slots[hash_value] == key:\n",
    "                self.data[hash_value] = value\n",
    "            else:\n",
    "                new_hash_value = self.rehash(hash_value)\n",
    "                while self.slots[new_hash_value] is not None and self.slots[new_hash_value] != key:\n",
    "                    new_hash_value = self.rehash(new_hash_value)\n",
    "                if self.slots[new_hash_value] is None:\n",
    "                    self.slots[new_hash_value] = key\n",
    "                    self.data[new_hash_value] = value\n",
    "                else:\n",
    "                    self.data[new_hash_value] = value\n",
    "                    \n",
    "    def __setitem__(self,key,value):\n",
    "        self.put(key,value)\n",
    "\n",
    "    def hash_function(self, key):\n",
    "        return abs(hash(key)) % self.size\n",
    "\n",
    "    def rehash(self, old_hash):\n",
    "        return (old_hash + 1) % self.size\n"
   ]
  },
  {
   "cell_type": "code",
   "execution_count": 131,
   "id": "d39aa1d3-ff08-4cd4-b015-58d8e3582e49",
   "metadata": {},
   "outputs": [],
   "source": [
    "D=Dictionary(3)"
   ]
  },
  {
   "cell_type": "code",
   "execution_count": 133,
   "id": "a8dea7a4-79c3-42cc-aa16-6554b031a41d",
   "metadata": {},
   "outputs": [
    {
     "data": {
      "text/plain": [
       "['python', None, None]"
      ]
     },
     "execution_count": 133,
     "metadata": {},
     "output_type": "execute_result"
    }
   ],
   "source": [
    "D.slots"
   ]
  },
  {
   "cell_type": "code",
   "execution_count": 134,
   "id": "d002a0d4-17c0-4286-82d5-308b2f1abd29",
   "metadata": {},
   "outputs": [
    {
     "data": {
      "text/plain": [
       "[55, None, None]"
      ]
     },
     "execution_count": 134,
     "metadata": {},
     "output_type": "execute_result"
    }
   ],
   "source": [
    "D.data"
   ]
  },
  {
   "cell_type": "code",
   "execution_count": 124,
   "id": "20e5215b-b511-403e-aa41-b59d1da3aedf",
   "metadata": {},
   "outputs": [],
   "source": [
    "D.put(\"python\",45)"
   ]
  },
  {
   "cell_type": "code",
   "execution_count": 125,
   "id": "72402a64-1d29-4ab4-91ad-f5beb01f97b3",
   "metadata": {},
   "outputs": [],
   "source": [
    "D.put(\"python\",55)"
   ]
  },
  {
   "cell_type": "code",
   "execution_count": 126,
   "id": "0dd8f052-193e-4fea-b687-dd8766500524",
   "metadata": {},
   "outputs": [],
   "source": [
    "D.put(\"p\",55)"
   ]
  },
  {
   "cell_type": "code",
   "execution_count": 132,
   "id": "6475bfdf-93e1-461a-a00d-11129d39d6d4",
   "metadata": {},
   "outputs": [],
   "source": [
    "D[\"python\"]=55"
   ]
  },
  {
   "cell_type": "code",
   "execution_count": 6,
   "id": "a002077d-d2bd-4304-af6b-63e27eb39e4b",
   "metadata": {},
   "outputs": [],
   "source": [
    "def duplicates(arr):\n",
    "    a=[]\n",
    "    for i in range(len(arr)):\n",
    "        for j in range(len(arr)):\n",
    "            if arr[i]==arr[j]:\n",
    "                if arr[i] not in a:\n",
    "                    a.append(arr[i])\n",
    "    return a"
   ]
  },
  {
   "cell_type": "code",
   "execution_count": 7,
   "id": "db875af0",
   "metadata": {},
   "outputs": [
    {
     "data": {
      "text/plain": [
       "[1, 2, 4, 23, 12, 3]"
      ]
     },
     "execution_count": 7,
     "metadata": {},
     "output_type": "execute_result"
    }
   ],
   "source": [
    "arr=[1,2,4,23,1,4,23,1,12,3,3]\n",
    "duplicates(arr)"
   ]
  },
  {
   "cell_type": "code",
   "execution_count": 8,
   "id": "3416c0fe",
   "metadata": {},
   "outputs": [],
   "source": [
    "def accurence(arr):\n",
    "    a=dict()\n",
    "    pass"
   ]
  },
  {
   "cell_type": "code",
   "execution_count": null,
   "id": "dbf92647",
   "metadata": {},
   "outputs": [],
   "source": [
    "arr=[1,2,4,23,1,4,23,1,12,3,3]\n",
    "accurence(arr)"
   ]
  },
  {
   "cell_type": "markdown",
   "id": "3daad504",
   "metadata": {},
   "source": [
    "### 1. Division modulo hash function"
   ]
  },
  {
   "cell_type": "code",
   "execution_count": 15,
   "id": "5cde3201",
   "metadata": {},
   "outputs": [],
   "source": [
    "def hash(key):\n",
    "    h=0\n",
    "    m=10\n",
    "    for char in key:\n",
    "        h+=ord(char)\n",
    "    return h%m"
   ]
  },
  {
   "cell_type": "code",
   "execution_count": 5,
   "id": "75699d83",
   "metadata": {},
   "outputs": [
    {
     "data": {
      "text/plain": [
       "'a'"
      ]
     },
     "execution_count": 5,
     "metadata": {},
     "output_type": "execute_result"
    }
   ],
   "source": [
    "chr(97)"
   ]
  },
  {
   "cell_type": "markdown",
   "id": "28b99a32",
   "metadata": {},
   "source": [
    "### 2. mid square method"
   ]
  },
  {
   "cell_type": "code",
   "execution_count": 7,
   "id": "89ae6b28",
   "metadata": {},
   "outputs": [],
   "source": [
    "import math\n",
    "def mid_square(key):\n",
    "    pass"
   ]
  },
  {
   "cell_type": "code",
   "execution_count": 9,
   "id": "6a5c774c",
   "metadata": {},
   "outputs": [
    {
     "data": {
      "text/plain": [
       "4169764"
      ]
     },
     "execution_count": 9,
     "metadata": {},
     "output_type": "execute_result"
    }
   ],
   "source": [
    "(2042)**2"
   ]
  },
  {
   "cell_type": "markdown",
   "id": "a8c9e81b",
   "metadata": {},
   "source": [
    "### 3. DIGIT FOLDING"
   ]
  },
  {
   "cell_type": "markdown",
   "id": "80aeb1fb",
   "metadata": {},
   "source": [
    "#### value=n\n",
    "##### seperate the value and add them\n",
    "##### (nnnn+nnnn+nnnn)"
   ]
  },
  {
   "cell_type": "code",
   "execution_count": 22,
   "id": "f41fdb1f",
   "metadata": {},
   "outputs": [],
   "source": [
    "class hashTable:\n",
    "    def __init__(self) -> None:\n",
    "        self.Max=10\n",
    "        self.arr=[None for i in range(self.Max)]\n",
    "\n",
    "    def hash_function(self,key):\n",
    "        n=0\n",
    "        m=10\n",
    "        for char in key:\n",
    "            n+=ord(char)\n",
    "        return n%m\n",
    "    \n",
    "    def addition(self,key,value):\n",
    "        h=self.hash_function(key)\n",
    "        self.arr[h]=value\n",
    "\n",
    "    def display(self):\n",
    "        return self.arr\n",
    "    \n",
    "    def get_item(self,key):\n",
    "        k=self.hash_function(key)\n",
    "        return self.arr[k]\n",
    "\n",
    "\n",
    "ht=hashTable()"
   ]
  },
  {
   "cell_type": "code",
   "execution_count": 26,
   "id": "ce19b765",
   "metadata": {},
   "outputs": [],
   "source": [
    "ht.addition(\"hi\",12)\n",
    "ht.addition(\"hi\",1)"
   ]
  },
  {
   "cell_type": "code",
   "execution_count": 27,
   "id": "83399536",
   "metadata": {},
   "outputs": [
    {
     "data": {
      "text/plain": [
       "[None, None, None, None, None, None, None, None, None, 1]"
      ]
     },
     "execution_count": 27,
     "metadata": {},
     "output_type": "execute_result"
    }
   ],
   "source": [
    "ht.display()"
   ]
  },
  {
   "cell_type": "code",
   "execution_count": 28,
   "id": "e39944be",
   "metadata": {},
   "outputs": [
    {
     "data": {
      "text/plain": [
       "1"
      ]
     },
     "execution_count": 28,
     "metadata": {},
     "output_type": "execute_result"
    }
   ],
   "source": [
    "ht.get_item(\"hi\")"
   ]
  },
  {
   "cell_type": "code",
   "execution_count": 33,
   "id": "3240585b",
   "metadata": {},
   "outputs": [],
   "source": [
    "class HashTable:\n",
    "    def __init__(self, size):\n",
    "        self.size = size\n",
    "        self.table = [[] for _ in range(size)]\n",
    "    \n",
    "    def hash_function(self, key):\n",
    "        return key % self.size\n",
    "    \n",
    "    def insert(self, key, value):\n",
    "        hash_key = self.hash_function(key)\n",
    "        key_exists = False\n",
    "        bucket = self.table[hash_key]\n",
    "        for i, kv in enumerate(bucket):\n",
    "            k, v = kv\n",
    "            if key == k:\n",
    "                key_exists = True\n",
    "                break\n",
    "        if key_exists:\n",
    "            bucket[i] = (key, value)\n",
    "        else:\n",
    "            bucket.append((key, value))\n",
    "    \n",
    "    def search(self, key):\n",
    "        hash_key = self.hash_function(key)\n",
    "        bucket = self.table[hash_key]\n",
    "        for k, v in bucket:\n",
    "            if key == k:\n",
    "                return v\n",
    "        return None\n",
    "    \n",
    "    def delete(self, key):\n",
    "        hash_key = self.hash_function(key)\n",
    "        bucket = self.table[hash_key]\n",
    "        for i, kv in enumerate(bucket):\n",
    "            k, v = kv\n",
    "            if key == k:\n",
    "                del bucket[i]\n",
    "                return True\n",
    "        return False\n",
    "\n",
    "# Example Usage\n",
    "ht = HashTable(10)\n"
   ]
  },
  {
   "cell_type": "code",
   "execution_count": 34,
   "id": "9a1a848b",
   "metadata": {},
   "outputs": [],
   "source": [
    "\n",
    "# Insert key-value pairs\n",
    "ht.insert(15, 'Value A')  # hash_key = 15 % 10 = 5\n",
    "ht.insert(25, 'Value B')  # hash_key = 25 % 10 = 5\n",
    "ht.insert(35, 'Value C')  # hash_key = 35 % 10 = 5\n",
    "ht.insert(44, 'Value D')  # hash_key = 44 % 10 = 4\n"
   ]
  },
  {
   "cell_type": "code",
   "execution_count": 35,
   "id": "4979fa7f",
   "metadata": {},
   "outputs": [
    {
     "name": "stdout",
     "output_type": "stream",
     "text": [
      "Value A\n",
      "Value B\n",
      "Value C\n",
      "Value D\n",
      "None\n"
     ]
    }
   ],
   "source": [
    "\n",
    "# Search for values\n",
    "print(ht.search(15))  # Output: Value A\n",
    "print(ht.search(25))  # Output: Value B\n",
    "print(ht.search(35))  # Output: Value C\n",
    "print(ht.search(44))  # Output: Value D\n",
    "print(ht.search(55))  # Output: None\n"
   ]
  },
  {
   "cell_type": "code",
   "execution_count": 36,
   "id": "f4564399",
   "metadata": {},
   "outputs": [
    {
     "name": "stdout",
     "output_type": "stream",
     "text": [
      "None\n"
     ]
    }
   ],
   "source": [
    "\n",
    "# Delete a key\n",
    "ht.delete(25)\n",
    "print(ht.search(25))  # Output: None\n"
   ]
  },
  {
   "cell_type": "code",
   "execution_count": 53,
   "id": "9431620f",
   "metadata": {},
   "outputs": [],
   "source": [
    "ht.insert(5, 'Value A')  # hash_key = 15 % 10 = 5\n",
    "ht.insert(5, 'Value b') "
   ]
  },
  {
   "cell_type": "code",
   "execution_count": 54,
   "id": "137d4fe1",
   "metadata": {},
   "outputs": [
    {
     "name": "stdout",
     "output_type": "stream",
     "text": [
      "Value b\n"
     ]
    }
   ],
   "source": [
    "print(ht.search(5))"
   ]
  },
  {
   "cell_type": "code",
   "execution_count": 56,
   "id": "db73f395",
   "metadata": {},
   "outputs": [],
   "source": [
    "ht.insert(5, 'Value A') "
   ]
  },
  {
   "cell_type": "markdown",
   "id": "4ab9f0a1",
   "metadata": {},
   "source": [
    "### creat hash table\n"
   ]
  },
  {
   "cell_type": "code",
   "execution_count": 102,
   "id": "c9d3581d",
   "metadata": {},
   "outputs": [],
   "source": [
    "class hash_table:\n",
    "    def __init__(self,size) -> None:\n",
    "        self.size=size;\n",
    "        self.table=[None for i in range(size)]\n",
    "\n",
    "    def hash_fun(self,key):\n",
    "        hash_value=0\n",
    "        for i in key:\n",
    "            hash_value=hash_value+ord(i)\n",
    "        return hash_value%self.size;\n",
    "    \n",
    "    def inseart(self,key,value):\n",
    "        inedx=self.hash_fun(key)\n",
    "        self.table[inedx]=value\n",
    "\n",
    "    def get_item(self,key):\n",
    "        index=self.hash_fun(key)\n",
    "        return self.table[index]\n",
    "    \n",
    "    def __getitem__(self, key):\n",
    "        hash=self.hash_fun(key)\n",
    "        return self.table[hash]\n",
    "    \n",
    "\n",
    "ht2=hash_table(10)"
   ]
  },
  {
   "cell_type": "code",
   "execution_count": 97,
   "id": "7acd14ac",
   "metadata": {},
   "outputs": [],
   "source": [
    "ht2.inseart(\"A\",1)"
   ]
  },
  {
   "cell_type": "code",
   "execution_count": 98,
   "id": "0cae2987",
   "metadata": {},
   "outputs": [
    {
     "data": {
      "text/plain": [
       "1"
      ]
     },
     "execution_count": 98,
     "metadata": {},
     "output_type": "execute_result"
    }
   ],
   "source": [
    "ht2[\"A\"]"
   ]
  },
  {
   "cell_type": "code",
   "execution_count": 134,
   "id": "58803c2c",
   "metadata": {},
   "outputs": [],
   "source": [
    "def max_occurrence(arr, n):\n",
    "    occurrences = {}\n",
    "    for i in range(n):\n",
    "        if arr[i] in occurrences:\n",
    "            occurrences[arr[i]] += 1\n",
    "        else:\n",
    "            occurrences[arr[i]] = 1\n",
    "    return occurrences"
   ]
  },
  {
   "cell_type": "code",
   "execution_count": 135,
   "id": "8ed42262",
   "metadata": {},
   "outputs": [
    {
     "data": {
      "text/plain": [
       "{1: 1, 2: 2, 3: 1, 4: 4, 12: 1, 5: 1, 7: 1, 8: 1, 9: 1}"
      ]
     },
     "execution_count": 135,
     "metadata": {},
     "output_type": "execute_result"
    }
   ],
   "source": [
    "arr=[1,2,3,4,4,12,5,2,7,8,9,4,4]\n",
    "max_occurrence(arr,len(arr))"
   ]
  },
  {
   "cell_type": "code",
   "execution_count": 149,
   "id": "d878bb5f",
   "metadata": {},
   "outputs": [
    {
     "name": "stdout",
     "output_type": "stream",
     "text": [
      "5\n"
     ]
    }
   ],
   "source": [
    "\n",
    "a={1: 1, 2: 2, 3: 1, 4: 5, 12: 1, 5: 6, 7: 1, 8: 1, 9: 1}\n",
    "max=a[arr[0]]\n",
    "j=0;\n",
    "for i in arr:\n",
    "    if a[i]>max:\n",
    "        max=a[i]\n",
    "        j=i\n",
    "\n",
    "print(j)"
   ]
  },
  {
   "cell_type": "markdown",
   "id": "320f023d",
   "metadata": {},
   "source": [
    "Certainly! Here is an example of how each of these dictionary methods can be used in Python:\n",
    "\n",
    "```python\n",
    "# Define a sample dictionary\n",
    "sample_dict = {'a': 1, 'b': 2, 'c': 3}\n",
    "\n",
    "# clear()\n",
    "# Removes all items from the dictionary\n",
    "sample_dict.clear()\n",
    "print(\"After clear:\", sample_dict)  # Output: After clear: {}\n",
    "\n",
    "# Reset sample_dict for further examples\n",
    "sample_dict = {'a': 1, 'b': 2, 'c': 3}\n",
    "\n",
    "# copy()\n",
    "# Returns a shallow copy of the dictionary\n",
    "copy_dict = sample_dict.copy()\n",
    "print(\"Copy of dictionary:\", copy_dict)  # Output: Copy of dictionary: {'a': 1, 'b': 2, 'c': 3}\n",
    "\n",
    "# fromkeys()\n",
    "# Creates a new dictionary with keys from a sequence and values set to a specified value\n",
    "keys = ('x', 'y', 'z')\n",
    "new_dict = dict.fromkeys(keys, 0)\n",
    "print(\"New dictionary from keys:\", new_dict)  # Output: New dictionary from keys: {'x': 0, 'y': 0, 'z': 0}\n",
    "\n",
    "# get()\n",
    "# Returns the value for a specified key if key is in dictionary\n",
    "value = sample_dict.get('b')\n",
    "print(\"Value for key 'b':\", value)  # Output: Value for key 'b': 2\n",
    "\n",
    "# items()\n",
    "# Returns a new view of the dictionary's items (key, value) pairs\n",
    "items = sample_dict.items()\n",
    "print(\"Items in dictionary:\", items)  # Output: Items in dictionary: dict_items([('a', 1), ('b', 2), ('c', 3)])\n",
    "\n",
    "# keys()\n",
    "# Returns a new view of the dictionary's keys\n",
    "keys_view = sample_dict.keys()\n",
    "print(\"Keys in dictionary:\", keys_view)  # Output: Keys in dictionary: dict_keys(['a', 'b', 'c'])\n",
    "\n",
    "# pop()\n",
    "# Removes the specified key and returns the corresponding value\n",
    "removed_value = sample_dict.pop('b')\n",
    "print(\"Value removed for key 'b':\", removed_value)  # Output: Value removed for key 'b': 2\n",
    "print(\"Dictionary after pop:\", sample_dict)  # Output: Dictionary after pop: {'a': 1, 'c': 3}\n",
    "\n",
    "# popitem()\n",
    "# Removes and returns an arbitrary (key, value) pair\n",
    "popped_item = sample_dict.popitem()\n",
    "print(\"Popped item:\", popped_item)  # Output: Popped item: ('c', 3)\n",
    "print(\"Dictionary after popitem:\", sample_dict)  # Output: Dictionary after popitem: {'a': 1}\n",
    "\n",
    "# Reset sample_dict for further examples\n",
    "sample_dict = {'a': 1, 'b': 2, 'c': 3}\n",
    "\n",
    "# setdefault()\n",
    "# Returns the value of a key if it is in the dictionary; if not, inserts the key with a specified value\n",
    "default_value = sample_dict.setdefault('d', 4)\n",
    "print(\"Value for key 'd' after setdefault:\", default_value)  # Output: Value for key 'd' after setdefault: 4\n",
    "print(\"Dictionary after setdefault:\", sample_dict)  # Output: Dictionary after setdefault: {'a': 1, 'b': 2, 'c': 3, 'd': 4}\n",
    "\n",
    "# update()\n",
    "# Updates the dictionary with elements from another dictionary or from an iterable of key-value pairs\n",
    "sample_dict.update({'e': 5, 'f': 6})\n",
    "print(\"Dictionary after update:\", sample_dict)  # Output: Dictionary after update: {'a': 1, 'b': 2, 'c': 3, 'd': 4, 'e': 5, 'f': 6}\n",
    "\n",
    "# values()\n",
    "# Returns a new view of the dictionary's values\n",
    "values_view = sample_dict.values()\n",
    "print(\"Values in dictionary:\", values_view)  # Output: Values in dictionary: dict_values([1, 2, 3, 4, 5, 6])\n",
    "```\n",
    "\n",
    "This code demonstrates the usage of each dictionary method, showing how they can be applied and the results they produce."
   ]
  },
  {
   "cell_type": "code",
   "execution_count": 325,
   "id": "eda189e5",
   "metadata": {},
   "outputs": [],
   "source": [
    "class hash_table:\n",
    "    def __init__(self,size) -> None:\n",
    "        self.size=size;\n",
    "        self.table=[None for i in range(size)]\n",
    "        self.key_value=[(None, None)]*self.size\n",
    "        self.key=[]\n",
    "\n",
    "    def hash_fun(self,key):\n",
    "        hash_value=0\n",
    "        for i in key:\n",
    "            hash_value=hash_value+ord(i)\n",
    "        return hash_value%self.size;\n",
    "    \n",
    "    def inseart(self,key,value):\n",
    "        inedx=self.hash_fun(key)\n",
    "        self.key.append(key)\n",
    "        self.key_value[inedx]=key,value\n",
    "        self.table[inedx]=value\n",
    "\n",
    "    def get_item(self,key):\n",
    "        index=self.hash_fun(key)\n",
    "        return self.table[index]\n",
    "    \n",
    "    def __getitem__(self, key):\n",
    "        hash=self.hash_fun(key)\n",
    "        if self.table[hash]==None: raise IndentationError(\"Key not found!\")\n",
    "        return self.table[hash]\n",
    "    \n",
    "    def clear(self):\n",
    "        for _ in range(self.size):\n",
    "            self.table[_]=None\n",
    "\n",
    "    def copy(self):\n",
    "        return hash_table(self.size)\n",
    "    \n",
    "    def items(self):\n",
    "        return self.key_value\n",
    "    \n",
    "    def keys(self):\n",
    "        return self.key\n",
    "    \n",
    "    def pop(self):\n",
    "        pass\n",
    "        \n",
    "    \n",
    "    \n",
    "\n",
    " \n",
    "\n",
    "ht3=hash_table(10)"
   ]
  },
  {
   "cell_type": "code",
   "execution_count": 302,
   "id": "e8aea61d",
   "metadata": {},
   "outputs": [
    {
     "data": {
      "text/plain": [
       "['A', 'B', 'c', 'e']"
      ]
     },
     "execution_count": 302,
     "metadata": {},
     "output_type": "execute_result"
    }
   ],
   "source": [
    "ht3.keys()"
   ]
  },
  {
   "cell_type": "code",
   "execution_count": 326,
   "id": "a90226af",
   "metadata": {},
   "outputs": [],
   "source": [
    "ht3.inseart(\"e\",1)"
   ]
  },
  {
   "cell_type": "code",
   "execution_count": 327,
   "id": "bc5d0701",
   "metadata": {},
   "outputs": [
    {
     "data": {
      "text/plain": [
       "[(None, None),\n",
       " ('e', 1),\n",
       " (None, None),\n",
       " (None, None),\n",
       " (None, None),\n",
       " (None, None),\n",
       " (None, None),\n",
       " (None, None),\n",
       " (None, None),\n",
       " (None, None)]"
      ]
     },
     "execution_count": 327,
     "metadata": {},
     "output_type": "execute_result"
    }
   ],
   "source": [
    "ht3.items()"
   ]
  },
  {
   "cell_type": "code",
   "execution_count": 303,
   "id": "b6ebf483",
   "metadata": {},
   "outputs": [
    {
     "data": {
      "text/plain": [
       "[(None, None),\n",
       " ('e', 1),\n",
       " (None, None),\n",
       " (None, None),\n",
       " (None, None),\n",
       " ('A', 1),\n",
       " ('B', 1),\n",
       " (None, None),\n",
       " (None, None),\n",
       " ('c', 1)]"
      ]
     },
     "execution_count": 303,
     "metadata": {},
     "output_type": "execute_result"
    }
   ],
   "source": [
    "ht3.key_value"
   ]
  },
  {
   "cell_type": "code",
   "execution_count": null,
   "id": "72fbc170",
   "metadata": {},
   "outputs": [],
   "source": []
  },
  {
   "cell_type": "code",
   "execution_count": 519,
   "id": "b4e09832",
   "metadata": {},
   "outputs": [],
   "source": [
    "class hash_table:\n",
    "    def __init__(self,size) -> None:\n",
    "        self.size=size\n",
    "        self.table=[(None,None)]*self.size\n",
    "\n",
    "    def hash_function(self,key):\n",
    "        v=0\n",
    "        for _ in key:\n",
    "            v+=ord(_)\n",
    "        return v%self.size\n",
    "    \n",
    "    def inseart(self,key,value):\n",
    "        index=self.hash_function(key)\n",
    "        self.table[index]=key,value\n",
    "\n",
    "    def items(self):\n",
    "        return self.table\n",
    "    \n",
    "    def __getitem__(self,key):\n",
    "        hash=self.hash_function(key)\n",
    "        return self.table[hash][1]\n",
    "    \n",
    "    def pop(self):\n",
    "        for i in range(-1,-self.size-1,-1):\n",
    "            if(self.table[i][0]!=None):\n",
    "                self.table[i] = None,None\n",
    "                break\n",
    "\n",
    "\n",
    "    def values(self):\n",
    "        pass\n",
    "        \n",
    "ht4=hash_table(5)"
   ]
  },
  {
   "cell_type": "code",
   "execution_count": 547,
   "id": "a11de6fd",
   "metadata": {},
   "outputs": [],
   "source": [
    "def most_accurence(arr,n):\n",
    "    ht5=hash_table(n)\n",
    "    for i in range(n):\n",
    "        if arr[i] in ht5:\n",
    "            arr[i]+=\n",
    "        else:\n",
    "            ht5.inseart(arr[i],i)\n"
   ]
  },
  {
   "cell_type": "code",
   "execution_count": 548,
   "id": "6fa58c98",
   "metadata": {},
   "outputs": [
    {
     "ename": "TypeError",
     "evalue": "'int' object is not iterable",
     "output_type": "error",
     "traceback": [
      "\u001b[0;31m---------------------------------------------------------------------------\u001b[0m",
      "\u001b[0;31mTypeError\u001b[0m                                 Traceback (most recent call last)",
      "Cell \u001b[0;32mIn[548], line 2\u001b[0m\n\u001b[1;32m      1\u001b[0m arr\u001b[38;5;241m=\u001b[39m[\u001b[38;5;241m1\u001b[39m,\u001b[38;5;241m2\u001b[39m,\u001b[38;5;241m1\u001b[39m,\u001b[38;5;241m1\u001b[39m,\u001b[38;5;241m1\u001b[39m,\u001b[38;5;241m3\u001b[39m]\n\u001b[0;32m----> 2\u001b[0m most_accurence(arr,\u001b[38;5;28mlen\u001b[39m(arr))\n",
      "Cell \u001b[0;32mIn[547], line 4\u001b[0m, in \u001b[0;36mmost_accurence\u001b[0;34m(arr, n)\u001b[0m\n\u001b[1;32m      2\u001b[0m ht5\u001b[38;5;241m=\u001b[39mhash_table(n)\n\u001b[1;32m      3\u001b[0m \u001b[38;5;28;01mfor\u001b[39;00m i \u001b[38;5;129;01min\u001b[39;00m \u001b[38;5;28mrange\u001b[39m(n):\n\u001b[0;32m----> 4\u001b[0m     \u001b[38;5;28;01mif\u001b[39;00m arr[i] \u001b[38;5;129;01min\u001b[39;00m ht5:\n\u001b[1;32m      5\u001b[0m         arr[i]\u001b[38;5;241m+\u001b[39m\u001b[38;5;241m=\u001b[39m\u001b[38;5;241m1\u001b[39m\n",
      "Cell \u001b[0;32mIn[519], line 20\u001b[0m, in \u001b[0;36mhash_table.__getitem__\u001b[0;34m(self, key)\u001b[0m\n\u001b[1;32m     19\u001b[0m \u001b[38;5;28;01mdef\u001b[39;00m \u001b[38;5;21m__getitem__\u001b[39m(\u001b[38;5;28mself\u001b[39m,key):\n\u001b[0;32m---> 20\u001b[0m     \u001b[38;5;28mhash\u001b[39m\u001b[38;5;241m=\u001b[39m\u001b[38;5;28mself\u001b[39m\u001b[38;5;241m.\u001b[39mhash_function(key)\n\u001b[1;32m     21\u001b[0m     \u001b[38;5;28;01mreturn\u001b[39;00m \u001b[38;5;28mself\u001b[39m\u001b[38;5;241m.\u001b[39mtable[\u001b[38;5;28mhash\u001b[39m][\u001b[38;5;241m1\u001b[39m]\n",
      "Cell \u001b[0;32mIn[519], line 8\u001b[0m, in \u001b[0;36mhash_table.hash_function\u001b[0;34m(self, key)\u001b[0m\n\u001b[1;32m      6\u001b[0m \u001b[38;5;28;01mdef\u001b[39;00m \u001b[38;5;21mhash_function\u001b[39m(\u001b[38;5;28mself\u001b[39m,key):\n\u001b[1;32m      7\u001b[0m     v\u001b[38;5;241m=\u001b[39m\u001b[38;5;241m0\u001b[39m\n\u001b[0;32m----> 8\u001b[0m     \u001b[38;5;28;01mfor\u001b[39;00m _ \u001b[38;5;129;01min\u001b[39;00m key:\n\u001b[1;32m      9\u001b[0m         v\u001b[38;5;241m+\u001b[39m\u001b[38;5;241m=\u001b[39m\u001b[38;5;28mord\u001b[39m(_)\n\u001b[1;32m     10\u001b[0m     \u001b[38;5;28;01mreturn\u001b[39;00m v\u001b[38;5;241m%\u001b[39m\u001b[38;5;28mself\u001b[39m\u001b[38;5;241m.\u001b[39msize\n",
      "\u001b[0;31mTypeError\u001b[0m: 'int' object is not iterable"
     ]
    }
   ],
   "source": [
    "arr=[1,2,1,1,1,3]\n",
    "most_accurence(arr,len(arr))"
   ]
  },
  {
   "cell_type": "code",
   "execution_count": 521,
   "id": "6f8a686d",
   "metadata": {},
   "outputs": [],
   "source": [
    "ht4.inseart(\"e\",4)"
   ]
  },
  {
   "cell_type": "code",
   "execution_count": 522,
   "id": "a3f97b76",
   "metadata": {},
   "outputs": [
    {
     "data": {
      "text/plain": [
       "[(None, None), ('e', 4), (None, None), (None, None), ('h', 4)]"
      ]
     },
     "execution_count": 522,
     "metadata": {},
     "output_type": "execute_result"
    }
   ],
   "source": [
    "ht4.table"
   ]
  },
  {
   "cell_type": "code",
   "execution_count": 525,
   "id": "96c2d5a7",
   "metadata": {},
   "outputs": [],
   "source": [
    "ht4.pop()"
   ]
  },
  {
   "cell_type": "code",
   "execution_count": 526,
   "id": "d6e37e86",
   "metadata": {},
   "outputs": [
    {
     "data": {
      "text/plain": [
       "[(None, None), (None, None), (None, None), (None, None), (None, None)]"
      ]
     },
     "execution_count": 526,
     "metadata": {},
     "output_type": "execute_result"
    }
   ],
   "source": [
    "ht4.table"
   ]
  },
  {
   "cell_type": "code",
   "execution_count": 471,
   "id": "3db149e1",
   "metadata": {},
   "outputs": [
    {
     "data": {
      "text/plain": [
       "4"
      ]
     },
     "execution_count": 471,
     "metadata": {},
     "output_type": "execute_result"
    }
   ],
   "source": [
    "a=[1,2,3,4,5,56,6]\n",
    "a[3]"
   ]
  },
  {
   "cell_type": "code",
   "execution_count": 532,
   "id": "e7ad9e26",
   "metadata": {},
   "outputs": [
    {
     "data": {
      "text/plain": [
       "{1: 4, 20: 1, 3: 2, 2: 1}"
      ]
     },
     "execution_count": 532,
     "metadata": {},
     "output_type": "execute_result"
    }
   ],
   "source": [
    "def max_occurrence(arr, n):\n",
    "    occurrences = {}\n",
    "    for i in range(n):\n",
    "        if arr[i] in occurrences:\n",
    "            occurrences[arr[i]] += 1\n",
    "        else:\n",
    "            occurrences[arr[i]] = 1\n",
    "    return occurrences\n",
    "\n",
    "arr=[1,1,1,1,20,3,3,2]\n",
    "max_occurrence(arr,len(arr))"
   ]
  },
  {
   "cell_type": "code",
   "execution_count": null,
   "id": "3ea50b26",
   "metadata": {},
   "outputs": [],
   "source": [
    "a={1: 1, 2: 2, 3: 1, 4: 5, 12: 1, 5: 6, 7: 1, 8: 1, 9: 1}\n",
    "max=a[arr[0]]\n",
    "j=0;\n",
    "for i in arr:\n",
    "    if a[i]>max:\n",
    "        max=a[i]\n",
    "        j=i\n",
    "\n",
    "print(j)"
   ]
  },
  {
   "cell_type": "code",
   "execution_count": 538,
   "id": "6740bb5b",
   "metadata": {},
   "outputs": [],
   "source": [
    "occurrences = {}\n",
    "for i in range(6):\n",
    "    if 23 in occurrences:\n",
    "        occurrences[23] += 1\n",
    "    else:\n",
    "        occurrences[23] = 1"
   ]
  },
  {
   "cell_type": "code",
   "execution_count": 546,
   "id": "9ed55d1f",
   "metadata": {},
   "outputs": [
    {
     "data": {
      "text/plain": [
       "{0: 1, 1: 1, 2: 1, 3: 1, 4: 1}"
      ]
     },
     "execution_count": 546,
     "metadata": {},
     "output_type": "execute_result"
    }
   ],
   "source": [
    "a={}\n",
    "for i in range(5):\n",
    "    if i in a:\n",
    "        a[i]=i+1\n",
    "    else:\n",
    "        a[i]=1\n",
    "a"
   ]
  },
  {
   "cell_type": "code",
   "execution_count": 554,
   "id": "d98932ea",
   "metadata": {},
   "outputs": [],
   "source": [
    "class hash_table2:\n",
    "    def __init__(self,size) -> None:\n",
    "        self.table=[(None,None)]*size\n",
    "        self.size=size\n",
    "\n",
    "    def hash_function2(self,key):\n",
    "        hash_value=0\n",
    "        for _ in key:\n",
    "            hash_value = hash_value * 31 + ord(_)\n",
    "        return  hash_value%self.size\n",
    "    \n",
    "\n",
    "ht5=hash_table2(10)"
   ]
  },
  {
   "cell_type": "code",
   "execution_count": 557,
   "id": "3dd7f614",
   "metadata": {},
   "outputs": [
    {
     "data": {
      "text/plain": [
       "0"
      ]
     },
     "execution_count": 557,
     "metadata": {},
     "output_type": "execute_result"
    }
   ],
   "source": [
    "ht5.hash_function2(\"\")"
   ]
  }
 ],
 "metadata": {
  "kernelspec": {
   "display_name": "Python 3 (ipykernel)",
   "language": "python",
   "name": "python3"
  },
  "language_info": {
   "codemirror_mode": {
    "name": "ipython",
    "version": 3
   },
   "file_extension": ".py",
   "mimetype": "text/x-python",
   "name": "python",
   "nbconvert_exporter": "python",
   "pygments_lexer": "ipython3",
   "version": "3.11.7"
  }
 },
 "nbformat": 4,
 "nbformat_minor": 5
}
