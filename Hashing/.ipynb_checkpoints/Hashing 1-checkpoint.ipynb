{
 "cells": [
  {
   "cell_type": "markdown",
   "id": "a3a30710-ed99-442c-a394-80265f1f43fa",
   "metadata": {},
   "source": [
    "**time complexities from best to worst, represented in Big O notation:**\n",
    "\\begin{array}{|c|l|}\n",
    "\\hline\n",
    "\\text{Complexity} & \\text{Description} \\\\\n",
    "\\hline\n",
    "O(1) & \\text{Constant time} \\\\\n",
    "O(\\log n) & \\text{Logarithmic time} \\\\\n",
    "O(n) & \\text{Linear time} \\\\\n",
    "O(n \\log n) & \\text{Log-linear time} \\\\\n",
    "O(n^2) & \\text{Quadratic time} \\\\\n",
    "O(n^c) & \\text{Polynomial time} \\quad (c > 2) \\\\\n",
    "O(2^n) & \\text{Exponential time} \\\\\n",
    "O(n!) & \\text{Factorial time} \\\\\n",
    "\\hline\n",
    "\\end{array}\n"
   ]
  },
  {
   "cell_type": "code",
   "execution_count": 19,
   "id": "4597efbc-d399-4096-80a9-2efcc14b8145",
   "metadata": {},
   "outputs": [],
   "source": [
    "class Node:\n",
    "    def __init__(self,data):\n",
    "        self.next=None\n",
    "        self.data=data\n",
    "        \n",
    "class Sll:\n",
    "    def __init__(self):\n",
    "        self.head=None\n",
    "        self.tail=None\n",
    "        \n",
    "    def push(self,data):\n",
    "        new_node=Node(data)\n",
    "        if self.head is None:\n",
    "            self.head=new_node\n",
    "            self.tail=new_node\n",
    "            return\n",
    "        self.tail.next=new_node\n",
    "        self.tail=new_node\n",
    "        \n",
    "    def print(self):\n",
    "        if self.head is not None:\n",
    "            n=self.head\n",
    "            while n:\n",
    "                print(n.data, end=' ')\n",
    "                n=n.next\n",
    "                \n",
    "    def reverse(self):\n",
    "        if self.head is not None:\n",
    "            prev=None\n",
    "            n=self.head\n",
    "            while n:\n",
    "                temp=n.next\n",
    "                n.next=prev\n",
    "                prev=n\n",
    "                n=temp\n",
    "            self.head=prev\n",
    "            \n",
    "        \n",
    "\n",
    "S=Sll()        "
   ]
  },
  {
   "cell_type": "code",
   "execution_count": 26,
   "id": "0147b4a1-0df5-41ce-a83a-799748411ec0",
   "metadata": {},
   "outputs": [
    {
     "name": "stdout",
     "output_type": "stream",
     "text": [
      "0 1 11 1 "
     ]
    }
   ],
   "source": [
    "S.print()"
   ]
  },
  {
   "cell_type": "code",
   "execution_count": 25,
   "id": "af5fe022-343c-4b14-9732-8cf9859eca73",
   "metadata": {},
   "outputs": [],
   "source": [
    "S.push(1)"
   ]
  },
  {
   "cell_type": "code",
   "execution_count": 27,
   "id": "e0555e36-a635-4678-9984-fb99789d1cc3",
   "metadata": {},
   "outputs": [],
   "source": [
    "S.reverse()"
   ]
  },
  {
   "cell_type": "code",
   "execution_count": 28,
   "id": "62cc553c-1ed7-49b0-9b1e-885bf910ab70",
   "metadata": {},
   "outputs": [
    {
     "name": "stdout",
     "output_type": "stream",
     "text": [
      "1 11 1 0 "
     ]
    }
   ],
   "source": [
    " S.print()"
   ]
  },
  {
   "cell_type": "markdown",
   "id": "d741639c-c362-4948-a298-13a9552c675e",
   "metadata": {},
   "source": [
    "## hash"
   ]
  },
  {
   "cell_type": "code",
   "execution_count": 130,
   "id": "fe3afed0-3978-408d-a3d2-5e63283ef00d",
   "metadata": {},
   "outputs": [],
   "source": [
    "class Dictionary:\n",
    "    def __init__(self, size):\n",
    "        self.size = size\n",
    "        self.slots = [None] * self.size\n",
    "        self.data = [None] * self.size\n",
    "\n",
    "    def put(self, key, value):\n",
    "        hash_value = self.hash_function(key)\n",
    "        if self.slots[hash_value] is None:\n",
    "            self.slots[hash_value] = key\n",
    "            self.data[hash_value] = value\n",
    "        else:\n",
    "            if self.slots[hash_value] == key:\n",
    "                self.data[hash_value] = value\n",
    "            else:\n",
    "                new_hash_value = self.rehash(hash_value)\n",
    "                while self.slots[new_hash_value] is not None and self.slots[new_hash_value] != key:\n",
    "                    new_hash_value = self.rehash(new_hash_value)\n",
    "                if self.slots[new_hash_value] is None:\n",
    "                    self.slots[new_hash_value] = key\n",
    "                    self.data[new_hash_value] = value\n",
    "                else:\n",
    "                    self.data[new_hash_value] = value\n",
    "                    \n",
    "    def __setitem__(self,key,value):\n",
    "        self.put(key,value)\n",
    "\n",
    "    def hash_function(self, key):\n",
    "        return abs(hash(key)) % self.size\n",
    "\n",
    "    def rehash(self, old_hash):\n",
    "        return (old_hash + 1) % self.size\n"
   ]
  },
  {
   "cell_type": "code",
   "execution_count": 131,
   "id": "d39aa1d3-ff08-4cd4-b015-58d8e3582e49",
   "metadata": {},
   "outputs": [],
   "source": [
    "D=Dictionary(3)"
   ]
  },
  {
   "cell_type": "code",
   "execution_count": 133,
   "id": "a8dea7a4-79c3-42cc-aa16-6554b031a41d",
   "metadata": {},
   "outputs": [
    {
     "data": {
      "text/plain": [
       "['python', None, None]"
      ]
     },
     "execution_count": 133,
     "metadata": {},
     "output_type": "execute_result"
    }
   ],
   "source": [
    "D.slots"
   ]
  },
  {
   "cell_type": "code",
   "execution_count": 134,
   "id": "d002a0d4-17c0-4286-82d5-308b2f1abd29",
   "metadata": {},
   "outputs": [
    {
     "data": {
      "text/plain": [
       "[55, None, None]"
      ]
     },
     "execution_count": 134,
     "metadata": {},
     "output_type": "execute_result"
    }
   ],
   "source": [
    "D.data"
   ]
  },
  {
   "cell_type": "code",
   "execution_count": 124,
   "id": "20e5215b-b511-403e-aa41-b59d1da3aedf",
   "metadata": {},
   "outputs": [],
   "source": [
    "D.put(\"python\",45)"
   ]
  },
  {
   "cell_type": "code",
   "execution_count": 125,
   "id": "72402a64-1d29-4ab4-91ad-f5beb01f97b3",
   "metadata": {},
   "outputs": [],
   "source": [
    "D.put(\"python\",55)"
   ]
  },
  {
   "cell_type": "code",
   "execution_count": 126,
   "id": "0dd8f052-193e-4fea-b687-dd8766500524",
   "metadata": {},
   "outputs": [],
   "source": [
    "D.put(\"p\",55)"
   ]
  },
  {
   "cell_type": "code",
   "execution_count": 132,
   "id": "6475bfdf-93e1-461a-a00d-11129d39d6d4",
   "metadata": {},
   "outputs": [],
   "source": [
    "D[\"python\"]=55"
   ]
  },
  {
   "cell_type": "code",
   "execution_count": null,
   "id": "a002077d-d2bd-4304-af6b-63e27eb39e4b",
   "metadata": {},
   "outputs": [],
   "source": []
  }
 ],
 "metadata": {
  "kernelspec": {
   "display_name": "Python 3 (ipykernel)",
   "language": "python",
   "name": "python3"
  },
  "language_info": {
   "codemirror_mode": {
    "name": "ipython",
    "version": 3
   },
   "file_extension": ".py",
   "mimetype": "text/x-python",
   "name": "python",
   "nbconvert_exporter": "python",
   "pygments_lexer": "ipython3",
   "version": "3.11.7"
  }
 },
 "nbformat": 4,
 "nbformat_minor": 5
}
