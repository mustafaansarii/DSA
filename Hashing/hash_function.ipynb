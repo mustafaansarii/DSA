{
 "cells": [
  {
   "cell_type": "markdown",
   "metadata": {},
   "source": [
    "Here’s the updated table with examples illustrating the output for each dictionary method:\n",
    "\n",
    "| **Function/Method** | **Description**                                                                 | **Output**                                                       | **Example**                                                                 |\n",
    "|---------------------|---------------------------------------------------------------------------------|------------------------------------------------------------------|-----------------------------------------------------------------------------|\n",
    "| `dict()`            | Creates a new dictionary.                                                         | An empty dictionary `{}` or a dictionary with specified key-value pairs. | `dict1 = dict(a=1, b=2)` yields `{'a': 1, 'b': 2}`                         |\n",
    "| `dict.clear()`      | Removes all items from the dictionary.                                            | An empty dictionary `{}`.                                        | `dict1 = {'a': 1, 'b': 2}; dict1.clear()` yields `{}`                      |\n",
    "| `dict.copy()`       | Returns a shallow copy of the dictionary.                                          | A new dictionary with the same items as the original.            | `dict1 = {'a': 1, 'b': 2}; dict2 = dict1.copy()` yields `{'a': 1, 'b': 2}` |\n",
    "| `dict.fromkeys()`   | Creates a new dictionary with keys from a sequence and values set to a specified value. | A dictionary with keys from the sequence and all values set to the specified value. | `dict1 = dict.fromkeys(['a', 'b'], 0)` yields `{'a': 0, 'b': 0}`         |\n",
    "| `dict.get()`        | Returns the value for a specified key, or a default value if the key is not found. | The value corresponding to the key, or the default value if the key is not found. | `dict1 = {'a': 1, 'b': 2}; dict1.get('a')` yields `1`                    |\n",
    "| `dict.items()`      | Returns a view object that displays a list of dictionary's key-value tuple pairs.  | A view object that displays key-value pairs.                      | `dict1 = {'a': 1, 'b': 2}; list(dict1.items())` yields `[(a, 1), (b, 2)]` |\n",
    "| `dict.keys()`       | Returns a view object that displays a list of all the dictionary's keys.           | A view object that displays all keys.                             | `dict1 = {'a': 1, 'b': 2}; list(dict1.keys())` yields `['a', 'b']`        |\n",
    "| `dict.pop()`        | Removes the specified key and returns its value.                                  | The value associated with the removed key, and the dictionary with that key removed. | `dict1 = {'a': 1, 'b': 2}; dict1.pop('a')` yields `1` and `{'b': 2}`      |\n",
    "| `dict.popitem()`    | Removes and returns a random (key, value) pair from the dictionary.                | A tuple `(key, value)` of the removed item, and the dictionary with that item removed. | `dict1 = {'a': 1, 'b': 2}; dict1.popitem()` might yield `('b', 2)` and `{'a': 1}` |\n",
    "| `dict.setdefault()` | Returns the value of a specified key. If the key does not exist, insert the key with a specified value. | The value of the key, either existing or newly set.              | `dict1 = {'a': 1}; dict1.setdefault('b', 2)` yields `2` and `{'a': 1, 'b': 2}` |\n",
    "| `dict.update()`     | Updates the dictionary with elements from another dictionary object or from an iterable of key-value pairs. | None; the dictionary is updated in-place.                        | `dict1 = {'a': 1}; dict1.update({'b': 2})` yields `{'a': 1, 'b': 2}`      |\n",
    "| `dict.values()`     | Returns a view object that displays a list of all the dictionary's values.         | A view object that displays all values.                           | `dict1 = {'a': 1, 'b': 2}; list(dict1.values())` yields `[1, 2]`         |\n",
    "\n",
    "These examples illustrate the expected output for each method, assuming some initial values for the dictionaries. Let me know if you have any other questions!"
   ]
  },
  {
   "cell_type": "code",
   "execution_count": 168,
   "metadata": {},
   "outputs": [],
   "source": [
    "class Dict:\n",
    "    def __init__(self,size) -> None:\n",
    "        self.size=size\n",
    "        self.table=[(None,None)]*size\n",
    "\n",
    "    def hash_function(self,key):\n",
    "        key=str(key)\n",
    "        value=0\n",
    "        for _ in key:\n",
    "            value=value*31+ord(_)\n",
    "        return value%self.size\n",
    "\n",
    "    def inseart(self,key,value):\n",
    "        index=self.hash_function(key)\n",
    "        self.table[index]=key,value\n",
    "\n",
    "    \n",
    "    def key(self):\n",
    "        a=[]\n",
    "        for i in self.table:\n",
    "            if i[0]!=None:\n",
    "                a.append(i[0])\n",
    "        return a\n",
    "    \n",
    "    def pop(self,key):\n",
    "        index=self.hash_function(key)\n",
    "        self.table[index]=None,None\n",
    "\n",
    "    def values(self):\n",
    "        temp=[]\n",
    "        for i in self.table:\n",
    "            if i[1]!=None:\n",
    "                temp.append(i[1])\n",
    "        return temp\n",
    "    \n",
    "    def __setitem__(self, key, value):\n",
    "        index=self.hash_function(key)\n",
    "        self.table[index] = key,value\n",
    "\n",
    "    def __delitem__(self,key):\n",
    "        index=self.hash_function(key)\n",
    "        del self.table[index]\n",
    "\n",
    "    def __getitem__(self,key):\n",
    "        return (self.table[key])\n",
    "    \n",
    "    def __contains__(self, item):\n",
    "        for i in range(self.size):\n",
    "            a=self.table[i]\n",
    "            if item in a:\n",
    "                return item in self.table[i]\n",
    "\n",
    "    \n",
    "    \n",
    "ht=Dict(5)"
   ]
  },
  {
   "cell_type": "code",
   "execution_count": 169,
   "metadata": {},
   "outputs": [],
   "source": [
    "ht[\"A\"]=3\n",
    "ht[\"b\"]=4"
   ]
  },
  {
   "cell_type": "code",
   "execution_count": 177,
   "metadata": {},
   "outputs": [
    {
     "name": "stdout",
     "output_type": "stream",
     "text": [
      "('A', 3)\n",
      "(None, None)\n",
      "(None, None)\n",
      "('b', 4)\n",
      "(None, None)\n"
     ]
    }
   ],
   "source": [
    "a=ht.table\n",
    "for i in a:\n",
    "    print(i)"
   ]
  },
  {
   "cell_type": "code",
   "execution_count": 174,
   "metadata": {},
   "outputs": [
    {
     "data": {
      "text/plain": [
       "True"
      ]
     },
     "execution_count": 174,
     "metadata": {},
     "output_type": "execute_result"
    }
   ],
   "source": [
    "3 in ht"
   ]
  },
  {
   "cell_type": "code",
   "execution_count": 145,
   "metadata": {},
   "outputs": [
    {
     "data": {
      "text/plain": [
       "3"
      ]
     },
     "execution_count": 145,
     "metadata": {},
     "output_type": "execute_result"
    }
   ],
   "source": [
    "a=[('A', 3), (None, None), (None, None), (None, None), (None, None)]\n",
    "[a]"
   ]
  },
  {
   "cell_type": "code",
   "execution_count": 98,
   "metadata": {},
   "outputs": [],
   "source": [
    "del ht[\"A\"]"
   ]
  },
  {
   "cell_type": "code",
   "execution_count": 85,
   "metadata": {},
   "outputs": [],
   "source": [
    "ht.inseart(\"f\",67)"
   ]
  },
  {
   "cell_type": "code",
   "execution_count": 86,
   "metadata": {},
   "outputs": [
    {
     "data": {
      "text/plain": [
       "[67, 23]"
      ]
     },
     "execution_count": 86,
     "metadata": {},
     "output_type": "execute_result"
    }
   ],
   "source": [
    "ht.values(),"
   ]
  },
  {
   "cell_type": "code",
   "execution_count": 94,
   "metadata": {},
   "outputs": [
    {
     "data": {
      "text/plain": [
       "[('A', 3), (None, None), (None, None), (None, None), (None, None)]"
      ]
     },
     "execution_count": 94,
     "metadata": {},
     "output_type": "execute_result"
    }
   ],
   "source": []
  },
  {
   "cell_type": "code",
   "execution_count": 76,
   "metadata": {},
   "outputs": [],
   "source": [
    "ht.pop(\"c\")"
   ]
  },
  {
   "cell_type": "code",
   "execution_count": 77,
   "metadata": {},
   "outputs": [
    {
     "data": {
      "text/plain": [
       "[(None, None), (None, None), (None, None), (None, None), (None, None)]"
      ]
     },
     "execution_count": 77,
     "metadata": {},
     "output_type": "execute_result"
    }
   ],
   "source": [
    "ht.table"
   ]
  },
  {
   "cell_type": "code",
   "execution_count": 68,
   "metadata": {},
   "outputs": [
    {
     "data": {
      "text/plain": [
       "('A', 23)"
      ]
     },
     "execution_count": 68,
     "metadata": {},
     "output_type": "execute_result"
    }
   ],
   "source": [
    "ht[0]"
   ]
  },
  {
   "cell_type": "code",
   "execution_count": 69,
   "metadata": {},
   "outputs": [
    {
     "data": {
      "text/plain": [
       "['A', 'b', 'c']"
      ]
     },
     "execution_count": 69,
     "metadata": {},
     "output_type": "execute_result"
    }
   ],
   "source": [
    "ht.key()"
   ]
  },
  {
   "cell_type": "code",
   "execution_count": 46,
   "metadata": {},
   "outputs": [],
   "source": [
    "a={\"a\":3}"
   ]
  },
  {
   "cell_type": "code",
   "execution_count": 48,
   "metadata": {},
   "outputs": [
    {
     "data": {
      "text/plain": [
       "3"
      ]
     },
     "execution_count": 48,
     "metadata": {},
     "output_type": "execute_result"
    }
   ],
   "source": [
    "a.get(\"a\")"
   ]
  },
  {
   "cell_type": "markdown",
   "metadata": {},
   "source": [
    "## Collision Resolving Techniques\n",
    "### 1. chaining (Linked list)\n",
    "### 2. open Addressing\n",
    "#### A. linear probing\n",
    "#### B. Quadratic probing\n",
    "#### C. Double hashing\n"
   ]
  },
  {
   "cell_type": "markdown",
   "metadata": {},
   "source": [
    "### chaining"
   ]
  },
  {
   "cell_type": "code",
   "execution_count": 50,
   "metadata": {},
   "outputs": [],
   "source": [
    "import sys\n",
    "class HashTable:\n",
    "    def __init__(self, size=10):\n",
    "        self.size = size\n",
    "        self.table = [None] * size  # Initialize the table with `None`\n",
    "        self.count = 0\n",
    "\n",
    "    def _hash(self, key):\n",
    "        # Simple hash function\n",
    "        return hash(key) % self.size\n",
    "\n",
    "    def _probe(self, index, key):\n",
    "        # Linear probing for open addressing\n",
    "        original_index = index\n",
    "        while self.table[index] is not None and self.table[index][0] != key:\n",
    "            index = (index + 1) % self.size\n",
    "            if index == original_index:\n",
    "                raise Exception(\"HashTable is full\")\n",
    "        return index\n",
    "\n",
    "    def insert(self, key, value):\n",
    "        index = self._hash(key)\n",
    "        index = self._probe(index, key)\n",
    "        self.table[index] = (key, value)\n",
    "        self.count += 1\n",
    "\n",
    "    def search(self, key):\n",
    "        index = self._hash(key)\n",
    "        original_index = index\n",
    "        while self.table[index] is not None:\n",
    "            if self.table[index][0] == key:\n",
    "                return self.table[index][1]\n",
    "            index = (index + 1) % self.size\n",
    "            if index == original_index:\n",
    "                break\n",
    "        return None\n",
    "\n",
    "    def delete(self, key):\n",
    "        index = self._hash(key)\n",
    "        original_index = index\n",
    "        while self.table[index] is not None:\n",
    "            if self.table[index][0] == key:\n",
    "                self.table[index] = None\n",
    "                self.count -= 1\n",
    "                return\n",
    "            index = (index + 1) % self.size\n",
    "            if index == original_index:\n",
    "                break\n",
    "\n",
    "    def __repr__(self):\n",
    "        return str([item for item in self.table if item is not None])\n",
    "    \n",
    "    def __sizeof__(self) -> int:\n",
    "        # Calculate the size of the table object itself and its content\n",
    "        table_size = sys.getsizeof(self.table)  # Size of the list\n",
    "        item_size = sum(sys.getsizeof(item) for item in self.table if item is not None)  # Size of the items\n",
    "        return table_size + item_size\n",
    "    \n",
    "    def __len__(self) -> int:\n",
    "        # Return the number of items currently in the hash table\n",
    "        return len(self.table)\n",
    "\n",
    "hash_table = HashTable(size=10)"
   ]
  },
  {
   "cell_type": "code",
   "execution_count": 65,
   "metadata": {},
   "outputs": [
    {
     "data": {
      "text/plain": [
       "696"
      ]
     },
     "execution_count": 65,
     "metadata": {},
     "output_type": "execute_result"
    }
   ],
   "source": [
    "hash_table.__sizeof__()"
   ]
  },
  {
   "cell_type": "code",
   "execution_count": 66,
   "metadata": {},
   "outputs": [
    {
     "data": {
      "text/plain": [
       "10"
      ]
     },
     "execution_count": 66,
     "metadata": {},
     "output_type": "execute_result"
    }
   ],
   "source": [
    "a=hash_table\n",
    "len(a)"
   ]
  },
  {
   "cell_type": "code",
   "execution_count": 67,
   "metadata": {},
   "outputs": [
    {
     "name": "stdout",
     "output_type": "stream",
     "text": [
      "Number of items in hash table: 10\n"
     ]
    }
   ],
   "source": [
    "print(f\"Number of items in hash table: {len(hash_table)}\")"
   ]
  },
  {
   "cell_type": "code",
   "execution_count": 64,
   "metadata": {},
   "outputs": [
    {
     "ename": "Exception",
     "evalue": "HashTable is full",
     "output_type": "error",
     "traceback": [
      "\u001b[0;31m---------------------------------------------------------------------------\u001b[0m",
      "\u001b[0;31mException\u001b[0m                                 Traceback (most recent call last)",
      "Cell \u001b[0;32mIn[64], line 6\u001b[0m\n\u001b[1;32m      4\u001b[0m hash_table\u001b[38;5;241m.\u001b[39minsert(\u001b[38;5;124m\"\u001b[39m\u001b[38;5;124md\u001b[39m\u001b[38;5;124m\"\u001b[39m,\u001b[38;5;241m12\u001b[39m)\n\u001b[1;32m      5\u001b[0m hash_table\u001b[38;5;241m.\u001b[39minsert(\u001b[38;5;124m\"\u001b[39m\u001b[38;5;124me\u001b[39m\u001b[38;5;124m\"\u001b[39m,\u001b[38;5;241m12\u001b[39m)\n\u001b[0;32m----> 6\u001b[0m hash_table\u001b[38;5;241m.\u001b[39minsert(\u001b[38;5;124m\"\u001b[39m\u001b[38;5;124mk\u001b[39m\u001b[38;5;124m\"\u001b[39m,\u001b[38;5;241m12\u001b[39m)\n\u001b[1;32m      7\u001b[0m hash_table\u001b[38;5;241m.\u001b[39minsert(\u001b[38;5;124m\"\u001b[39m\u001b[38;5;124ml\u001b[39m\u001b[38;5;124m\"\u001b[39m,\u001b[38;5;241m12\u001b[39m)\n",
      "Cell \u001b[0;32mIn[50], line 23\u001b[0m, in \u001b[0;36mHashTable.insert\u001b[0;34m(self, key, value)\u001b[0m\n\u001b[1;32m     21\u001b[0m \u001b[38;5;28;01mdef\u001b[39;00m \u001b[38;5;21minsert\u001b[39m(\u001b[38;5;28mself\u001b[39m, key, value):\n\u001b[1;32m     22\u001b[0m     index \u001b[38;5;241m=\u001b[39m \u001b[38;5;28mself\u001b[39m\u001b[38;5;241m.\u001b[39m_hash(key)\n\u001b[0;32m---> 23\u001b[0m     index \u001b[38;5;241m=\u001b[39m \u001b[38;5;28mself\u001b[39m\u001b[38;5;241m.\u001b[39m_probe(index, key)\n\u001b[1;32m     24\u001b[0m     \u001b[38;5;28mself\u001b[39m\u001b[38;5;241m.\u001b[39mtable[index] \u001b[38;5;241m=\u001b[39m (key, value)\n\u001b[1;32m     25\u001b[0m     \u001b[38;5;28mself\u001b[39m\u001b[38;5;241m.\u001b[39mcount \u001b[38;5;241m+\u001b[39m\u001b[38;5;241m=\u001b[39m \u001b[38;5;241m1\u001b[39m\n",
      "Cell \u001b[0;32mIn[50], line 18\u001b[0m, in \u001b[0;36mHashTable._probe\u001b[0;34m(self, index, key)\u001b[0m\n\u001b[1;32m     16\u001b[0m     index \u001b[38;5;241m=\u001b[39m (index \u001b[38;5;241m+\u001b[39m \u001b[38;5;241m1\u001b[39m) \u001b[38;5;241m%\u001b[39m \u001b[38;5;28mself\u001b[39m\u001b[38;5;241m.\u001b[39msize\n\u001b[1;32m     17\u001b[0m     \u001b[38;5;28;01mif\u001b[39;00m index \u001b[38;5;241m==\u001b[39m original_index:\n\u001b[0;32m---> 18\u001b[0m         \u001b[38;5;28;01mraise\u001b[39;00m \u001b[38;5;167;01mException\u001b[39;00m(\u001b[38;5;124m\"\u001b[39m\u001b[38;5;124mHashTable is full\u001b[39m\u001b[38;5;124m\"\u001b[39m)\n\u001b[1;32m     19\u001b[0m \u001b[38;5;28;01mreturn\u001b[39;00m index\n",
      "\u001b[0;31mException\u001b[0m: HashTable is full"
     ]
    }
   ],
   "source": [
    "hash_table.insert(\"n\",12)\n",
    "hash_table.insert(\"g\",12)\n",
    "hash_table.insert(\"h\",12)\n",
    "hash_table.insert(\"d\",12)\n",
    "hash_table.insert(\"e\",12)\n",
    "hash_table.insert(\"k\",12)\n",
    "hash_table.insert(\"l\",12)"
   ]
  },
  {
   "cell_type": "code",
   "execution_count": 63,
   "metadata": {},
   "outputs": [
    {
     "name": "stdout",
     "output_type": "stream",
     "text": [
      "[('d', 12), ('e', 12), ('C', 12), ('c', 12), ('g', 12), ('h', 12), ('b', 12), ('B', 12), ('A', 12)]\n"
     ]
    }
   ],
   "source": [
    "print(hash_table)"
   ]
  },
  {
   "cell_type": "code",
   "execution_count": 74,
   "metadata": {},
   "outputs": [],
   "source": [
    "class hash_table2:\n",
    "    def __init__(self,size) -> None:\n",
    "        self.size=size\n",
    "        self.table=[[] for a in range(self.size)]\n",
    "\n",
    "    def hash_function(self,key):\n",
    "        value=0\n",
    "        for i in key:\n",
    "            value+=ord(i)\n",
    "        return value%self.size\n",
    "    \n",
    "    def __setitem__(self,key):\n",
    "        \n",
    "\n",
    "ht2=hash_table2(5)"
   ]
  },
  {
   "cell_type": "code",
   "execution_count": null,
   "metadata": {},
   "outputs": [],
   "source": []
  },
  {
   "cell_type": "code",
   "execution_count": 73,
   "metadata": {},
   "outputs": [
    {
     "name": "stdout",
     "output_type": "stream",
     "text": [
      "[[], [], [], [], []]\n"
     ]
    }
   ],
   "source": [
    "print(ht2.table)"
   ]
  }
 ],
 "metadata": {
  "kernelspec": {
   "display_name": "base",
   "language": "python",
   "name": "python3"
  },
  "language_info": {
   "codemirror_mode": {
    "name": "ipython",
    "version": 3
   },
   "file_extension": ".py",
   "mimetype": "text/x-python",
   "name": "python",
   "nbconvert_exporter": "python",
   "pygments_lexer": "ipython3",
   "version": "3.11.7"
  }
 },
 "nbformat": 4,
 "nbformat_minor": 2
}
