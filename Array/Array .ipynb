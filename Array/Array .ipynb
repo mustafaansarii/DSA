{
 "cells": [
  {
   "cell_type": "markdown",
   "id": "91d2a8f4",
   "metadata": {},
   "source": [
    "# What is an Array?"
   ]
  },
  {
   "cell_type": "markdown",
   "id": "05cf1f7b",
   "metadata": {},
   "source": [
    "An array can be defined as a storage or container or similar items placed in contiguous memory locations."
   ]
  },
  {
   "cell_type": "markdown",
   "id": "82fb615b",
   "metadata": {},
   "source": [
    "1. Homogenous (Same data Type of value)\n",
    "2. Hetrogeneous (varius data Type of value)"
   ]
  },
  {
   "cell_type": "code",
   "execution_count": 117,
   "id": "8f62e615",
   "metadata": {},
   "outputs": [
    {
     "data": {
      "text/html": [
       "<img src=\"https://media.geeksforgeeks.org/wp-content/uploads/CommonArticleDesign1-min.png\"/>"
      ],
      "text/plain": [
       "<IPython.core.display.Image object>"
      ]
     },
     "execution_count": 117,
     "metadata": {},
     "output_type": "execute_result"
    }
   ],
   "source": [
    "from IPython.display import Image\n",
    "\n",
    "# Specify the URL of your image\n",
    "image_url = 'https://media.geeksforgeeks.org/wp-content/uploads/CommonArticleDesign1-min.png'\n",
    "\n",
    "# Display the image\n",
    "Image(url=image_url)\n",
    "\n"
   ]
  },
  {
   "cell_type": "code",
   "execution_count": 118,
   "id": "b9df820b",
   "metadata": {},
   "outputs": [],
   "source": [
    "import array as arr"
   ]
  },
  {
   "cell_type": "markdown",
   "id": "c57ea737",
   "metadata": {},
   "source": [
    "creating array"
   ]
  },
  {
   "cell_type": "code",
   "execution_count": 119,
   "id": "4db64996",
   "metadata": {},
   "outputs": [
    {
     "data": {
      "text/plain": [
       "array.array"
      ]
     },
     "execution_count": 119,
     "metadata": {},
     "output_type": "execute_result"
    }
   ],
   "source": [
    "a=arr.array(\"i\",[1,2,3,4,5])\n",
    "type(a)"
   ]
  },
  {
   "cell_type": "code",
   "execution_count": 120,
   "id": "95c59fc9",
   "metadata": {},
   "outputs": [
    {
     "data": {
      "text/html": [
       "<img src=\"https://media.geeksforgeeks.org/wp-content/uploads/CommonArticleDesign2-min.png\"/>"
      ],
      "text/plain": [
       "<IPython.core.display.Image object>"
      ]
     },
     "execution_count": 120,
     "metadata": {},
     "output_type": "execute_result"
    }
   ],
   "source": [
    "from IPython.display import Image\n",
    "\n",
    "# Specify the URL of your image\n",
    "image_url = 'https://media.geeksforgeeks.org/wp-content/uploads/CommonArticleDesign2-min.png'\n",
    "\n",
    "# Display the image\n",
    "Image(url=image_url)\n"
   ]
  },
  {
   "cell_type": "code",
   "execution_count": 121,
   "id": "37638443",
   "metadata": {},
   "outputs": [
    {
     "data": {
      "text/plain": [
       "array.array"
      ]
     },
     "execution_count": 121,
     "metadata": {},
     "output_type": "execute_result"
    }
   ],
   "source": [
    "from array import array\n",
    "a=array(\"i\",[23,34,5,5,67,8])\n",
    "type(a)"
   ]
  },
  {
   "cell_type": "code",
   "execution_count": 122,
   "id": "5585f355",
   "metadata": {},
   "outputs": [
    {
     "data": {
      "text/plain": [
       "array('i', [23, 34, 5, 5, 67, 8])"
      ]
     },
     "execution_count": 122,
     "metadata": {},
     "output_type": "execute_result"
    }
   ],
   "source": [
    "a"
   ]
  },
  {
   "cell_type": "code",
   "execution_count": 123,
   "id": "b81c712f",
   "metadata": {},
   "outputs": [
    {
     "data": {
      "text/plain": [
       "array('i', [23, 34, 34, 5, 5, 67, 8])"
      ]
     },
     "execution_count": 123,
     "metadata": {},
     "output_type": "execute_result"
    }
   ],
   "source": [
    "a.insert(1,34) #inseert at index 1 (34)\n",
    "a"
   ]
  },
  {
   "cell_type": "code",
   "execution_count": 124,
   "id": "c3bfe053",
   "metadata": {},
   "outputs": [
    {
     "data": {
      "text/plain": [
       "8"
      ]
     },
     "execution_count": 124,
     "metadata": {},
     "output_type": "execute_result"
    }
   ],
   "source": [
    "a.append(78)\n",
    "len(a)"
   ]
  },
  {
   "cell_type": "code",
   "execution_count": 125,
   "id": "6271fc2a",
   "metadata": {},
   "outputs": [
    {
     "name": "stdout",
     "output_type": "stream",
     "text": [
      "23 34 34 5 5 67 8 78 "
     ]
    }
   ],
   "source": [
    "for i in range(0, 8):\n",
    "    print(a[i], end=\" \")"
   ]
  },
  {
   "cell_type": "code",
   "execution_count": 126,
   "id": "0ad226cf",
   "metadata": {},
   "outputs": [
    {
     "data": {
      "text/plain": [
       "array('i', [34, 34, 5, 5, 67, 8, 78])"
      ]
     },
     "execution_count": 126,
     "metadata": {},
     "output_type": "execute_result"
    }
   ],
   "source": [
    "a.pop(0)\n",
    "a"
   ]
  },
  {
   "cell_type": "code",
   "execution_count": 127,
   "id": "93fc4a44",
   "metadata": {},
   "outputs": [
    {
     "data": {
      "text/plain": [
       "array('i', [34, 5, 5, 67, 8, 78])"
      ]
     },
     "execution_count": 127,
     "metadata": {},
     "output_type": "execute_result"
    }
   ],
   "source": [
    "a.remove(34)\n",
    "a"
   ]
  },
  {
   "cell_type": "markdown",
   "id": "bd2cdcc1",
   "metadata": {},
   "source": [
    "* Complexities for Removing elements in the Arrays\n",
    "* Time Complexity: O(1)/O(n) ( O(1) "
   ]
  },
  {
   "cell_type": "code",
   "execution_count": 128,
   "id": "702fd2b2",
   "metadata": {},
   "outputs": [
    {
     "data": {
      "text/plain": [
       "array('i', [34, 5, 5, 67, 8, 78])"
      ]
     },
     "execution_count": 128,
     "metadata": {},
     "output_type": "execute_result"
    }
   ],
   "source": [
    "a"
   ]
  },
  {
   "cell_type": "markdown",
   "id": "2eb47428",
   "metadata": {},
   "source": [
    "# Slicing of an Array"
   ]
  },
  {
   "cell_type": "code",
   "execution_count": 129,
   "id": "edcef7fc",
   "metadata": {},
   "outputs": [
    {
     "data": {
      "text/html": [
       "<img src=\"https://media.geeksforgeeks.org/wp-content/uploads/CommonArticleDesign3-min.png\"/>"
      ],
      "text/plain": [
       "<IPython.core.display.Image object>"
      ]
     },
     "execution_count": 129,
     "metadata": {},
     "output_type": "execute_result"
    }
   ],
   "source": [
    "from IPython.display import Image\n",
    "\n",
    "# Specify the URL of your image\n",
    "image_url = 'https://media.geeksforgeeks.org/wp-content/uploads/CommonArticleDesign3-min.png'\n",
    "\n",
    "# Display the image\n",
    "Image(url=image_url)\n"
   ]
  },
  {
   "cell_type": "code",
   "execution_count": 130,
   "id": "a604d060",
   "metadata": {},
   "outputs": [
    {
     "data": {
      "text/plain": [
       "array('i', [5, 5, 67, 8])"
      ]
     },
     "execution_count": 130,
     "metadata": {},
     "output_type": "execute_result"
    }
   ],
   "source": [
    "a[1:5]"
   ]
  },
  {
   "cell_type": "code",
   "execution_count": 131,
   "id": "63056f94",
   "metadata": {},
   "outputs": [
    {
     "data": {
      "text/plain": [
       "array('i', [5, 67])"
      ]
     },
     "execution_count": 131,
     "metadata": {},
     "output_type": "execute_result"
    }
   ],
   "source": [
    "a[1:5:2]"
   ]
  },
  {
   "cell_type": "code",
   "execution_count": 132,
   "id": "350c1303",
   "metadata": {},
   "outputs": [
    {
     "data": {
      "text/plain": [
       "array('i', [78, 8, 67, 5, 5, 34])"
      ]
     },
     "execution_count": 132,
     "metadata": {},
     "output_type": "execute_result"
    }
   ],
   "source": [
    "a[::-1]"
   ]
  },
  {
   "cell_type": "markdown",
   "id": "7dd4cfa3",
   "metadata": {},
   "source": [
    "# Searching Element in an Array"
   ]
  },
  {
   "cell_type": "code",
   "execution_count": 133,
   "id": "2600010d",
   "metadata": {},
   "outputs": [
    {
     "data": {
      "text/plain": [
       "5"
      ]
     },
     "execution_count": 133,
     "metadata": {},
     "output_type": "execute_result"
    }
   ],
   "source": [
    "a.index(78)"
   ]
  },
  {
   "cell_type": "markdown",
   "id": "829c9f0e",
   "metadata": {},
   "source": [
    "# Complexities for searching elements in the Arrays\n",
    "* Time Complexity: O(n)\n",
    "* Auxiliary Space: O(1)"
   ]
  },
  {
   "cell_type": "markdown",
   "id": "17c91a70",
   "metadata": {},
   "source": [
    "# Updating Elements in a Array"
   ]
  },
  {
   "cell_type": "code",
   "execution_count": 134,
   "id": "5dcd4928",
   "metadata": {},
   "outputs": [
    {
     "data": {
      "text/plain": [
       "array('i', [34, 5, 56, 67, 8, 78])"
      ]
     },
     "execution_count": 134,
     "metadata": {},
     "output_type": "execute_result"
    }
   ],
   "source": [
    "a[2]=56\n",
    "a"
   ]
  },
  {
   "cell_type": "markdown",
   "id": "3fd55861",
   "metadata": {},
   "source": [
    "* Time Complexity: O(n)\n",
    "* Auxiliary Space: O(1)"
   ]
  },
  {
   "cell_type": "markdown",
   "id": "497505d7",
   "metadata": {},
   "source": [
    "# Counting Elements in a Array"
   ]
  },
  {
   "cell_type": "code",
   "execution_count": 135,
   "id": "2c4fb52d",
   "metadata": {},
   "outputs": [
    {
     "data": {
      "text/plain": [
       "3"
      ]
     },
     "execution_count": 135,
     "metadata": {},
     "output_type": "execute_result"
    }
   ],
   "source": [
    "my_array = array('i', [1, 2, 3, 4, 2, 5, 2])\n",
    "count = my_array.count(2)\n",
    "count"
   ]
  },
  {
   "cell_type": "code",
   "execution_count": 136,
   "id": "e991fbe3",
   "metadata": {},
   "outputs": [
    {
     "name": "stdout",
     "output_type": "stream",
     "text": [
      "Original array: array('i', [1, 2, 3, 4, 5])\n"
     ]
    }
   ],
   "source": [
    "import array\n",
    "my_array = array.array('i', [1, 2, 3, 4, 5])\n",
    "print(\"Original array:\", my_array)\n",
    "my_array.reverse()"
   ]
  },
  {
   "cell_type": "code",
   "execution_count": 137,
   "id": "aa18d5f1",
   "metadata": {},
   "outputs": [
    {
     "data": {
      "text/plain": [
       "array('i', [34, 5, 56, 67, 8, 78, 6, 7, 8, 9, 10])"
      ]
     },
     "execution_count": 137,
     "metadata": {},
     "output_type": "execute_result"
    }
   ],
   "source": [
    "a.extend([6,7,8,9,10])\n",
    "a"
   ]
  }
 ],
 "metadata": {
  "kernelspec": {
   "display_name": "Python 3 (ipykernel)",
   "language": "python",
   "name": "python3"
  },
  "language_info": {
   "codemirror_mode": {
    "name": "ipython",
    "version": 3
   },
   "file_extension": ".py",
   "mimetype": "text/x-python",
   "name": "python",
   "nbconvert_exporter": "python",
   "pygments_lexer": "ipython3",
   "version": "3.9.12"
  }
 },
 "nbformat": 4,
 "nbformat_minor": 5
}
