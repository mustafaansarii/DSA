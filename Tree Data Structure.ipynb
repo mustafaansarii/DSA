{
 "cells": [
  {
   "cell_type": "markdown",
   "id": "c214efdb-5f41-4b85-8ae2-0f5154df2142",
   "metadata": {},
   "source": [
    "## Introduction to Tree – Data Structure and Algorithm\n",
    "Tree data structure is a specialized data structure to store data in hierarchical manner. It is used to organize and store data in the computer to be used more effectively. It consists of a central node, structural nodes, and sub-nodes, which are connected via edges. We can also say that tree data structure has roots, branches, and leaves connected."
   ]
  },
  {
   "cell_type": "markdown",
   "id": "fb66f8d1-b6f5-4a10-ae98-e3159f51f21a",
   "metadata": {},
   "source": [
    "A tree data structure is a hierarchical data structure consisting of nodes connected by edges. It's called a \"tree\" because it resembles an upside-down tree with branches connecting various parts. \n",
    "\n",
    "In a tree:\n",
    "\n",
    "1. **Node**: Each element in a tree is called a node. Nodes store data and may also contain references or pointers to other nodes (called children).\n",
    "\n",
    "2. **Root**: The topmost node of the tree is called the root. It's the starting point for traversing the tree.\n",
    "\n",
    "3. **Edge**: An edge is a connection between two nodes. It represents a relationship between the nodes.\n",
    "\n",
    "4. **Parent and Child Nodes**: In a tree, each node (except the root) has exactly one parent node and zero or more child nodes. The node directly above a given node is its parent, and nodes directly below it are its children.\n",
    "\n",
    "5. **Leaf Nodes**: Nodes that do not have any children are called leaf nodes or terminal nodes. They are at the ends of the branches.\n",
    "\n",
    "6. **Subtree**: A subtree is a portion of the tree that can be considered as a complete tree itself. It consists of a node and all its descendants.\n",
    "\n",
    "Trees are commonly used in computer science for organizing hierarchical data like file systems, representing hierarchical relationships in data structures like binary search trees, and facilitating efficient searching and retrieval operations. There are various types of trees, including binary trees, AVL trees, red-black trees, and B-trees, each with its own properties and use cases."
   ]
  },
  {
   "cell_type": "code",
   "execution_count": 2,
   "id": "4774c3b2-5343-4ef6-af07-99da919c40ca",
   "metadata": {},
   "outputs": [
    {
     "data": {
      "text/html": [
       "<img src=\"https://media.geeksforgeeks.org/wp-content/uploads/20240424125622/Introduction-to-tree-.webp\"/>"
      ],
      "text/plain": [
       "<IPython.core.display.Image object>"
      ]
     },
     "execution_count": 2,
     "metadata": {},
     "output_type": "execute_result"
    }
   ],
   "source": [
    "from IPython.display import Image\n",
    "Image(url=\"https://media.geeksforgeeks.org/wp-content/uploads/20240424125622/Introduction-to-tree-.webp\")"
   ]
  },
  {
   "cell_type": "markdown",
   "id": "70d67246-d920-460e-89aa-64e983e7def0",
   "metadata": {},
   "source": [
    "### Types of Trees in Data Structure based on the number of children:"
   ]
  },
  {
   "cell_type": "code",
   "execution_count": 3,
   "id": "64cf4ba9-85f8-452b-bb5b-ea3a71c1bdfa",
   "metadata": {},
   "outputs": [
    {
     "data": {
      "text/html": [
       "<img src=\"https://media.geeksforgeeks.org/wp-content/uploads/20240424105215/Types-of-Tree-Data-Structure.webp\"/>"
      ],
      "text/plain": [
       "<IPython.core.display.Image object>"
      ]
     },
     "execution_count": 3,
     "metadata": {},
     "output_type": "execute_result"
    }
   ],
   "source": [
    "Image(url=\"https://media.geeksforgeeks.org/wp-content/uploads/20240424105215/Types-of-Tree-Data-Structure.webp\")"
   ]
  },
  {
   "cell_type": "markdown",
   "id": "1a616e48-a88c-4650-ad1e-c75f182199d5",
   "metadata": {},
   "source": [
    "1. **Binary Tree**: In a binary tree, each node can have at most two children. These children are typically referred to as the left child and the right child. Binary trees are commonly used for various purposes such as binary search trees (BSTs) for efficient searching, AVL trees and red-black trees for self-balancing properties, and binary expression trees for representing expressions.\n",
    "\n",
    "2. **Ternary Tree**: A ternary tree is a tree data structure where each node can have at most three child nodes. These child nodes are usually labeled as \"left\", \"mid\", and \"right\", indicating their relative positions. Ternary trees are less common compared to binary trees but can be useful in certain scenarios where each node needs to have more than two children.\n",
    "\n",
    "3. **N-ary Tree or Generic Tree**: An N-ary tree, or generic tree, is a tree data structure where each node can have an arbitrary number of children, typically denoted as N. In a generic tree, each node stores references to its children, and duplicate references are not allowed. Generic trees are versatile and can model various hierarchical structures efficiently. They are commonly used in file systems, XML/HTML parsing, and representing hierarchical data in databases.\n",
    "\n",
    "Each type of tree has its own advantages and use cases. Binary trees are efficient for binary search and various other operations. Ternary trees are less common but can be useful for certain specialized applications. N-ary trees provide flexibility in modeling complex hierarchical relationships with nodes having multiple children. The choice of tree type depends on the specific requirements and constraints of the problem being addressed."
   ]
  },
  {
   "cell_type": "code",
   "execution_count": null,
   "id": "c147ee40-4d87-4705-b5be-b8c7eef1ad1c",
   "metadata": {},
   "outputs": [],
   "source": []
  }
 ],
 "metadata": {
  "kernelspec": {
   "display_name": "Python 3 (ipykernel)",
   "language": "python",
   "name": "python3"
  },
  "language_info": {
   "codemirror_mode": {
    "name": "ipython",
    "version": 3
   },
   "file_extension": ".py",
   "mimetype": "text/x-python",
   "name": "python",
   "nbconvert_exporter": "python",
   "pygments_lexer": "ipython3",
   "version": "3.11.7"
  }
 },
 "nbformat": 4,
 "nbformat_minor": 5
}
