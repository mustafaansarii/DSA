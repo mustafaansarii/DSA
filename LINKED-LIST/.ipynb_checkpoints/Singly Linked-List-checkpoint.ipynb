{
 "cells": [
  {
   "cell_type": "markdown",
   "id": "66922599",
   "metadata": {},
   "source": [
    "# Singly Linked-List"
   ]
  },
  {
   "cell_type": "code",
   "execution_count": 34,
   "id": "ee5f592b",
   "metadata": {
    "scrolled": true
   },
   "outputs": [
    {
     "data": {
      "text/html": [
       "<img src=\"https://media.geeksforgeeks.org/wp-content/uploads/20230503102657/LLdrawio.png\"/>"
      ],
      "text/plain": [
       "<IPython.core.display.Image object>"
      ]
     },
     "execution_count": 34,
     "metadata": {},
     "output_type": "execute_result"
    }
   ],
   "source": [
    "from IPython.display import Image\n",
    "image_url = 'https://media.geeksforgeeks.org/wp-content/uploads/20230503102657/LLdrawio.png'\n",
    "\n",
    "Image(url=image_url)\n"
   ]
  },
  {
   "cell_type": "markdown",
   "id": "671f7e5f",
   "metadata": {},
   "source": [
    " A linked list is a type of linear data structure similar to arrays. It is a collection of nodes that are linked with each other. A node contains two things first is data and second is a link that connects it with another node."
   ]
  },
  {
   "cell_type": "code",
   "execution_count": 35,
   "id": "6f49ce4f",
   "metadata": {},
   "outputs": [],
   "source": [
    "class Node:\n",
    "    def __init__(self, data=None):\n",
    "        self.data = data\n",
    "        self.ref = None"
   ]
  },
  {
   "cell_type": "code",
   "execution_count": 36,
   "id": "1ecfa84a",
   "metadata": {},
   "outputs": [],
   "source": [
    "class Linked_List:\n",
    "    def __init__(self):\n",
    "        self.head = None\n",
    "    \n",
    "    def print_LL(self):\n",
    "        if self.head is None:\n",
    "            print(\"Linked list is empty!\")\n",
    "        else:\n",
    "            n = self.head\n",
    "            while n is not None:\n",
    "                print(n.data, end=\"-->\")\n",
    "                n = n.ref\n",
    "                \n",
    "    def add_begin(self,data):\n",
    "        new_node=Node(data)\n",
    "        new_node.ref=self.head\n",
    "        self.head=new_node\n",
    "        \n",
    "    def add_end(self,data):\n",
    "        new_node=Node(data)\n",
    "        new_node.ref=None\n",
    "        \n",
    "        if self.head is None:\n",
    "            self.head=new_node\n",
    "        else:\n",
    "            n=self.head\n",
    "            while n.ref is not None:\n",
    "                n = n.ref\n",
    "            n.ref=new_node\n",
    "            \n",
    "            \n",
    "        "
   ]
  },
  {
   "cell_type": "code",
   "execution_count": 37,
   "id": "d3bcfed2",
   "metadata": {},
   "outputs": [],
   "source": [
    "LL1 = Linked_List()\n",
    "LL1.add_end(12)\n",
    "LL1.add_begin(90)"
   ]
  },
  {
   "cell_type": "code",
   "execution_count": 38,
   "id": "aa055ac2",
   "metadata": {},
   "outputs": [
    {
     "name": "stdout",
     "output_type": "stream",
     "text": [
      "90-->12-->"
     ]
    }
   ],
   "source": [
    "LL1.print_LL()"
   ]
  },
  {
   "cell_type": "code",
   "execution_count": null,
   "id": "b39a4752",
   "metadata": {},
   "outputs": [],
   "source": []
  },
  {
   "cell_type": "code",
   "execution_count": null,
   "id": "f17be66c",
   "metadata": {},
   "outputs": [],
   "source": []
  }
 ],
 "metadata": {
  "kernelspec": {
   "display_name": "Python 3 (ipykernel)",
   "language": "python",
   "name": "python3"
  },
  "language_info": {
   "codemirror_mode": {
    "name": "ipython",
    "version": 3
   },
   "file_extension": ".py",
   "mimetype": "text/x-python",
   "name": "python",
   "nbconvert_exporter": "python",
   "pygments_lexer": "ipython3",
   "version": "3.9.12"
  }
 },
 "nbformat": 4,
 "nbformat_minor": 5
}
