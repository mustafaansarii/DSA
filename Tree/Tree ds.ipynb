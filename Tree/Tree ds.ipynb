{
 "cells": [
  {
   "cell_type": "markdown",
   "metadata": {},
   "source": [
    "**Tree Data Structrue** </br>\n",
    "A tree is a non-linear abstract data type with a hierarchy-based structure. It consists of nodes (where the data is stored) that are connected via links. The tree data structure stems from a single node called a root node and has subtrees connected to the root."
   ]
  },
  {
   "cell_type": "code",
   "execution_count": 1,
   "metadata": {},
   "outputs": [],
   "source": [
    "\n",
    "def freqency(arr):\n",
    "    se={}\n",
    "    for num in arr:\n",
    "        if num in se:\n",
    "            se[num]+=1\n",
    "        else:\n",
    "            se[num]=1\n",
    "    return se\n"
   ]
  },
  {
   "cell_type": "code",
   "execution_count": 14,
   "metadata": {},
   "outputs": [],
   "source": [
    "arr=[2,2,3,3,4,4,4,4,4,5]\n",
    "arr2=freqency(arr)"
   ]
  },
  {
   "cell_type": "code",
   "execution_count": 15,
   "metadata": {},
   "outputs": [],
   "source": [
    "a=[]\n",
    "for i in range(len(arr2)):\n",
    "    pass"
   ]
  },
  {
   "cell_type": "code",
   "execution_count": 29,
   "metadata": {},
   "outputs": [
    {
     "data": {
      "text/plain": [
       "{2: 2, 3: 2, 4: 5, 5: 1}"
      ]
     },
     "execution_count": 29,
     "metadata": {},
     "output_type": "execute_result"
    }
   ],
   "source": [
    "arr2"
   ]
  },
  {
   "cell_type": "code",
   "execution_count": 24,
   "metadata": {},
   "outputs": [],
   "source": [
    "s=arr2.keys()"
   ]
  },
  {
   "cell_type": "code",
   "execution_count": 27,
   "metadata": {},
   "outputs": [
    {
     "name": "stdout",
     "output_type": "stream",
     "text": [
      "dict_values([2, 2, 5, 1])\n",
      "dict_values([2, 2, 5, 1])\n",
      "dict_values([2, 2, 5, 1])\n",
      "dict_values([2, 2, 5, 1])\n"
     ]
    }
   ],
   "source": [
    "for i in s:\n",
    "    print(arr2.values())"
   ]
  },
  {
   "cell_type": "code",
   "execution_count": 33,
   "metadata": {},
   "outputs": [],
   "source": [
    "g=arr2.items()"
   ]
  },
  {
   "cell_type": "code",
   "execution_count": 56,
   "metadata": {},
   "outputs": [],
   "source": [
    "max=0\n",
    "t=None,None\n",
    "for i,k in g:\n",
    "    if k>max:\n",
    "        max=k\n",
    "        t=i,k"
   ]
  },
  {
   "cell_type": "code",
   "execution_count": 57,
   "metadata": {},
   "outputs": [
    {
     "data": {
      "text/plain": [
       "(4, 5)"
      ]
     },
     "execution_count": 57,
     "metadata": {},
     "output_type": "execute_result"
    }
   ],
   "source": [
    "t"
   ]
  },
  {
   "cell_type": "code",
   "execution_count": 70,
   "metadata": {},
   "outputs": [],
   "source": [
    "\n",
    "def freqency(arr):\n",
    "    se={}\n",
    "    for num in arr:\n",
    "        if num in se:\n",
    "            se[num]+=1\n",
    "        else:\n",
    "            se[num]=1\n",
    "    max=0\n",
    "    max_value=None,None\n",
    "    item=se.items()\n",
    "    for i,k in item:\n",
    "        if k>max:\n",
    "            max=k\n",
    "            max_value=i,k\n",
    "    return max_value\n"
   ]
  },
  {
   "cell_type": "code",
   "execution_count": 71,
   "metadata": {},
   "outputs": [
    {
     "data": {
      "text/plain": [
       "(1, 1)"
      ]
     },
     "execution_count": 71,
     "metadata": {},
     "output_type": "execute_result"
    }
   ],
   "source": [
    "arr=[1,2,3]\n",
    "freqency(arr)"
   ]
  },
  {
   "cell_type": "code",
   "execution_count": 7,
   "metadata": {},
   "outputs": [],
   "source": [
    "def mid(arr):\n",
    "    left=0\n",
    "    right=len(arr)-1\n",
    "    while left!=right:\n",
    "        left+=1\n",
    "        right-=1\n",
    "    print(arr[left])\n",
    "    print(arr[right])"
   ]
  },
  {
   "cell_type": "code",
   "execution_count": 8,
   "metadata": {},
   "outputs": [
    {
     "name": "stdout",
     "output_type": "stream",
     "text": [
      "3\n",
      "3\n"
     ]
    }
   ],
   "source": [
    "mid(arr=[1,2,3,4,5])"
   ]
  },
  {
   "cell_type": "code",
   "execution_count": 9,
   "metadata": {},
   "outputs": [],
   "source": [
    "class TreeNode:\n",
    "    def __init__(self, data):\n",
    "        self.data = data\n",
    "        self.left = None\n",
    "        self.right = None\n",
    "\n",
    "class BinaryTree:\n",
    "    def __init__(self):\n",
    "        self.root = None\n",
    "\n",
    "    def insert(self, data):\n",
    "        if self.root is None:\n",
    "            self.root = TreeNode(data)\n",
    "        else:\n",
    "            self._insert(self.root, data)\n",
    "\n",
    "    def _insert(self, node, data):\n",
    "        if data < node.data:\n",
    "            if node.left is None:\n",
    "                node.left = TreeNode(data)\n",
    "            else:\n",
    "                self._insert(node.left, data)\n",
    "        else:\n",
    "            if node.right is None:\n",
    "                node.right = TreeNode(data)\n",
    "            else:\n",
    "                self._insert(node.right, data)\n",
    "\n",
    "    def inorder_traversal(self):\n",
    "        return self._inorder_traversal(self.root, [])\n",
    "\n",
    "    def _inorder_traversal(self, node, result):\n",
    "        if node:\n",
    "            self._inorder_traversal(node.left, result)\n",
    "            result.append(node.data)\n",
    "            self._inorder_traversal(node.right, result)\n",
    "        return result\n",
    "\n",
    "    def preorder_traversal(self):\n",
    "        return self._preorder_traversal(self.root, [])\n",
    "\n",
    "    def _preorder_traversal(self, node, result):\n",
    "        if node:\n",
    "            result.append(node.data)\n",
    "            self._preorder_traversal(node.left, result)\n",
    "            self._preorder_traversal(node.right, result)\n",
    "        return result\n",
    "\n",
    "    def postorder_traversal(self):\n",
    "        return self._postorder_traversal(self.root, [])\n",
    "\n",
    "    def _postorder_traversal(self, node, result):\n",
    "        if node:\n",
    "            self._postorder_traversal(node.left, result)\n",
    "            self._postorder_traversal(node.right, result)\n",
    "            result.append(node.data)\n",
    "        return result\n"
   ]
  },
  {
   "cell_type": "code",
   "execution_count": 10,
   "metadata": {},
   "outputs": [
    {
     "name": "stdout",
     "output_type": "stream",
     "text": [
      "Inorder Traversal: [20, 30, 40, 50, 60, 70, 80]\n",
      "Preorder Traversal: [50, 30, 20, 40, 70, 60, 80]\n",
      "Postorder Traversal: [20, 40, 30, 60, 80, 70, 50]\n"
     ]
    }
   ],
   "source": [
    "# Create a binary tree\n",
    "bt = BinaryTree()\n",
    "\n",
    "# Insert nodes into the tree\n",
    "bt.insert(50)\n",
    "bt.insert(30)\n",
    "bt.insert(70)\n",
    "bt.insert(20)\n",
    "bt.insert(40)\n",
    "bt.insert(60)\n",
    "bt.insert(80)\n",
    "\n",
    "# Perform different traversals\n",
    "print(\"Inorder Traversal:\", bt.inorder_traversal())  # Output: [20, 30, 40, 50, 60, 70, 80]\n",
    "print(\"Preorder Traversal:\", bt.preorder_traversal()) # Output: [50, 30, 20, 40, 70, 60, 80]\n",
    "print(\"Postorder Traversal:\", bt.postorder_traversal()) # Output: [20, 40, 30, 60, 80, 70, 50]\n"
   ]
  },
  {
   "cell_type": "code",
   "execution_count": 13,
   "metadata": {},
   "outputs": [],
   "source": [
    "import matplotlib.pyplot as plt\n",
    "import networkx as nx\n",
    "\n",
    "class BinaryTree:\n",
    "    def __init__(self):\n",
    "        self.root = None\n",
    "\n",
    "    def insert(self, data):\n",
    "        if self.root is None:\n",
    "            self.root = TreeNode(data)\n",
    "        else:\n",
    "            self._insert(self.root, data)\n",
    "\n",
    "    def _insert(self, node, data):\n",
    "        if data < node.data:\n",
    "            if node.left is None:\n",
    "                node.left = TreeNode(data)\n",
    "            else:\n",
    "                self._insert(node.left, data)\n",
    "        else:\n",
    "            if node.right is None:\n",
    "                node.right = TreeNode(data)\n",
    "            else:\n",
    "                self._insert(node.right, data)\n",
    "\n",
    "    def plot_tree(self):\n",
    "        G = nx.DiGraph()\n",
    "        self._add_edges(self.root, G)\n",
    "        pos = self._get_positions(self.root, 0, 0, 2 ** self._get_depth(self.root))\n",
    "        nx.draw(G, pos, with_labels=True, arrows=True, node_size=2000, node_color='lightblue', font_size=10, font_weight='bold')\n",
    "        plt.show()\n",
    "\n",
    "    def _add_edges(self, node, graph, parent=None):\n",
    "        if node is not None:\n",
    "            if parent:\n",
    "                graph.add_edge(parent.data, node.data)\n",
    "            self._add_edges(node.left, graph, node)\n",
    "            self._add_edges(node.right, graph, node)\n",
    "\n",
    "    def _get_positions(self, node, x, y, dx):\n",
    "        pos = {}\n",
    "        if node:\n",
    "            pos[node.data] = (x, y)\n",
    "            if node.left:\n",
    "                pos.update(self._get_positions(node.left, x - dx, y - 1, dx / 2))\n",
    "            if node.right:\n",
    "                pos.update(self._get_positions(node.right, x + dx, y - 1, dx / 2))\n",
    "        return pos\n",
    "\n",
    "    def _get_depth(self, node):\n",
    "        if node is None:\n",
    "            return 0\n",
    "        else:\n",
    "            left_depth = self._get_depth(node.left)\n",
    "            right_depth = self._get_depth(node.right)\n",
    "            return max(left_depth, right_depth) + 1\n"
   ]
  },
  {
   "cell_type": "code",
   "execution_count": 16,
   "metadata": {},
   "outputs": [
    {
     "data": {
      "image/png": "[encoded data removed]",
      "text/plain": [
       "<Figure size 640x480 with 1 Axes>"
      ]
     },
     "metadata": {},
     "output_type": "display_data"
    }
   ],
   "source": [
    "# Create a binary tree\n",
    "bt = BinaryTree()\n",
    "\n",
    "# Insert nodes into the tree\n",
    "bt.insert(50)\n",
    "bt.insert(30)\n",
    "bt.insert(70)\n",
    "bt.insert(20)\n",
    "bt.insert(40)\n",
    "bt.insert(60)\n",
    "bt.insert(80)\n",
    "\n",
    "# Plot the tree\n",
    "bt.plot_tree()\n"
   ]
  },
  {
   "cell_type": "code",
   "execution_count": 18,
   "metadata": {},
   "outputs": [
    {
     "data": {
      "image/png": "[encoded data removed]",
      "text/plain": [
       "<Figure size 1000x600 with 1 Axes>"
      ]
     },
     "metadata": {},
     "output_type": "display_data"
    }
   ],
   "source": [
    "import matplotlib.pyplot as plt\n",
    "import numpy as np\n",
    "\n",
    "def plot_tree_from_array(arr):\n",
    "    if not arr:\n",
    "        print(\"Tree is empty.\")\n",
    "        return\n",
    "    \n",
    "    fig, ax = plt.subplots(figsize=(10, 6))\n",
    "    ax.axis('off')\n",
    "    \n",
    "    # Calculate depth of the tree\n",
    "    depth = int(np.log2(len(arr))) + 1\n",
    "    max_width = 2 ** depth\n",
    "\n",
    "    def plot_node(index, x, y, dx):\n",
    "        if index >= len(arr):\n",
    "            return\n",
    "        \n",
    "        # Plot the node\n",
    "        ax.text(x, y, str(arr[index]), fontsize=12, ha='center', va='center',\n",
    "                bbox=dict(facecolor='lightblue', edgecolor='black', boxstyle='round,pad=0.3'))\n",
    "        \n",
    "        # Calculate children positions\n",
    "        left_index = 2 * index + 1\n",
    "        right_index = 2 * index + 2\n",
    "        next_y = y - 1\n",
    "        next_dx = dx / 2\n",
    "        \n",
    "        if left_index < len(arr):\n",
    "            ax.plot([x, x - next_dx], [y, next_y], color='black')\n",
    "            plot_node(left_index, x - next_dx, next_y, next_dx)\n",
    "        if right_index < len(arr):\n",
    "            ax.plot([x, x + next_dx], [y, next_y], color='black')\n",
    "            plot_node(right_index, x + next_dx, next_y, next_dx)\n",
    "\n",
    "    # Start plotting from root\n",
    "    plot_node(0, 0, 0, max_width / 2)\n",
    "    \n",
    "    plt.show()\n",
    "\n",
    "# Example usage\n",
    "# Array representation of a binary tree\n",
    "# Binary tree: \n",
    "#         1\n",
    "#       /   \\\n",
    "#      2     3\n",
    "#     / \\   / \\\n",
    "#    4   5 6   7\n",
    "\n",
    "tree_array = [1, 2, 3, 4, 5, 6, 7,8,7,5,43,2]\n",
    "plot_tree_from_array(tree_array)\n"
   ]
  },
  {
   "cell_type": "markdown",
   "metadata": {},
   "source": [
    " <img src=\"https://media.geeksforgeeks.org/wp-content/uploads/20240503093046/Introduction-to-Binary-Tree.webp\">"
   ]
  },
  {
   "cell_type": "code",
   "execution_count": 12,
   "metadata": {},
   "outputs": [],
   "source": [
    "class Node:\n",
    "    def __init__(self, value) -> None:\n",
    "        self.left = None\n",
    "        self.right = None\n",
    "        self.data = value\n",
    "\n",
    "    def preOrder(self, root):\n",
    "        if root:\n",
    "            print(root.data, end=\" \")  # Print the data of the root\n",
    "            self.preOrder(root.left)   # Recur on the left child\n",
    "            self.preOrder(root.right)  # Recur on the right child\n",
    "\n",
    "    def inOrder(self, root):\n",
    "        if root:\n",
    "            self.inOrder(root.left)    # Recur on the left child\n",
    "            print(root.data, end=\" \")  # Print the data of the root\n",
    "            self.inOrder(root.right)   # Recur on the right child\n",
    "\n",
    "    def postOrder(self, root):\n",
    "        if root:\n",
    "            self.postOrder(root.left)  # Recur on the left child\n",
    "            self.postOrder(root.right) # Recur on the right child\n",
    "            print(root.data, end=\" \")  # Print the data of the root\n",
    "\n",
    "    def maxDepth(self, root) -> int:\n",
    "       \n",
    "       if not root:\n",
    "           return 0\n",
    "       left_depth = self.maxDepth(root.left)\n",
    "       right_depth = self.maxDepth(root.right)\n",
    "       return right_depth\n",
    "\n",
    "    #    return max(left_depth,right_depth) +1"
   ]
  },
  {
   "cell_type": "code",
   "execution_count": 13,
   "metadata": {},
   "outputs": [
    {
     "data": {
      "text/plain": [
       "0"
      ]
     },
     "execution_count": 13,
     "metadata": {},
     "output_type": "execute_result"
    }
   ],
   "source": [
    "root=Node(23)\n",
    "root.left=Node(21)\n",
    "root.right=Node(19)\n",
    "root.left.left=Node(17)\n",
    "root.left.right=Node(15)\n",
    "root.right.left=Node(17)\n",
    "root.right.right=Node(17)\n",
    "root.right.right.left=Node(17)\n",
    "# print(root.postOrder(root))\n",
    "root.maxDepth(root)"
   ]
  },
  {
   "cell_type": "code",
   "execution_count": 10,
   "metadata": {},
   "outputs": [],
   "source": [
    "class Node:\n",
    "    def __init__(self,data) -> None:\n",
    "        self.left=None\n",
    "        self.right=None\n",
    "        self.data=data\n",
    "\n",
    "    def preOrder(self,root):\n",
    "        stack=[]\n",
    "        if root:\n",
    "            stack.append(root)\n",
    "            while len(stack)>0:\n",
    "                popped=stack.pop()\n",
    "                print(popped.data, end=\" \")\n",
    "                if popped.right:\n",
    "                    stack.append(popped.right)\n",
    "                if popped.left:\n",
    "                    stack.append(popped.left)\n",
    "        else:\n",
    "            return -1\n",
    "        \n",
    "    def inOrder(self,root):\n",
    "        stack=[]\n",
    "        currunt=root\n",
    "        while stack or currunt:\n",
    "            if currunt:\n",
    "                stack.append(currunt)\n",
    "                currunt=currunt.left\n",
    "            elif stack:\n",
    "                currunt=stack.pop()\n",
    "                print(currunt.data, end=' ')\n",
    "                currunt=currunt.right\n",
    "\n",
    "                \n",
    "            \n",
    "\n",
    "    def postOrder(self,root):\n",
    "        stack1=[]\n",
    "        stack2=[]\n",
    "        current=root\n",
    "        stack1.append(current)\n",
    "        while stack1:\n",
    "            current=stack1.pop()\n",
    "            stack2.append(current.data)  \n",
    "\n",
    "            if current.left:\n",
    "                stack1.append(current.left)\n",
    "\n",
    "            if current.right:\n",
    "                stack1.append(current.right)\n",
    "                \n",
    "        while stack2:\n",
    "            data=stack2.pop()\n",
    "            print(data, end=' ')\n",
    "        "
   ]
  },
  {
   "cell_type": "code",
   "execution_count": 23,
   "metadata": {},
   "outputs": [
    {
     "name": "stdout",
     "output_type": "stream",
     "text": [
      "this is preOrder traversal: \n",
      "1 2 5 4 3 7 6 \n",
      "this is inOrder traversal: \n",
      "5 2 4 1 7 3 6 \n",
      "this is postOrder traversal: \n",
      "5 4 2 7 6 3 1 "
     ]
    }
   ],
   "source": [
    "root=Node(1)\n",
    "root.left=Node(2)\n",
    "root.right=Node(3)\n",
    "root.left.right=Node(4)\n",
    "root.left.left=Node(5)\n",
    "root.right.right=Node(6)\n",
    "root.right.left=Node(7)\n",
    "print(\"this is preOrder traversal: \")\n",
    "root.preOrder(root)\n",
    "print(\"\\nthis is inOrder traversal: \")\n",
    "root.inOrder(root)\n",
    "print(\"\\nthis is postOrder traversal: \")\n",
    "root.postOrder(root)\n"
   ]
  },
  {
   "cell_type": "code",
   "execution_count": null,
   "metadata": {},
   "outputs": [],
   "source": []
  }
 ],
 "metadata": {
  "kernelspec": {
   "display_name": "base",
   "language": "python",
   "name": "python3"
  },
  "language_info": {
   "codemirror_mode": {
    "name": "ipython",
    "version": 3
   },
   "file_extension": ".py",
   "mimetype": "text/x-python",
   "name": "python",
   "nbconvert_exporter": "python",
   "pygments_lexer": "ipython3",
   "version": "3.11.7"
  }
 },
 "nbformat": 4,
 "nbformat_minor": 2
}
