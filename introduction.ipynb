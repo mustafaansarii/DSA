{
 "cells": [
  {
   "cell_type": "code",
   "execution_count": 19,
   "metadata": {},
   "outputs": [],
   "source": [
    "def linear_search(arr,n,x):\n",
    "    for i in range(n):\n",
    "        if arr[i]==x:\n",
    "            return i\n",
    "    return -1\n",
    "        "
   ]
  },
  {
   "cell_type": "code",
   "execution_count": 20,
   "metadata": {},
   "outputs": [
    {
     "data": {
      "text/plain": [
       "0"
      ]
     },
     "execution_count": 20,
     "metadata": {},
     "output_type": "execute_result"
    }
   ],
   "source": [
    "arr=[1,2,3,4,5,5,67,8,9]\n",
    "linear_search(arr,len(arr),1)"
   ]
  },
  {
   "cell_type": "code",
   "execution_count": 133,
   "metadata": {},
   "outputs": [],
   "source": [
    "def binary_search(arr,left,right,x):\n",
    "    mid=left+(right-left)//2\n",
    "    print(\"left:\", left)\n",
    "    print(\"right:\", right)\n",
    "    print(\"mid:\",mid)\n",
    "    if arr[mid]==x:\n",
    "        return mid\n",
    "    if x in arr:\n",
    "        if arr[mid]>x:\n",
    "            return binary_search(arr,left,mid-1,x)\n",
    "        \n",
    "        if arr[mid]<x:\n",
    "            return binary_search(arr,mid+1,right,x)\n",
    "    return -1\n",
    "    \n",
    "arr=[1,2,3,4,5,6,7,8,9]\n",
    "binary_search(arr,0,len(arr),9)"
   ]
  },
  {
   "cell_type": "code",
   "execution_count": 134,
   "metadata": {},
   "outputs": [
    {
     "name": "stdout",
     "output_type": "stream",
     "text": [
      "left: 0\n",
      "right: 9\n",
      "mid: 4\n",
      "left: 5\n",
      "right: 9\n",
      "mid: 7\n",
      "left: 8\n",
      "right: 9\n",
      "mid: 8\n"
     ]
    },
    {
     "data": {
      "text/plain": [
       "8"
      ]
     },
     "execution_count": 134,
     "metadata": {},
     "output_type": "execute_result"
    }
   ],
   "source": [
    "arr=[1,2,3,4,5,6,7,8,9]\n",
    "binary_search(arr,0,len(arr),9)"
   ]
  },
  {
   "cell_type": "code",
   "execution_count": 50,
   "metadata": {},
   "outputs": [
    {
     "name": "stdout",
     "output_type": "stream",
     "text": [
      "[1, 2, 3]\n"
     ]
    }
   ],
   "source": [
    "def b_search(arr)"
   ]
  },
  {
   "cell_type": "code",
   "execution_count": 135,
   "metadata": {},
   "outputs": [],
   "source": [
    "def binary_search(arr, left, right, x):\n",
    "    if left > right:\n",
    "        return -1  \n",
    "\n",
    "    mid = left + (right - left) // 2\n",
    "\n",
    "    print(\"left:\", left)\n",
    "    print(\"right:\", right)\n",
    "    print(\"mid:\", mid)\n",
    "\n",
    "    if arr[mid] == x:\n",
    "        return mid\n",
    "    elif arr[mid] > x:\n",
    "        return binary_search(arr, left, mid - 1, x)\n",
    "    else:\n",
    "        return binary_search(arr, mid + 1, right, x)"
   ]
  },
  {
   "cell_type": "code",
   "execution_count": 142,
   "metadata": {},
   "outputs": [
    {
     "name": "stdout",
     "output_type": "stream",
     "text": [
      "left: 0\n",
      "right: 8\n",
      "mid: 4\n",
      "left: 5\n",
      "right: 8\n",
      "mid: 6\n",
      "left: 7\n",
      "right: 8\n",
      "mid: 7\n",
      "left: 8\n",
      "right: 8\n",
      "mid: 8\n"
     ]
    },
    {
     "data": {
      "text/plain": [
       "-1"
      ]
     },
     "execution_count": 142,
     "metadata": {},
     "output_type": "execute_result"
    }
   ],
   "source": [
    "arr = [1, 2, 3, 4, 5, 6, 7, 8, 9]\n",
    "result = binary_search(arr, 0, len(arr) - 1, 99)\n",
    "result"
   ]
  },
  {
   "cell_type": "code",
   "execution_count": 169,
   "metadata": {},
   "outputs": [],
   "source": [
    "def binary_search(arr,left,right,x):\n",
    "    if left>right:\n",
    "        return -1\n",
    "    mid=(left+right)//2\n",
    "    if arr[mid]==x:\n",
    "        return mid\n",
    "    if arr[mid]>x:\n",
    "        return binary_search(arr,left,mid-1,x)\n",
    "    if arr[mid]<x:\n",
    "        return binary_search(arr,mid+1,right,x)"
   ]
  },
  {
   "cell_type": "code",
   "execution_count": 185,
   "metadata": {},
   "outputs": [
    {
     "data": {
      "text/plain": [
       "8"
      ]
     },
     "execution_count": 185,
     "metadata": {},
     "output_type": "execute_result"
    }
   ],
   "source": [
    "arr = [1, 2, 3, 4, 5, 6, 7, 8, 9]\n",
    "binary_search(arr, 0, len(arr)-1, 9)"
   ]
  },
  {
   "cell_type": "code",
   "execution_count": 196,
   "metadata": {},
   "outputs": [
    {
     "data": {
      "text/plain": [
       "[4, 23, 34]"
      ]
     },
     "execution_count": 196,
     "metadata": {},
     "output_type": "execute_result"
    }
   ],
   "source": [
    "a=[23,34,4]\n",
    "sorted(a)\n"
   ]
  },
  {
   "cell_type": "code",
   "execution_count": 221,
   "metadata": {},
   "outputs": [],
   "source": [
    "def b_s(arr,left,right,x):\n",
    "    if left>right:\n",
    "        return -1\n",
    "    mid=(left+right)//2\n",
    "    if arr[mid]==x:\n",
    "        return mid\n",
    "    if arr[mid]>x:\n",
    "        return b_s(arr,left,mid-1,x)\n",
    "    if arr[mid]<x:\n",
    "        return b_s(arr,mid+1,right,x)"
   ]
  },
  {
   "cell_type": "code",
   "execution_count": 228,
   "metadata": {},
   "outputs": [
    {
     "name": "stdout",
     "output_type": "stream",
     "text": [
      "[1, 1, 2, 2, 3, 4, 12, 12, 12, 15, 21, 23, 25, 33, 44, 51]\n"
     ]
    },
    {
     "data": {
      "text/plain": [
       "15"
      ]
     },
     "execution_count": 228,
     "metadata": {},
     "output_type": "execute_result"
    }
   ],
   "source": [
    "arr=[1,2,33,4,15,25,51,3,2,1,21,12,44,23,12,12]\n",
    "print(sorted(arr))\n",
    "b_s(sorted(arr),0,len(arr)-1,51)"
   ]
  },
  {
   "cell_type": "code",
   "execution_count": 233,
   "metadata": {},
   "outputs": [],
   "source": [
    "def b_s(arr,left,right,x):\n",
    "    while left<=right:\n",
    "        mid=(left+right)//2\n",
    "        if arr[mid]==x:\n",
    "            return mid\n",
    "        elif arr[mid]<x:\n",
    "            left=mid+1\n",
    "        else:\n",
    "            right=mid-1\n",
    "    return -1\n",
    "        "
   ]
  },
  {
   "cell_type": "code",
   "execution_count": 234,
   "metadata": {},
   "outputs": [
    {
     "data": {
      "text/plain": [
       "3"
      ]
     },
     "execution_count": 234,
     "metadata": {},
     "output_type": "execute_result"
    }
   ],
   "source": [
    "arr = [1, 2, 3, 4, 5, 6, 7, 8, 9]\n",
    "b_s(arr,0,len(arr)-1,4)"
   ]
  },
  {
   "cell_type": "code",
   "execution_count": 242,
   "metadata": {},
   "outputs": [],
   "source": [
    "def binarysearch(arr,l,r,x):\n",
    "    while l<=r:\n",
    "        mid=l+(r-l)//2\n",
    "        if arr[mid]==x:\n",
    "            return mid\n",
    "        elif arr[mid]>x:\n",
    "            r=mid-1\n",
    "        else:\n",
    "            l=mid+1\n",
    "    return -1\n",
    "        "
   ]
  },
  {
   "cell_type": "code",
   "execution_count": 265,
   "metadata": {},
   "outputs": [
    {
     "data": {
      "text/plain": [
       "1"
      ]
     },
     "execution_count": 265,
     "metadata": {},
     "output_type": "execute_result"
    }
   ],
   "source": [
    "arr=[1,2,3,4,5,6,8]\n",
    "i=0\n",
    "j=len(arr)-1\n",
    "x=2\n",
    "binarysearch(arr,i,j,x)\n"
   ]
  },
  {
   "cell_type": "code",
   "execution_count": 252,
   "metadata": {},
   "outputs": [
    {
     "name": "stdout",
     "output_type": "stream",
     "text": [
      "0\n"
     ]
    }
   ],
   "source": [
    "if x in arr:\n",
    "    print(arr.index(x) )\n",
    "else:\n",
    "    print(-1)"
   ]
  },
  {
   "cell_type": "markdown",
   "metadata": {},
   "source": [
    "## two pointer\n",
    "### sum of two number=n"
   ]
  },
  {
   "cell_type": "code",
   "execution_count": 287,
   "metadata": {},
   "outputs": [],
   "source": [
    "def sum_two(arr,l,r,x):\n",
    "    while l<=r:\n",
    "        if arr[l]+arr[r]==x:\n",
    "            return l,r\n",
    "        elif arr[l]+arr[r]>x:\n",
    "            r-=1\n",
    "        else:\n",
    "            l+=1"
   ]
  },
  {
   "cell_type": "code",
   "execution_count": 288,
   "metadata": {},
   "outputs": [
    {
     "data": {
      "text/plain": [
       "(0, 4)"
      ]
     },
     "execution_count": 288,
     "metadata": {},
     "output_type": "execute_result"
    }
   ],
   "source": [
    "arr=[20,40,60,80,90,120,240]\n",
    "sum_two(arr,0,len(arr)-1,110)"
   ]
  },
  {
   "cell_type": "code",
   "execution_count": 292,
   "metadata": {},
   "outputs": [],
   "source": [
    "def sum_two_(arr,x):\n",
    "    for i in range(len(arr)):\n",
    "        for j in range(i):\n",
    "            if arr[i]+arr[j]==x:\n",
    "                return i,j\n"
   ]
  },
  {
   "cell_type": "code",
   "execution_count": 293,
   "metadata": {},
   "outputs": [
    {
     "data": {
      "text/plain": [
       "(4, 0)"
      ]
     },
     "execution_count": 293,
     "metadata": {},
     "output_type": "execute_result"
    }
   ],
   "source": [
    "arr=[20,40,60,80,90,120,240]\n",
    "sum_two_(arr,110)"
   ]
  },
  {
   "cell_type": "markdown",
   "metadata": {},
   "source": [
    "### price=[7,1,5,3,6,4]\n",
    "what is maximum sequence for buying and seling stock?"
   ]
  },
  {
   "cell_type": "code",
   "execution_count": 1,
   "metadata": {},
   "outputs": [],
   "source": [
    "def buy_sell(arr):\n",
    "    min_price = float('inf')\n",
    "    max_profit = 0\n",
    "    \n",
    "    for price in arr:\n",
    "        if price < min_price:\n",
    "            min_price = price\n",
    "        elif price - min_price > max_profit:\n",
    "            max_profit = price - min_price\n",
    "            \n",
    "    return max_profit\n"
   ]
  },
  {
   "cell_type": "code",
   "execution_count": 2,
   "metadata": {},
   "outputs": [
    {
     "data": {
      "text/plain": [
       "11"
      ]
     },
     "execution_count": 2,
     "metadata": {},
     "output_type": "execute_result"
    }
   ],
   "source": [
    "price=[7,11,5,3,6,14]\n",
    "buy_sell(price)"
   ]
  },
  {
   "cell_type": "markdown",
   "metadata": {},
   "source": [
    "### 5. 2-D Array"
   ]
  },
  {
   "cell_type": "code",
   "execution_count": 83,
   "metadata": {},
   "outputs": [],
   "source": [
    "def find_y(arr,target):\n",
    "    for i in range(len(arr)):\n",
    "        for j in range(len(arr[i])):\n",
    "            if arr[i][j]==target:\n",
    "                return True\n",
    "    return False\n"
   ]
  },
  {
   "cell_type": "code",
   "execution_count": 86,
   "metadata": {},
   "outputs": [
    {
     "data": {
      "text/plain": [
       "False"
      ]
     },
     "execution_count": 86,
     "metadata": {},
     "output_type": "execute_result"
    }
   ],
   "source": [
    "arr=[[2,4,6],\n",
    "     [8,10,12],\n",
    "     [20,27,40]]\n",
    "\n",
    "find_y(arr,0)"
   ]
  },
  {
   "cell_type": "code",
   "execution_count": 69,
   "metadata": {},
   "outputs": [],
   "source": [
    "def find_x(arr,target):\n",
    "    for i in arr:\n",
    "        for j in i:\n",
    "            if j==target:\n",
    "                return True\n",
    "    return False"
   ]
  },
  {
   "cell_type": "code",
   "execution_count": 88,
   "metadata": {},
   "outputs": [
    {
     "data": {
      "text/plain": [
       "False"
      ]
     },
     "execution_count": 88,
     "metadata": {},
     "output_type": "execute_result"
    }
   ],
   "source": [
    "arr=[[2,4,6],\n",
    "     [8,10,12],\n",
    "     [20,27,40]]\n",
    "\n",
    "find_x(arr,1)"
   ]
  },
  {
   "cell_type": "markdown",
   "metadata": {},
   "source": []
  },
  {
   "cell_type": "markdown",
   "metadata": {},
   "source": [
    "## Compute Integer Square Root\n",
    "\n",
    "### Problem Description\n",
    "Compute and return the square root of `x`, where `x` is guaranteed to be a non-negative integer. Since the return type is an integer, the decimal digits are truncated, and only the integer part of the result is returned.\n",
    "\n",
    "### Test Cases\n",
    "- **Input:** 4\n",
    "  - **Output:** 2\n",
    "- **Input:** 8\n",
    "  - **Output:** 2\n",
    "  - **Explanation:** The square root of 8 is approximately 2.8284, but since we truncate the decimal part, the result is 2.\n",
    "\n",
    "### Implementation\n",
    "The problem can be solved using various methods, such as:\n",
    "1. **Linear Search:** Incrementally check each number until the square of the number exceeds `x`.\n",
    "2. **Binary Search:** Efficiently narrow down the range by repeatedly halving the search space.\n",
    "3. **Newton's Method:** Iteratively converge to the square root using a numerical approach.\n"
   ]
  },
  {
   "cell_type": "code",
   "execution_count": 108,
   "metadata": {},
   "outputs": [
    {
     "name": "stdout",
     "output_type": "stream",
     "text": [
      "2.0\n"
     ]
    }
   ],
   "source": [
    "def find_sroot(x):\n",
    "    return ((x)**(1/2)//1)\n",
    "\n",
    "find_sroot(8)"
   ]
  },
  {
   "cell_type": "code",
   "execution_count": 110,
   "metadata": {},
   "outputs": [
    {
     "data": {
      "text/plain": [
       "2"
      ]
     },
     "execution_count": 110,
     "metadata": {},
     "output_type": "execute_result"
    }
   ],
   "source": [
    "def integer_square_root(x):\n",
    "    if x < 2:\n",
    "        return x\n",
    "    \n",
    "    left, right = 1, x // 2\n",
    "    while left <= right:\n",
    "        mid = (left + right) // 2\n",
    "        if mid * mid == x:\n",
    "            return mid\n",
    "        elif mid * mid < x:\n",
    "            left = mid + 1\n",
    "        else:\n",
    "            right = mid - 1\n",
    "    \n",
    "    return right\n",
    "\n",
    "integer_square_root(6)"
   ]
  },
  {
   "cell_type": "code",
   "execution_count": 91,
   "metadata": {},
   "outputs": [],
   "source": [
    "def find_z(arr,target):\n",
    "    #no of rows\n",
    "    m=len(arr)\n",
    "    if m==0:\n",
    "        return False\n",
    "    n=len(arr[0]) # no columns\n",
    "    left,right=0,m*n-1\n",
    "    while left<=right:\n",
    "        mid=left+(right-left)//2\n",
    "        mid_element=arr[mid//n][mid%n]\n",
    "        if target==mid_element:\n",
    "            return True\n",
    "        elif target<mid_element:\n",
    "            right=mid-1\n",
    "        else:\n",
    "            left=mid+1\n",
    "    return False\n"
   ]
  },
  {
   "cell_type": "code",
   "execution_count": 94,
   "metadata": {},
   "outputs": [
    {
     "data": {
      "text/plain": [
       "False"
      ]
     },
     "execution_count": 94,
     "metadata": {},
     "output_type": "execute_result"
    }
   ],
   "source": [
    "arr=[[1,3,5,7],\n",
    "     [10,11,16,20],\n",
    "     [23,30,34,60]]\n",
    "\n",
    "find_z(arr,121)"
   ]
  },
  {
   "cell_type": "code",
   "execution_count": 97,
   "metadata": {},
   "outputs": [
    {
     "data": {
      "text/plain": [
       "float"
      ]
     },
     "execution_count": 97,
     "metadata": {},
     "output_type": "execute_result"
    }
   ],
   "source": [
    "a=float('inf')\n",
    "type(a)"
   ]
  },
  {
   "cell_type": "markdown",
   "metadata": {},
   "source": [
    "### ternary search"
   ]
  },
  {
   "cell_type": "code",
   "execution_count": 117,
   "metadata": {},
   "outputs": [],
   "source": [
    "def Ternary_search(arr, i, j, x):\n",
    "    while i <= j:\n",
    "        # Calculate the two mid points\n",
    "        mid1 = i + (j - i) // 3\n",
    "        mid2 = j - (j - i) // 3\n",
    "\n",
    "        # Check if the element is present at mid1 or mid2\n",
    "        if arr[mid1] == x:\n",
    "            return mid1\n",
    "        if arr[mid2] == x:\n",
    "            return mid2\n",
    "\n",
    "        # Since x is not present at mid1 or mid2, check in which region it lies\n",
    "        if x < arr[mid1]:\n",
    "            # The element lies between i and mid1-1\n",
    "            j = mid1 - 1\n",
    "        elif x > arr[mid2]:\n",
    "            # The element lies between mid2+1 and j\n",
    "            i = mid2 + 1\n",
    "        else:\n",
    "            # The element lies between mid1+1 and mid2-1\n",
    "            i = mid1 + 1\n",
    "            j = mid2 - 1\n",
    "\n",
    "    # Element is not present in the array\n",
    "    return -1\n"
   ]
  },
  {
   "cell_type": "code",
   "execution_count": 118,
   "metadata": {},
   "outputs": [
    {
     "data": {
      "text/plain": [
       "1"
      ]
     },
     "execution_count": 118,
     "metadata": {},
     "output_type": "execute_result"
    }
   ],
   "source": [
    "array=[11,12,13,14,15,16,17,18,19]\n",
    "i=0\n",
    "j=len(array)-1\n",
    "Ternary_search(array,i,j,12)"
   ]
  },
  {
   "cell_type": "code",
   "execution_count": 124,
   "metadata": {},
   "outputs": [],
   "source": [
    "def t_search(arr, i, j, x):\n",
    "    if i > j:\n",
    "        return -1\n",
    "\n",
    "    mid1 = i + (j - i) // 3\n",
    "    mid2 = j - (j - i) // 3\n",
    "\n",
    "    if arr[mid1] == x:\n",
    "        return mid1\n",
    "    elif arr[mid2] == x:\n",
    "        return mid2\n",
    "    elif x < arr[mid1]:\n",
    "        return t_search(arr, i, mid1 - 1, x)\n",
    "    elif x > arr[mid2]:\n",
    "        return t_search(arr, mid2 + 1, j, x)\n",
    "    else:\n",
    "        return t_search(arr, mid1 + 1, mid2 - 1, x)\n",
    "\n",
    "    return -1"
   ]
  },
  {
   "cell_type": "code",
   "execution_count": 126,
   "metadata": {},
   "outputs": [
    {
     "data": {
      "text/plain": [
       "-1"
      ]
     },
     "execution_count": 126,
     "metadata": {},
     "output_type": "execute_result"
    }
   ],
   "source": [
    "array=[11,12,13,14,15,16,17,18,19]\n",
    "i=0\n",
    "j=len(array)-1\n",
    "t_search(array,i,j,5)"
   ]
  }
 ],
 "metadata": {
  "kernelspec": {
   "display_name": "base",
   "language": "python",
   "name": "python3"
  },
  "language_info": {
   "codemirror_mode": {
    "name": "ipython",
    "version": 3
   },
   "file_extension": ".py",
   "mimetype": "text/x-python",
   "name": "python",
   "nbconvert_exporter": "python",
   "pygments_lexer": "ipython3",
   "version": "3.11.7"
  }
 },
 "nbformat": 4,
 "nbformat_minor": 2
}
