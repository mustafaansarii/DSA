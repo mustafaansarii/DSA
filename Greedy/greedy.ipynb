{
 "cells": [
  {
   "cell_type": "markdown",
   "metadata": {},
   "source": [
    "### **Fractional Knapsack**"
   ]
  },
  {
   "cell_type": "code",
   "execution_count": 11,
   "metadata": {},
   "outputs": [],
   "source": [
    "class Item:\n",
    "    def __init__(self, profit, weight):\n",
    "        self.profit = profit\n",
    "        self.weight = weight\n"
   ]
  },
  {
   "cell_type": "code",
   "execution_count": 14,
   "metadata": {},
   "outputs": [],
   "source": [
    "def fractionalKnapsack(W, arr):\n",
    "\tarr.sort(key=lambda x: (x.profit/x.weight), reverse=True) \n",
    "\tfinalvalue = 0.0\n",
    "\tfor item in arr:\n",
    "\t\tif item.weight <= W:\n",
    "\t\t\tW -= item.weight\n",
    "\t\t\tfinalvalue += item.profit\n",
    "\t\telse:\n",
    "\t\t\tfinalvalue += item.profit * W / item.weight\n",
    "\t\t\tbreak\n",
    "\treturn finalvalue\n"
   ]
  },
  {
   "cell_type": "code",
   "execution_count": 16,
   "metadata": {},
   "outputs": [
    {
     "name": "stdout",
     "output_type": "stream",
     "text": [
      "240.0\n"
     ]
    }
   ],
   "source": [
    "# Driver Code\n",
    "if __name__ == \"__main__\":\n",
    "\tW = 50\n",
    "\tarr = [Item(60, 10), Item(100, 20), Item(120, 30)]\n",
    "\n",
    "\t# Function call\n",
    "\tmax_val = fractionalKnapsack(W, arr)\n",
    "\tprint(max_val)\n"
   ]
  },
  {
   "cell_type": "code",
   "execution_count": 23,
   "metadata": {},
   "outputs": [],
   "source": [
    "class Item:\n",
    "    def __init__(self,profit,val) -> None:\n",
    "        self.profit=profit\n",
    "        self.weight=val\n",
    "\n",
    "def fractionalKnapsack(W,arr):\n",
    "    arr.sort(key=lambda x:(x.profit/x.weight),reverse=True)\n",
    "    final_value=0.0\n",
    "    for item in arr:\n",
    "        if item.weight<=W:\n",
    "            W-=item.weight\n",
    "            final_value+=item.profit\n",
    "        else:\n",
    "            final_value+=item.profit*W/item.weight\n",
    "            break\n",
    "    return final_value\n"
   ]
  },
  {
   "cell_type": "code",
   "execution_count": 24,
   "metadata": {},
   "outputs": [
    {
     "name": "stdout",
     "output_type": "stream",
     "text": [
      "240.0\n"
     ]
    }
   ],
   "source": [
    "if __name__ == \"__main__\":\n",
    "\tW = 50\n",
    "\tarr = [Item(60, 10), Item(100, 20), Item(120, 30)]\n",
    "\n",
    "\t# Function call\n",
    "\tmax_val = fractionalKnapsack(W, arr)\n",
    "\tprint(max_val)\n"
   ]
  },
  {
   "cell_type": "code",
   "execution_count": null,
   "metadata": {},
   "outputs": [],
   "source": []
  }
 ],
 "metadata": {
  "kernelspec": {
   "display_name": "base",
   "language": "python",
   "name": "python3"
  },
  "language_info": {
   "codemirror_mode": {
    "name": "ipython",
    "version": 3
   },
   "file_extension": ".py",
   "mimetype": "text/x-python",
   "name": "python",
   "nbconvert_exporter": "python",
   "pygments_lexer": "ipython3",
   "version": "2.7.undefined"
  }
 },
 "nbformat": 4,
 "nbformat_minor": 2
}
