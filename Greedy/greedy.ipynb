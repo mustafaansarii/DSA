{
 "cells": [
  {
   "cell_type": "markdown",
   "metadata": {},
   "source": [
    "### **1. Fractional Knapsack**"
   ]
  },
  {
   "cell_type": "code",
   "execution_count": 11,
   "metadata": {},
   "outputs": [],
   "source": [
    "class Item:\n",
    "    def __init__(self, profit, weight):\n",
    "        self.profit = profit\n",
    "        self.weight = weight\n"
   ]
  },
  {
   "cell_type": "code",
   "execution_count": 14,
   "metadata": {},
   "outputs": [],
   "source": [
    "def fractionalKnapsack(W, arr):\n",
    "\tarr.sort(key=lambda x: (x.profit/x.weight), reverse=True) \n",
    "\tfinalvalue = 0.0\n",
    "\tfor item in arr:\n",
    "\t\tif item.weight <= W:\n",
    "\t\t\tW -= item.weight\n",
    "\t\t\tfinalvalue += item.profit\n",
    "\t\telse:\n",
    "\t\t\tfinalvalue += item.profit * W / item.weight\n",
    "\t\t\tbreak\n",
    "\treturn finalvalue\n"
   ]
  },
  {
   "cell_type": "code",
   "execution_count": 16,
   "metadata": {},
   "outputs": [
    {
     "name": "stdout",
     "output_type": "stream",
     "text": [
      "240.0\n"
     ]
    }
   ],
   "source": [
    "# Driver Code\n",
    "if __name__ == \"__main__\":\n",
    "\tW = 50\n",
    "\tarr = [Item(60, 10), Item(100, 20), Item(120, 30)]\n",
    "\n",
    "\t# Function call\n",
    "\tmax_val = fractionalKnapsack(W, arr)\n",
    "\tprint(max_val)\n"
   ]
  },
  {
   "cell_type": "code",
   "execution_count": 23,
   "metadata": {},
   "outputs": [],
   "source": [
    "class Item:\n",
    "    def __init__(self,profit,val) -> None:\n",
    "        self.profit=profit\n",
    "        self.weight=val\n",
    "\n",
    "def fractionalKnapsack(W,arr):\n",
    "    arr.sort(key=lambda x:(x.profit/x.weight),reverse=True)\n",
    "    final_value=0.0\n",
    "    for item in arr:\n",
    "        if item.weight<=W:\n",
    "            W-=item.weight\n",
    "            final_value+=item.profit\n",
    "        else:\n",
    "            final_value+=item.profit*W/item.weight\n",
    "            break\n",
    "    return final_value\n"
   ]
  },
  {
   "cell_type": "code",
   "execution_count": 24,
   "metadata": {},
   "outputs": [
    {
     "name": "stdout",
     "output_type": "stream",
     "text": [
      "240.0\n"
     ]
    }
   ],
   "source": [
    "if __name__ == \"__main__\":\n",
    "\tW = 50\n",
    "\tarr = [Item(60, 10), Item(100, 20), Item(120, 30)]\n",
    "\n",
    "\t# Function call\n",
    "\tmax_val = fractionalKnapsack(W, arr)\n",
    "\tprint(max_val)\n"
   ]
  },
  {
   "cell_type": "markdown",
   "metadata": {},
   "source": [
    "### 2. Job Sequence problem\n",
    "\n",
    "<img src=\"https://i.ytimg.com/vi/40G59X2PPTY/maxresdefault.jpg\">"
   ]
  },
  {
   "cell_type": "code",
   "execution_count": 32,
   "metadata": {},
   "outputs": [],
   "source": [
    "def jobsequence(job,maxdeadline):\n",
    "    job.sort(key=lambda x:x[1], reverse=True)\n",
    "    \n",
    "    job1=[0]*maxdeadline\n",
    "    result=[False]*maxdeadline\n",
    "    for i in range(len(job)):\n",
    "        for j in range(min(maxdeadline-1,job[i][2]-1),-1,-1):\n",
    "            if not result [j]:\n",
    "                result[j]=True\n",
    "                job1[j]=job[i][1]\n",
    "                break\n",
    "    return sum(job1)"
   ]
  },
  {
   "cell_type": "code",
   "execution_count": 34,
   "metadata": {},
   "outputs": [
    {
     "name": "stdout",
     "output_type": "stream",
     "text": [
      "74\n"
     ]
    }
   ],
   "source": [
    "if __name__==\"__main__\":\n",
    "    job=[[\"j1\",3,1],\n",
    "        [\"j2\",5,3],\n",
    "        [\"j3\",20,4],\n",
    "        [\"j4\",18,3],\n",
    "        [\"j5\",0,2],\n",
    "        [\"j6\",6,1],\n",
    "        [\"j7\",30,2]\n",
    "        ]\n",
    "\n",
    "    max_deadline=max(job[i][2] for i in range(len(job)))\n",
    "    print(jobsequence(job,max_deadline))"
   ]
  },
  {
   "cell_type": "code",
   "execution_count": 1,
   "metadata": {},
   "outputs": [],
   "source": [
    "class Job:\n",
    "    def __init__(self, profit=0, deadline=0):\n",
    "        self.profit = profit\n",
    "        self.deadline = deadline\n",
    "        self.id = 0\n",
    "\n",
    "\n",
    "class Solution:\n",
    "    \n",
    "    def JobScheduling(self, Jobs, n):\n",
    "        Jobs.sort(key=lambda x: x.profit, reverse=True)\n",
    "        max_deadline = max(job.deadline for job in Jobs)\n",
    "        slots = [-1] * (max_deadline + 1)\n",
    "        total_profit = 0\n",
    "        num_jobs = 0\n",
    "        \n",
    "        for job in Jobs:\n",
    "            for slot in range(job.deadline, 0, -1):\n",
    "                if slots[slot] == -1:\n",
    "                    slots[slot] = job.id\n",
    "                    total_profit += job.profit\n",
    "                    num_jobs += 1\n",
    "                    break\n",
    "        \n",
    "        return [num_jobs, total_profit]\n",
    "\n",
    "# Example usage\n",
    "if __name__ == \"__main__\":\n",
    "    jobs = [Job(100, 2), Job(19, 1), Job(27, 2), Job(25, 1), Job(15, 3)]\n",
    "    solution = Solution()\n",
    "    result = solution.JobScheduling(jobs, len(jobs))\n",
    "    print(\"Number of jobs done:\", result[0])\n",
    "    print(\"Total profit:\", result[1])\n"
   ]
  },
  {
   "cell_type": "code",
   "execution_count": 2,
   "metadata": {},
   "outputs": [
    {
     "name": "stdout",
     "output_type": "stream",
     "text": [
      "Number of jobs done: 3\n",
      "Total profit: 142\n"
     ]
    }
   ],
   "source": [
    "# Example usage\n",
    "if __name__ == \"__main__\":\n",
    "    jobs = [Job(100, 2), Job(19, 1), Job(27, 2), Job(25, 1), Job(15, 3)]\n",
    "    solution = Solution()\n",
    "    result = solution.JobScheduling(jobs, len(jobs))\n",
    "    print(\"Number of jobs done:\", result[0])\n",
    "    print(\"Total profit:\", result[1])"
   ]
  },
  {
   "cell_type": "markdown",
   "metadata": {},
   "source": [
    "### 3. Huffman Coding Algorithm"
   ]
  },
  {
   "cell_type": "markdown",
   "metadata": {},
   "source": [
    "#### Data may be compressed using the Huffman Coding technique to become smaller without losing any of its information. After David Huffman, who created it in the beginning? Data that contains frequently repeated characters is typically compressed using Huffman coding.\n",
    "\n",
    "#### A well-known Greedy algorithm is Huffman Coding. The size of code allocated to a character relies on the frequency of the character, which is why it is referred to be a greedy algorithm. The short-length variable code is assigned to the character with the highest frequency, and vice versa for characters with lower frequencies. It employs a variable-length encoding, which means that it gives each character in the provided data stream a different variable-length code."
   ]
  },
  {
   "cell_type": "code",
   "execution_count": null,
   "metadata": {},
   "outputs": [],
   "source": []
  },
  {
   "cell_type": "markdown",
   "metadata": {},
   "source": [
    "### 5. Optimal Merge Patterng"
   ]
  }
 ],
 "metadata": {
  "kernelspec": {
   "display_name": "base",
   "language": "python",
   "name": "python3"
  },
  "language_info": {
   "codemirror_mode": {
    "name": "ipython",
    "version": 3
   },
   "file_extension": ".py",
   "mimetype": "text/x-python",
   "name": "python",
   "nbconvert_exporter": "python",
   "pygments_lexer": "ipython3",
   "version": "3.11.6"
  }
 },
 "nbformat": 4,
 "nbformat_minor": 2
}
