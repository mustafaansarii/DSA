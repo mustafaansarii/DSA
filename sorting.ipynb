{
 "cells": [
  {
   "cell_type": "markdown",
   "metadata": {},
   "source": [
    "### sorting Algorithm\n",
    " "
   ]
  },
  {
   "cell_type": "markdown",
   "metadata": {},
   "source": [
    "#### 1. comparision \n",
    "#### 2. non-comparision algorithm"
   ]
  },
  {
   "cell_type": "markdown",
   "metadata": {},
   "source": [
    "# Sorting Algorithms\n",
    "\n",
    "## Comparison-Based Sorting Algorithms\n",
    "\n",
    "| Algorithm                | Best Time Complexity | Average Time Complexity | Worst Time Complexity | Space Complexity | Description                                                                 |\n",
    "|--------------------------|----------------------|-------------------------|-----------------------|------------------|-----------------------------------------------------------------------------|\n",
    "| **Bubble Sort**          | O(n)                 | O(n^2)                  | O(n^2)                | O(1)             | Repeatedly swaps adjacent elements that are out of order.                   |\n",
    "| **Selection Sort**       | O(n^2)               | O(n^2)                  | O(n^2)                | O(1)             | Selects the smallest element from the unsorted part and swaps it with the first unsorted element. |\n",
    "| **Insertion Sort**       | O(n)                 | O(n^2)                  | O(n^2)                | O(1)             | Builds the final sorted array one item at a time by inserting elements into their correct position. |\n",
    "| **Merge Sort**           | O(n log n)           | O(n log n)              | O(n log n)            | O(n)             | Divides the array into halves, recursively sorts them, and then merges the sorted halves. |\n",
    "| **Quick Sort**           | O(n log n)           | O(n log n)              | O(n^2)                | O(log n)         | Picks a pivot element, partitions the array around the pivot, and recursively sorts the partitions. |\n",
    "| **Heap Sort**            | O(n log n)           | O(n log n)              | O(n log n)            | O(1)             | Converts the array into a heap, then repeatedly extracts the maximum element from the heap and rebuilds the heap. |\n",
    "| **Shell Sort**           | O(n log n)           | O(n^(3/2))              | O(n^2)                | O(1)             | Generalizes insertion sort by comparing elements at a gap of several positions. |\n",
    "| **Tim Sort**             | O(n)                 | O(n log n)              | O(n log n)            | O(n)             | Hybrid stable sorting algorithm derived from merge sort and insertion sort, used in Python's built-in sort and Java's Arrays.sort(). |\n",
    "| **Cocktail Shaker Sort** | O(n)                 | O(n^2)                  | O(n^2)                | O(1)             | Variation of bubble sort that sorts in both directions on each pass through the list. |\n",
    "| **Comb Sort**            | O(n log n)           | O(n log n)              | O(n^2)                | O(1)             | Improves on bubble sort by comparing elements a certain gap apart, reducing the gap over time. |\n",
    "| **Gnome Sort**           | O(n)                 | O(n^2)                  | O(n^2)                | O(1)             | Similar to insertion sort but moving elements to their correct position in a series of swaps. |\n",
    "| **Cycle Sort**           | O(n^2)               | O(n^2)                  | O(n^2)                | O(1)             | Minimizes the number of writes to the array, useful for cases where writing to memory is costly. |\n",
    "| **Bitonic Sort**         | O(log^2 n)           | O(n log^2 n)            | O(n log^2 n)          | O(n log n)       | Comparison-based sorting algorithm suitable for parallel implementation.    |\n",
    "| **Odd-Even Transposition Sort** | O(n)          | O(n^2)                  | O(n^2)                | O(1)             | Parallel version of bubble sort.                                            |\n",
    "| **Sample Sort**          | O(n)                 | O(n log n)              | O(n log n)            | O(n)             | Generalization of quicksort for parallel machines.                          |\n",
    "\n",
    "## Non-Comparison-Based Sorting Algorithms\n",
    "\n",
    "| Algorithm                | Best Time Complexity | Average Time Complexity | Worst Time Complexity | Space Complexity | Description                                                                 |\n",
    "|--------------------------|----------------------|-------------------------|-----------------------|------------------|-----------------------------------------------------------------------------|\n",
    "| **Counting Sort**        | O(n + k)             | O(n + k)                | O(n + k)              | O(n + k)         | Counts the number of occurrences of each distinct element and calculates the positions of elements in the sorted array. |\n",
    "| **Radix Sort**           | O(nk)                | O(nk)                   | O(nk)                 | O(n + k)         | Sorts the elements digit by digit, starting from the least significant digit to the most significant digit, using a stable sort like counting sort as a subroutine. |\n",
    "| **Bucket Sort**          | O(n + k)             | O(n + k)                | O(n^2)                | O(n + k)         | Divides the array into a number of buckets, each bucket is sorted individually, either using another sorting algorithm or recursively applying bucket sort. |\n",
    "| **Pigeonhole Sort**      | O(n + k)             | O(n + k)                | O(n + k)              | O(n + k)         | Similar to counting sort, but used when the range of key values is approximately the same as the number of items. |\n",
    "| **Bucket Sort (Parallel)** | O(n/p)             | O(n/p + log p)          | O(n/p + log p)        | O(n + p)         | Parallel version of bucket sort for distributed systems.                    |\n"
   ]
  },
  {
   "cell_type": "markdown",
   "metadata": {},
   "source": [
    "#### 1. Bubble sort"
   ]
  },
  {
   "cell_type": "code",
   "execution_count": 47,
   "metadata": {},
   "outputs": [],
   "source": [
    "def bubble_sort(arr):\n",
    "    flag=True\n",
    "    for i in range(len(arr)-1):\n",
    "        for j in range(len(arr)-i-1):\n",
    "            if arr[j]>arr[j+1]:\n",
    "                arr[j],arr[j+1]=arr[j+1],arr[j]\n",
    "            \n",
    "    return arr\n"
   ]
  },
  {
   "cell_type": "code",
   "execution_count": 48,
   "metadata": {},
   "outputs": [
    {
     "data": {
      "text/plain": [
       "[1, 2, 3, 4, 5, 6, 7, 8, 9]"
      ]
     },
     "execution_count": 48,
     "metadata": {},
     "output_type": "execute_result"
    }
   ],
   "source": [
    "arr=[1,2,3,4,5,6,7,8,9]\n",
    "bubble_sort(arr)"
   ]
  },
  {
   "cell_type": "markdown",
   "metadata": {},
   "source": [
    "### 2. selection sort"
   ]
  },
  {
   "cell_type": "code",
   "execution_count": 37,
   "metadata": {},
   "outputs": [],
   "source": [
    "def selection_sort(arr):\n",
    "    n=len(arr)\n",
    "    for i in range(n):\n",
    "        min_indx=i\n",
    "        for j in range(i+1,n):\n",
    "            if arr[j]<arr[min_indx]:\n",
    "                min_indx=j\n",
    "        arr[i],arr[min_indx]=arr[min_indx],arr[i]\n",
    "\n",
    "    return arr"
   ]
  },
  {
   "cell_type": "code",
   "execution_count": 38,
   "metadata": {},
   "outputs": [
    {
     "data": {
      "text/plain": [
       "[0, 1, 2, 3, 3, 4, 4, 4, 5, 11, 12, 23, 23, 24]"
      ]
     },
     "execution_count": 38,
     "metadata": {},
     "output_type": "execute_result"
    }
   ],
   "source": [
    "arr=[11,2,3,4,4,5,23,12,24,23,1,3,4,0]\n",
    "selection_sort(arr)"
   ]
  },
  {
   "cell_type": "markdown",
   "metadata": {},
   "source": [
    "### 3. insertion sort"
   ]
  },
  {
   "cell_type": "code",
   "execution_count": 56,
   "metadata": {},
   "outputs": [],
   "source": [
    "def insertion_sort(arr):\n",
    "    for i in range(1,len(arr)):\n",
    "        temp=arr[i]\n",
    "        j=i-1\n",
    "        while j>=0 and temp<arr[j]:\n",
    "            arr[j+1]=arr[j]\n",
    "            j-=1\n",
    "        arr[j+1]=temp\n",
    "    return arr"
   ]
  },
  {
   "cell_type": "code",
   "execution_count": 57,
   "metadata": {},
   "outputs": [
    {
     "data": {
      "text/plain": [
       "[1, 2, 3, 3, 4, 4, 4, 5, 11, 12, 23, 23, 24]"
      ]
     },
     "execution_count": 57,
     "metadata": {},
     "output_type": "execute_result"
    }
   ],
   "source": [
    "arr=[11,2,3,4,4,5,23,12,24,23,1,3,4]\n",
    "insertion_sort(arr)"
   ]
  },
  {
   "cell_type": "code",
   "execution_count": 60,
   "metadata": {},
   "outputs": [],
   "source": [
    "def insertion_sort2(arr):\n",
    "    n=len(arr)\n",
    "    for i in range(1,n):\n",
    "        key=arr[i]\n",
    "        j=i-1\n",
    "        while j>=0 and key < arr[j]:\n",
    "            arr[j+1]=arr[j]\n",
    "            j-=1\n",
    "        arr[j+1]=key\n",
    "    return arr"
   ]
  },
  {
   "cell_type": "code",
   "execution_count": 61,
   "metadata": {},
   "outputs": [
    {
     "data": {
      "text/plain": [
       "[1, 2, 3, 3, 4, 4, 4, 5, 11, 12, 23, 23, 24]"
      ]
     },
     "execution_count": 61,
     "metadata": {},
     "output_type": "execute_result"
    }
   ],
   "source": [
    "arr=[11,2,3,4,4,5,23,12,24,23,1,3,4]\n",
    "insertion_sort2(arr)"
   ]
  },
  {
   "cell_type": "code",
   "execution_count": 65,
   "metadata": {},
   "outputs": [],
   "source": [
    "def sort_insertion(arr1):\n",
    "    n=len(arr1)\n",
    "    for i in range(1,n):\n",
    "        Key=arr[i] \n",
    "        j=i-1\n",
    "        while j>=0 and Key<arr1[j]:\n",
    "            arr[j+1]=arr[j]\n",
    "            j-=1\n",
    "        arr[j+1]=Key\n",
    "    return arr"
   ]
  },
  {
   "cell_type": "code",
   "execution_count": 66,
   "metadata": {},
   "outputs": [
    {
     "data": {
      "text/plain": [
       "[4, 12, 12, 31, 334]"
      ]
     },
     "execution_count": 66,
     "metadata": {},
     "output_type": "execute_result"
    }
   ],
   "source": [
    "arr=[12,334,31,12,4]\n",
    "sort_insertion(arr)"
   ]
  },
  {
   "cell_type": "markdown",
   "metadata": {},
   "source": [
    "### 4. Heap data structure"
   ]
  },
  {
   "cell_type": "markdown",
   "metadata": {},
   "source": [
    "A Heap is a complete binary tree data structure that satisfies the heap property: for every node, the value of its children is less than or equal to its own value. Heaps are usually used to implement priority queues, where the smallest (or largest) element is always at the root of the tree. "
   ]
  },
  {
   "cell_type": "markdown",
   "metadata": {},
   "source": [
    "### Heap Data Structure\n",
    "\n",
    "A heap is a binary tree-based data structure that satisfies the heap property: the value of each node is greater than or equal to the value of its children. This property ensures that the root node contains the maximum or minimum value (depending on the type of heap), and the values decrease or increase as you move down the tree.\n",
    "\n",
    "#### Types of Heaps\n",
    "\n",
    "There are two main types of heaps:\n",
    "\n",
    "1. **Max Heap**: The root node contains the maximum value, and the values decrease as you move down the tree.\n",
    "2. **Min Heap**: The root node contains the minimum value, and the values increase as you move down the tree.\n",
    "\n",
    "#### Heap Operations\n",
    "\n",
    "Common heap operations include:\n",
    "\n",
    "- **Insert**: Adds a new element to the heap while maintaining the heap property.\n",
    "- **Extract Max/Min**: Removes the maximum or minimum element from the heap and returns it.\n",
    "- **Heapify**: Converts an arbitrary binary tree into a heap.\n",
    "\n",
    "#### Heap Data Structure Applications\n",
    "\n",
    "Heaps have various applications, such as:\n",
    "\n",
    "- **Priority Queues**: Heaps are commonly used to implement priority queues, where elements are retrieved based on their priority (maximum or minimum value).\n",
    "- **Heapsort**: Heapsort is a sorting algorithm that uses a heap to sort an array in ascending or descending order.\n",
    "- **Graph Algorithms**: Heaps are used in graph algorithms like Dijkstra’s algorithm and Prim’s algorithm for finding the shortest paths and minimum spanning trees."
   ]
  },
  {
   "cell_type": "markdown",
   "metadata": {},
   "source": [
    "<figure>\n",
    "    <center> <img src=\"https://media.geeksforgeeks.org/wp-content/cdn-uploads/20221220165711/MinHeapAndMaxHeap1.png\"  alt='missing' width=\"600\"  ><center/>\n",
    "<figure/>"
   ]
  },
  {
   "cell_type": "code",
   "execution_count": null,
   "metadata": {},
   "outputs": [],
   "source": []
  },
  {
   "cell_type": "code",
   "execution_count": null,
   "metadata": {},
   "outputs": [],
   "source": []
  },
  {
   "cell_type": "code",
   "execution_count": 6,
   "metadata": {},
   "outputs": [],
   "source": [
    "class Solution:\n",
    "    def sortArr(self, arr, n): \n",
    "        for i in range(n // 2 - 1, -1, -1):\n",
    "            self.heapify(arr, n, i)\n",
    "    \n",
    "        for i in range(n - 1, 0, -1):\n",
    "            arr[i], arr[0] = arr[0], arr[i]\n",
    "            self.heapify(arr, i, 0)\n",
    "        return arr\n",
    "\n",
    "    def heapify(self, arr, n, i):\n",
    "        largest = i\n",
    "        left = 2 * i + 1\n",
    "        right = 2 * i + 2\n",
    "    \n",
    "        if left < n and arr[i] < arr[left]:\n",
    "            largest = left\n",
    "    \n",
    "        if right < n and arr[largest] < arr[right]:\n",
    "            largest = right\n",
    "    \n",
    "        if largest != i:\n",
    "            arr[i], arr[largest] = arr[largest], arr[i]\n",
    "            self.heapify(arr, n, largest)\n",
    "        \n",
    "\n"
   ]
  },
  {
   "cell_type": "code",
   "execution_count": 7,
   "metadata": {},
   "outputs": [
    {
     "data": {
      "text/plain": [
       "[5, 6, 7, 11, 12, 13]"
      ]
     },
     "execution_count": 7,
     "metadata": {},
     "output_type": "execute_result"
    }
   ],
   "source": [
    "\n",
    "# Example usage\n",
    "arr = [12, 11, 13, 5, 6, 7]\n",
    "n = len(arr)\n",
    "sol = Solution()\n",
    "sol.sortArr(arr, n)\n"
   ]
  },
  {
   "cell_type": "markdown",
   "metadata": {},
   "source": [
    "## QSN. find power"
   ]
  },
  {
   "cell_type": "code",
   "execution_count": 8,
   "metadata": {},
   "outputs": [],
   "source": [
    "def find_power(a, n):\n",
    "    if n == 0:\n",
    "        return 1\n",
    "    elif n == 1:\n",
    "        return a\n",
    "    elif n < 0:\n",
    "        return 1 / find_power(a, -n)\n",
    "    else:\n",
    "        mid = n // 2\n",
    "        b = find_power(a, mid)\n",
    "        result = b * b\n",
    "        if n % 2 != 0:\n",
    "            result *= a\n",
    "        return result"
   ]
  },
  {
   "cell_type": "code",
   "execution_count": 9,
   "metadata": {},
   "outputs": [
    {
     "data": {
      "text/plain": [
       "65536"
      ]
     },
     "execution_count": 9,
     "metadata": {},
     "output_type": "execute_result"
    }
   ],
   "source": [
    "find_power(2,16)"
   ]
  },
  {
   "cell_type": "markdown",
   "metadata": {},
   "source": [
    "## count the no of way to reach nth stair"
   ]
  },
  {
   "cell_type": "code",
   "execution_count": null,
   "metadata": {},
   "outputs": [],
   "source": []
  }
 ],
 "metadata": {
  "kernelspec": {
   "display_name": "base",
   "language": "python",
   "name": "python3"
  },
  "language_info": {
   "codemirror_mode": {
    "name": "ipython",
    "version": 3
   },
   "file_extension": ".py",
   "mimetype": "text/x-python",
   "name": "python",
   "nbconvert_exporter": "python",
   "pygments_lexer": "ipython3",
   "version": "3.9.12"
  }
 },
 "nbformat": 4,
 "nbformat_minor": 2
}
